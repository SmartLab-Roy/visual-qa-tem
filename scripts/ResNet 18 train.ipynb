{
 "cells": [
  {
   "cell_type": "code",
   "execution_count": 5,
   "id": "92e50b33-99c1-4bae-814f-3e25ef874f5f",
   "metadata": {
    "execution": {
     "iopub.execute_input": "2025-05-13T14:22:15.917832Z",
     "iopub.status.busy": "2025-05-13T14:22:15.917573Z",
     "iopub.status.idle": "2025-05-13T14:22:15.965623Z",
     "shell.execute_reply": "2025-05-13T14:22:15.965124Z",
     "shell.execute_reply.started": "2025-05-13T14:22:15.917817Z"
    }
   },
   "outputs": [
    {
     "name": "stdout",
     "output_type": "stream",
     "text": [
      "CTEM        : 1869 images\n",
      "HR-TEM      : 2496 images\n",
      "STEM        : 2208 images\n",
      "SEM         : 2198 images\n",
      "None        : 1643 images\n",
      "Diffraction : 1608 images\n"
     ]
    }
   ],
   "source": [
    "import os\n",
    "\n",
    "# 設定資料集根目錄\n",
    "dataset_root = '/home/ne6131039/Desktop/TEM_DATAS/TEM_classification'  # 修改成你自己的資料夾路徑\n",
    "\n",
    "# 取得分類資料夾列表\n",
    "categories = ['CTEM', 'HR-TEM', 'STEM', 'SEM', 'None', 'Diffraction']\n",
    "\n",
    "# 統計每個資料夾的圖片數量\n",
    "for category in categories:\n",
    "    folder_path = os.path.join(dataset_root, category)\n",
    "    if os.path.exists(folder_path):\n",
    "        file_count = len([\n",
    "            f for f in os.listdir(folder_path)\n",
    "            if os.path.isfile(os.path.join(folder_path, f)) and f.lower().endswith(('.png', '.jpg', '.jpeg'))\n",
    "        ])\n",
    "        print(f'{category:12s}: {file_count} images')\n",
    "    else:\n",
    "        print(f'{category:12s}: 資料夾不存在')\n"
   ]
  },
  {
   "cell_type": "code",
   "execution_count": 4,
   "id": "fd31cf47-babd-4279-9f2b-243f3979c914",
   "metadata": {
    "execution": {
     "iopub.execute_input": "2025-05-13T14:20:16.557815Z",
     "iopub.status.busy": "2025-05-13T14:20:16.557591Z",
     "iopub.status.idle": "2025-05-13T14:21:00.238953Z",
     "shell.execute_reply": "2025-05-13T14:21:00.238591Z",
     "shell.execute_reply.started": "2025-05-13T14:20:16.557799Z"
    },
    "scrolled": true
   },
   "outputs": [
    {
     "name": "stdout",
     "output_type": "stream",
     "text": [
      "✅ 已增強: PDF10003_Image1_2.png -> 3 張\n",
      "✅ 已增強: PDF10003_Image1_4.png -> 3 張\n",
      "✅ 已增強: PDF10004_Image1_2.png -> 3 張\n",
      "✅ 已增強: PDF10005_Image1_4.png -> 3 張\n",
      "✅ 已增強: PDF10005_Image1_9.png -> 3 張\n",
      "✅ 已增強: PDF10006_Image2_1.png -> 3 張\n",
      "✅ 已增強: PDF10006_Image2_2.png -> 3 張\n",
      "✅ 已增強: PDF10006_Image3_1.png -> 3 張\n",
      "✅ 已增強: PDF10006_Image4_3.png -> 3 張\n",
      "✅ 已增強: PDF10006_Image4_5.png -> 3 張\n",
      "✅ 已增強: PDF10009_Image1_6.png -> 3 張\n",
      "✅ 已增強: PDF10012_Image3_2.png -> 3 張\n",
      "✅ 已增強: PDF10015_Image2_2.png -> 3 張\n",
      "✅ 已增強: PDF10015_Image2_4.png -> 3 張\n",
      "✅ 已增強: PDF10075_Image1_1.png -> 3 張\n",
      "✅ 已增強: PDF10077_Image1_10.png -> 3 張\n",
      "✅ 已增強: PDF1007_Image2_2.png -> 3 張\n",
      "✅ 已增強: PDF10082_Image1_1.png -> 3 張\n",
      "✅ 已增強: PDF10013_Image1_1.png -> 3 張\n",
      "✅ 已增強: PDF1048_Image1_1.png -> 3 張\n",
      "✅ 已增強: PDF1048_Image1_2.png -> 3 張\n",
      "✅ 已增強: PDF10007_Image1_1.png -> 3 張\n",
      "✅ 已增強: PDF10017_Image1_1.png -> 3 張\n",
      "✅ 已增強: PDF10043_Image1_2.png -> 3 張\n",
      "✅ 已增強: PDF10087_Image1_1.png -> 3 張\n",
      "✅ 已增強: PDF10088_Image2_3.png -> 3 張\n",
      "✅ 已增強: PDF10090_Image2_1.png -> 3 張\n",
      "✅ 已增強: PDF10090_Image2_3.png -> 3 張\n",
      "✅ 已增強: PDF10098_Image1_5.png -> 3 張\n",
      "✅ 已增強: PDF1031_Image2_5.png -> 3 張\n",
      "✅ 已增強: PDF1031_Image2_6.png -> 3 張\n",
      "✅ 已增強: PDF1031_Image2_1.png -> 3 張\n",
      "✅ 已增強: PDF1032_Image3_1.png -> 3 張\n",
      "✅ 已增強: PDF1032_Image3_2.png -> 3 張\n",
      "✅ 已增強: PDF1032_Image3_3.png -> 3 張\n",
      "✅ 已增強: PDF10040_Image2_3.png -> 3 張\n",
      "✅ 已增強: PDF1014_Image1_3.png -> 3 張\n",
      "✅ 已增強: PDF10098_Image2_4.png -> 3 張\n",
      "✅ 已增強: PDF10007_Image1_3.png -> 3 張\n",
      "✅ 已增強: PDF10018_Image1_1.png -> 3 張\n",
      "✅ 已增強: PDF1004_Image1_2.png -> 3 張\n",
      "✅ 已增強: PDF10003_Image1_1.png -> 3 張\n",
      "✅ 已增強: PDF10003_Image1_3.png -> 3 張\n",
      "✅ 已增強: PDF10019_Image2_1.png -> 3 張\n",
      "✅ 已增強: PDF10013_Image1_2.png -> 3 張\n",
      "✅ 已增強: PDF102_Image1_4.png -> 3 張\n",
      "✅ 已增強: PDF10021_Image3_1.png -> 3 張\n",
      "✅ 已增強: PDF10021_Image3_2.png -> 3 張\n",
      "✅ 已增強: PDF10021_Image3_3.png -> 3 張\n",
      "✅ 已增強: PDF10021_Image3_4.png -> 3 張\n",
      "✅ 已增強: PDF10022_Image1_2.png -> 3 張\n",
      "✅ 已增強: PDF10024_Image2_1.png -> 3 張\n",
      "✅ 已增強: PDF10024_Image2_3.png -> 3 張\n",
      "✅ 已增強: PDF10025_Image2_1.png -> 3 張\n",
      "✅ 已增強: PDF10025_Image2_2.png -> 3 張\n",
      "✅ 已增強: PDF10025_Image2_3.png -> 3 張\n",
      "✅ 已增強: PDF10031_Image1_1.png -> 3 張\n",
      "✅ 已增強: PDF10037_Image6_3.png -> 3 張\n",
      "✅ 已增強: PDF10038_Image1_1.png -> 3 張\n",
      "✅ 已增強: PDF10038_Image1_3.png -> 3 張\n",
      "✅ 已增強: PDF10039_Image1_2.png -> 3 張\n",
      "✅ 已增強: PDF10039_Image1_4.png -> 3 張\n",
      "✅ 已增強: PDF10040_Image2_1.png -> 3 張\n",
      "✅ 已增強: PDF10018_Image1_2.png -> 3 張\n",
      "✅ 已增強: PDF10057_Image1_1.png -> 3 張\n",
      "✅ 已增強: PDF10059_Image1_2.png -> 3 張\n",
      "✅ 已增強: PDF10061_Image2_2.png -> 3 張\n",
      "✅ 已增強: PDF10059_Image1_4.png -> 3 張\n",
      "✅ 已增強: PDF10037_Image5_1.png -> 3 張\n",
      "✅ 已增強: PDF10061_Image2_3.png -> 3 張\n",
      "✅ 已增強: PDF10062_Image2_2.png -> 3 張\n",
      "✅ 已增強: PDF10062_Image2_5.png -> 3 張\n",
      "✅ 已增強: PDF1006_Image1_1.png -> 3 張\n",
      "✅ 已增強: PDF10061_Image2_4.png -> 3 張\n",
      "✅ 已增強: PDF10075_Image1_2.png -> 3 張\n",
      "✅ 已增強: PDF1007_Image1_1.png -> 3 張\n",
      "✅ 已增強: PDF10082_Image1_8.png -> 3 張\n",
      "✅ 已增強: PDF10007_Image1_5.png -> 3 張\n",
      "✅ 已增強: PDF10040_Image1_2.png -> 3 張\n",
      "✅ 已增強: PDF10177_Image1_5.png -> 3 張\n",
      "✅ 已增強: PDF10084_Image2_2.png -> 3 張\n",
      "✅ 已增強: PDF10088_Image2_1.png -> 3 張\n",
      "✅ 已增強: PDF10090_Image2_2.png -> 3 張\n",
      "✅ 已增強: PDF10090_Image2_4.png -> 3 張\n",
      "✅ 已增強: PDF10090_Image2_5.png -> 3 張\n",
      "✅ 已增強: PDF10090_Image2_6.png -> 3 張\n",
      "✅ 已增強: PDF10090_Image3_1.png -> 3 張\n",
      "✅ 已增強: PDF10090_Image3_2.png -> 3 張\n",
      "✅ 已增強: PDF10092_Image1_3.png -> 3 張\n",
      "✅ 已增強: PDF10095_Image2_2.png -> 3 張\n",
      "✅ 已增強: PDF10095_Image3_2.png -> 3 張\n",
      "✅ 已增強: PDF10097_Image2_1.png -> 3 張\n",
      "✅ 已增強: PDF10097_Image2_2.png -> 3 張\n",
      "✅ 已增強: PDF10097_Image2_3.png -> 3 張\n",
      "✅ 已增強: PDF10097_Image3_2.png -> 3 張\n",
      "✅ 已增強: PDF10097_Image3_3.png -> 3 張\n",
      "✅ 已增強: PDF10097_Image3_4.png -> 3 張\n",
      "✅ 已增強: PDF10097_Image3_8.png -> 3 張\n",
      "✅ 已增強: PDF10097_Image4_2.png -> 3 張\n",
      "✅ 已增強: PDF10098_Image1_1.png -> 3 張\n",
      "✅ 已增強: PDF10098_Image1_3.png -> 3 張\n",
      "✅ 已增強: PDF10098_Image1_8.png -> 3 張\n",
      "✅ 已增強: PDF10098_Image2_3.png -> 3 張\n",
      "✅ 已增強: PDF10098_Image2_5.png -> 3 張\n",
      "✅ 已增強: PDF10098_Image2_8.png -> 3 張\n",
      "✅ 已增強: PDF10098_Image3_5.png -> 3 張\n",
      "✅ 已增強: PDF10098_Image3_6.png -> 3 張\n",
      "✅ 已增強: PDF10098_Image3_7.png -> 3 張\n",
      "✅ 已增強: PDF10098_Image3_8.png -> 3 張\n",
      "✅ 已增強: PDF10101_Image1_3.png -> 3 張\n",
      "✅ 已增強: PDF10101_Image1_9.png -> 3 張\n",
      "✅ 已增強: PDF10103_Image3_2.png -> 3 張\n",
      "✅ 已增強: PDF10103_Image3_3.png -> 3 張\n",
      "✅ 已增強: PDF10105_Image1_1.png -> 3 張\n",
      "✅ 已增強: PDF10105_Image1_3.png -> 3 張\n",
      "✅ 已增強: PDF10105_Image1_4.png -> 3 張\n",
      "✅ 已增強: PDF10113_Image13_14.png -> 3 張\n",
      "✅ 已增強: PDF10113_Image13_15.png -> 3 張\n",
      "✅ 已增強: PDF10113_Image13_16.png -> 3 張\n",
      "✅ 已增強: PDF10113_Image13_22.png -> 3 張\n",
      "✅ 已增強: PDF10113_Image13_25.png -> 3 張\n",
      "✅ 已增強: PDF10113_Image13_27.png -> 3 張\n",
      "✅ 已增強: PDF10113_Image13_30.png -> 3 張\n",
      "✅ 已增強: PDF10113_Image13_32.png -> 3 張\n",
      "✅ 已增強: PDF10113_Image1_2.png -> 3 張\n",
      "✅ 已增強: PDF10113_Image1_3.png -> 3 張\n",
      "✅ 已增強: PDF10113_Image1_4.png -> 3 張\n",
      "✅ 已增強: PDF10113_Image6_1.png -> 3 張\n",
      "✅ 已增強: PDF10113_Image6_2.png -> 3 張\n",
      "✅ 已增強: PDF10113_Image7_4.png -> 3 張\n",
      "✅ 已增強: PDF10113_Image7_6.png -> 3 張\n",
      "✅ 已增強: PDF10113_Image7_7.png -> 3 張\n",
      "✅ 已增強: PDF10117_Image1_2.png -> 3 張\n",
      "✅ 已增強: PDF10124_Image1_1.png -> 3 張\n",
      "✅ 已增強: PDF10124_Image1_2.png -> 3 張\n",
      "✅ 已增強: PDF10124_Image1_3.png -> 3 張\n",
      "✅ 已增強: PDF10124_Image1_4.png -> 3 張\n",
      "✅ 已增強: PDF10124_Image3_1.png -> 3 張\n",
      "✅ 已增強: PDF10124_Image3_2.png -> 3 張\n",
      "✅ 已增強: PDF10124_Image9_1.png -> 3 張\n",
      "✅ 已增強: PDF10124_Image9_2.png -> 3 張\n",
      "✅ 已增強: PDF10128_Image2_1.png -> 3 張\n",
      "✅ 已增強: PDF10128_Image2_2.png -> 3 張\n",
      "✅ 已增強: PDF10132_Image1_3.png -> 3 張\n",
      "✅ 已增強: PDF10132_Image2_3.png -> 3 張\n",
      "✅ 已增強: PDF10133_Image3_1.png -> 3 張\n",
      "✅ 已增強: PDF10183_Image2_1.png -> 3 張\n",
      "✅ 已增強: PDF10183_Image2_3.png -> 3 張\n",
      "✅ 已增強: PDF10184_Image6_1.png -> 3 張\n",
      "✅ 已增強: PDF10189_Image2_2.png -> 3 張\n",
      "✅ 已增強: PDF10193_Image1_1.png -> 3 張\n",
      "✅ 已增強: PDF10193_Image1_5.png -> 3 張\n",
      "✅ 已增強: PDF10203_Image2_2.png -> 3 張\n",
      "✅ 已增強: PDF10139_Image2_2.png -> 3 張\n",
      "✅ 已增強: PDF10139_Image2_3.png -> 3 張\n",
      "✅ 已增強: PDF10141_Image1_2.png -> 3 張\n",
      "✅ 已增強: PDF10143_Image1_3.png -> 3 張\n",
      "✅ 已增強: PDF1014_Image2_1.png -> 3 張\n",
      "✅ 已增強: PDF1014_Image2_3.png -> 3 張\n",
      "✅ 已增強: PDF1014_Image3_1.png -> 3 張\n",
      "✅ 已增強: PDF1014_Image3_2.png -> 3 張\n",
      "✅ 已增強: PDF1014_Image3_3.png -> 3 張\n",
      "✅ 已增強: PDF10150_Image1_1.png -> 3 張\n",
      "✅ 已增強: PDF10150_Image1_5.png -> 3 張\n",
      "✅ 已增強: PDF10150_Image1_6.png -> 3 張\n",
      "✅ 已增強: PDF10150_Image2_1.png -> 3 張\n",
      "✅ 已增強: PDF10150_Image2_3.png -> 3 張\n",
      "✅ 已增強: PDF10150_Image2_5.png -> 3 張\n",
      "✅ 已增強: PDF10155_Image1_2.png -> 3 張\n",
      "✅ 已增強: PDF10160_Image1_1.png -> 3 張\n",
      "✅ 已增強: PDF10160_Image1_2.png -> 3 張\n",
      "✅ 已增強: PDF10162_Image2_2.png -> 3 張\n",
      "✅ 已增強: PDF10162_Image2_3.png -> 3 張\n",
      "✅ 已增強: PDF10162_Image2_4.png -> 3 張\n",
      "✅ 已增強: PDF10162_Image2_6.png -> 3 張\n",
      "✅ 已增強: PDF10162_Image3_1.png -> 3 張\n",
      "✅ 已增強: PDF10162_Image3_2.png -> 3 張\n",
      "✅ 已增強: PDF10162_Image3_3.png -> 3 張\n",
      "✅ 已增強: PDF10162_Image3_4.png -> 3 張\n",
      "✅ 已增強: PDF10162_Image3_5.png -> 3 張\n",
      "✅ 已增強: PDF10162_Image3_6.png -> 3 張\n",
      "✅ 已增強: PDF10162_Image4_1.png -> 3 張\n",
      "✅ 已增強: PDF10162_Image4_2.png -> 3 張\n",
      "✅ 已增強: PDF10167_Image2_1.png -> 3 張\n",
      "✅ 已增強: PDF10167_Image2_5.png -> 3 張\n",
      "✅ 已增強: PDF10172_Image1_1.png -> 3 張\n",
      "✅ 已增強: PDF10172_Image1_2.png -> 3 張\n",
      "✅ 已增強: PDF10172_Image1_3.png -> 3 張\n",
      "✅ 已增強: PDF10172_Image2_1.png -> 3 張\n",
      "✅ 已增強: PDF10205_Image1_1.png -> 3 張\n",
      "✅ 已增強: PDF10663_Image3_1.png -> 3 張\n",
      "✅ 已增強: PDF10210_Image2_2.png -> 3 張\n",
      "✅ 已增強: PDF10061_Image1_1.png -> 3 張\n",
      "✅ 已增強: PDF10061_Image1_2.png -> 3 張\n",
      "✅ 已增強: PDF10061_Image1_3.png -> 3 張\n",
      "✅ 已增強: PDF10061_Image1_4.png -> 3 張\n",
      "✅ 已增強: PDF10061_Image1_5.png -> 3 張\n",
      "✅ 已增強: PDF10061_Image1_6.png -> 3 張\n",
      "✅ 已增強: PDF10061_Image1_7.png -> 3 張\n",
      "✅ 已增強: PDF10061_Image1_8.png -> 3 張\n",
      "✅ 已增強: PDF10061_Image1_9.png -> 3 張\n",
      "✅ 已增強: PDF10061_Image1_10.png -> 3 張\n",
      "✅ 已增強: PDF102_Image3_1.png -> 3 張\n",
      "✅ 已增強: PDF10061_Image1_11.png -> 3 張\n",
      "✅ 已增強: PDF10061_Image1_12.png -> 3 張\n",
      "✅ 已增強: PDF10061_Image2_1.png -> 3 張\n",
      "✅ 已增強: PDF102_Image3_2.png -> 3 張\n",
      "✅ 已增強: PDF1018_Image1_3.png -> 3 張\n",
      "✅ 已增強: PDF1028_Image1_1.png -> 3 張\n",
      "✅ 已增強: PDF1028_Image1_2.png -> 3 張\n",
      "✅ 已增強: PDF1028_Image1_3.png -> 3 張\n",
      "✅ 已增強: PDF1028_Image1_4.png -> 3 張\n",
      "✅ 已增強: PDF1031_Image2_3.png -> 3 張\n",
      "✅ 已增強: PDF1059_Image1_2.png -> 3 張\n",
      "✅ 已增強: PDF1059_Image1_3.png -> 3 張\n",
      "✅ 已增強: PDF1064_Image2_1.png -> 3 張\n",
      "✅ 已增強: PDF1064_Image2_2.png -> 3 張\n",
      "✅ 已增強: PDF1064_Image2_5.png -> 3 張\n",
      "✅ 已增強: PDF1068_Image2_1.png -> 3 張\n",
      "✅ 已增強: PDF1077_Image2_1.png -> 3 張\n",
      "✅ 已增強: PDF1077_Image2_3.png -> 3 張\n",
      "✅ 已增強: PDF1083_Image1_1.png -> 3 張\n",
      "✅ 已增強: PDF10187_Image1_4.png -> 3 張\n",
      "✅ 已增強: PDF10195_Image1_4.png -> 3 張\n",
      "✅ 已增強: PDF10196_Image1_1.png -> 3 張\n",
      "✅ 已增強: PDF10196_Image1_2.png -> 3 張\n",
      "✅ 已增強: PDF10196_Image1_3.png -> 3 張\n",
      "✅ 已增強: PDF10196_Image1_4.png -> 3 張\n",
      "✅ 已增強: PDF10196_Image1_5.png -> 3 張\n",
      "✅ 已增強: PDF10196_Image1_6.png -> 3 張\n",
      "✅ 已增強: PDF10197_Image2_2.png -> 3 張\n",
      "✅ 已增強: PDF10198_Image1_1.png -> 3 張\n",
      "✅ 已增強: PDF10203_Image2_1.png -> 3 張\n",
      "✅ 已增強: PDF10198_Image3_1.png -> 3 張\n",
      "✅ 已增強: PDF10198_Image3_2.png -> 3 張\n",
      "✅ 已增強: PDF10201_Image1_6.png -> 3 張\n",
      "✅ 已增強: PDF10201_Image1_7.png -> 3 張\n",
      "✅ 已增強: PDF10201_Image1_8.png -> 3 張\n",
      "✅ 已增強: PDF10201_Image1_9.png -> 3 張\n",
      "✅ 已增強: PDF10201_Image1_10.png -> 3 張\n",
      "✅ 已增強: PDF10201_Image1_11.png -> 3 張\n",
      "✅ 已增強: PDF10207_Image2_3.png -> 3 張\n",
      "✅ 已增強: PDF10227_Image2_2.png -> 3 張\n",
      "✅ 已增強: PDF10227_Image2_3.png -> 3 張\n",
      "✅ 已增強: PDF10227_Image2_4.png -> 3 張\n",
      "✅ 已增強: PDF10229_Image1_2.png -> 3 張\n",
      "✅ 已增強: PDF10238_Image1_2.png -> 3 張\n",
      "✅ 已增強: PDF10239_Image1_4.png -> 3 張\n",
      "✅ 已增強: PDF10243_Image1_1.png -> 3 張\n",
      "✅ 已增強: PDF10243_Image1_3.png -> 3 張\n",
      "✅ 已增強: PDF10245_Image1_2.png -> 3 張\n",
      "✅ 已增強: PDF10245_Image1_3.png -> 3 張\n",
      "✅ 已增強: PDF10246_Image1_5.png -> 3 張\n",
      "✅ 已增強: PDF10247_Image1_2.png -> 3 張\n",
      "✅ 已增強: PDF10251_Image4_2.png -> 3 張\n",
      "✅ 已增強: PDF10251_Image3_1.png -> 3 張\n",
      "✅ 已增強: PDF10251_Image4_1.png -> 3 張\n",
      "✅ 已增強: PDF10258_Image2_4.png -> 3 張\n",
      "✅ 已增強: PDF10258_Image5_3.png -> 3 張\n",
      "✅ 已增強: PDF10258_Image5_2.png -> 3 張\n",
      "✅ 已增強: PDF10264_Image1_5.png -> 3 張\n",
      "✅ 已增強: PDF10266_Image2_2.png -> 3 張\n",
      "✅ 已增強: PDF10276_Image2_3.png -> 3 張\n",
      "✅ 已增強: PDF10278_Image2_2.png -> 3 張\n",
      "✅ 已增強: PDF10288_Image4_3.png -> 3 張\n",
      "✅ 已增強: PDF10288_Image4_4.png -> 3 張\n",
      "✅ 已增強: PDF10290_Image1_1.png -> 3 張\n",
      "✅ 已增強: PDF10290_Image1_2.png -> 3 張\n",
      "✅ 已增強: PDF10290_Image1_3.png -> 3 張\n",
      "✅ 已增強: PDF10290_Image1_4.png -> 3 張\n",
      "✅ 已增強: PDF10290_Image1_5.png -> 3 張\n",
      "✅ 已增強: PDF10290_Image1_6.png -> 3 張\n",
      "✅ 已增強: PDF10290_Image1_7.png -> 3 張\n",
      "✅ 已增強: PDF10308_Image2_1.png -> 3 張\n",
      "✅ 已增強: PDF10312_Image1_1.png -> 3 張\n",
      "✅ 已增強: PDF10312_Image1_3.png -> 3 張\n",
      "✅ 已增強: PDF10312_Image1_4.png -> 3 張\n",
      "✅ 已增強: PDF10313_Image1_4.png -> 3 張\n",
      "✅ 已增強: PDF10314_Image1_4.png -> 3 張\n",
      "✅ 已增強: PDF10316_Image1_1.png -> 3 張\n",
      "✅ 已增強: PDF10324_Image2_5.png -> 3 張\n",
      "✅ 已增強: PDF10342_Image1_1.png -> 3 張\n",
      "✅ 已增強: PDF10347_Image2_5.png -> 3 張\n",
      "✅ 已增強: PDF10360_Image2_4.png -> 3 張\n",
      "✅ 已增強: PDF10366_Image1_2.png -> 3 張\n",
      "✅ 已增強: PDF10366_Image3_1.png -> 3 張\n",
      "✅ 已增強: PDF10366_Image5_2.png -> 3 張\n",
      "✅ 已增強: PDF10366_Image5_4.png -> 3 張\n",
      "✅ 已增強: PDF10368_Image1_2.png -> 3 張\n",
      "✅ 已增強: PDF10368_Image1_4.png -> 3 張\n",
      "✅ 已增強: PDF10371_Image1_6.png -> 3 張\n",
      "✅ 已增強: PDF10371_Image1_9.png -> 3 張\n",
      "✅ 已增強: PDF10371_Image2_2.png -> 3 張\n",
      "✅ 已增強: PDF10371_Image2_4.png -> 3 張\n",
      "✅ 已增強: PDF10371_Image2_5.png -> 3 張\n",
      "✅ 已增強: PDF10372_Image3_3.png -> 3 張\n",
      "✅ 已增強: PDF10382_Image2_3.png -> 3 張\n",
      "✅ 已增強: PDF10382_Image2_4.png -> 3 張\n",
      "✅ 已增強: PDF10212_Image2_4.png -> 3 張\n",
      "✅ 已增強: PDF10382_Image3_3.png -> 3 張\n",
      "✅ 已增強: PDF10383_Image1_1.png -> 3 張\n",
      "✅ 已增強: PDF10383_Image1_4.png -> 3 張\n",
      "✅ 已增強: PDF10383_Image1_5.png -> 3 張\n",
      "✅ 已增強: PDF10383_Image1_6.png -> 3 張\n",
      "✅ 已增強: PDF10390_Image1_2.png -> 3 張\n",
      "✅ 已增強: PDF10402_Image3_5.png -> 3 張\n",
      "✅ 已增強: PDF10402_Image3_6.png -> 3 張\n",
      "✅ 已增強: PDF10402_Image3_7.png -> 3 張\n",
      "✅ 已增強: PDF10402_Image3_8.png -> 3 張\n",
      "✅ 已增強: PDF10407_Image1_1.png -> 3 張\n",
      "✅ 已增強: PDF10407_Image1_4.png -> 3 張\n",
      "✅ 已增強: PDF10407_Image1_5.png -> 3 張\n",
      "✅ 已增強: PDF10407_Image1_8.png -> 3 張\n",
      "✅ 已增強: PDF10407_Image1_9.png -> 3 張\n",
      "✅ 已增強: PDF10407_Image1_10.png -> 3 張\n",
      "✅ 已增強: PDF10407_Image1_12.png -> 3 張\n",
      "✅ 已增強: PDF10407_Image1_13.png -> 3 張\n",
      "✅ 已增強: PDF10407_Image1_14.png -> 3 張\n",
      "✅ 已增強: PDF10407_Image1_15.png -> 3 張\n",
      "✅ 已增強: PDF10408_Image1_3.png -> 3 張\n",
      "✅ 已增強: PDF10414_Image2_3.png -> 3 張\n",
      "✅ 已增強: PDF10414_Image2_8.png -> 3 張\n",
      "✅ 已增強: PDF10419_Image2_1.png -> 3 張\n",
      "✅ 已增強: PDF10419_Image2_2.png -> 3 張\n",
      "✅ 已增強: PDF10419_Image2_3.png -> 3 張\n",
      "✅ 已增強: PDF10423_Image1_3.png -> 3 張\n",
      "✅ 已增強: PDF10430_Image5_3.png -> 3 張\n",
      "✅ 已增強: PDF10432_Image2_3.png -> 3 張\n",
      "✅ 已增強: PDF10434_Image1_1.png -> 3 張\n",
      "✅ 已增強: PDF10435_Image1_5.png -> 3 張\n",
      "✅ 已增強: PDF10437_Image2_8.png -> 3 張\n",
      "✅ 已增強: PDF10438_Image2_1.png -> 3 張\n",
      "✅ 已增強: PDF10438_Image2_2.png -> 3 張\n",
      "✅ 已增強: PDF10438_Image2_3.png -> 3 張\n",
      "✅ 已增強: PDF10438_Image2_5.png -> 3 張\n",
      "✅ 已增強: PDF10441_Image1_1.png -> 3 張\n",
      "✅ 已增強: PDF10441_Image1_3.png -> 3 張\n",
      "✅ 已增強: PDF10441_Image1_5.png -> 3 張\n",
      "✅ 已增強: PDF10441_Image1_6.png -> 3 張\n",
      "✅ 已增強: PDF10446_Image4_1.png -> 3 張\n",
      "✅ 已增強: PDF10446_Image4_2.png -> 3 張\n",
      "✅ 已增強: PDF10446_Image4_3.png -> 3 張\n",
      "✅ 已增強: PDF10446_Image5_1.png -> 3 張\n",
      "✅ 已增強: PDF10446_Image9_3.png -> 3 張\n",
      "✅ 已增強: PDF10446_Image9_4.png -> 3 張\n",
      "✅ 已增強: PDF10449_Image3_1.png -> 3 張\n",
      "✅ 已增強: PDF10449_Image3_2.png -> 3 張\n",
      "✅ 已增強: PDF10454_Image4_2.png -> 3 張\n",
      "✅ 已增強: PDF10454_Image4_4.png -> 3 張\n",
      "✅ 已增強: PDF10454_Image4_3.png -> 3 張\n",
      "✅ 已增強: PDF10454_Image6_1.png -> 3 張\n",
      "✅ 已增強: PDF10455_Image1_3.png -> 3 張\n",
      "✅ 已增強: PDF10458_Image1_1.png -> 3 張\n",
      "✅ 已增強: PDF10463_Image1_1.png -> 3 張\n",
      "✅ 已增強: PDF10049_Image1_1.png -> 3 張\n",
      "✅ 已增強: PDF10239_Image1_2.png -> 3 張\n",
      "✅ 已增強: PDF10468_Image1_2.png -> 3 張\n",
      "✅ 已增強: PDF10468_Image2_1.png -> 3 張\n",
      "✅ 已增強: PDF10470_Image1_4.png -> 3 張\n",
      "✅ 已增強: PDF10471_Image1_1.png -> 3 張\n",
      "✅ 已增強: PDF10471_Image1_2.png -> 3 張\n",
      "✅ 已增強: PDF10475_Image1_1.png -> 3 張\n",
      "✅ 已增強: PDF10480_Image2_1.png -> 3 張\n",
      "✅ 已增強: PDF10480_Image3_1.png -> 3 張\n",
      "✅ 已增強: PDF10482_Image1_4.png -> 3 張\n",
      "✅ 已增強: PDF10486_Image1_1.png -> 3 張\n",
      "✅ 已增強: PDF10486_Image1_3.png -> 3 張\n",
      "✅ 已增強: PDF10486_Image1_5.png -> 3 張\n",
      "✅ 已增強: PDF10487_Image1_3.png -> 3 張\n",
      "✅ 已增強: PDF10487_Image1_4.png -> 3 張\n",
      "✅ 已增強: PDF10493_Image3_1.png -> 3 張\n",
      "✅ 已增強: PDF10493_Image3_2.png -> 3 張\n",
      "✅ 已增強: PDF10494_Image1_2.png -> 3 張\n",
      "✅ 已增強: PDF10495_Image1_1.png -> 3 張\n",
      "✅ 已增強: PDF10498_Image1_1.png -> 3 張\n",
      "✅ 已增強: PDF10498_Image1_5.png -> 3 張\n",
      "✅ 已增強: PDF10498_Image1_6.png -> 3 張\n",
      "✅ 已增強: PDF10506_Image1_2.png -> 3 張\n",
      "✅ 已增強: PDF10506_Image1_4.png -> 3 張\n",
      "✅ 已增強: PDF10506_Image1_1.png -> 3 張\n",
      "✅ 已增強: PDF10506_Image1_7.png -> 3 張\n",
      "✅ 已增強: PDF10506_Image1_8.png -> 3 張\n",
      "✅ 已增強: PDF10506_Image1_9.png -> 3 張\n",
      "✅ 已增強: PDF10507_Image1_1.png -> 3 張\n",
      "✅ 已增強: PDF10507_Image1_2.png -> 3 張\n",
      "✅ 已增強: PDF10507_Image1_3.png -> 3 張\n",
      "✅ 已增強: PDF10507_Image1_4.png -> 3 張\n",
      "✅ 已增強: PDF10507_Image1_5.png -> 3 張\n",
      "✅ 已增強: PDF10507_Image1_6.png -> 3 張\n",
      "✅ 已增強: PDF10507_Image1_7.png -> 3 張\n",
      "✅ 已增強: PDF10507_Image1_8.png -> 3 張\n",
      "✅ 已增強: PDF10507_Image2_1.png -> 3 張\n",
      "✅ 已增強: PDF10507_Image2_2.png -> 3 張\n",
      "✅ 已增強: PDF10507_Image2_3.png -> 3 張\n",
      "✅ 已增強: PDF10507_Image2_4.png -> 3 張\n",
      "✅ 已增強: PDF10507_Image3_1.png -> 3 張\n",
      "✅ 已增強: PDF10527_Image2_1.png -> 3 張\n",
      "✅ 已增強: PDF10529_Image2_2.png -> 3 張\n",
      "✅ 已增強: PDF10529_Image2_3.png -> 3 張\n",
      "✅ 已增強: PDF10534_Image3_1.png -> 3 張\n",
      "✅ 已增強: PDF10534_Image3_2.png -> 3 張\n",
      "✅ 已增強: PDF10534_Image3_5.png -> 3 張\n",
      "✅ 已增強: PDF10534_Image3_6.png -> 3 張\n",
      "✅ 已增強: PDF10534_Image3_7.png -> 3 張\n",
      "✅ 已增強: PDF10534_Image6_1.png -> 3 張\n",
      "✅ 已增強: PDF10549_Image2_1.png -> 3 張\n",
      "✅ 已增強: PDF10551_Image1_3.png -> 3 張\n",
      "✅ 已增強: PDF1046_Image1_9.png -> 3 張\n",
      "✅ 已增強: PDF10561_Image2_6.png -> 3 張\n",
      "✅ 已增強: PDF10561_Image2_8.png -> 3 張\n",
      "✅ 已增強: PDF10562_Image2_2.png -> 3 張\n",
      "✅ 已增強: PDF10562_Image2_3.png -> 3 張\n",
      "✅ 已增強: PDF10562_Image2_4.png -> 3 張\n",
      "✅ 已增強: PDF10572_Image2_4.png -> 3 張\n",
      "✅ 已增強: PDF10574_Image1_7.png -> 3 張\n",
      "✅ 已增強: PDF10576_Image4_1.png -> 3 張\n",
      "✅ 已增強: PDF10576_Image4_3.png -> 3 張\n",
      "✅ 已增強: PDF10576_Image4_5.png -> 3 張\n",
      "✅ 已增強: PDF10576_Image4_6.png -> 3 張\n",
      "✅ 已增強: PDF10580_Image1_1.png -> 3 張\n",
      "✅ 已增強: PDF10598_Image1_1.png -> 3 張\n",
      "✅ 已增強: PDF10598_Image1_2.png -> 3 張\n",
      "✅ 已增強: PDF10601_Image1_2.png -> 3 張\n",
      "✅ 已增強: PDF10601_Image2_4.png -> 3 張\n",
      "✅ 已增強: PDF10601_Image2_5.png -> 3 張\n",
      "✅ 已增強: PDF10601_Image2_7.png -> 3 張\n",
      "✅ 已增強: PDF10601_Image2_8.png -> 3 張\n",
      "✅ 已增強: PDF10603_Image1_1.png -> 3 張\n",
      "✅ 已增強: PDF10603_Image1_2.png -> 3 張\n",
      "✅ 已增強: PDF10603_Image1_3.png -> 3 張\n",
      "✅ 已增強: PDF10603_Image1_4.png -> 3 張\n",
      "✅ 已增強: PDF10603_Image2_1.png -> 3 張\n",
      "✅ 已增強: PDF10603_Image2_2.png -> 3 張\n",
      "✅ 已增強: PDF10603_Image2_3.png -> 3 張\n",
      "✅ 已增強: PDF10603_Image2_4.png -> 3 張\n",
      "✅ 已增強: PDF10604_Image1_1.png -> 3 張\n",
      "✅ 已增強: PDF10607_Image4_1.png -> 3 張\n",
      "✅ 已增強: PDF10610_Image1_1.png -> 3 張\n",
      "✅ 已增強: PDF10624_Image3_1.png -> 3 張\n",
      "✅ 已增強: PDF10632_Image1_1.png -> 3 張\n",
      "✅ 已增強: PDF10632_Image1_4.png -> 3 張\n",
      "✅ 已增強: PDF10636_Image1_2.png -> 3 張\n",
      "✅ 已增強: PDF10636_Image1_3.png -> 3 張\n",
      "✅ 已增強: PDF10637_Image5_2.png -> 3 張\n",
      "✅ 已增強: PDF10640_Image1_1.png -> 3 張\n",
      "✅ 已增強: PDF10674_Image3_3.png -> 3 張\n",
      "✅ 已增強: PDF10674_Image3_4.png -> 3 張\n",
      "✅ 已增強: PDF10674_Image3_6.png -> 3 張\n",
      "✅ 已增強: PDF10674_Image4_1.png -> 3 張\n",
      "✅ 已增強: PDF10674_Image4_3.png -> 3 張\n",
      "✅ 已增強: PDF10687_Image1_3.png -> 3 張\n",
      "✅ 已增強: PDF10687_Image2_2.png -> 3 張\n",
      "✅ 已增強: PDF10689_Image2_3.png -> 3 張\n",
      "✅ 已增強: PDF10705_Image1_3.png -> 3 張\n",
      "✅ 已增強: PDF10711_Image1_1.png -> 3 張\n",
      "✅ 已增強: PDF10711_Image1_3.png -> 3 張\n",
      "✅ 已增強: PDF10718_Image1_1.png -> 3 張\n",
      "✅ 已增強: PDF10727_Image2_4.png -> 3 張\n",
      "✅ 已增強: PDF10727_Image2_5.png -> 3 張\n",
      "✅ 已增強: PDF10727_Image2_6.png -> 3 張\n",
      "✅ 已增強: PDF10730_Image1_1.png -> 3 張\n",
      "✅ 已增強: PDF10730_Image1_3.png -> 3 張\n",
      "✅ 已增強: PDF10751_Image1_1.png -> 3 張\n",
      "✅ 已增強: PDF10751_Image1_2.png -> 3 張\n",
      "✅ 已增強: PDF10751_Image1_3.png -> 3 張\n",
      "✅ 已增強: PDF10751_Image1_4.png -> 3 張\n",
      "✅ 已增強: PDF10764_Image1_1.png -> 3 張\n",
      "✅ 已增強: PDF10764_Image1_2.png -> 3 張\n",
      "✅ 已增強: PDF10767_Image5_3.png -> 3 張\n",
      "✅ 已增強: PDF10767_Image11_2.png -> 3 張\n",
      "✅ 已增強: PDF10007_Image1_4.png -> 3 張\n",
      "✅ 已增強: PDF10240_Image1_3.png -> 3 張\n",
      "✅ 已增強: PDF10240_Image1_8.png -> 3 張\n",
      "✅ 已增強: PDF10244_Image3_1.png -> 3 張\n",
      "✅ 已增強: PDF10244_Image3_2.png -> 3 張\n",
      "✅ 已增強: PDF10244_Image3_4.png -> 3 張\n",
      "✅ 已增強: PDF10251_Image6_1.png -> 3 張\n",
      "✅ 已增強: PDF10251_Image6_2.png -> 3 張\n",
      "✅ 已增強: PDF10251_Image6_3.png -> 3 張\n",
      "✅ 已增強: PDF10251_Image6_4.png -> 3 張\n",
      "✅ 已增強: PDF10253_Image2_2.png -> 3 張\n",
      "✅ 已增強: PDF10258_Image2_1.png -> 3 張\n",
      "✅ 已增強: PDF10264_Image1_7.png -> 3 張\n",
      "✅ 已增強: PDF10264_Image1_8.png -> 3 張\n",
      "✅ 已增強: PDF10266_Image2_5.png -> 3 張\n",
      "✅ 已增強: PDF10268_Image2_1.png -> 3 張\n",
      "✅ 已增強: PDF10268_Image2_2.png -> 3 張\n",
      "✅ 已增強: PDF10268_Image2_3.png -> 3 張\n",
      "✅ 已增強: PDF10268_Image2_4.png -> 3 張\n",
      "✅ 已增強: PDF10276_Image1_1.png -> 3 張\n",
      "✅ 已增強: PDF10277_Image2_3.png -> 3 張\n",
      "✅ 已增強: PDF10278_Image1_1.png -> 3 張\n",
      "✅ 已增強: PDF10280_Image1_1.png -> 3 張\n",
      "✅ 已增強: PDF10280_Image1_2.png -> 3 張\n",
      "✅ 已增強: PDF10280_Image1_3.png -> 3 張\n",
      "✅ 已增強: PDF10280_Image1_4.png -> 3 張\n",
      "✅ 已增強: PDF10280_Image1_5.png -> 3 張\n",
      "✅ 已增強: PDF10280_Image1_6.png -> 3 張\n",
      "✅ 已增強: PDF10284_Image1_1.png -> 3 張\n",
      "✅ 已增強: PDF1046_Image1_10.png -> 3 張\n",
      "✅ 已增強: PDF10297_Image1_3.png -> 3 張\n",
      "✅ 已增強: PDF10299_Image1_1.png -> 3 張\n",
      "✅ 已增強: PDF10299_Image1_2.png -> 3 張\n",
      "✅ 已增強: PDF10299_Image1_5.png -> 3 張\n",
      "✅ 已增強: PDF10300_Image2_2.png -> 3 張\n",
      "✅ 已增強: PDF10303_Image1_2.png -> 3 張\n",
      "✅ 已增強: PDF10316_Image1_2.png -> 3 張\n",
      "✅ 已增強: PDF10316_Image1_3.png -> 3 張\n",
      "✅ 已增強: PDF1038_Image1_3.png -> 3 張\n",
      "✅ 已增強: PDF10316_Image1_4.png -> 3 張\n",
      "✅ 已增強: PDF10316_Image1_5.png -> 3 張\n",
      "✅ 已增強: PDF10326_Image2_1.png -> 3 張\n",
      "✅ 已增強: PDF10326_Image2_2.png -> 3 張\n",
      "✅ 已增強: PDF10326_Image2_3.png -> 3 張\n",
      "✅ 已增強: PDF10326_Image2_4.png -> 3 張\n",
      "✅ 已增強: PDF10329_Image1_6.png -> 3 張\n",
      "✅ 已增強: PDF10329_Image3_2.png -> 3 張\n",
      "✅ 已增強: PDF10332_Image6_1.png -> 3 張\n",
      "✅ 已增強: PDF10332_Image6_2.png -> 3 張\n",
      "✅ 已增強: PDF10342_Image2_2.png -> 3 張\n",
      "✅ 已增強: PDF10343_Image2_1.png -> 3 張\n",
      "✅ 已增強: PDF10343_Image2_2.png -> 3 張\n",
      "✅ 已增強: PDF10355_Image1_1.png -> 3 張\n",
      "✅ 已增強: PDF10355_Image1_2.png -> 3 張\n",
      "✅ 已增強: PDF10371_Image1_1.png -> 3 張\n",
      "✅ 已增強: PDF10371_Image2_1.png -> 3 張\n",
      "✅ 已增強: PDF10376_Image2_1.png -> 3 張\n",
      "✅ 已增強: PDF10380_Image1_1.png -> 3 張\n",
      "✅ 已增強: PDF10380_Image1_2.png -> 3 張\n",
      "✅ 已增強: PDF10382_Image2_1.png -> 3 張\n",
      "✅ 已增強: PDF10382_Image2_2.png -> 3 張\n",
      "✅ 已增強: PDF1038_Image1_5.png -> 3 張\n",
      "✅ 已增強: PDF1039_Image1_2.png -> 3 張\n",
      "✅ 已增強: PDF1039_Image1_3.png -> 3 張\n",
      "✅ 已增強: PDF1039_Image1_4.png -> 3 張\n",
      "✅ 已增強: PDF10402_Image3_2.png -> 3 張\n",
      "✅ 已增強: PDF10402_Image3_3.png -> 3 張\n",
      "✅ 已增強: PDF10407_Image2_1.png -> 3 張\n",
      "✅ 已增強: PDF10407_Image2_2.png -> 3 張\n",
      "✅ 已增強: PDF10409_Image1_12.png -> 3 張\n",
      "✅ 已增強: PDF10409_Image1_7.png -> 3 張\n",
      "✅ 已增強: PDF10413_Image2_3.png -> 3 張\n",
      "✅ 已增強: PDF10414_Image2_6.png -> 3 張\n",
      "✅ 已增強: PDF10414_Image2_7.png -> 3 張\n",
      "✅ 已增強: PDF10414_Image2_9.png -> 3 張\n",
      "✅ 已增強: PDF10437_Image2_4.png -> 3 張\n",
      "✅ 已增強: PDF10437_Image2_6.png -> 3 張\n",
      "✅ 已增強: PDF10439_Image4_1.png -> 3 張\n",
      "✅ 已增強: PDF10439_Image4_3.png -> 3 張\n",
      "✅ 已增強: PDF10447_Image2_2.png -> 3 張\n",
      "✅ 已增強: PDF10448_Image2_3.png -> 3 張\n",
      "✅ 已增強: PDF10448_Image2_4.png -> 3 張\n",
      "✅ 已增強: PDF10449_Image4_1.png -> 3 張\n",
      "✅ 已增強: PDF10449_Image4_2.png -> 3 張\n",
      "✅ 已增強: PDF10453_Image1_1.png -> 3 張\n",
      "✅ 已增強: PDF10454_Image2_2.png -> 3 張\n",
      "✅ 已增強: PDF10454_Image4_1.png -> 3 張\n",
      "✅ 已增強: PDF10457_Image1_1.png -> 3 張\n",
      "✅ 已增強: PDF10460_Image1_1.png -> 3 張\n",
      "✅ 已增強: PDF10462_Image1_1.png -> 3 張\n",
      "✅ 已增強: PDF10463_Image4_1.png -> 3 張\n",
      "✅ 已增強: PDF10463_Image4_3.png -> 3 張\n",
      "✅ 已增強: PDF10463_Image6_1.png -> 3 張\n",
      "✅ 已增強: PDF10469_Image2_3.png -> 3 張\n",
      "✅ 已增強: PDF10469_Image2_4.png -> 3 張\n",
      "✅ 已增強: PDF10469_Image2_5.png -> 3 張\n",
      "✅ 已增強: PDF10469_Image2_6.png -> 3 張\n",
      "✅ 已增強: PDF10469_Image3_1.png -> 3 張\n",
      "✅ 已增強: PDF10469_Image3_2.png -> 3 張\n",
      "✅ 已增強: PDF10469_Image3_3.png -> 3 張\n",
      "✅ 已增強: PDF10469_Image2_1.png -> 3 張\n",
      "✅ 已增強: PDF10469_Image2_2.png -> 3 張\n",
      "✅ 已增強: PDF10475_Image1_3.png -> 3 張\n",
      "✅ 已增強: PDF10492_Image4_1.png -> 3 張\n",
      "✅ 已增強: PDF10492_Image4_2.png -> 3 張\n",
      "✅ 已增強: PDF10492_Image4_3.png -> 3 張\n",
      "✅ 已增強: PDF10492_Image4_4.png -> 3 張\n",
      "✅ 已增強: PDF10498_Image2_4.png -> 3 張\n",
      "✅ 已增強: PDF10498_Image3_2.png -> 3 張\n",
      "✅ 已增強: PDF10509_Image1_3.png -> 3 張\n",
      "✅ 已增強: PDF10509_Image1_5.png -> 3 張\n",
      "✅ 已增強: PDF10509_Image1_6.png -> 3 張\n",
      "✅ 已增強: PDF10509_Image2_2.png -> 3 張\n",
      "✅ 已增強: PDF10510_Image1_3.png -> 3 張\n",
      "✅ 已增強: PDF10513_Image1_2.png -> 3 張\n",
      "✅ 已增強: PDF10516_Image1_4.png -> 3 張\n",
      "✅ 已增強: PDF10516_Image5_3.png -> 3 張\n",
      "✅ 已增強: PDF10516_Image5_4.png -> 3 張\n",
      "✅ 已增強: PDF10518_Image2_1.png -> 3 張\n",
      "✅ 已增強: PDF10518_Image2_2.png -> 3 張\n",
      "✅ 已增強: PDF10518_Image2_6.png -> 3 張\n",
      "✅ 已增強: PDF10522_Image2_2.png -> 3 張\n",
      "✅ 已增強: PDF10522_Image4_2.png -> 3 張\n",
      "✅ 已增強: PDF10522_Image5_6.png -> 3 張\n",
      "✅ 已增強: PDF10522_Image5_7.png -> 3 張\n",
      "✅ 已增強: PDF10527_Image2_4.png -> 3 張\n",
      "✅ 已增強: PDF10551_Image1_1.png -> 3 張\n",
      "✅ 已增強: PDF10559_Image2_1.png -> 3 張\n",
      "✅ 已增強: PDF10562_Image2_6.png -> 3 張\n",
      "✅ 已增強: PDF10569_Image2_4.png -> 3 張\n",
      "✅ 已增強: PDF10574_Image1_5.png -> 3 張\n",
      "✅ 已增強: PDF10574_Image1_6.png -> 3 張\n",
      "✅ 已增強: PDF10577_Image1_1.png -> 3 張\n",
      "✅ 已增強: PDF10577_Image1_3.png -> 3 張\n",
      "✅ 已增強: PDF10582_Image2_1.png -> 3 張\n",
      "✅ 已增強: PDF10587_Image2_3.png -> 3 張\n",
      "✅ 已增強: PDF1059_Image1_1.png -> 3 張\n",
      "✅ 已增強: PDF10603_Image4_1.png -> 3 張\n",
      "✅ 已增強: PDF10603_Image5_1.png -> 3 張\n",
      "✅ 已增強: PDF10603_Image5_2.png -> 3 張\n",
      "✅ 已增強: PDF1064_Image1_7.png -> 3 張\n",
      "✅ 已增強: PDF10611_Image2_1.png -> 3 張\n",
      "✅ 已增強: PDF10611_Image2_2.png -> 3 張\n",
      "✅ 已增強: PDF10613_Image1_1.png -> 3 張\n",
      "✅ 已增強: PDF10613_Image1_4.png -> 3 張\n",
      "✅ 已增強: PDF10621_Image1_2.png -> 3 張\n",
      "✅ 已增強: PDF10630_Image1_3.png -> 3 張\n",
      "✅ 已增強: PDF10630_Image3_1.png -> 3 張\n",
      "✅ 已增強: PDF10640_Image1_2.png -> 3 張\n",
      "✅ 已增強: PDF10642_Image1_1.png -> 3 張\n",
      "✅ 已增強: PDF10647_Image2_3.png -> 3 張\n",
      "✅ 已增強: PDF10648_Image4_3.png -> 3 張\n",
      "✅ 已增強: PDF1065_Image2_1.png -> 3 張\n",
      "✅ 已增強: PDF1065_Image2_3.png -> 3 張\n",
      "✅ 已增強: PDF10068_Image1_2.png -> 3 張\n",
      "✅ 已增強: PDF10068_Image1_3.png -> 3 張\n",
      "✅ 已增強: PDF10068_Image2_1.png -> 3 張\n",
      "✅ 已增強: PDF10068_Image2_3.png -> 3 張\n",
      "✅ 已增強: PDF10068_Image2_4.png -> 3 張\n",
      "✅ 已增強: PDF10068_Image2_6.png -> 3 張\n",
      "✅ 已增強: PDF10068_Image2_8.png -> 3 張\n",
      "✅ 已增強: PDF10068_Image2_9.png -> 3 張\n",
      "✅ 已增強: PDF10068_Image3_2.png -> 3 張\n",
      "✅ 已增強: PDF10068_Image3_4.png -> 3 張\n",
      "✅ 已增強: PDF10068_Image3_5.png -> 3 張\n",
      "✅ 已增強: PDF10068_Image4_2.png -> 3 張\n",
      "✅ 已增強: PDF10068_Image4_4.png -> 3 張\n",
      "✅ 已增強: PDF10068_Image4_7.png -> 3 張\n",
      "✅ 已增強: PDF10068_Image5_1.png -> 3 張\n",
      "✅ 已增強: PDF10068_Image5_4.png -> 3 張\n",
      "✅ 已增強: PDF10016_Image3_1.png -> 3 張\n",
      "✅ 已增強: PDF10006_Image3_3.png -> 3 張\n",
      "✅ 已增強: PDF101_Image1_1.png -> 3 張\n",
      "✅ 已增強: PDF10007_Image1_2.png -> 3 張\n",
      "✅ 已增強: PDF10008_Image1_1.png -> 3 張\n",
      "✅ 已增強: PDF10008_Image1_2.png -> 3 張\n",
      "✅ 已增強: PDF10011_Image1_1.png -> 3 張\n",
      "✅ 已增強: PDF10011_Image1_2.png -> 3 張\n",
      "✅ 已增強: PDF10011_Image1_3.png -> 3 張\n",
      "✅ 已增強: PDF10011_Image1_4.png -> 3 張\n",
      "✅ 已增強: PDF10011_Image1_5.png -> 3 張\n",
      "✅ 已增強: PDF101_Image2_1.png -> 3 張\n",
      "✅ 已增強: PDF10068_Image4_3.png -> 3 張\n",
      "✅ 已增強: PDF10068_Image4_6.png -> 3 張\n",
      "✅ 已增強: PDF10068_Image4_8.png -> 3 張\n",
      "✅ 已增強: PDF10068_Image5_3.png -> 3 張\n",
      "✅ 已增強: PDF1041_Image1_1.png -> 3 張\n",
      "✅ 已增強: PDF1041_Image1_2.png -> 3 張\n",
      "✅ 已增強: PDF1041_Image1_3.png -> 3 張\n",
      "✅ 已增強: PDF1041_Image1_4.png -> 3 張\n",
      "✅ 已增強: PDF1041_Image1_5.png -> 3 張\n",
      "✅ 已增強: PDF1041_Image1_6.png -> 3 張\n",
      "✅ 已增強: PDF1041_Image1_7.png -> 3 張\n",
      "✅ 已增強: PDF1041_Image1_8.png -> 3 張\n",
      "✅ 已增強: PDF1041_Image1_9.png -> 3 張\n",
      "✅ 已增強: PDF1041_Image2_1.png -> 3 張\n",
      "✅ 已增強: PDF1041_Image2_2.png -> 3 張\n",
      "✅ 已增強: PDF1041_Image3_1.png -> 3 張\n",
      "✅ 已增強: PDF1041_Image3_2.png -> 3 張\n",
      "✅ 已增強: PDF1041_Image3_3.png -> 3 張\n",
      "✅ 已增強: PDF1041_Image3_4.png -> 3 張\n",
      "✅ 已增強: PDF1041_Image3_5.png -> 3 張\n",
      "✅ 已增強: PDF1041_Image3_6.png -> 3 張\n",
      "✅ 已增強: PDF1041_Image4_1.png -> 3 張\n",
      "✅ 已增強: PDF1041_Image4_2.png -> 3 張\n",
      "✅ 已增強: PDF1041_Image4_4.png -> 3 張\n",
      "✅ 已增強: PDF1041_Image5_1.png -> 3 張\n",
      "✅ 已增強: PDF1041_Image5_2.png -> 3 張\n",
      "✅ 已增強: PDF1040_Image3_6.png -> 3 張\n",
      "✅ 已增強: PDF1001_Image1_1.png -> 3 張\n",
      "✅ 已增強: PDF102_Image1_2.png -> 3 張\n",
      "✅ 已增強: PDF1006_Image1_2.png -> 3 張\n",
      "✅ 已增強: PDF1006_Image1_4.png -> 3 張\n",
      "✅ 已增強: PDF1006_Image2_1.png -> 3 張\n",
      "✅ 已增強: PDF1006_Image2_2.png -> 3 張\n",
      "✅ 已增強: PDF1006_Image2_3.png -> 3 張\n",
      "✅ 已增強: PDF1006_Image2_4.png -> 3 張\n",
      "✅ 已增強: PDF1006_Image2_5.png -> 3 張\n",
      "✅ 已增強: PDF1006_Image2_6.png -> 3 張\n",
      "✅ 已增強: PDF1007_Image2_1.png -> 3 張\n",
      "✅ 已增強: PDF104_Image1_1.png -> 3 張\n",
      "✅ 已增強: PDF104_Image1_2.png -> 3 張\n",
      "✅ 已增強: PDF104_Image1_3.png -> 3 張\n",
      "✅ 已增強: PDF104_Image1_4.png -> 3 張\n",
      "✅ 已增強: PDF102_Image1_5.png -> 3 張\n",
      "✅ 已增強: PDF1001_Image1_5.png -> 3 張\n",
      "✅ 已增強: PDF10027_Image2_1.png -> 3 張\n",
      "✅ 已增強: PDF10027_Image2_2.png -> 3 張\n",
      "✅ 已增強: PDF10030_Image1_1.png -> 3 張\n",
      "✅ 已增強: PDF10038_Image2_3.png -> 3 張\n",
      "✅ 已增強: PDF10041_Image1_2.png -> 3 張\n",
      "✅ 已增強: PDF10059_Image1_8.png -> 3 張\n",
      "✅ 已增強: PDF10062_Image2_3.png -> 3 張\n",
      "✅ 已增強: PDF10068_Image1_1.png -> 3 張\n",
      "✅ 已增強: PDF10068_Image1_4.png -> 3 張\n",
      "✅ 已增強: PDF10068_Image2_2.png -> 3 張\n",
      "✅ 已增強: PDF10068_Image2_5.png -> 3 張\n",
      "✅ 已增強: PDF10068_Image2_7.png -> 3 張\n",
      "✅ 已增強: PDF10068_Image3_1.png -> 3 張\n",
      "✅ 已增強: PDF10068_Image3_3.png -> 3 張\n",
      "✅ 已增強: PDF10068_Image4_1.png -> 3 張\n",
      "✅ 已增強: PDF10068_Image4_5.png -> 3 張\n",
      "✅ 已增強: PDF10068_Image5_2.png -> 3 張\n",
      "✅ 已增強: PDF10068_Image5_5.png -> 3 張\n",
      "✅ 已增強: PDF10068_Image5_6.png -> 3 張\n",
      "✅ 已增強: PDF1006_Image3_1.png -> 3 張\n",
      "✅ 已增強: PDF10073_Image1_3.png -> 3 張\n",
      "✅ 已增強: PDF10073_Image2_4.png -> 3 張\n",
      "✅ 已增強: PDF10073_Image3_3.png -> 3 張\n",
      "✅ 已增強: PDF10077_Image1_4.png -> 3 張\n",
      "✅ 已增強: PDF10083_Image2_11.png -> 3 張\n",
      "✅ 已增強: PDF10087_Image1_2.png -> 3 張\n",
      "✅ 已增強: PDF10089_Image1_1.png -> 3 張\n",
      "✅ 已增強: PDF10089_Image1_2.png -> 3 張\n",
      "✅ 已增強: PDF10089_Image1_3.png -> 3 張\n",
      "✅ 已增強: PDF10089_Image1_4.png -> 3 張\n",
      "✅ 已增強: PDF10089_Image1_5.png -> 3 張\n",
      "✅ 已增強: PDF10089_Image1_6.png -> 3 張\n",
      "✅ 已增強: PDF1008_Image1_1.png -> 3 張\n",
      "✅ 已增強: PDF1008_Image1_2.png -> 3 張\n",
      "✅ 已增強: PDF10097_Image2_4.png -> 3 張\n",
      "✅ 已增強: PDF10097_Image3_1.png -> 3 張\n",
      "✅ 已增強: PDF10097_Image4_1.png -> 3 張\n",
      "✅ 已增強: PDF10100_Image2_1.png -> 3 張\n",
      "✅ 已增強: PDF10105_Image1_7.png -> 3 張\n",
      "✅ 已增強: PDF105_Image3_1.png -> 3 張\n",
      "✅ 已增強: PDF1018_Image1_5.png -> 3 張\n",
      "✅ 已增強: PDF1026_Image3_4.png -> 3 張\n",
      "✅ 已增強: PDF1029_Image1_2.png -> 3 張\n",
      "✅ 已增強: PDF1045_Image1_2.png -> 3 張\n",
      "✅ 已增強: PDF10108_Image1_3.png -> 3 張\n",
      "✅ 已增強: PDF10112_Image2_1.png -> 3 張\n",
      "✅ 已增強: PDF10112_Image3_1.png -> 3 張\n",
      "✅ 已增強: PDF10112_Image3_2.png -> 3 張\n",
      "✅ 已增強: PDF10112_Image3_3.png -> 3 張\n",
      "✅ 已增強: PDF10113_Image1_10.png -> 3 張\n",
      "✅ 已增強: PDF10113_Image1_11.png -> 3 張\n",
      "✅ 已增強: PDF10113_Image1_12.png -> 3 張\n",
      "✅ 已增強: PDF10113_Image1_13.png -> 3 張\n",
      "✅ 已增強: PDF10113_Image1_14.png -> 3 張\n",
      "✅ 已增強: PDF10113_Image1_15.png -> 3 張\n",
      "✅ 已增強: PDF10113_Image1_5.png -> 3 張\n",
      "✅ 已增強: PDF10113_Image1_6.png -> 3 張\n",
      "✅ 已增強: PDF10113_Image1_7.png -> 3 張\n",
      "✅ 已增強: PDF10113_Image1_8.png -> 3 張\n",
      "✅ 已增強: PDF10113_Image1_9.png -> 3 張\n",
      "✅ 已增強: PDF10113_Image7_1.png -> 3 張\n",
      "✅ 已增強: PDF10113_Image7_2.png -> 3 張\n",
      "✅ 已增強: PDF10113_Image7_3.png -> 3 張\n",
      "✅ 已增強: PDF10113_Image9_1.png -> 3 張\n",
      "✅ 已增強: PDF10113_Image9_10.png -> 3 張\n",
      "✅ 已增強: PDF10113_Image9_11.png -> 3 張\n",
      "✅ 已增強: PDF10113_Image9_12.png -> 3 張\n",
      "✅ 已增強: PDF10113_Image9_13.png -> 3 張\n",
      "✅ 已增強: PDF10113_Image9_14.png -> 3 張\n",
      "✅ 已增強: PDF10113_Image9_15.png -> 3 張\n",
      "✅ 已增強: PDF10113_Image9_16.png -> 3 張\n",
      "✅ 已增強: PDF10113_Image9_2.png -> 3 張\n",
      "✅ 已增強: PDF10113_Image9_3.png -> 3 張\n",
      "✅ 已增強: PDF10113_Image9_4.png -> 3 張\n",
      "✅ 已增強: PDF10113_Image9_5.png -> 3 張\n",
      "✅ 已增強: PDF10113_Image9_6.png -> 3 張\n",
      "✅ 已增強: PDF10113_Image9_7.png -> 3 張\n",
      "✅ 已增強: PDF10113_Image9_8.png -> 3 張\n",
      "✅ 已增強: PDF10113_Image9_9.png -> 3 張\n",
      "✅ 已增強: PDF10124_Image3_3.png -> 3 張\n",
      "✅ 已增強: PDF10124_Image3_4.png -> 3 張\n",
      "✅ 已增強: PDF10124_Image3_5.png -> 3 張\n",
      "✅ 已增強: PDF10124_Image3_6.png -> 3 張\n",
      "✅ 已增強: PDF10124_Image3_7.png -> 3 張\n",
      "✅ 已增強: PDF1012_Image1_1.png -> 3 張\n",
      "✅ 已增強: PDF1012_Image1_2.png -> 3 張\n",
      "✅ 已增強: PDF10131_Image1_1.png -> 3 張\n",
      "✅ 已增強: PDF10131_Image1_2.png -> 3 張\n",
      "✅ 已增強: PDF10131_Image2_1.png -> 3 張\n",
      "✅ 已增強: PDF1032_Image5_1.png -> 3 張\n",
      "✅ 已增強: PDF10131_Image2_3.png -> 3 張\n",
      "✅ 已增強: PDF10131_Image3_1.png -> 3 張\n",
      "✅ 已增強: PDF1059_Image1_6.png -> 3 張\n",
      "✅ 已增強: PDF1059_Image1_7.png -> 3 張\n",
      "✅ 已增強: PDF10150_Image1_2.png -> 3 張\n",
      "✅ 已增強: PDF10150_Image1_3.png -> 3 張\n",
      "✅ 已增強: PDF10150_Image1_4.png -> 3 張\n",
      "✅ 已增強: PDF10150_Image2_2.png -> 3 張\n",
      "✅ 已增強: PDF10150_Image2_4.png -> 3 張\n",
      "✅ 已增強: PDF10150_Image2_6.png -> 3 張\n",
      "✅ 已增強: PDF10155_Image2_2.png -> 3 張\n",
      "✅ 已增強: PDF10158_Image2_1.png -> 3 張\n",
      "✅ 已增強: PDF10158_Image2_2.png -> 3 張\n",
      "✅ 已增強: PDF10158_Image2_3.png -> 3 張\n",
      "✅ 已增強: PDF10158_Image2_4.png -> 3 張\n",
      "✅ 已增強: PDF10158_Image2_5.png -> 3 張\n",
      "✅ 已增強: PDF10158_Image2_6.png -> 3 張\n",
      "✅ 已增強: PDF10158_Image2_7.png -> 3 張\n",
      "✅ 已增強: PDF10167_Image4_1.png -> 3 張\n",
      "✅ 已增強: PDF1038_Image4_1.png -> 3 張\n",
      "✅ 已增強: PDF10021_Image2_7.png -> 3 張\n",
      "✅ 已增強: PDF10059_Image1_12.png -> 3 張\n",
      "✅ 已增強: PDF1007_Image2_3.png -> 3 張\n",
      "✅ 已增強: PDF1020_Image1_1.png -> 3 張\n",
      "✅ 已增強: PDF1020_Image1_2.png -> 3 張\n",
      "✅ 已增強: PDF1020_Image1_3.png -> 3 張\n",
      "✅ 已增強: PDF1020_Image1_4.png -> 3 張\n",
      "✅ 已增強: PDF1020_Image1_5.png -> 3 張\n",
      "✅ 已增強: PDF1020_Image1_6.png -> 3 張\n",
      "✅ 已增強: PDF1020_Image1_8.png -> 3 張\n",
      "✅ 已增強: PDF10158_Image1_2.png -> 3 張\n",
      "✅ 已增強: PDF10158_Image1_3.png -> 3 張\n",
      "✅ 已增強: PDF10158_Image1_4.png -> 3 張\n",
      "✅ 已增強: PDF10158_Image1_5.png -> 3 張\n",
      "✅ 已增強: PDF1001_Image1_2.png -> 3 張\n",
      "✅ 已增強: PDF1001_Image1_3.png -> 3 張\n",
      "✅ 已增強: PDF1040_Image3_1.png -> 3 張\n",
      "✅ 已增強: PDF1040_Image3_3.png -> 3 張\n",
      "✅ 已增強: PDF1040_Image3_4.png -> 3 張\n",
      "✅ 已增強: PDF1040_Image3_5.png -> 3 張\n",
      "✅ 已增強: PDF1040_Image3_9.png -> 3 張\n",
      "✅ 已增強: PDF10463_Image5_1.png -> 3 張\n",
      "✅ 已增強: PDF10463_Image5_2.png -> 3 張\n",
      "✅ 已增強: PDF103_Image1_1.png -> 3 張\n",
      "✅ 已增強: PDF103_Image1_2.png -> 3 張\n",
      "✅ 已增強: PDF105_Image1_1.png -> 3 張\n",
      "✅ 已增強: PDF105_Image1_2.png -> 3 張\n",
      "✅ 已增強: PDF105_Image2_1.png -> 3 張\n",
      "✅ 已增強: PDF105_Image2_2.png -> 3 張\n",
      "✅ 已增強: PDF105_Image3_2.png -> 3 張\n",
      "✅ 已增強: PDF1026_Image3_2.png -> 3 張\n",
      "✅ 已增強: PDF1029_Image1_1.png -> 3 張\n",
      "✅ 已增強: PDF1029_Image1_3.png -> 3 張\n",
      "✅ 已增強: PDF1045_Image1_3.png -> 3 張\n",
      "✅ 已增強: PDF1045_Image1_1.png -> 3 張\n",
      "✅ 已增強: PDF1045_Image1_4.png -> 3 張\n",
      "✅ 已增強: PDF1045_Image2_1.png -> 3 張\n",
      "✅ 已增強: PDF1045_Image2_2.png -> 3 張\n",
      "✅ 已增強: PDF1059_Image1_4.png -> 3 張\n",
      "✅ 已增強: PDF1063_Image1_2.png -> 3 張\n",
      "✅ 已增強: PDF1063_Image1_3.png -> 3 張\n",
      "✅ 已增強: PDF1075_Image2_1.png -> 3 張\n",
      "✅ 已增強: PDF1075_Image2_2.png -> 3 張\n",
      "✅ 已增強: PDF1077_Image1_2.png -> 3 張\n",
      "✅ 已增強: PDF1077_Image1_4.png -> 3 張\n",
      "✅ 已增強: PDF1078_Image1_1.png -> 3 張\n",
      "✅ 已增強: PDF1078_Image1_3.png -> 3 張\n",
      "✅ 已增強: PDF1078_Image1_4.png -> 3 張\n",
      "✅ 已增強: PDF1084_Image1_1.png -> 3 張\n",
      "✅ 已增強: PDF1084_Image1_3.png -> 3 張\n",
      "✅ 已增強: PDF10178_Image1_3.png -> 3 張\n",
      "✅ 已增強: PDF10180_Image5_1.png -> 3 張\n",
      "✅ 已增強: PDF10180_Image5_2.png -> 3 張\n",
      "✅ 已增強: PDF10180_Image5_3.png -> 3 張\n",
      "✅ 已增強: PDF10180_Image5_4.png -> 3 張\n",
      "✅ 已增強: PDF10180_Image5_5.png -> 3 張\n",
      "✅ 已增強: PDF10180_Image5_6.png -> 3 張\n",
      "✅ 已增強: PDF10180_Image5_7.png -> 3 張\n",
      "✅ 已增強: PDF10180_Image5_8.png -> 3 張\n",
      "✅ 已增強: PDF10180_Image5_9.png -> 3 張\n",
      "✅ 已增強: PDF10180_Image5_10.png -> 3 張\n",
      "✅ 已增強: PDF10180_Image5_11.png -> 3 張\n",
      "✅ 已增強: PDF10180_Image5_12.png -> 3 張\n",
      "✅ 已增強: PDF10180_Image5_13.png -> 3 張\n",
      "✅ 已增強: PDF10180_Image5_14.png -> 3 張\n",
      "✅ 已增強: PDF10180_Image5_15.png -> 3 張\n",
      "✅ 已增強: PDF10180_Image5_16.png -> 3 張\n",
      "✅ 已增強: PDF10180_Image6_1.png -> 3 張\n",
      "✅ 已增強: PDF10180_Image6_2.png -> 3 張\n",
      "✅ 已增強: PDF10180_Image6_3.png -> 3 張\n",
      "✅ 已增強: PDF10180_Image6_4.png -> 3 張\n",
      "✅ 已增強: PDF10180_Image6_5.png -> 3 張\n",
      "✅ 已增強: PDF10180_Image6_6.png -> 3 張\n",
      "✅ 已增強: PDF10180_Image6_7.png -> 3 張\n",
      "✅ 已增強: PDF10180_Image6_8.png -> 3 張\n",
      "✅ 已增強: PDF10197_Image2_3.png -> 3 張\n",
      "✅ 已增強: PDF10300_Image1_1.png -> 3 張\n",
      "✅ 已增強: PDF10177_Image1_6.png -> 3 張\n",
      "✅ 已增強: PDF10184_Image5_1.png -> 3 張\n",
      "✅ 已增強: PDF10192_Image3_1.png -> 3 張\n",
      "✅ 已增強: PDF10192_Image3_3.png -> 3 張\n",
      "✅ 已增強: PDF10192_Image3_6.png -> 3 張\n",
      "✅ 已增強: PDF1019_Image1_1.png -> 3 張\n",
      "✅ 已增強: PDF1019_Image3_2.png -> 3 張\n",
      "✅ 已增強: PDF10201_Image1_1.png -> 3 張\n",
      "✅ 已增強: PDF10201_Image1_2.png -> 3 張\n",
      "✅ 已增強: PDF10201_Image1_4.png -> 3 張\n",
      "✅ 已增強: PDF10201_Image1_5.png -> 3 張\n",
      "✅ 已增強: PDF10203_Image1_1.png -> 3 張\n",
      "✅ 已增強: PDF10203_Image1_2.png -> 3 張\n",
      "✅ 已增強: PDF10203_Image1_3.png -> 3 張\n",
      "✅ 已增強: PDF10203_Image1_4.png -> 3 張\n",
      "✅ 已增強: PDF10203_Image1_5.png -> 3 張\n",
      "✅ 已增強: PDF10203_Image1_6.png -> 3 張\n",
      "✅ 已增強: PDF10203_Image2_3.png -> 3 張\n",
      "✅ 已增強: PDF10203_Image2_4.png -> 3 張\n",
      "✅ 已增強: PDF10203_Image2_5.png -> 3 張\n",
      "✅ 已增強: PDF10203_Image2_6.png -> 3 張\n",
      "✅ 已增強: PDF10203_Image2_7.png -> 3 張\n",
      "✅ 已增強: PDF10203_Image2_8.png -> 3 張\n",
      "✅ 已增強: PDF10205_Image1_2.png -> 3 張\n",
      "✅ 已增強: PDF10205_Image1_4.png -> 3 張\n",
      "✅ 已增強: PDF10207_Image2_1.png -> 3 張\n",
      "✅ 已增強: PDF10210_Image2_3.png -> 3 張\n",
      "✅ 已增強: PDF10210_Image3_1.png -> 3 張\n",
      "✅ 已增強: PDF10210_Image3_2.png -> 3 張\n",
      "✅ 已增強: PDF10212_Image2_2.png -> 3 張\n",
      "✅ 已增強: PDF10215_Image1_4.png -> 3 張\n",
      "✅ 已增強: PDF10215_Image4_3.png -> 3 張\n",
      "✅ 已增強: PDF1021_Image1_2.png -> 3 張\n",
      "✅ 已增強: PDF1021_Image1_3.png -> 3 張\n",
      "✅ 已增強: PDF1021_Image1_4.png -> 3 張\n",
      "✅ 已增強: PDF10240_Image1_9.png -> 3 張\n",
      "✅ 已增強: PDF10258_Image3_1.png -> 3 張\n",
      "✅ 已增強: PDF10259_Image2_1.png -> 3 張\n",
      "✅ 已增強: PDF1026_Image3_5.png -> 3 張\n",
      "✅ 已增強: PDF10271_Image2_1.png -> 3 張\n",
      "✅ 已增強: PDF10271_Image2_2.png -> 3 張\n",
      "✅ 已增強: PDF10271_Image2_3.png -> 3 張\n",
      "✅ 已增強: PDF10271_Image2_4.png -> 3 張\n",
      "✅ 已增強: PDF10271_Image2_5.png -> 3 張\n",
      "✅ 已增強: PDF10271_Image2_6.png -> 3 張\n",
      "✅ 已增強: PDF10274_Image2_1.png -> 3 張\n",
      "✅ 已增強: PDF1062_Image1_1.png -> 3 張\n",
      "✅ 已增強: PDF1062_Image1_2.png -> 3 張\n",
      "✅ 已增強: PDF1065_Image2_2.png -> 3 張\n",
      "✅ 已增強: PDF10296_Image1_1.png -> 3 張\n",
      "✅ 已增強: PDF10296_Image1_3.png -> 3 張\n",
      "✅ 已增強: PDF10314_Image3_1.png -> 3 張\n",
      "✅ 已增強: PDF10314_Image3_4.png -> 3 張\n",
      "✅ 已增強: PDF10314_Image3_6.png -> 3 張\n",
      "✅ 已增強: PDF10314_Image3_7.png -> 3 張\n",
      "✅ 已增強: PDF10315_Image2_1.png -> 3 張\n",
      "✅ 已增強: PDF10322_Image1_1.png -> 3 張\n",
      "✅ 已增強: PDF10322_Image1_2.png -> 3 張\n",
      "✅ 已增強: PDF10322_Image1_3.png -> 3 張\n",
      "✅ 已增強: PDF10322_Image1_4.png -> 3 張\n",
      "✅ 已增強: PDF1032_Image3_10.png -> 3 張\n",
      "✅ 已增強: PDF1032_Image3_7.png -> 3 張\n",
      "✅ 已增強: PDF1032_Image3_9.png -> 3 張\n",
      "✅ 已增強: PDF10332_Image2_1.png -> 3 張\n",
      "✅ 已增強: PDF10332_Image2_2.png -> 3 張\n",
      "✅ 已增強: PDF10332_Image2_3.png -> 3 張\n",
      "✅ 已增強: PDF10332_Image4_1.png -> 3 張\n",
      "✅ 已增強: PDF10332_Image4_2.png -> 3 張\n",
      "✅ 已增強: PDF10332_Image4_3.png -> 3 張\n",
      "✅ 已增強: PDF10332_Image4_4.png -> 3 張\n",
      "✅ 已增強: PDF10332_Image4_5.png -> 3 張\n",
      "✅ 已增強: PDF10332_Image5_2.png -> 3 張\n",
      "✅ 已增強: PDF10332_Image5_3.png -> 3 張\n",
      "✅ 已增強: PDF10332_Image5_4.png -> 3 張\n",
      "✅ 已增強: PDF10339_Image3_2.png -> 3 張\n",
      "✅ 已增強: PDF1033_Image1_4.png -> 3 張\n",
      "✅ 已增強: PDF10343_Image2_3.png -> 3 張\n",
      "✅ 已增強: PDF10343_Image2_4.png -> 3 張\n",
      "✅ 已增強: PDF10353_Image1_3.png -> 3 張\n",
      "✅ 已增強: PDF10353_Image2_1.png -> 3 張\n",
      "✅ 已增強: PDF10353_Image2_2.png -> 3 張\n",
      "✅ 已增強: PDF10353_Image3_1.png -> 3 張\n",
      "✅ 已增強: PDF10362_Image2_1.png -> 3 張\n",
      "✅ 已增強: PDF10362_Image2_2.png -> 3 張\n",
      "✅ 已增強: PDF10362_Image2_3.png -> 3 張\n",
      "✅ 已增強: PDF10368_Image1_7.png -> 3 張\n",
      "✅ 已增強: PDF1037_Image2_2.png -> 3 張\n",
      "✅ 已增強: PDF1037_Image2_3.png -> 3 張\n",
      "✅ 已增強: PDF1039_Image1_1.png -> 3 張\n",
      "✅ 已增強: PDF10403_Image3_2.png -> 3 張\n",
      "✅ 已增強: PDF10403_Image4_1.png -> 3 張\n",
      "✅ 已增強: PDF10403_Image4_2.png -> 3 張\n",
      "✅ 已增強: PDF10403_Image5_1.png -> 3 張\n",
      "✅ 已增強: PDF10408_Image1_2.png -> 3 張\n",
      "✅ 已增強: PDF1040_Image3_2.png -> 3 張\n",
      "✅ 已增強: PDF1040_Image3_7.png -> 3 張\n",
      "✅ 已增強: PDF1040_Image3_8.png -> 3 張\n",
      "✅ 已增強: PDF10423_Image1_4.png -> 3 張\n",
      "✅ 已增強: PDF10426_Image3_1.png -> 3 張\n",
      "✅ 已增強: PDF10426_Image3_2.png -> 3 張\n",
      "✅ 已增強: PDF10426_Image3_3.png -> 3 張\n",
      "✅ 已增強: PDF10426_Image3_4.png -> 3 張\n",
      "✅ 已增強: PDF10426_Image3_5.png -> 3 張\n",
      "✅ 已增強: PDF10426_Image3_6.png -> 3 張\n",
      "✅ 已增強: PDF10426_Image3_7.png -> 3 張\n",
      "✅ 已增強: PDF10435_Image1_6.png -> 3 張\n",
      "✅ 已增強: PDF10435_Image1_7.png -> 3 張\n",
      "✅ 已增強: PDF10436_Image1_1.png -> 3 張\n",
      "✅ 已增強: PDF10436_Image1_2.png -> 3 張\n",
      "✅ 已增強: PDF1043_Image1_1.png -> 3 張\n",
      "✅ 已增強: PDF1043_Image1_2.png -> 3 張\n",
      "✅ 已增強: PDF1043_Image1_3.png -> 3 張\n",
      "✅ 已增強: PDF1043_Image1_4.png -> 3 張\n",
      "✅ 已增強: PDF1043_Image1_5.png -> 3 張\n",
      "✅ 已增強: PDF1043_Image1_6.png -> 3 張\n",
      "✅ 已增強: PDF10446_Image4_4.png -> 3 張\n",
      "✅ 已增強: PDF10446_Image4_5.png -> 3 張\n",
      "✅ 已增強: PDF10446_Image5_3.png -> 3 張\n",
      "✅ 已增強: PDF10446_Image6_1.png -> 3 張\n",
      "✅ 已增強: PDF10446_Image6_2.png -> 3 張\n",
      "✅ 已增強: PDF10446_Image7_1.png -> 3 張\n",
      "✅ 已增強: PDF10446_Image7_2.png -> 3 張\n",
      "✅ 已增強: PDF10446_Image8_1.png -> 3 張\n",
      "✅ 已增強: PDF10446_Image8_2.png -> 3 張\n",
      "✅ 已增強: PDF10446_Image9_5.png -> 3 張\n",
      "✅ 已增強: PDF10446_Image9_6.png -> 3 張\n",
      "✅ 已增強: PDF10447_Image4_1.png -> 3 張\n",
      "✅ 已增強: PDF10453_Image1_3.png -> 3 張\n",
      "✅ 已增強: PDF10453_Image2_1.png -> 3 張\n",
      "✅ 已增強: PDF10454_Image2_1.png -> 3 張\n",
      "✅ 已增強: PDF10454_Image2_3.png -> 3 張\n",
      "✅ 已增強: PDF10454_Image5_2.png -> 3 張\n",
      "✅ 已增強: PDF10454_Image5_4.png -> 3 張\n",
      "✅ 已增強: PDF10457_Image1_3.png -> 3 張\n",
      "✅ 已增強: PDF10457_Image1_4.png -> 3 張\n",
      "✅ 已增強: PDF10459_Image1_1.png -> 3 張\n",
      "✅ 已增強: PDF10459_Image1_2.png -> 3 張\n",
      "✅ 已增強: PDF10459_Image1_3.png -> 3 張\n",
      "✅ 已增強: PDF10463_Image1_2.png -> 3 張\n",
      "✅ 已增強: PDF10463_Image2_1.png -> 3 張\n",
      "✅ 已增強: PDF10463_Image2_2.png -> 3 張\n",
      "✅ 已增強: PDF10463_Image3_1.png -> 3 張\n",
      "✅ 已增強: PDF10463_Image3_2.png -> 3 張\n",
      "✅ 已增強: PDF10463_Image3_3.png -> 3 張\n",
      "✅ 已增強: PDF10463_Image3_4.png -> 3 張\n",
      "✅ 已增強: PDF10463_Image4_2.png -> 3 張\n",
      "✅ 已增強: PDF10463_Image6_2.png -> 3 張\n",
      "✅ 已增強: PDF10464_Image1_1.png -> 3 張\n",
      "✅ 已增強: PDF10464_Image1_2.png -> 3 張\n",
      "✅ 已增強: PDF10464_Image1_3.png -> 3 張\n",
      "✅ 已增強: PDF10464_Image1_4.png -> 3 張\n",
      "✅ 已增強: PDF10464_Image1_5.png -> 3 張\n",
      "✅ 已增強: PDF10464_Image1_6.png -> 3 張\n",
      "✅ 已增強: PDF10464_Image1_7.png -> 3 張\n",
      "✅ 已增強: PDF10464_Image1_8.png -> 3 張\n",
      "✅ 已增強: PDF10464_Image1_9.png -> 3 張\n",
      "✅ 已增強: PDF10469_Image1_2.png -> 3 張\n",
      "✅ 已增強: PDF10469_Image1_3.png -> 3 張\n",
      "✅ 已增強: PDF10469_Image1_4.png -> 3 張\n",
      "✅ 已增強: PDF10469_Image1_5.png -> 3 張\n",
      "✅ 已增強: PDF10469_Image1_6.png -> 3 張\n",
      "✅ 已增強: PDF10487_Image1_7.png -> 3 張\n",
      "✅ 已增強: PDF10487_Image1_8.png -> 3 張\n",
      "✅ 已增強: PDF10488_Image2_1.png -> 3 張\n",
      "✅ 已增強: PDF10488_Image2_2.png -> 3 張\n",
      "✅ 已增強: PDF10491_Image1_1.png -> 3 張\n",
      "✅ 已增強: PDF10491_Image1_2.png -> 3 張\n",
      "✅ 已增強: PDF10491_Image2_1.png -> 3 張\n",
      "✅ 已增強: PDF10491_Image2_2.png -> 3 張\n",
      "✅ 已增強: PDF10491_Image2_5.png -> 3 張\n",
      "✅ 已增強: PDF10495_Image1_5.png -> 3 張\n",
      "✅ 已增強: PDF10498_Image2_5.png -> 3 張\n",
      "✅ 已增強: PDF10498_Image3_3.png -> 3 張\n",
      "✅ 已增強: PDF10501_Image3_1.png -> 3 張\n",
      "✅ 已增強: PDF10501_Image3_2.png -> 3 張\n",
      "✅ 已增強: PDF10501_Image4_1.png -> 3 張\n",
      "✅ 已增強: PDF10501_Image4_2.png -> 3 張\n",
      "✅ 已增強: PDF10501_Image4_6.png -> 3 張\n",
      "✅ 已增強: PDF10501_Image5_1.png -> 3 張\n",
      "✅ 已增強: PDF10501_Image5_2.png -> 3 張\n",
      "✅ 已增強: PDF10501_Image5_3.png -> 3 張\n",
      "✅ 已增強: PDF10501_Image6_1.png -> 3 張\n",
      "✅ 已增強: PDF10502_Image1_1.png -> 3 張\n",
      "✅ 已增強: PDF10502_Image1_2.png -> 3 張\n",
      "✅ 已增強: PDF10502_Image1_3.png -> 3 張\n",
      "✅ 已增強: PDF10502_Image1_5.png -> 3 張\n",
      "✅ 已增強: PDF10503_Image2_1.png -> 3 張\n",
      "✅ 已增強: PDF10503_Image2_2.png -> 3 張\n",
      "✅ 已增強: PDF10503_Image2_3.png -> 3 張\n",
      "✅ 已增強: PDF10503_Image2_4.png -> 3 張\n",
      "✅ 已增強: PDF10503_Image2_5.png -> 3 張\n",
      "✅ 已增強: PDF10510_Image1_1.png -> 3 張\n",
      "✅ 已增強: PDF10516_Image6_1.png -> 3 張\n",
      "✅ 已增強: PDF10519_Image2_1.png -> 3 張\n",
      "✅ 已增強: PDF10519_Image2_2.png -> 3 張\n",
      "✅ 已增強: PDF10519_Image2_3.png -> 3 張\n",
      "✅ 已增強: PDF10519_Image2_4.png -> 3 張\n",
      "✅ 已增強: PDF10519_Image2_5.png -> 3 張\n",
      "✅ 已增強: PDF10519_Image2_6.png -> 3 張\n",
      "✅ 已增強: PDF1051_Image1_3.png -> 3 張\n",
      "✅ 已增強: PDF10521_Image3_1.png -> 3 張\n",
      "✅ 已增強: PDF10521_Image3_2.png -> 3 張\n",
      "✅ 已增強: PDF10521_Image3_3.png -> 3 張\n",
      "✅ 已增強: PDF10534_Image1_4.png -> 3 張\n",
      "✅ 已增強: PDF10546_Image1_1.png -> 3 張\n",
      "✅ 已增強: PDF10546_Image1_2.png -> 3 張\n",
      "✅ 已增強: PDF10547_Image1_1.png -> 3 張\n",
      "✅ 已增強: PDF10548_Image2_1.png -> 3 張\n",
      "✅ 已增強: PDF10548_Image2_2.png -> 3 張\n",
      "✅ 已增強: PDF10548_Image2_3.png -> 3 張\n",
      "✅ 已增強: PDF10552_Image1_1.png -> 3 張\n",
      "✅ 已增強: PDF10552_Image1_2.png -> 3 張\n",
      "✅ 已增強: PDF10552_Image1_3.png -> 3 張\n",
      "✅ 已增強: PDF10557_Image1_1.png -> 3 張\n",
      "✅ 已增強: PDF10557_Image1_2.png -> 3 張\n",
      "✅ 已增強: PDF10567_Image4_2.png -> 3 張\n",
      "✅ 已增強: PDF10567_Image4_3.png -> 3 張\n",
      "✅ 已增強: PDF10567_Image4_4.png -> 3 張\n",
      "✅ 已增強: PDF10567_Image4_5.png -> 3 張\n",
      "✅ 已增強: PDF10569_Image2_2.png -> 3 張\n",
      "✅ 已增強: PDF1056_Image2_1.png -> 3 張\n",
      "✅ 已增強: PDF1056_Image2_2.png -> 3 張\n",
      "✅ 已增強: PDF10576_Image7_2.png -> 3 張\n",
      "✅ 已增強: PDF10576_Image7_3.png -> 3 張\n",
      "✅ 已增強: PDF10576_Image7_4.png -> 3 張\n",
      "✅ 已增強: PDF10576_Image7_5.png -> 3 張\n",
      "✅ 已增強: PDF10587_Image2_2.png -> 3 張\n",
      "✅ 已增強: PDF10587_Image3_1.png -> 3 張\n",
      "✅ 已增強: PDF10606_Image1_2.png -> 3 張\n",
      "✅ 已增強: PDF10606_Image1_3.png -> 3 張\n",
      "✅ 已增強: PDF10606_Image1_4.png -> 3 張\n",
      "✅ 已增強: PDF10606_Image2_1.png -> 3 張\n",
      "✅ 已增強: PDF10606_Image2_2.png -> 3 張\n",
      "✅ 已增強: PDF10606_Image2_3.png -> 3 張\n",
      "✅ 已增強: PDF10606_Image3_1.png -> 3 張\n",
      "✅ 已增強: PDF10606_Image3_2.png -> 3 張\n",
      "✅ 已增強: PDF10606_Image3_3.png -> 3 張\n",
      "✅ 已增強: PDF10606_Image4_1.png -> 3 張\n",
      "✅ 已增強: PDF10624_Image3_2.png -> 3 張\n",
      "✅ 已增強: PDF10624_Image3_3.png -> 3 張\n",
      "✅ 已增強: PDF10630_Image1_1.png -> 3 張\n",
      "✅ 已增強: PDF10635_Image1_2.png -> 3 張\n",
      "✅ 已增強: PDF10635_Image1_3.png -> 3 張\n",
      "✅ 已增強: PDF10635_Image1_4.png -> 3 張\n",
      "✅ 已增強: PDF10636_Image1_1.png -> 3 張\n",
      "✅ 已增強: PDF10647_Image3_1.png -> 3 張\n",
      "✅ 已增強: PDF10647_Image3_2.png -> 3 張\n",
      "✅ 已增強: PDF10647_Image3_3.png -> 3 張\n",
      "✅ 已增強: PDF10647_Image3_4.png -> 3 張\n",
      "✅ 已增強: PDF1086_Image1_7.png -> 3 張\n",
      "✅ 已增強: PDF1087_Image1_3.png -> 3 張\n",
      "✅ 已增強: PDF10670_Image2_1.png -> 3 張\n",
      "✅ 已增強: PDF10670_Image2_2.png -> 3 張\n",
      "✅ 已增強: PDF10670_Image2_3.png -> 3 張\n",
      "✅ 已增強: PDF10670_Image3_1.png -> 3 張\n",
      "✅ 已增強: PDF10670_Image4_1.png -> 3 張\n",
      "✅ 已增強: PDF10692_Image1_1.png -> 3 張\n",
      "✅ 已增強: PDF10702_Image2_1.png -> 3 張\n",
      "✅ 已增強: PDF10702_Image2_2.png -> 3 張\n",
      "✅ 已增強: PDF10702_Image2_3.png -> 3 張\n",
      "✅ 已增強: PDF10702_Image2_4.png -> 3 張\n",
      "✅ 已增強: PDF10702_Image2_5.png -> 3 張\n",
      "✅ 已增強: PDF10702_Image2_6.png -> 3 張\n",
      "✅ 已增強: PDF10702_Image3_1.png -> 3 張\n",
      "✅ 已增強: PDF10702_Image3_2.png -> 3 張\n",
      "✅ 已增強: PDF10702_Image3_3.png -> 3 張\n",
      "✅ 已增強: PDF10702_Image3_4.png -> 3 張\n",
      "✅ 已增強: PDF10702_Image4_1.png -> 3 張\n",
      "✅ 已增強: PDF10702_Image4_2.png -> 3 張\n",
      "✅ 已增強: PDF10702_Image5_1.png -> 3 張\n",
      "✅ 已增強: PDF10702_Image5_2.png -> 3 張\n",
      "✅ 已增強: PDF10702_Image5_3.png -> 3 張\n",
      "✅ 已增強: PDF10702_Image5_4.png -> 3 張\n",
      "✅ 已增強: PDF10702_Image5_5.png -> 3 張\n",
      "✅ 已增強: PDF10702_Image5_6.png -> 3 張\n",
      "✅ 已增強: PDF10702_Image5_7.png -> 3 張\n",
      "✅ 已增強: PDF10702_Image5_8.png -> 3 張\n",
      "✅ 已增強: PDF10702_Image5_9.png -> 3 張\n",
      "✅ 已增強: PDF10702_Image5_10.png -> 3 張\n",
      "✅ 已增強: PDF10702_Image5_11.png -> 3 張\n",
      "✅ 已增強: PDF10709_Image1_2.png -> 3 張\n",
      "✅ 已增強: PDF10709_Image2_2.png -> 3 張\n",
      "✅ 已增強: PDF10732_Image1_3.png -> 3 張\n",
      "✅ 已增強: PDF10742_Image1_2.png -> 3 張\n",
      "✅ 已增強: PDF10742_Image1_1.png -> 3 張\n",
      "✅ 已增強: PDF10742_Image1_3.png -> 3 張\n",
      "✅ 已增強: PDF10774_Image1_1.png -> 3 張\n",
      "✅ 已增強: PDF10774_Image1_2.png -> 3 張\n",
      "✅ 已增強: PDF10774_Image1_3.png -> 3 張\n",
      "✅ 已增強: PDF10774_Image1_4.png -> 3 張\n",
      "✅ 已增強: PDF10779_Image3_6.png -> 3 張\n",
      "✅ 已增強: PDF10796_Image1_5.png -> 3 張\n",
      "✅ 已增強: PDF10803_Image8_1.png -> 3 張\n",
      "✅ 已增強: PDF10006_Image2_3.png -> 3 張\n",
      "✅ 已增強: PDF10006_Image2_4.png -> 3 張\n",
      "✅ 已增強: PDF10006_Image4_4.png -> 3 張\n",
      "✅ 已增強: PDF10006_Image4_6.png -> 3 張\n",
      "✅ 已增強: PDF10006_Image4_7.png -> 3 張\n",
      "✅ 已增強: PDF10012_Image3_4.png -> 3 張\n",
      "✅ 已增強: PDF1001_Image1_6.png -> 3 張\n",
      "✅ 已增強: PDF1016_Image9_1.png -> 3 張\n",
      "✅ 已增強: PDF1016_Image9_2.png -> 3 張\n",
      "✅ 已增強: PDF1016_Image9_3.png -> 3 張\n",
      "✅ 已增強: PDF1016_Image9_4.png -> 3 張\n",
      "✅ 已增強: PDF1018_Image1_1.png -> 3 張\n",
      "✅ 已增強: PDF1020_Image1_9.png -> 3 張\n",
      "✅ 已增強: PDF1020_Image1_10.png -> 3 張\n",
      "✅ 已增強: PDF1020_Image1_7.png -> 3 張\n",
      "✅ 已增強: PDF1029_Image1_4.png -> 3 張\n",
      "✅ 已增強: PDF1029_Image1_5.png -> 3 張\n",
      "✅ 已增強: PDF1032_Image3_4.png -> 3 張\n",
      "✅ 已增強: PDF1032_Image3_5.png -> 3 張\n",
      "✅ 已增強: PDF1032_Image3_6.png -> 3 張\n",
      "✅ 已增強: PDF1033_Image1_1.png -> 3 張\n",
      "✅ 已增強: PDF1033_Image1_2.png -> 3 張\n",
      "✅ 已增強: PDF1033_Image1_3.png -> 3 張\n",
      "✅ 已增強: PDF1033_Image1_6.png -> 3 張\n",
      "✅ 已增強: PDF1033_Image1_5.png -> 3 張\n",
      "✅ 已增強: PDF1044_Image3_2.png -> 3 張\n",
      "✅ 已增強: PDF1044_Image3_3.png -> 3 張\n",
      "✅ 已增強: PDF1051_Image1_6.png -> 3 張\n",
      "✅ 已增強: PDF1057_Image2_2.png -> 3 張\n",
      "✅ 已增強: PDF1057_Image2_3.png -> 3 張\n",
      "✅ 已增強: PDF1057_Image2_4.png -> 3 張\n",
      "✅ 已增強: PDF1057_Image2_5.png -> 3 張\n",
      "✅ 已增強: PDF1057_Image2_6.png -> 3 張\n",
      "✅ 已增強: PDF1057_Image2_9.png -> 3 張\n",
      "✅ 已增強: PDF1057_Image2_11.png -> 3 張\n",
      "✅ 已增強: PDF1057_Image2_12.png -> 3 張\n",
      "✅ 已增強: PDF1057_Image4_1.png -> 3 張\n",
      "✅ 已增強: PDF1057_Image4_2.png -> 3 張\n",
      "✅ 已增強: PDF1057_Image4_3.png -> 3 張\n",
      "✅ 已增強: PDF1057_Image4_4.png -> 3 張\n",
      "✅ 已增強: PDF1059_Image1_5.png -> 3 張\n",
      "✅ 已增強: PDF1059_Image1_8.png -> 3 張\n",
      "✅ 已增強: PDF1064_Image1_8.png -> 3 張\n",
      "✅ 已增強: PDF1064_Image1_10.png -> 3 張\n",
      "✅ 已增強: PDF1064_Image2_7.png -> 3 張\n",
      "✅ 已增強: PDF1064_Image2_8.png -> 3 張\n",
      "✅ 已增強: PDF1065_Image2_4.png -> 3 張\n",
      "✅ 已增強: PDF1065_Image2_6.png -> 3 張\n",
      "✅ 已增強: PDF1077_Image1_3.png -> 3 張\n",
      "✅ 已增強: PDF1077_Image2_2.png -> 3 張\n",
      "✅ 已增強: PDF1086_Image1_6.png -> 3 張\n",
      "✅ 已增強: PDF10024_Image2_4.png -> 3 張\n",
      "✅ 已增強: PDF10031_Image1_3.png -> 3 張\n",
      "✅ 已增強: PDF10031_Image1_4.png -> 3 張\n",
      "✅ 已增強: PDF10031_Image1_5.png -> 3 張\n",
      "✅ 已增強: PDF10038_Image1_4.png -> 3 張\n",
      "✅ 已增強: PDF10039_Image1_3.png -> 3 張\n",
      "✅ 已增強: PDF10053_Image2_3.png -> 3 張\n",
      "✅ 已增強: PDF10053_Image2_4.png -> 3 張\n",
      "✅ 已增強: PDF10057_Image1_4.png -> 3 張\n",
      "✅ 已增強: PDF10062_Image2_1.png -> 3 張\n",
      "✅ 已增強: PDF10062_Image2_4.png -> 3 張\n",
      "✅ 已增強: PDF10071_Image1_5.png -> 3 張\n",
      "✅ 已增強: PDF10078_Image3_2.png -> 3 張\n",
      "✅ 已增強: PDF10077_Image1_12.png -> 3 張\n",
      "✅ 已增強: PDF10083_Image1_2.png -> 3 張\n",
      "✅ 已增強: PDF10083_Image1_5.png -> 3 張\n",
      "✅ 已增強: PDF10083_Image1_9.png -> 3 張\n",
      "✅ 已增強: PDF10083_Image2_2.png -> 3 張\n",
      "✅ 已增強: PDF10083_Image2_5.png -> 3 張\n",
      "✅ 已增強: PDF10083_Image2_4.png -> 3 張\n",
      "✅ 已增強: PDF10083_Image2_8.png -> 3 張\n",
      "✅ 已增強: PDF10083_Image2_10.png -> 3 張\n",
      "✅ 已增強: PDF10084_Image2_5.png -> 3 張\n",
      "✅ 已增強: PDF10084_Image2_6.png -> 3 張\n",
      "✅ 已增強: PDF10088_Image2_2.png -> 3 張\n",
      "✅ 已增強: PDF10090_Image2_7.png -> 3 張\n",
      "✅ 已增強: PDF10090_Image2_8.png -> 3 張\n",
      "✅ 已增強: PDF10092_Image1_1.png -> 3 張\n",
      "✅ 已增強: PDF10095_Image2_3.png -> 3 張\n",
      "✅ 已增強: PDF10095_Image3_3.png -> 3 張\n",
      "✅ 已增強: PDF10096_Image1_2.png -> 3 張\n",
      "✅ 已增強: PDF10095_Image3_4.png -> 3 張\n",
      "✅ 已增強: PDF10097_Image2_6.png -> 3 張\n",
      "✅ 已增強: PDF10097_Image3_5.png -> 3 張\n",
      "✅ 已增強: PDF10097_Image3_6.png -> 3 張\n",
      "✅ 已增強: PDF10097_Image3_7.png -> 3 張\n",
      "✅ 已增強: PDF10097_Image4_4.png -> 3 張\n",
      "✅ 已增強: PDF10098_Image2_9.png -> 3 張\n",
      "✅ 已增強: PDF10098_Image2_10.png -> 3 張\n",
      "✅ 已增強: PDF10098_Image2_11.png -> 3 張\n",
      "✅ 已增強: PDF10098_Image2_12.png -> 3 張\n",
      "✅ 已增強: PDF10098_Image3_9.png -> 3 張\n",
      "✅ 已增強: PDF10098_Image3_10.png -> 3 張\n",
      "✅ 已增強: PDF10098_Image3_11.png -> 3 張\n",
      "✅ 已增強: PDF10098_Image3_12.png -> 3 張\n",
      "✅ 已增強: PDF10101_Image1_5.png -> 3 張\n",
      "✅ 已增強: PDF10101_Image1_6.png -> 3 張\n",
      "✅ 已增強: PDF10101_Image1_7.png -> 3 張\n",
      "✅ 已增強: PDF10101_Image1_8.png -> 3 張\n",
      "✅ 已增強: PDF10101_Image1_10.png -> 3 張\n",
      "✅ 已增強: PDF10107_Image2_1.png -> 3 張\n",
      "✅ 已增強: PDF10108_Image1_4.png -> 3 張\n",
      "✅ 已增強: PDF10113_Image3_4.png -> 3 張\n",
      "✅ 已增強: PDF10113_Image3_7.png -> 3 張\n",
      "✅ 已增強: PDF10113_Image3_6.png -> 3 張\n",
      "✅ 已增強: PDF10113_Image3_2.png -> 3 張\n",
      "✅ 已增強: PDF10113_Image4_9.png -> 3 張\n",
      "✅ 已增強: PDF10113_Image4_11.png -> 3 張\n",
      "✅ 已增強: PDF10113_Image4_12.png -> 3 張\n",
      "✅ 已增強: PDF10113_Image4_19.png -> 3 張\n",
      "✅ 已增強: PDF10113_Image4_21.png -> 3 張\n",
      "✅ 已增強: PDF10113_Image5_4.png -> 3 張\n",
      "✅ 已增強: PDF10113_Image5_5.png -> 3 張\n",
      "✅ 已增強: PDF10113_Image5_8.png -> 3 張\n",
      "✅ 已增強: PDF10113_Image5_11.png -> 3 張\n",
      "✅ 已增強: PDF10113_Image5_16.png -> 3 張\n",
      "✅ 已增強: PDF10098_Image1_10.png -> 3 張\n",
      "✅ 已增強: PDF10098_Image1_11.png -> 3 張\n",
      "✅ 已增強: PDF10098_Image1_12.png -> 3 張\n",
      "✅ 已增強: PDF10098_Image1_9.png -> 3 張\n",
      "✅ 已增強: PDF10111_Image1_4.png -> 3 張\n",
      "✅ 已增強: PDF10111_Image1_1.png -> 3 張\n",
      "✅ 已增強: PDF10111_Image1_2.png -> 3 張\n",
      "✅ 已增強: PDF10161_Image1_2.png -> 3 張\n",
      "✅ 已增強: PDF10161_Image2_1.png -> 3 張\n",
      "✅ 已增強: PDF10161_Image2_2.png -> 3 張\n",
      "✅ 已增強: PDF10161_Image2_3.png -> 3 張\n",
      "✅ 已增強: PDF10161_Image2_4.png -> 3 張\n",
      "✅ 已增強: PDF10161_Image2_5.png -> 3 張\n",
      "✅ 已增強: PDF10161_Image3_1.png -> 3 張\n",
      "✅ 已增強: PDF10161_Image3_2.png -> 3 張\n",
      "✅ 已增強: PDF10161_Image3_3.png -> 3 張\n",
      "✅ 已增強: PDF10161_Image3_4.png -> 3 張\n",
      "✅ 已增強: PDF10113_Image13_20.png -> 3 張\n",
      "✅ 已增強: PDF10113_Image13_21.png -> 3 張\n",
      "✅ 已增強: PDF10113_Image13_23.png -> 3 張\n",
      "✅ 已增強: PDF10113_Image4_1.png -> 3 張\n",
      "✅ 已增強: PDF10113_Image4_17.png -> 3 張\n",
      "✅ 已增強: PDF10113_Image4_2.png -> 3 張\n",
      "✅ 已增強: PDF10113_Image4_22.png -> 3 張\n",
      "✅ 已增強: PDF10113_Image5_22.png -> 3 張\n",
      "✅ 已增強: PDF10113_Image5_23.png -> 3 張\n",
      "✅ 已增強: PDF10113_Image5_24.png -> 3 張\n",
      "✅ 已增強: PDF10113_Image5_25.png -> 3 張\n",
      "✅ 已增強: PDF10113_Image5_28.png -> 3 張\n",
      "✅ 已增強: PDF10128_Image2_5.png -> 3 張\n",
      "✅ 已增強: PDF10128_Image2_6.png -> 3 張\n",
      "✅ 已增強: PDF10133_Image3_2.png -> 3 張\n",
      "✅ 已增強: PDF10880_Image1_7.png -> 3 張\n",
      "✅ 已增強: PDF10880_Image1_8.png -> 3 張\n",
      "✅ 已增強: PDF10887_Image2_3.png -> 3 張\n",
      "✅ 已增強: PDF10888_Image3_4.png -> 3 張\n",
      "✅ 已增強: PDF10895_Image2_4.png -> 3 張\n",
      "✅ 已增強: PDF10895_Image2_5.png -> 3 張\n",
      "✅ 已增強: PDF10895_Image2_6.png -> 3 張\n",
      "✅ 已增強: PDF1019_Image3_11.png -> 3 張\n",
      "✅ 已增強: PDF1019_Image3_12.png -> 3 張\n",
      "✅ 已增強: PDF1031_Image2_2.png -> 3 張\n",
      "✅ 已增強: PDF1040_Image2_1.png -> 3 張\n",
      "✅ 已增強: PDF1051_Image1_5.png -> 3 張\n",
      "✅ 已增強: PDF1063_Image1_1.png -> 3 張\n",
      "✅ 已增強: PDF1063_Image1_4.png -> 3 張\n",
      "✅ 已增強: PDF10150_Image1_7.png -> 3 張\n",
      "✅ 已增強: PDF10150_Image1_8.png -> 3 張\n",
      "✅ 已增強: PDF10150_Image1_9.png -> 3 張\n",
      "✅ 已增強: PDF10150_Image2_7.png -> 3 張\n",
      "✅ 已增強: PDF10150_Image2_8.png -> 3 張\n",
      "✅ 已增強: PDF10150_Image2_9.png -> 3 張\n",
      "✅ 已增強: PDF10167_Image2_2.png -> 3 張\n",
      "✅ 已增強: PDF10184_Image2_3.png -> 3 張\n",
      "✅ 已增強: PDF10184_Image2_4.png -> 3 張\n",
      "✅ 已增強: PDF10184_Image4_2.png -> 3 張\n",
      "✅ 已增強: PDF10184_Image4_3.png -> 3 張\n",
      "✅ 已增強: PDF10184_Image6_2.png -> 3 張\n",
      "✅ 已增強: PDF10184_Image6_3.png -> 3 張\n",
      "✅ 已增強: PDF10184_Image7_2.png -> 3 張\n",
      "✅ 已增強: PDF10187_Image1_5.png -> 3 張\n",
      "✅ 已增強: PDF10193_Image1_3.png -> 3 張\n",
      "✅ 已增強: PDF10193_Image1_4.png -> 3 張\n",
      "✅ 已增強: PDF10195_Image1_5.png -> 3 張\n",
      "✅ 已增強: PDF10196_Image1_7.png -> 3 張\n",
      "✅ 已增強: PDF10196_Image1_8.png -> 3 張\n",
      "✅ 已增強: PDF10196_Image1_9.png -> 3 張\n",
      "✅ 已增強: PDF10196_Image1_10.png -> 3 張\n",
      "✅ 已增強: PDF10196_Image1_11.png -> 3 張\n",
      "✅ 已增強: PDF10200_Image1_3.png -> 3 張\n",
      "✅ 已增強: PDF10200_Image1_4.png -> 3 張\n",
      "✅ 已增強: PDF10207_Image2_4.png -> 3 張\n",
      "✅ 已增強: PDF10212_Image2_3.png -> 3 張\n",
      "✅ 已增強: PDF10239_Image1_3.png -> 3 張\n",
      "✅ 已增強: PDF10240_Image1_10.png -> 3 張\n",
      "✅ 已增強: PDF10245_Image1_5.png -> 3 張\n",
      "✅ 已增強: PDF10245_Image1_6.png -> 3 張\n",
      "✅ 已增強: PDF10245_Image1_7.png -> 3 張\n",
      "✅ 已增強: PDF10247_Image1_4.png -> 3 張\n",
      "✅ 已增強: PDF10259_Image2_2.png -> 3 張\n",
      "✅ 已增強: PDF10270_Image1_1.png -> 3 張\n",
      "✅ 已增強: PDF10270_Image1_2.png -> 3 張\n",
      "✅ 已增強: PDF10277_Image2_2.png -> 3 張\n",
      "✅ 已增強: PDF10278_Image1_2.png -> 3 張\n",
      "✅ 已增強: PDF10280_Image3_3.png -> 3 張\n",
      "✅ 已增強: PDF10287_Image1_1.png -> 3 張\n",
      "✅ 已增強: PDF10287_Image1_2.png -> 3 張\n",
      "✅ 已增強: PDF10288_Image4_5.png -> 3 張\n",
      "✅ 已增強: PDF10288_Image4_6.png -> 3 張\n",
      "✅ 已增強: PDF10302_Image2_1.png -> 3 張\n",
      "✅ 已增強: PDF10303_Image1_3.png -> 3 張\n",
      "✅ 已增強: PDF10304_Image1_3.png -> 3 張\n",
      "✅ 已增強: PDF1019_Image1_3.png -> 3 張\n",
      "✅ 已增強: PDF10304_Image1_4.png -> 3 張\n",
      "✅ 已增強: PDF10304_Image3_6.png -> 3 張\n",
      "✅ 已增強: PDF10304_Image3_8.png -> 3 張\n",
      "✅ 已增強: PDF10304_Image3_9.png -> 3 張\n",
      "✅ 已增強: PDF10304_Image4_1.png -> 3 張\n",
      "✅ 已增強: PDF10305_Image4_1.png -> 3 張\n",
      "✅ 已增強: PDF10305_Image4_4.png -> 3 張\n",
      "✅ 已增強: PDF10305_Image4_2.png -> 3 張\n",
      "✅ 已增強: PDF10305_Image4_3.png -> 3 張\n",
      "✅ 已增強: PDF10314_Image1_2.png -> 3 張\n",
      "✅ 已增強: PDF10314_Image1_3.png -> 3 張\n",
      "✅ 已增強: PDF10335_Image1_6.png -> 3 張\n",
      "✅ 已增強: PDF10343_Image2_5.png -> 3 張\n",
      "✅ 已增強: PDF10343_Image2_6.png -> 3 張\n",
      "✅ 已增強: PDF10346_Image2_3.png -> 3 張\n",
      "✅ 已增強: PDF10346_Image2_4.png -> 3 張\n",
      "✅ 已增強: PDF10356_Image1_3.png -> 3 張\n",
      "✅ 已增強: PDF10356_Image2_4.png -> 3 張\n",
      "✅ 已增強: PDF10356_Image3_3.png -> 3 張\n",
      "✅ 已增強: PDF10356_Image3_4.png -> 3 張\n",
      "✅ 已增強: PDF10356_Image3_5.png -> 3 張\n",
      "✅ 已增強: PDF10356_Image4_4.png -> 3 張\n",
      "✅ 已增強: PDF10356_Image4_5.png -> 3 張\n",
      "✅ 已增強: PDF10356_Image4_6.png -> 3 張\n",
      "✅ 已增強: PDF10356_Image5_3.png -> 3 張\n",
      "✅ 已增強: PDF10356_Image5_4.png -> 3 張\n",
      "✅ 已增強: PDF10356_Image5_5.png -> 3 張\n",
      "✅ 已增強: PDF10356_Image5_6.png -> 3 張\n",
      "✅ 已增強: PDF10356_Image6_3.png -> 3 張\n",
      "✅ 已增強: PDF10356_Image6_4.png -> 3 張\n",
      "✅ 已增強: PDF10356_Image6_7.png -> 3 張\n",
      "✅ 已增強: PDF10356_Image6_8.png -> 3 張\n",
      "✅ 已增強: PDF10360_Image2_5.png -> 3 張\n",
      "✅ 已增強: PDF10360_Image2_6.png -> 3 張\n",
      "✅ 已增強: PDF10360_Image2_7.png -> 3 張\n",
      "✅ 已增強: PDF10366_Image5_3.png -> 3 張\n",
      "✅ 已增強: PDF10371_Image2_15.png -> 3 張\n",
      "✅ 已增強: PDF10371_Image2_18.png -> 3 張\n",
      "✅ 已增強: PDF10371_Image2_19.png -> 3 張\n",
      "✅ 已增強: PDF10384_Image1_3.png -> 3 張\n",
      "✅ 已增強: PDF10402_Image3_9.png -> 3 張\n",
      "✅ 已增強: PDF10402_Image3_10.png -> 3 張\n",
      "✅ 已增強: PDF10402_Image3_11.png -> 3 張\n",
      "✅ 已增強: PDF10402_Image3_12.png -> 3 張\n",
      "✅ 已增強: PDF10402_Image3_13.png -> 3 張\n",
      "✅ 已增強: PDF10432_Image2_2.png -> 3 張\n",
      "✅ 已增強: PDF10434_Image1_8.png -> 3 張\n",
      "✅ 已增強: PDF10437_Image2_3.png -> 3 張\n",
      "✅ 已增強: PDF10438_Image2_6.png -> 3 張\n",
      "✅ 已增強: PDF10439_Image10_5.png -> 3 張\n",
      "✅ 已增強: PDF10439_Image10_6.png -> 3 張\n",
      "✅ 已增強: PDF10441_Image1_7.png -> 3 張\n",
      "✅ 已增強: PDF10446_Image9_1.png -> 3 張\n",
      "✅ 已增強: PDF10446_Image9_2.png -> 3 張\n",
      "✅ 已增強: PDF10446_Image5_2.png -> 3 張\n",
      "✅ 已增強: PDF10446_Image5_4.png -> 3 張\n",
      "✅ 已增強: PDF10448_Image2_5.png -> 3 張\n",
      "✅ 已增強: PDF10448_Image2_6.png -> 3 張\n",
      "✅ 已增強: PDF10449_Image2_1.png -> 3 張\n",
      "✅ 已增強: PDF10449_Image2_2.png -> 3 張\n",
      "✅ 已增強: PDF10449_Image2_3.png -> 3 張\n",
      "✅ 已增強: PDF10453_Image2_2.png -> 3 張\n",
      "✅ 已增強: PDF10454_Image4_6.png -> 3 張\n",
      "✅ 已增強: PDF10454_Image4_7.png -> 3 張\n",
      "✅ 已增強: PDF10458_Image1_3.png -> 3 張\n",
      "✅ 已增強: PDF10460_Image1_6.png -> 3 張\n",
      "✅ 已增強: PDF10479_Image1_4.png -> 3 張\n",
      "✅ 已增強: PDF10486_Image1_6.png -> 3 張\n",
      "✅ 已增強: PDF10492_Image4_5.png -> 3 張\n",
      "✅ 已增強: PDF10492_Image4_6.png -> 3 張\n",
      "✅ 已增強: PDF10492_Image4_7.png -> 3 張\n",
      "✅ 已增強: PDF10493_Image2_2.png -> 3 張\n",
      "✅ 已增強: PDF10493_Image2_3.png -> 3 張\n",
      "✅ 已增強: PDF10493_Image2_4.png -> 3 張\n",
      "✅ 已增強: PDF10493_Image2_6.png -> 3 張\n",
      "✅ 已增強: PDF10494_Image1_5.png -> 3 張\n",
      "✅ 已增強: PDF10510_Image1_4.png -> 3 張\n",
      "✅ 已增強: PDF10513_Image1_5.png -> 3 張\n",
      "✅ 已增強: PDF10513_Image1_6.png -> 3 張\n",
      "✅ 已增強: PDF10520_Image3_5.png -> 3 張\n",
      "✅ 已增強: PDF10520_Image3_6.png -> 3 張\n",
      "✅ 已增強: PDF10534_Image3_3.png -> 3 張\n",
      "✅ 已增強: PDF10534_Image3_4.png -> 3 張\n",
      "✅ 已增強: PDF10539_Image2_3.png -> 3 張\n",
      "✅ 已增強: PDF10539_Image2_4.png -> 3 張\n",
      "✅ 已增強: PDF10543_Image1_3.png -> 3 張\n",
      "✅ 已增強: PDF10561_Image2_14.png -> 3 張\n",
      "✅ 已增強: PDF10566_Image2_1.png -> 3 張\n",
      "✅ 已增強: PDF10574_Image1_2.png -> 3 張\n",
      "✅ 已增強: PDF10574_Image1_3.png -> 3 張\n",
      "✅ 已增強: PDF10577_Image1_4.png -> 3 張\n",
      "✅ 已增強: PDF10577_Image1_5.png -> 3 張\n",
      "✅ 已增強: PDF10577_Image1_6.png -> 3 張\n",
      "✅ 已增強: PDF10580_Image1_4.png -> 3 張\n",
      "✅ 已增強: PDF10582_Image2_3.png -> 3 張\n",
      "✅ 已增強: PDF10601_Image1_4.png -> 3 張\n",
      "✅ 已增強: PDF10601_Image2_9.png -> 3 張\n",
      "✅ 已增強: PDF10601_Image2_10.png -> 3 張\n",
      "✅ 已增強: PDF10601_Image2_11.png -> 3 張\n",
      "✅ 已增強: PDF10601_Image2_12.png -> 3 張\n",
      "✅ 已增強: PDF10604_Image1_2.png -> 3 張\n",
      "✅ 已增強: PDF10607_Image4_2.png -> 3 張\n",
      "✅ 已增強: PDF10607_Image4_3.png -> 3 張\n",
      "✅ 已增強: PDF10630_Image1_4.png -> 3 張\n",
      "✅ 已增強: PDF10640_Image1_8.png -> 3 張\n",
      "✅ 已增強: PDF10660_Image2_1.png -> 3 張\n",
      "✅ 已增強: PDF10663_Image1_3.png -> 3 張\n",
      "✅ 已增強: PDF10668_Image1_3.png -> 3 張\n",
      "✅ 已增強: PDF10668_Image1_4.png -> 3 張\n",
      "✅ 已增強: PDF10668_Image1_5.png -> 3 張\n",
      "✅ 已增強: PDF10668_Image1_6.png -> 3 張\n",
      "✅ 已增強: PDF10668_Image2_1.png -> 3 張\n",
      "✅ 已增強: PDF10668_Image2_2.png -> 3 張\n",
      "✅ 已增強: PDF10668_Image2_3.png -> 3 張\n",
      "✅ 已增強: PDF10668_Image3_1.png -> 3 張\n",
      "✅ 已增強: PDF10668_Image3_3.png -> 3 張\n",
      "✅ 已增強: PDF10668_Image3_5.png -> 3 張\n",
      "✅ 已增強: PDF10668_Image3_6.png -> 3 張\n",
      "✅ 已增強: PDF10669_Image1_2.png -> 3 張\n",
      "✅ 已增強: PDF10669_Image3_4.png -> 3 張\n",
      "✅ 已增強: PDF10674_Image3_7.png -> 3 張\n",
      "✅ 已增強: PDF10674_Image3_8.png -> 3 張\n",
      "✅ 已增強: PDF10674_Image3_9.png -> 3 張\n",
      "✅ 已增強: PDF10674_Image4_6.png -> 3 張\n",
      "✅ 已增強: PDF10674_Image4_8.png -> 3 張\n",
      "✅ 已增強: PDF10674_Image4_9.png -> 3 張\n",
      "✅ 已增強: PDF10676_Image3_8.png -> 3 張\n",
      "✅ 已增強: PDF10678_Image1_1.png -> 3 張\n",
      "✅ 已增強: PDF10678_Image3_1.png -> 3 張\n",
      "✅ 已增強: PDF10678_Image3_2.png -> 3 張\n",
      "✅ 已增強: PDF10678_Image3_3.png -> 3 張\n",
      "✅ 已增強: PDF10685_Image1_4.png -> 3 張\n",
      "✅ 已增強: PDF10689_Image2_6.png -> 3 張\n",
      "✅ 已增強: PDF10689_Image2_11.png -> 3 張\n",
      "✅ 已增強: PDF10693_Image2_3.png -> 3 張\n",
      "✅ 已增強: PDF10696_Image1_3.png -> 3 張\n",
      "✅ 已增強: PDF10696_Image1_5.png -> 3 張\n",
      "✅ 已增強: PDF10702_Image1_1.png -> 3 張\n",
      "✅ 已增強: PDF10705_Image1_4.png -> 3 張\n",
      "✅ 已增強: PDF10708_Image2_6.png -> 3 張\n",
      "✅ 已增強: PDF10708_Image2_7.png -> 3 張\n",
      "✅ 已增強: PDF10717_Image2_4.png -> 3 張\n",
      "✅ 已增強: PDF10733_Image1_1.png -> 3 張\n",
      "✅ 已增強: PDF10743_Image1_1.png -> 3 張\n",
      "✅ 已增強: PDF10752_Image1_7.png -> 3 張\n",
      "✅ 已增強: PDF10752_Image1_8.png -> 3 張\n",
      "✅ 已增強: PDF10752_Image1_9.png -> 3 張\n",
      "✅ 已增強: PDF10763_Image2_3.png -> 3 張\n",
      "✅ 已增強: PDF10767_Image2_2.png -> 3 張\n",
      "✅ 已增強: PDF10767_Image5_2.png -> 3 張\n",
      "✅ 已增強: PDF10767_Image12_6.png -> 3 張\n",
      "✅ 已增強: PDF10767_Image14_1.png -> 3 張\n",
      "✅ 已增強: PDF10774_Image2_2.png -> 3 張\n",
      "✅ 已增強: PDF10781_Image1_3.png -> 3 張\n",
      "✅ 已增強: PDF10790_Image1_5.png -> 3 張\n",
      "✅ 已增強: PDF10790_Image1_6.png -> 3 張\n",
      "✅ 已增強: PDF10790_Image1_7.png -> 3 張\n",
      "✅ 已增強: PDF10795_Image2_9.png -> 3 張\n",
      "✅ 已增強: PDF10795_Image2_10.png -> 3 張\n",
      "✅ 已增強: PDF10796_Image1_3.png -> 3 張\n",
      "✅ 已增強: PDF10797_Image2_5.png -> 3 張\n",
      "✅ 已增強: PDF10806_Image1_4.png -> 3 張\n",
      "✅ 已增強: PDF10806_Image1_7.png -> 3 張\n",
      "✅ 已增強: PDF10809_Image1_5.png -> 3 張\n",
      "✅ 已增強: PDF10813_Image2_1.png -> 3 張\n",
      "✅ 已增強: PDF10818_Image3_5.png -> 3 張\n",
      "✅ 已增強: PDF10818_Image3_6.png -> 3 張\n",
      "✅ 已增強: PDF10821_Image2_4.png -> 3 張\n",
      "✅ 已增強: PDF10835_Image1_2.png -> 3 張\n",
      "✅ 已增強: PDF10839_Image1_6.png -> 3 張\n",
      "✅ 已增強: PDF10839_Image1_7.png -> 3 張\n",
      "✅ 已增強: PDF10841_Image1_1.png -> 3 張\n",
      "✅ 已增強: PDF10841_Image1_2.png -> 3 張\n",
      "✅ 已增強: PDF10841_Image1_3.png -> 3 張\n",
      "✅ 已增強: PDF10860_Image4_2.png -> 3 張\n",
      "✅ 已增強: PDF10866_Image1_8.png -> 3 張\n",
      "✅ 已增強: PDF10866_Image1_9.png -> 3 張\n",
      "✅ 已增強: PDF10302_Image1_1.png -> 3 張\n",
      "✅ 已增強: PDF10302_Image1_2.png -> 3 張\n",
      "✅ 已增強: PDF10304_Image1_11.png -> 3 張\n",
      "✅ 已增強: PDF10304_Image2_5.png -> 3 張\n",
      "✅ 已增強: PDF10243_Image1_5.png -> 3 張\n",
      "✅ 已增強: PDF10253_Image2_3.png -> 3 張\n",
      "✅ 已增強: PDF10258_Image2_5.png -> 3 張\n",
      "✅ 已增強: PDF10258_Image5_1.png -> 3 張\n",
      "✅ 已增強: PDF10266_Image2_6.png -> 3 張\n",
      "✅ 已增強: PDF10402_Image3_1.png -> 3 張\n",
      "✅ 已增強: PDF10439_Image7_4.png -> 3 張\n",
      "✅ 已增強: PDF10475_Image1_2.png -> 3 張\n",
      "✅ 已增強: PDF10498_Image2_6.png -> 3 張\n",
      "✅ 已增強: PDF10613_Image1_2.png -> 3 張\n",
      "✅ 已增強: PDF10637_Image3_3.png -> 3 張\n"
     ]
    }
   ],
   "source": [
    "import os\n",
    "from PIL import Image\n",
    "from torchvision import transforms\n",
    "import random\n",
    "\n",
    "# 需要增強的類別\n",
    "augment_categories = ['HR-TEM', 'STEM', 'Diffraction']\n",
    "dataset_root = '/home/ne6131039/Desktop/TEM_DATAS/TEM_classification'\n",
    "\n",
    "# 每張圖額外產生幾張增強圖\n",
    "augment_count = 3\n",
    "\n",
    "# 定義增強方法（可依需求調整）\n",
    "augmentation = transforms.Compose([\n",
    "    transforms.RandomHorizontalFlip(p=0.5),\n",
    "    transforms.RandomVerticalFlip(p=0.5),\n",
    "    transforms.RandomRotation(degrees=30),\n",
    "    transforms.ColorJitter(brightness=0.2, contrast=0.2),\n",
    "    transforms.RandomResizedCrop(size=(224, 224), scale=(0.8, 1.0)),  # 可以換成 Resize\n",
    "])\n",
    "\n",
    "for category in augment_categories:\n",
    "    folder_path = os.path.join(dataset_root, category)\n",
    "    images = [f for f in os.listdir(folder_path) if f.lower().endswith(('.jpg', '.jpeg', '.png'))]\n",
    "\n",
    "    for image_name in images:\n",
    "        image_path = os.path.join(folder_path, image_name)\n",
    "        try:\n",
    "            image = Image.open(image_path).convert('RGB')\n",
    "        except Exception as e:\n",
    "            print(f\"無法讀取 {image_name}: {e}\")\n",
    "            continue\n",
    "\n",
    "        for i in range(augment_count):\n",
    "            aug_img = augmentation(image)\n",
    "            new_name = f\"{os.path.splitext(image_name)[0]}_aug{i}.jpg\"\n",
    "            new_path = os.path.join(folder_path, new_name)\n",
    "            aug_img.save(new_path)\n",
    "\n",
    "        print(f\"✅ 已增強: {image_name} -> {augment_count} 張\")\n"
   ]
  },
  {
   "cell_type": "code",
   "execution_count": 6,
   "id": "88fff7a0-d4d6-49c6-9c12-a1b7e684683e",
   "metadata": {
    "execution": {
     "iopub.execute_input": "2025-05-13T14:24:29.951419Z",
     "iopub.status.busy": "2025-05-13T14:24:29.951199Z",
     "iopub.status.idle": "2025-05-13T14:24:32.313074Z",
     "shell.execute_reply": "2025-05-13T14:24:32.312667Z",
     "shell.execute_reply.started": "2025-05-13T14:24:29.951403Z"
    }
   },
   "outputs": [
    {
     "name": "stdout",
     "output_type": "stream",
     "text": [
      "CTEM        : train=1308, val=280, test=281\n",
      "HR-TEM      : train=1747, val=374, test=375\n",
      "STEM        : train=1545, val=331, test=332\n",
      "SEM         : train=1538, val=329, test=331\n",
      "None        : train=1150, val=246, test=247\n",
      "Diffraction : train=1125, val=241, test=242\n"
     ]
    }
   ],
   "source": [
    "import os\n",
    "import shutil\n",
    "import random\n",
    "\n",
    "# 原始資料集路徑（六類放一起）\n",
    "src_root = '/home/ne6131039/Desktop/TEM_DATAS/TEM_classification'\n",
    "\n",
    "# 新的資料夾結構\n",
    "dst_root = '/home/ne6131039/Desktop/TEM_DATAS/TEM_split'\n",
    "splits = ['train', 'val', 'test']\n",
    "split_ratio = {'train': 0.7, 'val': 0.15, 'test': 0.15}\n",
    "\n",
    "categories = ['CTEM', 'HR-TEM', 'STEM', 'SEM', 'None', 'Diffraction']\n",
    "\n",
    "# 建立資料夾結構\n",
    "for split in splits:\n",
    "    for category in categories:\n",
    "        os.makedirs(os.path.join(dst_root, split, category), exist_ok=True)\n",
    "\n",
    "# 分割資料\n",
    "for category in categories:\n",
    "    src_folder = os.path.join(src_root, category)\n",
    "    images = [f for f in os.listdir(src_folder) if f.lower().endswith(('.jpg', '.png', '.jpeg'))]\n",
    "    random.shuffle(images)\n",
    "\n",
    "    train_end = int(len(images) * split_ratio['train'])\n",
    "    val_end = train_end + int(len(images) * split_ratio['val'])\n",
    "\n",
    "    for i, img in enumerate(images):\n",
    "        if i < train_end:\n",
    "            split = 'train'\n",
    "        elif i < val_end:\n",
    "            split = 'val'\n",
    "        else:\n",
    "            split = 'test'\n",
    "\n",
    "        src_path = os.path.join(src_folder, img)\n",
    "        dst_path = os.path.join(dst_root, split, category, img)\n",
    "        shutil.copy2(src_path, dst_path)\n",
    "\n",
    "    print(f\"{category:12s}: train={train_end}, val={val_end-train_end}, test={len(images)-val_end}\")\n"
   ]
  },
  {
   "cell_type": "code",
   "execution_count": 9,
   "id": "f1ab8594-2274-4f03-b20d-0b6ffdb2ce38",
   "metadata": {
    "execution": {
     "iopub.execute_input": "2025-05-13T14:33:59.275760Z",
     "iopub.status.busy": "2025-05-13T14:33:59.275519Z",
     "iopub.status.idle": "2025-05-13T14:34:24.054409Z",
     "shell.execute_reply": "2025-05-13T14:34:24.054045Z",
     "shell.execute_reply.started": "2025-05-13T14:33:59.275750Z"
    }
   },
   "outputs": [
    {
     "name": "stdout",
     "output_type": "stream",
     "text": [
      "[train] CTEM -> NotNone, 完成搬移\n",
      "[train] HR-TEM -> NotNone, 完成搬移\n",
      "[train] STEM -> NotNone, 完成搬移\n",
      "[train] SEM -> NotNone, 完成搬移\n",
      "[train] Diffraction -> NotNone, 完成搬移\n",
      "[train] None -> None, 完成搬移\n",
      "[val] CTEM -> NotNone, 完成搬移\n",
      "[val] HR-TEM -> NotNone, 完成搬移\n",
      "[val] STEM -> NotNone, 完成搬移\n",
      "[val] SEM -> NotNone, 完成搬移\n",
      "[val] Diffraction -> NotNone, 完成搬移\n",
      "[val] None -> None, 完成搬移\n",
      "[test] CTEM -> NotNone, 完成搬移\n",
      "[test] HR-TEM -> NotNone, 完成搬移\n",
      "[test] STEM -> NotNone, 完成搬移\n",
      "[test] SEM -> NotNone, 完成搬移\n",
      "[test] Diffraction -> NotNone, 完成搬移\n",
      "[test] None -> None, 完成搬移\n",
      "✅ 二分類資料集產生完成！\n"
     ]
    }
   ],
   "source": [
    "import os\n",
    "import shutil\n",
    "\n",
    "# 原始六類分類資料夾\n",
    "src_root = '/home/ne6131039/Desktop/TEM_DATAS/TEM_split'\n",
    "# 新的二分類資料夾\n",
    "dst_root = '/home/ne6131039/Desktop/TEM_DATAS/TEM_binary'\n",
    "\n",
    "# 三個分割區\n",
    "splits = ['train', 'val', 'test']\n",
    "none_label = 'None'\n",
    "all_categories = ['CTEM', 'HR-TEM', 'STEM', 'SEM', 'Diffraction', 'None']\n",
    "\n",
    "# 建立目標資料夾結構\n",
    "for split in splits:\n",
    "    for label in ['None', 'NotNone']:\n",
    "        os.makedirs(os.path.join(dst_root, split, label), exist_ok=True)\n",
    "\n",
    "# 開始分類搬移資料\n",
    "for split in splits:\n",
    "    for category in all_categories:\n",
    "        src_folder = os.path.join(src_root, split, category)\n",
    "        if not os.path.exists(src_folder):\n",
    "            continue\n",
    "\n",
    "        # 決定這個分類屬於 None or NotNone\n",
    "        target_label = 'None' if category == none_label else 'NotNone'\n",
    "        dst_folder = os.path.join(dst_root, split, target_label)\n",
    "\n",
    "        for fname in os.listdir(src_folder):\n",
    "            if fname.lower().endswith(('.jpg', '.jpeg', '.png')):\n",
    "                src_path = os.path.join(src_folder, fname)\n",
    "                dst_path = os.path.join(dst_folder, f\"{category}_{fname}\")\n",
    "                shutil.copy2(src_path, dst_path)\n",
    "\n",
    "        print(f\"[{split}] {category} -> {target_label}, 完成搬移\")\n",
    "\n",
    "print(\"✅ 二分類資料集產生完成！\")"
   ]
  },
  {
   "cell_type": "code",
   "execution_count": 16,
   "id": "1bf3a175-a244-439e-8a8d-37eedeedaf13",
   "metadata": {
    "execution": {
     "iopub.execute_input": "2025-05-14T11:36:11.987109Z",
     "iopub.status.busy": "2025-05-14T11:36:11.986714Z",
     "iopub.status.idle": "2025-05-14T11:52:51.321307Z",
     "shell.execute_reply": "2025-05-14T11:52:51.320651Z",
     "shell.execute_reply.started": "2025-05-14T11:36:11.987085Z"
    },
    "scrolled": true
   },
   "outputs": [
    {
     "name": "stdout",
     "output_type": "stream",
     "text": [
      "類別標籤對應： ['None', 'NotNone']\n",
      "\n",
      "Epoch 1/50\n"
     ]
    },
    {
     "name": "stderr",
     "output_type": "stream",
     "text": [
      "Training: 100%|███████████████████████████████| 263/263 [00:17<00:00, 15.11it/s]\n"
     ]
    },
    {
     "name": "stdout",
     "output_type": "stream",
     "text": [
      "✅ 儲存最佳模型 (Val Acc: 95.11%)\n",
      "Train Loss: 0.2177 | Train Acc: 91.11% | Val Acc: 95.11% | LR: 0.000100\n",
      "\n",
      "Epoch 2/50\n"
     ]
    },
    {
     "name": "stderr",
     "output_type": "stream",
     "text": [
      "Training: 100%|███████████████████████████████| 263/263 [00:16<00:00, 15.59it/s]\n"
     ]
    },
    {
     "name": "stdout",
     "output_type": "stream",
     "text": [
      "✅ 儲存最佳模型 (Val Acc: 95.72%)\n",
      "Train Loss: 0.0897 | Train Acc: 96.70% | Val Acc: 95.72% | LR: 0.000100\n",
      "\n",
      "Epoch 3/50\n"
     ]
    },
    {
     "name": "stderr",
     "output_type": "stream",
     "text": [
      "Training: 100%|███████████████████████████████| 263/263 [00:15<00:00, 16.54it/s]\n"
     ]
    },
    {
     "name": "stdout",
     "output_type": "stream",
     "text": [
      "✅ 儲存最佳模型 (Val Acc: 97.00%)\n",
      "Train Loss: 0.0606 | Train Acc: 97.73% | Val Acc: 97.00% | LR: 0.000100\n",
      "\n",
      "Epoch 4/50\n"
     ]
    },
    {
     "name": "stderr",
     "output_type": "stream",
     "text": [
      "Training: 100%|███████████████████████████████| 263/263 [00:16<00:00, 15.86it/s]\n"
     ]
    },
    {
     "name": "stdout",
     "output_type": "stream",
     "text": [
      "Train Loss: 0.0368 | Train Acc: 98.63% | Val Acc: 96.78% | LR: 0.000100\n",
      "\n",
      "Epoch 5/50\n"
     ]
    },
    {
     "name": "stderr",
     "output_type": "stream",
     "text": [
      "Training: 100%|███████████████████████████████| 263/263 [00:16<00:00, 15.90it/s]\n"
     ]
    },
    {
     "name": "stdout",
     "output_type": "stream",
     "text": [
      "Train Loss: 0.0315 | Train Acc: 98.93% | Val Acc: 96.72% | LR: 0.000100\n",
      "\n",
      "Epoch 6/50\n"
     ]
    },
    {
     "name": "stderr",
     "output_type": "stream",
     "text": [
      "Training: 100%|███████████████████████████████| 263/263 [00:15<00:00, 16.85it/s]\n"
     ]
    },
    {
     "name": "stdout",
     "output_type": "stream",
     "text": [
      "✅ 儲存最佳模型 (Val Acc: 97.56%)\n",
      "Train Loss: 0.0159 | Train Acc: 99.55% | Val Acc: 97.56% | LR: 0.000010\n",
      "\n",
      "Epoch 7/50\n"
     ]
    },
    {
     "name": "stderr",
     "output_type": "stream",
     "text": [
      "Training: 100%|███████████████████████████████| 263/263 [00:16<00:00, 15.72it/s]\n"
     ]
    },
    {
     "name": "stdout",
     "output_type": "stream",
     "text": [
      "✅ 儲存最佳模型 (Val Acc: 97.67%)\n",
      "Train Loss: 0.0106 | Train Acc: 99.79% | Val Acc: 97.67% | LR: 0.000010\n",
      "\n",
      "Epoch 8/50\n"
     ]
    },
    {
     "name": "stderr",
     "output_type": "stream",
     "text": [
      "Training: 100%|███████████████████████████████| 263/263 [00:16<00:00, 16.09it/s]\n"
     ]
    },
    {
     "name": "stdout",
     "output_type": "stream",
     "text": [
      "✅ 儲存最佳模型 (Val Acc: 97.72%)\n",
      "Train Loss: 0.0065 | Train Acc: 99.90% | Val Acc: 97.72% | LR: 0.000010\n",
      "\n",
      "Epoch 9/50\n"
     ]
    },
    {
     "name": "stderr",
     "output_type": "stream",
     "text": [
      "Training: 100%|███████████████████████████████| 263/263 [00:16<00:00, 15.65it/s]\n"
     ]
    },
    {
     "name": "stdout",
     "output_type": "stream",
     "text": [
      "Train Loss: 0.0074 | Train Acc: 99.83% | Val Acc: 97.67% | LR: 0.000010\n",
      "\n",
      "Epoch 10/50\n"
     ]
    },
    {
     "name": "stderr",
     "output_type": "stream",
     "text": [
      "Training: 100%|███████████████████████████████| 263/263 [00:17<00:00, 15.09it/s]\n"
     ]
    },
    {
     "name": "stdout",
     "output_type": "stream",
     "text": [
      "✅ 儲存最佳模型 (Val Acc: 97.95%)\n",
      "Train Loss: 0.0050 | Train Acc: 99.90% | Val Acc: 97.95% | LR: 0.000010\n",
      "\n",
      "Epoch 11/50\n"
     ]
    },
    {
     "name": "stderr",
     "output_type": "stream",
     "text": [
      "Training: 100%|███████████████████████████████| 263/263 [00:17<00:00, 15.43it/s]\n"
     ]
    },
    {
     "name": "stdout",
     "output_type": "stream",
     "text": [
      "Train Loss: 0.0043 | Train Acc: 99.96% | Val Acc: 97.78% | LR: 0.000001\n",
      "\n",
      "Epoch 12/50\n"
     ]
    },
    {
     "name": "stderr",
     "output_type": "stream",
     "text": [
      "Training: 100%|███████████████████████████████| 263/263 [00:16<00:00, 15.68it/s]\n"
     ]
    },
    {
     "name": "stdout",
     "output_type": "stream",
     "text": [
      "Train Loss: 0.0048 | Train Acc: 99.94% | Val Acc: 97.89% | LR: 0.000001\n",
      "\n",
      "Epoch 13/50\n"
     ]
    },
    {
     "name": "stderr",
     "output_type": "stream",
     "text": [
      "Training: 100%|███████████████████████████████| 263/263 [00:16<00:00, 15.85it/s]\n"
     ]
    },
    {
     "name": "stdout",
     "output_type": "stream",
     "text": [
      "Train Loss: 0.0046 | Train Acc: 99.94% | Val Acc: 97.83% | LR: 0.000001\n",
      "\n",
      "Epoch 14/50\n"
     ]
    },
    {
     "name": "stderr",
     "output_type": "stream",
     "text": [
      "Training: 100%|███████████████████████████████| 263/263 [00:17<00:00, 15.04it/s]\n"
     ]
    },
    {
     "name": "stdout",
     "output_type": "stream",
     "text": [
      "✅ 儲存最佳模型 (Val Acc: 98.00%)\n",
      "Train Loss: 0.0051 | Train Acc: 99.92% | Val Acc: 98.00% | LR: 0.000001\n",
      "\n",
      "Epoch 15/50\n"
     ]
    },
    {
     "name": "stderr",
     "output_type": "stream",
     "text": [
      "Training: 100%|███████████████████████████████| 263/263 [00:17<00:00, 15.20it/s]\n"
     ]
    },
    {
     "name": "stdout",
     "output_type": "stream",
     "text": [
      "Train Loss: 0.0043 | Train Acc: 99.93% | Val Acc: 98.00% | LR: 0.000001\n",
      "\n",
      "Epoch 16/50\n"
     ]
    },
    {
     "name": "stderr",
     "output_type": "stream",
     "text": [
      "Training: 100%|███████████████████████████████| 263/263 [00:16<00:00, 16.07it/s]\n"
     ]
    },
    {
     "name": "stdout",
     "output_type": "stream",
     "text": [
      "Train Loss: 0.0042 | Train Acc: 99.90% | Val Acc: 97.95% | LR: 0.000000\n",
      "\n",
      "Epoch 17/50\n"
     ]
    },
    {
     "name": "stderr",
     "output_type": "stream",
     "text": [
      "Training: 100%|███████████████████████████████| 263/263 [00:16<00:00, 16.28it/s]\n"
     ]
    },
    {
     "name": "stdout",
     "output_type": "stream",
     "text": [
      "Train Loss: 0.0043 | Train Acc: 99.93% | Val Acc: 97.83% | LR: 0.000000\n",
      "\n",
      "Epoch 18/50\n"
     ]
    },
    {
     "name": "stderr",
     "output_type": "stream",
     "text": [
      "Training: 100%|███████████████████████████████| 263/263 [00:16<00:00, 15.53it/s]\n"
     ]
    },
    {
     "name": "stdout",
     "output_type": "stream",
     "text": [
      "Train Loss: 0.0046 | Train Acc: 99.93% | Val Acc: 97.95% | LR: 0.000000\n",
      "\n",
      "Epoch 19/50\n"
     ]
    },
    {
     "name": "stderr",
     "output_type": "stream",
     "text": [
      "Training: 100%|███████████████████████████████| 263/263 [00:16<00:00, 15.78it/s]\n"
     ]
    },
    {
     "name": "stdout",
     "output_type": "stream",
     "text": [
      "Train Loss: 0.0042 | Train Acc: 99.96% | Val Acc: 97.95% | LR: 0.000000\n",
      "\n",
      "Epoch 20/50\n"
     ]
    },
    {
     "name": "stderr",
     "output_type": "stream",
     "text": [
      "Training: 100%|███████████████████████████████| 263/263 [00:16<00:00, 16.34it/s]\n"
     ]
    },
    {
     "name": "stdout",
     "output_type": "stream",
     "text": [
      "Train Loss: 0.0044 | Train Acc: 99.90% | Val Acc: 97.72% | LR: 0.000000\n",
      "\n",
      "Epoch 21/50\n"
     ]
    },
    {
     "name": "stderr",
     "output_type": "stream",
     "text": [
      "Training: 100%|███████████████████████████████| 263/263 [00:16<00:00, 16.06it/s]\n"
     ]
    },
    {
     "name": "stdout",
     "output_type": "stream",
     "text": [
      "Train Loss: 0.0039 | Train Acc: 99.95% | Val Acc: 98.00% | LR: 0.000000\n",
      "\n",
      "Epoch 22/50\n"
     ]
    },
    {
     "name": "stderr",
     "output_type": "stream",
     "text": [
      "Training: 100%|███████████████████████████████| 263/263 [00:17<00:00, 15.34it/s]\n"
     ]
    },
    {
     "name": "stdout",
     "output_type": "stream",
     "text": [
      "Train Loss: 0.0044 | Train Acc: 99.93% | Val Acc: 98.00% | LR: 0.000000\n",
      "\n",
      "Epoch 23/50\n"
     ]
    },
    {
     "name": "stderr",
     "output_type": "stream",
     "text": [
      "Training: 100%|███████████████████████████████| 263/263 [00:15<00:00, 16.72it/s]\n"
     ]
    },
    {
     "name": "stdout",
     "output_type": "stream",
     "text": [
      "Train Loss: 0.0043 | Train Acc: 99.95% | Val Acc: 97.89% | LR: 0.000000\n",
      "\n",
      "Epoch 24/50\n"
     ]
    },
    {
     "name": "stderr",
     "output_type": "stream",
     "text": [
      "Training: 100%|███████████████████████████████| 263/263 [00:16<00:00, 15.62it/s]\n"
     ]
    },
    {
     "name": "stdout",
     "output_type": "stream",
     "text": [
      "Train Loss: 0.0042 | Train Acc: 99.94% | Val Acc: 97.67% | LR: 0.000000\n",
      "\n",
      "Epoch 25/50\n"
     ]
    },
    {
     "name": "stderr",
     "output_type": "stream",
     "text": [
      "Training: 100%|███████████████████████████████| 263/263 [00:16<00:00, 16.42it/s]\n"
     ]
    },
    {
     "name": "stdout",
     "output_type": "stream",
     "text": [
      "Train Loss: 0.0041 | Train Acc: 99.96% | Val Acc: 97.89% | LR: 0.000000\n",
      "\n",
      "Epoch 26/50\n"
     ]
    },
    {
     "name": "stderr",
     "output_type": "stream",
     "text": [
      "Training: 100%|███████████████████████████████| 263/263 [00:16<00:00, 16.26it/s]\n"
     ]
    },
    {
     "name": "stdout",
     "output_type": "stream",
     "text": [
      "Train Loss: 0.0046 | Train Acc: 99.89% | Val Acc: 97.72% | LR: 0.000000\n",
      "\n",
      "Epoch 27/50\n"
     ]
    },
    {
     "name": "stderr",
     "output_type": "stream",
     "text": [
      "Training: 100%|███████████████████████████████| 263/263 [00:17<00:00, 15.44it/s]\n"
     ]
    },
    {
     "name": "stdout",
     "output_type": "stream",
     "text": [
      "Train Loss: 0.0045 | Train Acc: 99.93% | Val Acc: 97.89% | LR: 0.000000\n",
      "\n",
      "Epoch 28/50\n"
     ]
    },
    {
     "name": "stderr",
     "output_type": "stream",
     "text": [
      "Training: 100%|███████████████████████████████| 263/263 [00:17<00:00, 15.47it/s]\n"
     ]
    },
    {
     "name": "stdout",
     "output_type": "stream",
     "text": [
      "Train Loss: 0.0050 | Train Acc: 99.94% | Val Acc: 97.83% | LR: 0.000000\n",
      "\n",
      "Epoch 29/50\n"
     ]
    },
    {
     "name": "stderr",
     "output_type": "stream",
     "text": [
      "Training: 100%|███████████████████████████████| 263/263 [00:16<00:00, 15.78it/s]\n"
     ]
    },
    {
     "name": "stdout",
     "output_type": "stream",
     "text": [
      "Train Loss: 0.0038 | Train Acc: 99.94% | Val Acc: 97.78% | LR: 0.000000\n",
      "\n",
      "Epoch 30/50\n"
     ]
    },
    {
     "name": "stderr",
     "output_type": "stream",
     "text": [
      "Training: 100%|███████████████████████████████| 263/263 [00:16<00:00, 16.36it/s]\n"
     ]
    },
    {
     "name": "stdout",
     "output_type": "stream",
     "text": [
      "✅ 儲存最佳模型 (Val Acc: 98.11%)\n",
      "Train Loss: 0.0054 | Train Acc: 99.89% | Val Acc: 98.11% | LR: 0.000000\n",
      "\n",
      "Epoch 31/50\n"
     ]
    },
    {
     "name": "stderr",
     "output_type": "stream",
     "text": [
      "Training: 100%|███████████████████████████████| 263/263 [00:17<00:00, 15.38it/s]\n"
     ]
    },
    {
     "name": "stdout",
     "output_type": "stream",
     "text": [
      "Train Loss: 0.0040 | Train Acc: 99.93% | Val Acc: 97.78% | LR: 0.000000\n",
      "\n",
      "Epoch 32/50\n"
     ]
    },
    {
     "name": "stderr",
     "output_type": "stream",
     "text": [
      "Training: 100%|███████████████████████████████| 263/263 [00:16<00:00, 15.61it/s]\n"
     ]
    },
    {
     "name": "stdout",
     "output_type": "stream",
     "text": [
      "Train Loss: 0.0038 | Train Acc: 99.96% | Val Acc: 97.78% | LR: 0.000000\n",
      "\n",
      "Epoch 33/50\n"
     ]
    },
    {
     "name": "stderr",
     "output_type": "stream",
     "text": [
      "Training: 100%|███████████████████████████████| 263/263 [00:16<00:00, 15.94it/s]\n"
     ]
    },
    {
     "name": "stdout",
     "output_type": "stream",
     "text": [
      "Train Loss: 0.0044 | Train Acc: 99.94% | Val Acc: 97.89% | LR: 0.000000\n",
      "\n",
      "Epoch 34/50\n"
     ]
    },
    {
     "name": "stderr",
     "output_type": "stream",
     "text": [
      "Training: 100%|███████████████████████████████| 263/263 [00:15<00:00, 16.51it/s]\n"
     ]
    },
    {
     "name": "stdout",
     "output_type": "stream",
     "text": [
      "Train Loss: 0.0041 | Train Acc: 99.94% | Val Acc: 97.95% | LR: 0.000000\n",
      "\n",
      "Epoch 35/50\n"
     ]
    },
    {
     "name": "stderr",
     "output_type": "stream",
     "text": [
      "Training: 100%|███████████████████████████████| 263/263 [00:16<00:00, 15.67it/s]\n"
     ]
    },
    {
     "name": "stdout",
     "output_type": "stream",
     "text": [
      "Train Loss: 0.0044 | Train Acc: 99.94% | Val Acc: 98.00% | LR: 0.000000\n",
      "\n",
      "Epoch 36/50\n"
     ]
    },
    {
     "name": "stderr",
     "output_type": "stream",
     "text": [
      "Training: 100%|███████████████████████████████| 263/263 [00:17<00:00, 15.36it/s]\n"
     ]
    },
    {
     "name": "stdout",
     "output_type": "stream",
     "text": [
      "Train Loss: 0.0051 | Train Acc: 99.86% | Val Acc: 97.89% | LR: 0.000000\n",
      "\n",
      "Epoch 37/50\n"
     ]
    },
    {
     "name": "stderr",
     "output_type": "stream",
     "text": [
      "Training: 100%|███████████████████████████████| 263/263 [00:16<00:00, 15.77it/s]\n"
     ]
    },
    {
     "name": "stdout",
     "output_type": "stream",
     "text": [
      "Train Loss: 0.0040 | Train Acc: 99.95% | Val Acc: 97.95% | LR: 0.000000\n",
      "\n",
      "Epoch 38/50\n"
     ]
    },
    {
     "name": "stderr",
     "output_type": "stream",
     "text": [
      "Training: 100%|███████████████████████████████| 263/263 [00:16<00:00, 16.13it/s]\n"
     ]
    },
    {
     "name": "stdout",
     "output_type": "stream",
     "text": [
      "Train Loss: 0.0043 | Train Acc: 99.95% | Val Acc: 97.89% | LR: 0.000000\n",
      "\n",
      "Epoch 39/50\n"
     ]
    },
    {
     "name": "stderr",
     "output_type": "stream",
     "text": [
      "Training: 100%|███████████████████████████████| 263/263 [00:16<00:00, 16.35it/s]\n"
     ]
    },
    {
     "name": "stdout",
     "output_type": "stream",
     "text": [
      "Train Loss: 0.0037 | Train Acc: 99.96% | Val Acc: 97.78% | LR: 0.000000\n",
      "\n",
      "Epoch 40/50\n"
     ]
    },
    {
     "name": "stderr",
     "output_type": "stream",
     "text": [
      "Training: 100%|███████████████████████████████| 263/263 [00:16<00:00, 16.35it/s]\n"
     ]
    },
    {
     "name": "stdout",
     "output_type": "stream",
     "text": [
      "Train Loss: 0.0040 | Train Acc: 99.93% | Val Acc: 97.83% | LR: 0.000000\n",
      "\n",
      "Epoch 41/50\n"
     ]
    },
    {
     "name": "stderr",
     "output_type": "stream",
     "text": [
      "Training: 100%|███████████████████████████████| 263/263 [00:16<00:00, 15.48it/s]\n"
     ]
    },
    {
     "name": "stdout",
     "output_type": "stream",
     "text": [
      "Train Loss: 0.0036 | Train Acc: 99.94% | Val Acc: 97.78% | LR: 0.000000\n",
      "\n",
      "Epoch 42/50\n"
     ]
    },
    {
     "name": "stderr",
     "output_type": "stream",
     "text": [
      "Training: 100%|███████████████████████████████| 263/263 [00:16<00:00, 15.62it/s]\n"
     ]
    },
    {
     "name": "stdout",
     "output_type": "stream",
     "text": [
      "Train Loss: 0.0039 | Train Acc: 99.95% | Val Acc: 97.83% | LR: 0.000000\n",
      "\n",
      "Epoch 43/50\n"
     ]
    },
    {
     "name": "stderr",
     "output_type": "stream",
     "text": [
      "Training: 100%|███████████████████████████████| 263/263 [00:16<00:00, 15.95it/s]\n"
     ]
    },
    {
     "name": "stdout",
     "output_type": "stream",
     "text": [
      "Train Loss: 0.0041 | Train Acc: 99.95% | Val Acc: 97.95% | LR: 0.000000\n",
      "\n",
      "Epoch 44/50\n"
     ]
    },
    {
     "name": "stderr",
     "output_type": "stream",
     "text": [
      "Training: 100%|███████████████████████████████| 263/263 [00:16<00:00, 15.56it/s]\n"
     ]
    },
    {
     "name": "stdout",
     "output_type": "stream",
     "text": [
      "Train Loss: 0.0045 | Train Acc: 99.90% | Val Acc: 97.72% | LR: 0.000000\n",
      "\n",
      "Epoch 45/50\n"
     ]
    },
    {
     "name": "stderr",
     "output_type": "stream",
     "text": [
      "Training: 100%|███████████████████████████████| 263/263 [00:17<00:00, 15.25it/s]\n"
     ]
    },
    {
     "name": "stdout",
     "output_type": "stream",
     "text": [
      "Train Loss: 0.0044 | Train Acc: 99.95% | Val Acc: 97.83% | LR: 0.000000\n",
      "\n",
      "Epoch 46/50\n"
     ]
    },
    {
     "name": "stderr",
     "output_type": "stream",
     "text": [
      "Training: 100%|███████████████████████████████| 263/263 [00:16<00:00, 15.62it/s]\n"
     ]
    },
    {
     "name": "stdout",
     "output_type": "stream",
     "text": [
      "Train Loss: 0.0035 | Train Acc: 99.98% | Val Acc: 97.95% | LR: 0.000000\n",
      "\n",
      "Epoch 47/50\n"
     ]
    },
    {
     "name": "stderr",
     "output_type": "stream",
     "text": [
      "Training: 100%|███████████████████████████████| 263/263 [00:16<00:00, 16.04it/s]\n"
     ]
    },
    {
     "name": "stdout",
     "output_type": "stream",
     "text": [
      "Train Loss: 0.0041 | Train Acc: 99.95% | Val Acc: 98.06% | LR: 0.000000\n",
      "\n",
      "Epoch 48/50\n"
     ]
    },
    {
     "name": "stderr",
     "output_type": "stream",
     "text": [
      "Training: 100%|███████████████████████████████| 263/263 [00:16<00:00, 15.48it/s]\n"
     ]
    },
    {
     "name": "stdout",
     "output_type": "stream",
     "text": [
      "Train Loss: 0.0049 | Train Acc: 99.90% | Val Acc: 97.83% | LR: 0.000000\n",
      "\n",
      "Epoch 49/50\n"
     ]
    },
    {
     "name": "stderr",
     "output_type": "stream",
     "text": [
      "Training: 100%|███████████████████████████████| 263/263 [00:17<00:00, 15.30it/s]\n"
     ]
    },
    {
     "name": "stdout",
     "output_type": "stream",
     "text": [
      "Train Loss: 0.0042 | Train Acc: 99.94% | Val Acc: 97.89% | LR: 0.000000\n",
      "\n",
      "Epoch 50/50\n"
     ]
    },
    {
     "name": "stderr",
     "output_type": "stream",
     "text": [
      "Training: 100%|███████████████████████████████| 263/263 [00:16<00:00, 15.66it/s]\n"
     ]
    },
    {
     "name": "stdout",
     "output_type": "stream",
     "text": [
      "Train Loss: 0.0040 | Train Acc: 99.95% | Val Acc: 97.83% | LR: 0.000000\n",
      "📊 已儲存訓練過程圖：training_metrics_summary.png\n"
     ]
    },
    {
     "data": {
      "image/png": "[encoded data removed]",
      "text/plain": [
       "<Figure size 800x1200 with 4 Axes>"
      ]
     },
     "metadata": {},
     "output_type": "display_data"
    }
   ],
   "source": [
    "import os\n",
    "import torch\n",
    "import torch.nn as nn\n",
    "import torch.optim as optim\n",
    "from torchvision import datasets, transforms, models\n",
    "from torch.utils.data import DataLoader\n",
    "from torch.optim.lr_scheduler import StepLR\n",
    "from tqdm import tqdm\n",
    "import matplotlib.pyplot as plt\n",
    "\n",
    "# ====== 設定參數 ======\n",
    "data_root = '/home/ne6131039/Desktop/TEM_DATAS/TEM_binary'\n",
    "batch_size = 32\n",
    "num_epochs = 50\n",
    "initial_lr = 0.0001\n",
    "device = torch.device(\"cuda\" if torch.cuda.is_available() else \"cpu\")\n",
    "\n",
    "# ====== 圖像轉換 ======\n",
    "transform = {\n",
    "    'train': transforms.Compose([\n",
    "        transforms.Resize((224, 224)),\n",
    "        transforms.RandomHorizontalFlip(),\n",
    "        transforms.ToTensor(),\n",
    "        transforms.Normalize([0.5]*3, [0.5]*3)\n",
    "    ]),\n",
    "    'val': transforms.Compose([\n",
    "        transforms.Resize((224, 224)),\n",
    "        transforms.ToTensor(),\n",
    "        transforms.Normalize([0.5]*3, [0.5]*3)\n",
    "    ])\n",
    "}\n",
    "\n",
    "# ====== 載入資料集 ======\n",
    "datasets_binary = {\n",
    "    x: datasets.ImageFolder(os.path.join(data_root, x), transform=transform[x])\n",
    "    for x in ['train', 'val']\n",
    "}\n",
    "dataloaders = {\n",
    "    x: DataLoader(datasets_binary[x], batch_size=batch_size, shuffle=True, num_workers=4)\n",
    "    for x in ['train', 'val']\n",
    "}\n",
    "class_names = datasets_binary['train'].classes\n",
    "print(\"類別標籤對應：\", class_names)\n",
    "\n",
    "# ====== 建立模型 ======\n",
    "model = models.resnet18(pretrained=True)\n",
    "model.fc = nn.Linear(model.fc.in_features, 2)\n",
    "model = model.to(device)\n",
    "\n",
    "# ====== Optimizer & Scheduler ======\n",
    "criterion = nn.CrossEntropyLoss()\n",
    "optimizer = optim.Adam(model.parameters(), lr=initial_lr)\n",
    "scheduler = StepLR(optimizer, step_size=5, gamma=0.1)\n",
    "\n",
    "# ====== 記錄訓練資料 ======\n",
    "loss_history = []\n",
    "train_acc_history = []\n",
    "val_acc_history = []\n",
    "lr_history = []\n",
    "best_val_acc = 0.0\n",
    "best_model_path = \"best_binary_classifier.pth\"\n",
    "\n",
    "# ====== 訓練主迴圈 ======\n",
    "for epoch in range(num_epochs):\n",
    "    print(f\"\\nEpoch {epoch+1}/{num_epochs}\")\n",
    "    model.train()\n",
    "    running_loss, running_corrects, total = 0.0, 0, 0\n",
    "\n",
    "    for inputs, labels in tqdm(dataloaders['train'], desc=\"Training\"):\n",
    "        inputs, labels = inputs.to(device), labels.to(device)\n",
    "\n",
    "        optimizer.zero_grad()\n",
    "        outputs = model(inputs)\n",
    "        loss = criterion(outputs, labels)\n",
    "        loss.backward()\n",
    "        optimizer.step()\n",
    "\n",
    "        _, preds = torch.max(outputs, 1)\n",
    "        running_loss += loss.item() * inputs.size(0)\n",
    "        running_corrects += torch.sum(preds == labels.data)\n",
    "        total += labels.size(0)\n",
    "\n",
    "    train_loss = running_loss / total\n",
    "    train_acc = running_corrects.double() / total\n",
    "\n",
    "    # 驗證階段\n",
    "    model.eval()\n",
    "    val_corrects, val_total = 0, 0\n",
    "    with torch.no_grad():\n",
    "        for inputs, labels in dataloaders['val']:\n",
    "            inputs, labels = inputs.to(device), labels.to(device)\n",
    "            outputs = model(inputs)\n",
    "            _, preds = torch.max(outputs, 1)\n",
    "            val_corrects += torch.sum(preds == labels.data)\n",
    "            val_total += labels.size(0)\n",
    "\n",
    "    val_acc = val_corrects.double() / val_total\n",
    "    current_lr = optimizer.param_groups[0]['lr']\n",
    "\n",
    "    # 更新最佳模型\n",
    "    if val_acc > best_val_acc:\n",
    "        best_val_acc = val_acc\n",
    "        torch.save(model.state_dict(), best_model_path)\n",
    "        print(f\"✅ 儲存最佳模型 (Val Acc: {val_acc:.2%})\")\n",
    "\n",
    "    # 紀錄數據\n",
    "    loss_history.append(train_loss)\n",
    "    train_acc_history.append(train_acc.item())\n",
    "    val_acc_history.append(val_acc.item())\n",
    "    lr_history.append(current_lr)\n",
    "\n",
    "    scheduler.step()\n",
    "    print(f\"Train Loss: {train_loss:.4f} | Train Acc: {train_acc:.2%} | Val Acc: {val_acc:.2%} | LR: {current_lr:.6f}\")\n",
    "\n",
    "# ====== 繪製圖形並儲存 ======\n",
    "epochs = list(range(1, num_epochs + 1))\n",
    "fig, axs = plt.subplots(4, 1, figsize=(8, 12))\n",
    "\n",
    "axs[0].plot(epochs, loss_history, color='red', marker='o')\n",
    "axs[0].set_title(\"Training Loss over Epochs\")\n",
    "axs[0].set_xlabel(\"Epoch\")\n",
    "axs[0].set_ylabel(\"Loss\")\n",
    "axs[0].grid(True)\n",
    "\n",
    "axs[1].plot(epochs, train_acc_history, color='orange', marker='o')\n",
    "axs[1].set_title(\"Training Accuracy over Epochs\")\n",
    "axs[1].set_xlabel(\"Epoch\")\n",
    "axs[1].set_ylabel(\"Accuracy\")\n",
    "axs[1].grid(True)\n",
    "\n",
    "axs[2].plot(epochs, val_acc_history, color='blue', marker='o')\n",
    "axs[2].set_title(\"Validation Accuracy over Epochs\")\n",
    "axs[2].set_xlabel(\"Epoch\")\n",
    "axs[2].set_ylabel(\"Accuracy\")\n",
    "axs[2].grid(True)\n",
    "\n",
    "axs[3].plot(epochs, lr_history, color='green', marker='o')\n",
    "axs[3].set_title(\"Learning Rate over Epochs\")\n",
    "axs[3].set_xlabel(\"Epoch\")\n",
    "axs[3].set_ylabel(\"Learning Rate\")\n",
    "axs[3].grid(True)\n",
    "\n",
    "plt.tight_layout()\n",
    "plt.savefig(\"training_metrics_summary.png\")\n",
    "print(\"📊 已儲存訓練過程圖：training_metrics_summary.png\")\n",
    "plt.show()\n"
   ]
  },
  {
   "cell_type": "code",
   "execution_count": 18,
   "id": "c71646ae-f0ca-4094-8dce-7f3f2a2cb351",
   "metadata": {
    "execution": {
     "iopub.execute_input": "2025-05-14T12:42:14.500531Z",
     "iopub.status.busy": "2025-05-14T12:42:14.499874Z",
     "iopub.status.idle": "2025-05-14T12:44:03.020970Z",
     "shell.execute_reply": "2025-05-14T12:44:03.020351Z",
     "shell.execute_reply.started": "2025-05-14T12:42:14.500509Z"
    }
   },
   "outputs": [
    {
     "name": "stdout",
     "output_type": "stream",
     "text": [
      "分類標籤： ['None', 'NotNone']\n"
     ]
    },
    {
     "name": "stderr",
     "output_type": "stream",
     "text": [
      "/home/ne6131039/anaconda3/envs/TEM_project/lib/python3.8/site-packages/torchvision/models/_utils.py:208: UserWarning: The parameter 'pretrained' is deprecated since 0.13 and may be removed in the future, please use 'weights' instead.\n",
      "  warnings.warn(\n",
      "/home/ne6131039/anaconda3/envs/TEM_project/lib/python3.8/site-packages/torchvision/models/_utils.py:223: UserWarning: Arguments other than a weight enum or `None` for 'weights' are deprecated since 0.13 and may be removed in the future. The current behavior is equivalent to passing `weights=None`.\n",
      "  warnings.warn(msg)\n",
      "/tmp/ipykernel_29711/3348162156.py:32: FutureWarning: You are using `torch.load` with `weights_only=False` (the current default value), which uses the default pickle module implicitly. It is possible to construct malicious pickle data which will execute arbitrary code during unpickling (See https://github.com/pytorch/pytorch/blob/main/SECURITY.md#untrusted-models for more details). In a future release, the default value for `weights_only` will be flipped to `True`. This limits the functions that could be executed during unpickling. Arbitrary objects will no longer be allowed to be loaded via this mode unless they are explicitly allowlisted by the user via `torch.serialization.add_safe_globals`. We recommend you start setting `weights_only=True` for any use case where you don't have full control of the loaded file. Please open an issue on GitHub for any issues related to this experimental feature.\n",
      "  model.load_state_dict(torch.load(model_path))\n"
     ]
    },
    {
     "name": "stdout",
     "output_type": "stream",
     "text": [
      "✅ 測試準確率：97.68%\n"
     ]
    },
    {
     "data": {
      "image/png": "[encoded data removed]",
      "text/plain": [
       "<Figure size 500x400 with 2 Axes>"
      ]
     },
     "metadata": {},
     "output_type": "display_data"
    },
    {
     "name": "stdout",
     "output_type": "stream",
     "text": [
      "\n",
      "📋 詳細分類報告:\n",
      "              precision    recall  f1-score   support\n",
      "\n",
      "        None       0.93      0.90      0.91       247\n",
      "     NotNone       0.98      0.99      0.99      1561\n",
      "\n",
      "    accuracy                           0.98      1808\n",
      "   macro avg       0.95      0.95      0.95      1808\n",
      "weighted avg       0.98      0.98      0.98      1808\n",
      "\n"
     ]
    }
   ],
   "source": [
    "import os\n",
    "import torch\n",
    "from torchvision import datasets, transforms, models\n",
    "from torch.utils.data import DataLoader\n",
    "from sklearn.metrics import confusion_matrix, classification_report\n",
    "import matplotlib.pyplot as plt\n",
    "import seaborn as sns\n",
    "import numpy as np\n",
    "\n",
    "# ====== 參數設定 ======\n",
    "test_dir = '/home/ne6131039/Desktop/TEM_DATAS/TEM_binary/test'\n",
    "model_path = 'best_binary_classifier.pth'\n",
    "batch_size = 32\n",
    "device = torch.device('cuda' if torch.cuda.is_available() else 'cpu')\n",
    "\n",
    "# ====== 圖像預處理 ======\n",
    "transform = transforms.Compose([\n",
    "    transforms.Resize((224, 224)),\n",
    "    transforms.ToTensor(),\n",
    "    transforms.Normalize([0.5]*3, [0.5]*3)\n",
    "])\n",
    "\n",
    "# ====== 載入測試資料集 ======\n",
    "test_dataset = datasets.ImageFolder(test_dir, transform=transform)\n",
    "test_loader = DataLoader(test_dataset, batch_size=batch_size, shuffle=False)\n",
    "class_names = test_dataset.classes\n",
    "print(\"分類標籤：\", class_names)\n",
    "\n",
    "# ====== 載入模型並轉移至 GPU ======\n",
    "model = models.resnet18(pretrained=False)\n",
    "model.fc = torch.nn.Linear(model.fc.in_features, 2)\n",
    "model.load_state_dict(torch.load(model_path))\n",
    "model.to(device)\n",
    "model.eval()\n",
    "\n",
    "# ====== 推論並紀錄結果 ======\n",
    "all_preds = []\n",
    "all_labels = []\n",
    "\n",
    "with torch.no_grad():\n",
    "    for images, labels in test_loader:\n",
    "        images, labels = images.to(device), labels.to(device)\n",
    "        outputs = model(images)\n",
    "        _, preds = torch.max(outputs, 1)\n",
    "        all_preds.extend(preds.cpu().numpy())\n",
    "        all_labels.extend(labels.cpu().numpy())\n",
    "\n",
    "# ====== 整體準確率 ======\n",
    "all_preds = np.array(all_preds)\n",
    "all_labels = np.array(all_labels)\n",
    "acc = (all_preds == all_labels).sum() / len(all_labels)\n",
    "print(f\"✅ 測試準確率：{acc:.2%}\")\n",
    "\n",
    "# ====== 混淆矩陣與報告 ======\n",
    "cm = confusion_matrix(all_labels, all_preds)\n",
    "plt.figure(figsize=(5, 4))\n",
    "sns.heatmap(cm, annot=True, fmt='d', cmap='Blues',\n",
    "            xticklabels=class_names, yticklabels=class_names)\n",
    "plt.xlabel('Predicted')\n",
    "plt.ylabel('True')\n",
    "plt.title('Confusion Matrix (Test Set)')\n",
    "plt.tight_layout()\n",
    "plt.savefig(\"test_confusion_matrix.png\")\n",
    "plt.show()\n",
    "\n",
    "print(\"\\n📋 詳細分類報告:\")\n",
    "print(classification_report(all_labels, all_preds, target_names=class_names))\n"
   ]
  },
  {
   "cell_type": "code",
   "execution_count": 20,
   "id": "0c6ef7e5-406c-412d-8e4d-4c442f051491",
   "metadata": {
    "execution": {
     "iopub.execute_input": "2025-05-14T13:14:05.195041Z",
     "iopub.status.busy": "2025-05-14T13:14:05.194462Z",
     "iopub.status.idle": "2025-05-14T13:27:52.607492Z",
     "shell.execute_reply": "2025-05-14T13:27:52.606914Z",
     "shell.execute_reply.started": "2025-05-14T13:14:05.195015Z"
    },
    "scrolled": true
   },
   "outputs": [
    {
     "name": "stdout",
     "output_type": "stream",
     "text": [
      "五類標籤： ['CTEM', 'Diffraction', 'HR-TEM', 'SEM', 'STEM']\n",
      "\n",
      "Epoch 1/50\n"
     ]
    },
    {
     "name": "stderr",
     "output_type": "stream",
     "text": [
      "Training: 100%|███████████████████████████████| 227/227 [00:14<00:00, 16.03it/s]\n"
     ]
    },
    {
     "name": "stdout",
     "output_type": "stream",
     "text": [
      "✅ 儲存最佳模型 (Val Acc: 92.28%)\n",
      "Train Loss: 0.4070 | Train Acc: 85.49% | Val Acc: 92.28% | LR: 0.000100\n",
      "\n",
      "Epoch 2/50\n"
     ]
    },
    {
     "name": "stderr",
     "output_type": "stream",
     "text": [
      "Training: 100%|███████████████████████████████| 227/227 [00:13<00:00, 16.27it/s]\n"
     ]
    },
    {
     "name": "stdout",
     "output_type": "stream",
     "text": [
      "✅ 儲存最佳模型 (Val Acc: 92.73%)\n",
      "Train Loss: 0.1693 | Train Acc: 94.19% | Val Acc: 92.73% | LR: 0.000100\n",
      "\n",
      "Epoch 3/50\n"
     ]
    },
    {
     "name": "stderr",
     "output_type": "stream",
     "text": [
      "Training: 100%|███████████████████████████████| 227/227 [00:14<00:00, 16.13it/s]\n"
     ]
    },
    {
     "name": "stdout",
     "output_type": "stream",
     "text": [
      "✅ 儲存最佳模型 (Val Acc: 94.15%)\n",
      "Train Loss: 0.0928 | Train Acc: 96.93% | Val Acc: 94.15% | LR: 0.000100\n",
      "\n",
      "Epoch 4/50\n"
     ]
    },
    {
     "name": "stderr",
     "output_type": "stream",
     "text": [
      "Training: 100%|███████████████████████████████| 227/227 [00:13<00:00, 16.54it/s]\n"
     ]
    },
    {
     "name": "stdout",
     "output_type": "stream",
     "text": [
      "Train Loss: 0.0720 | Train Acc: 97.70% | Val Acc: 93.89% | LR: 0.000100\n",
      "\n",
      "Epoch 5/50\n"
     ]
    },
    {
     "name": "stderr",
     "output_type": "stream",
     "text": [
      "Training: 100%|███████████████████████████████| 227/227 [00:14<00:00, 16.10it/s]\n"
     ]
    },
    {
     "name": "stdout",
     "output_type": "stream",
     "text": [
      "✅ 儲存最佳模型 (Val Acc: 94.41%)\n",
      "Train Loss: 0.0595 | Train Acc: 98.02% | Val Acc: 94.41% | LR: 0.000100\n",
      "\n",
      "Epoch 6/50\n"
     ]
    },
    {
     "name": "stderr",
     "output_type": "stream",
     "text": [
      "Training: 100%|███████████████████████████████| 227/227 [00:14<00:00, 15.52it/s]\n"
     ]
    },
    {
     "name": "stdout",
     "output_type": "stream",
     "text": [
      "✅ 儲存最佳模型 (Val Acc: 95.95%)\n",
      "Train Loss: 0.0281 | Train Acc: 99.09% | Val Acc: 95.95% | LR: 0.000010\n",
      "\n",
      "Epoch 7/50\n"
     ]
    },
    {
     "name": "stderr",
     "output_type": "stream",
     "text": [
      "Training: 100%|███████████████████████████████| 227/227 [00:13<00:00, 16.22it/s]\n"
     ]
    },
    {
     "name": "stdout",
     "output_type": "stream",
     "text": [
      "✅ 儲存最佳模型 (Val Acc: 96.27%)\n",
      "Train Loss: 0.0200 | Train Acc: 99.53% | Val Acc: 96.27% | LR: 0.000010\n",
      "\n",
      "Epoch 8/50\n"
     ]
    },
    {
     "name": "stderr",
     "output_type": "stream",
     "text": [
      "Training: 100%|███████████████████████████████| 227/227 [00:13<00:00, 16.99it/s]\n"
     ]
    },
    {
     "name": "stdout",
     "output_type": "stream",
     "text": [
      "Train Loss: 0.0151 | Train Acc: 99.71% | Val Acc: 96.27% | LR: 0.000010\n",
      "\n",
      "Epoch 9/50\n"
     ]
    },
    {
     "name": "stderr",
     "output_type": "stream",
     "text": [
      "Training: 100%|███████████████████████████████| 227/227 [00:13<00:00, 16.97it/s]\n"
     ]
    },
    {
     "name": "stdout",
     "output_type": "stream",
     "text": [
      "✅ 儲存最佳模型 (Val Acc: 96.40%)\n",
      "Train Loss: 0.0112 | Train Acc: 99.85% | Val Acc: 96.40% | LR: 0.000010\n",
      "\n",
      "Epoch 10/50\n"
     ]
    },
    {
     "name": "stderr",
     "output_type": "stream",
     "text": [
      "Training: 100%|███████████████████████████████| 227/227 [00:14<00:00, 15.59it/s]\n"
     ]
    },
    {
     "name": "stdout",
     "output_type": "stream",
     "text": [
      "Train Loss: 0.0105 | Train Acc: 99.86% | Val Acc: 96.14% | LR: 0.000010\n",
      "\n",
      "Epoch 11/50\n"
     ]
    },
    {
     "name": "stderr",
     "output_type": "stream",
     "text": [
      "Training: 100%|███████████████████████████████| 227/227 [00:14<00:00, 16.10it/s]\n"
     ]
    },
    {
     "name": "stdout",
     "output_type": "stream",
     "text": [
      "Train Loss: 0.0090 | Train Acc: 99.86% | Val Acc: 96.27% | LR: 0.000001\n",
      "\n",
      "Epoch 12/50\n"
     ]
    },
    {
     "name": "stderr",
     "output_type": "stream",
     "text": [
      "Training: 100%|███████████████████████████████| 227/227 [00:14<00:00, 15.29it/s]\n"
     ]
    },
    {
     "name": "stdout",
     "output_type": "stream",
     "text": [
      "Train Loss: 0.0089 | Train Acc: 99.86% | Val Acc: 96.21% | LR: 0.000001\n",
      "\n",
      "Epoch 13/50\n"
     ]
    },
    {
     "name": "stderr",
     "output_type": "stream",
     "text": [
      "Training: 100%|███████████████████████████████| 227/227 [00:14<00:00, 15.57it/s]\n"
     ]
    },
    {
     "name": "stdout",
     "output_type": "stream",
     "text": [
      "✅ 儲存最佳模型 (Val Acc: 96.46%)\n",
      "Train Loss: 0.0089 | Train Acc: 99.86% | Val Acc: 96.46% | LR: 0.000001\n",
      "\n",
      "Epoch 14/50\n"
     ]
    },
    {
     "name": "stderr",
     "output_type": "stream",
     "text": [
      "Training: 100%|███████████████████████████████| 227/227 [00:14<00:00, 15.96it/s]\n"
     ]
    },
    {
     "name": "stdout",
     "output_type": "stream",
     "text": [
      "Train Loss: 0.0085 | Train Acc: 99.86% | Val Acc: 96.40% | LR: 0.000001\n",
      "\n",
      "Epoch 15/50\n"
     ]
    },
    {
     "name": "stderr",
     "output_type": "stream",
     "text": [
      "Training: 100%|███████████████████████████████| 227/227 [00:14<00:00, 15.36it/s]\n"
     ]
    },
    {
     "name": "stdout",
     "output_type": "stream",
     "text": [
      "Train Loss: 0.0094 | Train Acc: 99.85% | Val Acc: 96.46% | LR: 0.000001\n",
      "\n",
      "Epoch 16/50\n"
     ]
    },
    {
     "name": "stderr",
     "output_type": "stream",
     "text": [
      "Training: 100%|███████████████████████████████| 227/227 [00:14<00:00, 15.59it/s]\n"
     ]
    },
    {
     "name": "stdout",
     "output_type": "stream",
     "text": [
      "Train Loss: 0.0092 | Train Acc: 99.86% | Val Acc: 96.21% | LR: 0.000000\n",
      "\n",
      "Epoch 17/50\n"
     ]
    },
    {
     "name": "stderr",
     "output_type": "stream",
     "text": [
      "Training: 100%|███████████████████████████████| 227/227 [00:13<00:00, 16.54it/s]\n"
     ]
    },
    {
     "name": "stdout",
     "output_type": "stream",
     "text": [
      "✅ 儲存最佳模型 (Val Acc: 96.53%)\n",
      "Train Loss: 0.0072 | Train Acc: 99.94% | Val Acc: 96.53% | LR: 0.000000\n",
      "\n",
      "Epoch 18/50\n"
     ]
    },
    {
     "name": "stderr",
     "output_type": "stream",
     "text": [
      "Training: 100%|███████████████████████████████| 227/227 [00:14<00:00, 15.63it/s]\n"
     ]
    },
    {
     "name": "stdout",
     "output_type": "stream",
     "text": [
      "Train Loss: 0.0086 | Train Acc: 99.89% | Val Acc: 96.27% | LR: 0.000000\n",
      "\n",
      "Epoch 19/50\n"
     ]
    },
    {
     "name": "stderr",
     "output_type": "stream",
     "text": [
      "Training: 100%|███████████████████████████████| 227/227 [00:14<00:00, 15.91it/s]\n"
     ]
    },
    {
     "name": "stdout",
     "output_type": "stream",
     "text": [
      "Train Loss: 0.0074 | Train Acc: 99.96% | Val Acc: 96.21% | LR: 0.000000\n",
      "\n",
      "Epoch 20/50\n"
     ]
    },
    {
     "name": "stderr",
     "output_type": "stream",
     "text": [
      "Training: 100%|███████████████████████████████| 227/227 [00:13<00:00, 16.52it/s]\n"
     ]
    },
    {
     "name": "stdout",
     "output_type": "stream",
     "text": [
      "Train Loss: 0.0089 | Train Acc: 99.89% | Val Acc: 96.46% | LR: 0.000000\n",
      "\n",
      "Epoch 21/50\n"
     ]
    },
    {
     "name": "stderr",
     "output_type": "stream",
     "text": [
      "Training: 100%|███████████████████████████████| 227/227 [00:14<00:00, 15.44it/s]\n"
     ]
    },
    {
     "name": "stdout",
     "output_type": "stream",
     "text": [
      "Train Loss: 0.0077 | Train Acc: 99.89% | Val Acc: 96.40% | LR: 0.000000\n",
      "\n",
      "Epoch 22/50\n"
     ]
    },
    {
     "name": "stderr",
     "output_type": "stream",
     "text": [
      "Training: 100%|███████████████████████████████| 227/227 [00:14<00:00, 15.82it/s]\n"
     ]
    },
    {
     "name": "stdout",
     "output_type": "stream",
     "text": [
      "Train Loss: 0.0072 | Train Acc: 99.94% | Val Acc: 96.53% | LR: 0.000000\n",
      "\n",
      "Epoch 23/50\n"
     ]
    },
    {
     "name": "stderr",
     "output_type": "stream",
     "text": [
      "Training: 100%|███████████████████████████████| 227/227 [00:13<00:00, 16.66it/s]\n"
     ]
    },
    {
     "name": "stdout",
     "output_type": "stream",
     "text": [
      "Train Loss: 0.0090 | Train Acc: 99.79% | Val Acc: 96.40% | LR: 0.000000\n",
      "\n",
      "Epoch 24/50\n"
     ]
    },
    {
     "name": "stderr",
     "output_type": "stream",
     "text": [
      "Training: 100%|███████████████████████████████| 227/227 [00:14<00:00, 15.86it/s]\n"
     ]
    },
    {
     "name": "stdout",
     "output_type": "stream",
     "text": [
      "Train Loss: 0.0082 | Train Acc: 99.89% | Val Acc: 96.40% | LR: 0.000000\n",
      "\n",
      "Epoch 25/50\n"
     ]
    },
    {
     "name": "stderr",
     "output_type": "stream",
     "text": [
      "Training: 100%|███████████████████████████████| 227/227 [00:14<00:00, 16.10it/s]\n"
     ]
    },
    {
     "name": "stdout",
     "output_type": "stream",
     "text": [
      "Train Loss: 0.0076 | Train Acc: 99.90% | Val Acc: 96.53% | LR: 0.000000\n",
      "\n",
      "Epoch 26/50\n"
     ]
    },
    {
     "name": "stderr",
     "output_type": "stream",
     "text": [
      "Training: 100%|███████████████████████████████| 227/227 [00:13<00:00, 16.85it/s]\n"
     ]
    },
    {
     "name": "stdout",
     "output_type": "stream",
     "text": [
      "Train Loss: 0.0077 | Train Acc: 99.88% | Val Acc: 96.40% | LR: 0.000000\n",
      "\n",
      "Epoch 27/50\n"
     ]
    },
    {
     "name": "stderr",
     "output_type": "stream",
     "text": [
      "Training: 100%|███████████████████████████████| 227/227 [00:13<00:00, 16.51it/s]\n"
     ]
    },
    {
     "name": "stdout",
     "output_type": "stream",
     "text": [
      "Train Loss: 0.0078 | Train Acc: 99.86% | Val Acc: 96.14% | LR: 0.000000\n",
      "\n",
      "Epoch 28/50\n"
     ]
    },
    {
     "name": "stderr",
     "output_type": "stream",
     "text": [
      "Training: 100%|███████████████████████████████| 227/227 [00:12<00:00, 17.59it/s]\n"
     ]
    },
    {
     "name": "stdout",
     "output_type": "stream",
     "text": [
      "Train Loss: 0.0075 | Train Acc: 99.94% | Val Acc: 96.14% | LR: 0.000000\n",
      "\n",
      "Epoch 29/50\n"
     ]
    },
    {
     "name": "stderr",
     "output_type": "stream",
     "text": [
      "Training: 100%|███████████████████████████████| 227/227 [00:13<00:00, 16.84it/s]\n"
     ]
    },
    {
     "name": "stdout",
     "output_type": "stream",
     "text": [
      "Train Loss: 0.0087 | Train Acc: 99.86% | Val Acc: 96.53% | LR: 0.000000\n",
      "\n",
      "Epoch 30/50\n"
     ]
    },
    {
     "name": "stderr",
     "output_type": "stream",
     "text": [
      "Training: 100%|███████████████████████████████| 227/227 [00:13<00:00, 16.76it/s]\n"
     ]
    },
    {
     "name": "stdout",
     "output_type": "stream",
     "text": [
      "Train Loss: 0.0092 | Train Acc: 99.85% | Val Acc: 96.40% | LR: 0.000000\n",
      "\n",
      "Epoch 31/50\n"
     ]
    },
    {
     "name": "stderr",
     "output_type": "stream",
     "text": [
      "Training: 100%|███████████████████████████████| 227/227 [00:14<00:00, 16.15it/s]\n"
     ]
    },
    {
     "name": "stdout",
     "output_type": "stream",
     "text": [
      "Train Loss: 0.0079 | Train Acc: 99.86% | Val Acc: 96.40% | LR: 0.000000\n",
      "\n",
      "Epoch 32/50\n"
     ]
    },
    {
     "name": "stderr",
     "output_type": "stream",
     "text": [
      "Training: 100%|███████████████████████████████| 227/227 [00:13<00:00, 16.81it/s]\n"
     ]
    },
    {
     "name": "stdout",
     "output_type": "stream",
     "text": [
      "✅ 儲存最佳模型 (Val Acc: 96.66%)\n",
      "Train Loss: 0.0071 | Train Acc: 99.96% | Val Acc: 96.66% | LR: 0.000000\n",
      "\n",
      "Epoch 33/50\n"
     ]
    },
    {
     "name": "stderr",
     "output_type": "stream",
     "text": [
      "Training: 100%|███████████████████████████████| 227/227 [00:13<00:00, 16.29it/s]\n"
     ]
    },
    {
     "name": "stdout",
     "output_type": "stream",
     "text": [
      "Train Loss: 0.0090 | Train Acc: 99.86% | Val Acc: 96.53% | LR: 0.000000\n",
      "\n",
      "Epoch 34/50\n"
     ]
    },
    {
     "name": "stderr",
     "output_type": "stream",
     "text": [
      "Training: 100%|███████████████████████████████| 227/227 [00:14<00:00, 16.10it/s]\n"
     ]
    },
    {
     "name": "stdout",
     "output_type": "stream",
     "text": [
      "Train Loss: 0.0071 | Train Acc: 99.97% | Val Acc: 96.59% | LR: 0.000000\n",
      "\n",
      "Epoch 35/50\n"
     ]
    },
    {
     "name": "stderr",
     "output_type": "stream",
     "text": [
      "Training: 100%|███████████████████████████████| 227/227 [00:13<00:00, 16.99it/s]\n"
     ]
    },
    {
     "name": "stdout",
     "output_type": "stream",
     "text": [
      "Train Loss: 0.0084 | Train Acc: 99.89% | Val Acc: 96.53% | LR: 0.000000\n",
      "\n",
      "Epoch 36/50\n"
     ]
    },
    {
     "name": "stderr",
     "output_type": "stream",
     "text": [
      "Training: 100%|███████████████████████████████| 227/227 [00:13<00:00, 16.57it/s]\n"
     ]
    },
    {
     "name": "stdout",
     "output_type": "stream",
     "text": [
      "Train Loss: 0.0087 | Train Acc: 99.85% | Val Acc: 96.27% | LR: 0.000000\n",
      "\n",
      "Epoch 37/50\n"
     ]
    },
    {
     "name": "stderr",
     "output_type": "stream",
     "text": [
      "Training: 100%|███████████████████████████████| 227/227 [00:14<00:00, 15.99it/s]\n"
     ]
    },
    {
     "name": "stdout",
     "output_type": "stream",
     "text": [
      "Train Loss: 0.0085 | Train Acc: 99.82% | Val Acc: 96.53% | LR: 0.000000\n",
      "\n",
      "Epoch 38/50\n"
     ]
    },
    {
     "name": "stderr",
     "output_type": "stream",
     "text": [
      "Training: 100%|███████████████████████████████| 227/227 [00:13<00:00, 16.92it/s]\n"
     ]
    },
    {
     "name": "stdout",
     "output_type": "stream",
     "text": [
      "Train Loss: 0.0088 | Train Acc: 99.86% | Val Acc: 96.53% | LR: 0.000000\n",
      "\n",
      "Epoch 39/50\n"
     ]
    },
    {
     "name": "stderr",
     "output_type": "stream",
     "text": [
      "Training: 100%|███████████████████████████████| 227/227 [00:13<00:00, 16.60it/s]\n"
     ]
    },
    {
     "name": "stdout",
     "output_type": "stream",
     "text": [
      "Train Loss: 0.0074 | Train Acc: 99.92% | Val Acc: 96.27% | LR: 0.000000\n",
      "\n",
      "Epoch 40/50\n"
     ]
    },
    {
     "name": "stderr",
     "output_type": "stream",
     "text": [
      "Training: 100%|███████████████████████████████| 227/227 [00:14<00:00, 16.05it/s]\n"
     ]
    },
    {
     "name": "stdout",
     "output_type": "stream",
     "text": [
      "Train Loss: 0.0082 | Train Acc: 99.89% | Val Acc: 96.40% | LR: 0.000000\n",
      "\n",
      "Epoch 41/50\n"
     ]
    },
    {
     "name": "stderr",
     "output_type": "stream",
     "text": [
      "Training: 100%|███████████████████████████████| 227/227 [00:13<00:00, 16.67it/s]\n"
     ]
    },
    {
     "name": "stdout",
     "output_type": "stream",
     "text": [
      "Train Loss: 0.0088 | Train Acc: 99.86% | Val Acc: 96.33% | LR: 0.000000\n",
      "\n",
      "Epoch 42/50\n"
     ]
    },
    {
     "name": "stderr",
     "output_type": "stream",
     "text": [
      "Training: 100%|███████████████████████████████| 227/227 [00:13<00:00, 16.32it/s]\n"
     ]
    },
    {
     "name": "stdout",
     "output_type": "stream",
     "text": [
      "Train Loss: 0.0093 | Train Acc: 99.83% | Val Acc: 96.08% | LR: 0.000000\n",
      "\n",
      "Epoch 43/50\n"
     ]
    },
    {
     "name": "stderr",
     "output_type": "stream",
     "text": [
      "Training: 100%|███████████████████████████████| 227/227 [00:14<00:00, 16.15it/s]\n"
     ]
    },
    {
     "name": "stdout",
     "output_type": "stream",
     "text": [
      "Train Loss: 0.0080 | Train Acc: 99.86% | Val Acc: 96.40% | LR: 0.000000\n",
      "\n",
      "Epoch 44/50\n"
     ]
    },
    {
     "name": "stderr",
     "output_type": "stream",
     "text": [
      "Training: 100%|███████████████████████████████| 227/227 [00:13<00:00, 16.80it/s]\n"
     ]
    },
    {
     "name": "stdout",
     "output_type": "stream",
     "text": [
      "Train Loss: 0.0083 | Train Acc: 99.88% | Val Acc: 96.46% | LR: 0.000000\n",
      "\n",
      "Epoch 45/50\n"
     ]
    },
    {
     "name": "stderr",
     "output_type": "stream",
     "text": [
      "Training: 100%|███████████████████████████████| 227/227 [00:14<00:00, 16.20it/s]\n"
     ]
    },
    {
     "name": "stdout",
     "output_type": "stream",
     "text": [
      "Train Loss: 0.0094 | Train Acc: 99.89% | Val Acc: 96.40% | LR: 0.000000\n",
      "\n",
      "Epoch 46/50\n"
     ]
    },
    {
     "name": "stderr",
     "output_type": "stream",
     "text": [
      "Training: 100%|███████████████████████████████| 227/227 [00:13<00:00, 16.27it/s]\n"
     ]
    },
    {
     "name": "stdout",
     "output_type": "stream",
     "text": [
      "Train Loss: 0.0084 | Train Acc: 99.88% | Val Acc: 96.14% | LR: 0.000000\n",
      "\n",
      "Epoch 47/50\n"
     ]
    },
    {
     "name": "stderr",
     "output_type": "stream",
     "text": [
      "Training: 100%|███████████████████████████████| 227/227 [00:13<00:00, 17.20it/s]\n"
     ]
    },
    {
     "name": "stdout",
     "output_type": "stream",
     "text": [
      "Train Loss: 0.0102 | Train Acc: 99.78% | Val Acc: 96.40% | LR: 0.000000\n",
      "\n",
      "Epoch 48/50\n"
     ]
    },
    {
     "name": "stderr",
     "output_type": "stream",
     "text": [
      "Training: 100%|███████████████████████████████| 227/227 [00:12<00:00, 18.83it/s]\n"
     ]
    },
    {
     "name": "stdout",
     "output_type": "stream",
     "text": [
      "Train Loss: 0.0079 | Train Acc: 99.89% | Val Acc: 96.33% | LR: 0.000000\n",
      "\n",
      "Epoch 49/50\n"
     ]
    },
    {
     "name": "stderr",
     "output_type": "stream",
     "text": [
      "Training: 100%|███████████████████████████████| 227/227 [00:12<00:00, 18.57it/s]\n"
     ]
    },
    {
     "name": "stdout",
     "output_type": "stream",
     "text": [
      "Train Loss: 0.0090 | Train Acc: 99.85% | Val Acc: 96.27% | LR: 0.000000\n",
      "\n",
      "Epoch 50/50\n"
     ]
    },
    {
     "name": "stderr",
     "output_type": "stream",
     "text": [
      "Training: 100%|███████████████████████████████| 227/227 [00:11<00:00, 19.18it/s]\n"
     ]
    },
    {
     "name": "stdout",
     "output_type": "stream",
     "text": [
      "Train Loss: 0.0081 | Train Acc: 99.90% | Val Acc: 96.53% | LR: 0.000000\n",
      "📊 已儲存五類訓練圖：five_class_training_metrics.png\n"
     ]
    },
    {
     "data": {
      "image/png": "[encoded data removed]",
      "text/plain": [
       "<Figure size 800x1200 with 4 Axes>"
      ]
     },
     "metadata": {},
     "output_type": "display_data"
    }
   ],
   "source": [
    "import os\n",
    "import torch\n",
    "import torch.nn as nn\n",
    "import torch.optim as optim\n",
    "from torchvision import datasets, transforms, models\n",
    "from torch.utils.data import DataLoader\n",
    "from torch.optim.lr_scheduler import StepLR\n",
    "from tqdm import tqdm\n",
    "import matplotlib.pyplot as plt\n",
    "\n",
    "# ====== 設定參數 ======\n",
    "data_root = '/home/ne6131039/Desktop/TEM_DATAS/TEM_split'\n",
    "batch_size = 32\n",
    "num_epochs = 50\n",
    "initial_lr = 0.0001\n",
    "device = torch.device(\"cuda\" if torch.cuda.is_available() else \"cpu\")\n",
    "\n",
    "# ====== 圖像轉換 ======\n",
    "transform = {\n",
    "    'train': transforms.Compose([\n",
    "        transforms.Resize((224, 224)),\n",
    "        transforms.RandomHorizontalFlip(),\n",
    "        transforms.ToTensor(),\n",
    "        transforms.Normalize([0.5]*3, [0.5]*3)\n",
    "    ]),\n",
    "    'val': transforms.Compose([\n",
    "        transforms.Resize((224, 224)),\n",
    "        transforms.ToTensor(),\n",
    "        transforms.Normalize([0.5]*3, [0.5]*3)\n",
    "    ])\n",
    "}\n",
    "\n",
    "# ====== 載入資料集 ======\n",
    "datasets_multi = {\n",
    "    x: datasets.ImageFolder(os.path.join(data_root, x), transform=transform[x])\n",
    "    for x in ['train', 'val']\n",
    "}\n",
    "dataloaders = {\n",
    "    x: DataLoader(datasets_multi[x], batch_size=batch_size, shuffle=True, num_workers=4)\n",
    "    for x in ['train', 'val']\n",
    "}\n",
    "class_names = datasets_multi['train'].classes\n",
    "num_classes = len(class_names)\n",
    "print(\"五類標籤：\", class_names)\n",
    "\n",
    "# ====== 建立模型 ======\n",
    "model = models.resnet18(pretrained=True)\n",
    "model.fc = nn.Linear(model.fc.in_features, num_classes)\n",
    "model = model.to(device)\n",
    "\n",
    "# ====== Loss、Optimizer、Scheduler ======\n",
    "criterion = nn.CrossEntropyLoss()\n",
    "optimizer = optim.Adam(model.parameters(), lr=initial_lr)\n",
    "scheduler = StepLR(optimizer, step_size=5, gamma=0.1)\n",
    "\n",
    "# ====== 記錄訓練資料 ======\n",
    "loss_history = []\n",
    "train_acc_history = []\n",
    "val_acc_history = []\n",
    "lr_history = []\n",
    "best_val_acc = 0.0\n",
    "best_model_path = \"best_five_class_classifier.pth\"\n",
    "\n",
    "# ====== 訓練主迴圈 ======\n",
    "for epoch in range(num_epochs):\n",
    "    print(f\"\\nEpoch {epoch+1}/{num_epochs}\")\n",
    "    model.train()\n",
    "    running_loss, running_corrects, total = 0.0, 0, 0\n",
    "\n",
    "    for inputs, labels in tqdm(dataloaders['train'], desc=\"Training\"):\n",
    "        inputs, labels = inputs.to(device), labels.to(device)\n",
    "\n",
    "        optimizer.zero_grad()\n",
    "        outputs = model(inputs)\n",
    "        loss = criterion(outputs, labels)\n",
    "        loss.backward()\n",
    "        optimizer.step()\n",
    "\n",
    "        _, preds = torch.max(outputs, 1)\n",
    "        running_loss += loss.item() * inputs.size(0)\n",
    "        running_corrects += torch.sum(preds == labels.data)\n",
    "        total += labels.size(0)\n",
    "\n",
    "    train_loss = running_loss / total\n",
    "    train_acc = running_corrects.double() / total\n",
    "\n",
    "    # 驗證階段\n",
    "    model.eval()\n",
    "    val_corrects, val_total = 0, 0\n",
    "    with torch.no_grad():\n",
    "        for inputs, labels in dataloaders['val']:\n",
    "            inputs, labels = inputs.to(device), labels.to(device)\n",
    "            outputs = model(inputs)\n",
    "            _, preds = torch.max(outputs, 1)\n",
    "            val_corrects += torch.sum(preds == labels.data)\n",
    "            val_total += labels.size(0)\n",
    "\n",
    "    val_acc = val_corrects.double() / val_total\n",
    "    current_lr = optimizer.param_groups[0]['lr']\n",
    "\n",
    "    if val_acc > best_val_acc:\n",
    "        best_val_acc = val_acc\n",
    "        torch.save(model.state_dict(), best_model_path)\n",
    "        print(f\"✅ 儲存最佳模型 (Val Acc: {val_acc:.2%})\")\n",
    "\n",
    "    loss_history.append(train_loss)\n",
    "    train_acc_history.append(train_acc.item())\n",
    "    val_acc_history.append(val_acc.item())\n",
    "    lr_history.append(current_lr)\n",
    "\n",
    "    scheduler.step()\n",
    "    print(f\"Train Loss: {train_loss:.4f} | Train Acc: {train_acc:.2%} | Val Acc: {val_acc:.2%} | LR: {current_lr:.6f}\")\n",
    "\n",
    "# ====== 繪圖並儲存 ======\n",
    "epochs = list(range(1, num_epochs + 1))\n",
    "fig, axs = plt.subplots(4, 1, figsize=(8, 12))\n",
    "\n",
    "axs[0].plot(epochs, loss_history, color='red', marker='o')\n",
    "axs[0].set_title(\"Training Loss over Epochs\")\n",
    "\n",
    "axs[1].plot(epochs, train_acc_history, color='orange', marker='o')\n",
    "axs[1].set_title(\"Training Accuracy over Epochs\")\n",
    "\n",
    "axs[2].plot(epochs, val_acc_history, color='blue', marker='o')\n",
    "axs[2].set_title(\"Validation Accuracy over Epochs\")\n",
    "\n",
    "axs[3].plot(epochs, lr_history, color='green', marker='o')\n",
    "axs[3].set_title(\"Learning Rate over Epochs\")\n",
    "\n",
    "for ax in axs:\n",
    "    ax.set_xlabel(\"Epoch\")\n",
    "    ax.grid(True)\n",
    "\n",
    "plt.tight_layout()\n",
    "plt.savefig(\"five_class_training_metrics.png\")\n",
    "print(\"📊 已儲存五類訓練圖：five_class_training_metrics.png\")\n",
    "plt.show()\n"
   ]
  },
  {
   "cell_type": "code",
   "execution_count": 22,
   "id": "398efdff-787f-41bf-aee2-a7f228a0bd9d",
   "metadata": {
    "execution": {
     "iopub.execute_input": "2025-05-15T11:03:57.454219Z",
     "iopub.status.busy": "2025-05-15T11:03:57.454008Z",
     "iopub.status.idle": "2025-05-15T11:04:11.355518Z",
     "shell.execute_reply": "2025-05-15T11:04:11.354894Z",
     "shell.execute_reply.started": "2025-05-15T11:03:57.454204Z"
    }
   },
   "outputs": [
    {
     "name": "stdout",
     "output_type": "stream",
     "text": [
      "測試類別順序： ['CTEM', 'Diffraction', 'HR-TEM', 'SEM', 'STEM']\n"
     ]
    },
    {
     "name": "stderr",
     "output_type": "stream",
     "text": [
      "/home/ne6131039/anaconda3/envs/TEM_project/lib/python3.8/site-packages/torchvision/models/_utils.py:223: UserWarning: Arguments other than a weight enum or `None` for 'weights' are deprecated since 0.13 and may be removed in the future. The current behavior is equivalent to passing `weights=None`.\n",
      "  warnings.warn(msg)\n",
      "/tmp/ipykernel_29711/1063041801.py:33: FutureWarning: You are using `torch.load` with `weights_only=False` (the current default value), which uses the default pickle module implicitly. It is possible to construct malicious pickle data which will execute arbitrary code during unpickling (See https://github.com/pytorch/pytorch/blob/main/SECURITY.md#untrusted-models for more details). In a future release, the default value for `weights_only` will be flipped to `True`. This limits the functions that could be executed during unpickling. Arbitrary objects will no longer be allowed to be loaded via this mode unless they are explicitly allowlisted by the user via `torch.serialization.add_safe_globals`. We recommend you start setting `weights_only=True` for any use case where you don't have full control of the loaded file. Please open an issue on GitHub for any issues related to this experimental feature.\n",
      "  model.load_state_dict(torch.load(model_path))\n"
     ]
    },
    {
     "name": "stdout",
     "output_type": "stream",
     "text": [
      "\n",
      "✅ 測試準確率：95.90%\n"
     ]
    },
    {
     "data": {
      "image/png": "[encoded data removed]",
      "text/plain": [
       "<Figure size 800x600 with 2 Axes>"
      ]
     },
     "metadata": {},
     "output_type": "display_data"
    },
    {
     "name": "stdout",
     "output_type": "stream",
     "text": [
      "\n",
      "📋 詳細分類報告：\n",
      "              precision    recall  f1-score   support\n",
      "\n",
      "        CTEM       0.93      0.91      0.92       281\n",
      " Diffraction       1.00      0.98      0.99       242\n",
      "      HR-TEM       0.95      0.97      0.96       375\n",
      "         SEM       0.97      0.97      0.97       331\n",
      "        STEM       0.96      0.96      0.96       332\n",
      "\n",
      "    accuracy                           0.96      1561\n",
      "   macro avg       0.96      0.96      0.96      1561\n",
      "weighted avg       0.96      0.96      0.96      1561\n",
      "\n"
     ]
    }
   ],
   "source": [
    "import os\n",
    "import torch\n",
    "from torchvision import datasets, transforms, models\n",
    "from torch.utils.data import DataLoader\n",
    "from sklearn.metrics import confusion_matrix, classification_report\n",
    "import matplotlib.pyplot as plt\n",
    "import seaborn as sns\n",
    "import numpy as np\n",
    "\n",
    "# ====== 路徑設定 ======\n",
    "test_dir = '/home/ne6131039/Desktop/TEM_DATAS/TEM_split/test'\n",
    "model_path = 'best_five_class_classifier.pth'\n",
    "batch_size = 32\n",
    "device = torch.device('cuda' if torch.cuda.is_available() else 'cpu')\n",
    "\n",
    "# ====== 圖像轉換 ======\n",
    "transform = transforms.Compose([\n",
    "    transforms.Resize((224, 224)),\n",
    "    transforms.ToTensor(),\n",
    "    transforms.Normalize([0.5]*3, [0.5]*3)\n",
    "])\n",
    "\n",
    "# ====== 載入測試集 ======\n",
    "test_dataset = datasets.ImageFolder(test_dir, transform=transform)\n",
    "test_loader = DataLoader(test_dataset, batch_size=batch_size, shuffle=False)\n",
    "class_names = test_dataset.classes\n",
    "num_classes = len(class_names)\n",
    "print(\"測試類別順序：\", class_names)\n",
    "\n",
    "# ====== 建立模型 & 載入權重 ======\n",
    "model = models.resnet18(pretrained=False)\n",
    "model.fc = torch.nn.Linear(model.fc.in_features, num_classes)\n",
    "model.load_state_dict(torch.load(model_path))\n",
    "model = model.to(device)\n",
    "model.eval()\n",
    "\n",
    "# ====== 推論所有測試資料 ======\n",
    "all_preds = []\n",
    "all_labels = []\n",
    "\n",
    "with torch.no_grad():\n",
    "    for inputs, labels in test_loader:\n",
    "        inputs, labels = inputs.to(device), labels.to(device)\n",
    "        outputs = model(inputs)\n",
    "        _, preds = torch.max(outputs, 1)\n",
    "        all_preds.extend(preds.cpu().numpy())\n",
    "        all_labels.extend(labels.cpu().numpy())\n",
    "\n",
    "all_preds = np.array(all_preds)\n",
    "all_labels = np.array(all_labels)\n",
    "acc = (all_preds == all_labels).sum() / len(all_labels)\n",
    "print(f\"\\n✅ 測試準確率：{acc:.2%}\")\n",
    "\n",
    "# ====== 混淆矩陣 ======\n",
    "cm = confusion_matrix(all_labels, all_preds)\n",
    "plt.figure(figsize=(8, 6))\n",
    "sns.heatmap(cm, annot=True, fmt='d', cmap='Blues',\n",
    "            xticklabels=class_names, yticklabels=class_names)\n",
    "plt.xlabel('Predicted Label')\n",
    "plt.ylabel('True Label')\n",
    "plt.title('Confusion Matrix (Five-Class Test)')\n",
    "plt.tight_layout()\n",
    "plt.savefig(\"five_class_test_confusion_matrix.png\")\n",
    "plt.show()\n",
    "\n",
    "# ====== 詳細報告 ======\n",
    "print(\"\\n📋 詳細分類報告：\")\n",
    "print(classification_report(all_labels, all_preds, target_names=class_names))\n"
   ]
  },
  {
   "cell_type": "code",
   "execution_count": null,
   "id": "6109b763-5724-48e0-bbfc-d9690c965b80",
   "metadata": {},
   "outputs": [],
   "source": []
  }
 ],
 "metadata": {
  "kernelspec": {
   "display_name": "Python (TEM_project)",
   "language": "python",
   "name": "tem_project"
  },
  "language_info": {
   "codemirror_mode": {
    "name": "ipython",
    "version": 3
   },
   "file_extension": ".py",
   "mimetype": "text/x-python",
   "name": "python",
   "nbconvert_exporter": "python",
   "pygments_lexer": "ipython3",
   "version": "3.8.20"
  }
 },
 "nbformat": 4,
 "nbformat_minor": 5
}
