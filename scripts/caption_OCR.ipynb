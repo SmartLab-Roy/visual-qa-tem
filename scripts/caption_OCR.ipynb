{
 "cells": [
  {
   "cell_type": "markdown",
   "id": "e4717632-d541-42e4-a5a5-9e459e73e382",
   "metadata": {},
   "source": [
    "# import "
   ]
  },
  {
   "cell_type": "code",
   "execution_count": null,
   "id": "32d258b9-0d44-4b02-9a20-45e44cdcf49b",
   "metadata": {},
   "outputs": [],
   "source": [
    "import os\n",
    "import pandas as pd\n",
    "from pathlib import Path\n",
    "import torch\n",
    "import easyocr\n",
    "import traceback\n",
    "from tqdm import tqdm\n",
    "import gc\n",
    "from pix2text import Pix2Text"
   ]
  },
  {
   "cell_type": "markdown",
   "id": "515f1405-71ae-43a1-a7fa-73228527f847",
   "metadata": {},
   "source": [
    "# Path Configuration"
   ]
  },
  {
   "cell_type": "code",
   "execution_count": null,
   "id": "1d2c5d05-48e6-448e-819b-c0ffae31e75f",
   "metadata": {},
   "outputs": [],
   "source": [
    "CAPTION_IMAGE_DIR = \"YOUR CAPTION IMAGE DIRECTORY\"\n",
    "EASYOCR_OUTPUT_CSV = \"EASYOCR OUTPUT CSV PATH\"\n",
    "PIX2TEXT_OUTPUT_CSV = \"PIX2TEXT OUTPUT CSV PATH\"\n",
    "FINAL_OUTPUT_CSV = \"FINAL OUTPUT CSV PATH\""
   ]
  },
  {
   "cell_type": "markdown",
   "id": "f4f76ab7-b1be-41a3-8128-a3ead7eb52c5",
   "metadata": {},
   "source": [
    "# Easy-OCR "
   ]
  },
  {
   "cell_type": "markdown",
   "id": "a29b35de-d18e-4dcf-a4e3-a293c2e39d1e",
   "metadata": {},
   "source": [
    "### Initialize OCR Model"
   ]
  },
  {
   "cell_type": "code",
   "execution_count": null,
   "id": "1e26a9d5-af18-4a6a-b385-a04857d7d689",
   "metadata": {},
   "outputs": [],
   "source": [
    "reader = easyocr.Reader(['en'], gpu=True)"
   ]
  },
  {
   "cell_type": "markdown",
   "id": "6204384a-9ecc-43c3-9a9c-d1c0b52763ea",
   "metadata": {},
   "source": [
    "### Settings"
   ]
  },
  {
   "cell_type": "code",
   "execution_count": null,
   "id": "af87ef0e-eaf9-4230-b833-cc60555e43d3",
   "metadata": {},
   "outputs": [],
   "source": [
    "img_dir = Path(CAPTION_IMAGE_DIR)\n",
    "csv_path = Path(EASYOCR_OUTPUT_CSV)\n",
    "image_extensions = {'.png', '.jpg', '.jpeg', '.tif', '.tiff'}\n",
    "BATCH_SAVE = 100\n",
    "counter = 0"
   ]
  },
  {
   "cell_type": "markdown",
   "id": "b4627f86-ce91-4439-9bed-24ce6d858783",
   "metadata": {},
   "source": [
    "### Initialize "
   ]
  },
  {
   "cell_type": "code",
   "execution_count": null,
   "id": "d8ea362c-bfd8-4e97-8186-47a6a6e5e0d2",
   "metadata": {},
   "outputs": [],
   "source": [
    "if not csv_path.exists() or csv_path.stat().st_size == 0:\n",
    "   pd.DataFrame(columns=['image_name','easyocr_ocr']).to_csv(csv_path, index=False)\n",
    "\n",
    "#check the completed images\n",
    "df_existing = pd.read_csv(csv_path)\n",
    "done_set = set(df_existing[\"image_name\"])\n",
    "\n",
    "sample_img = \"SAMPLE IMAGE PATH\"\n",
    "warmup_result = reader.readtext(str(sample_img), detail=0)\n",
    "print(\"[INFO] Warm-up complete.\")\n",
    "\n",
    "all_imgs = sorted([p for p in img_dir.iterdir() if p.suffix.lower() in image_extensions])\n",
    "records = []"
   ]
  },
  {
   "cell_type": "markdown",
   "id": "65ae4009-6007-470c-9312-26d95299dcdb",
   "metadata": {},
   "source": [
    "### Main Processing"
   ]
  },
  {
   "cell_type": "code",
   "execution_count": null,
   "id": "e2c68316-8693-42df-985a-18abad0eb062",
   "metadata": {
    "scrolled": true
   },
   "outputs": [],
   "source": [
    "for img_path in tqdm(all_imgs, desc=\"Easy OCR Processing\"):\n",
    "    img_name = img_path.name\n",
    "    if img_name in done_set:\n",
    "       continue\n",
    "    \n",
    "    try:\n",
    "       easy_texts = reader.readtext(str(img_path), detail=0)\n",
    "       easyocr_ocr = \" \".join(easy_texts)\n",
    "    except Exception as e:\n",
    "       easyocr_ocr = \"\"\n",
    "    \n",
    "    records.append({\n",
    "       \"image_name\": img_name,\n",
    "       \"easyocr_ocr\": easyocr_ocr\n",
    "    })\n",
    "    \n",
    "    counter += 1\n",
    "    \n",
    "    #Batch Save\n",
    "    if counter % BATCH_SAVE == 0:\n",
    "        df_batch = pd.DataFrame(records)\n",
    "        df_batch.to_csv(csv_path, mode='a', header=False, index=False)\n",
    "        \n",
    "        #release memory\n",
    "        records.clear()\n",
    "        print(f\"Added {BATCH_SAVE} records to {csv_path}\")\n",
    "        torch.cuda.empty_cache()\n",
    "        gc.collect()\n",
    "\n",
    "if records:\n",
    "    pd.DataFrame(records).to_csv(csv_path, mode='a', header=False, index=False)\n",
    "    print(f\"Added final {len(records)} records to {csv_path}\")\n",
    "\n",
    "print(\"Processing completed!\")"
   ]
  },
  {
   "cell_type": "markdown",
   "id": "ef894cb8-5bbd-4632-9f81-11d88bcae773",
   "metadata": {},
   "source": [
    "# Pix2Text"
   ]
  },
  {
   "cell_type": "markdown",
   "id": "0ef56382-31e7-4cfa-bf76-9620d7b36e88",
   "metadata": {},
   "source": [
    "### Initialize OCR Model"
   ]
  },
  {
   "cell_type": "code",
   "execution_count": null,
   "id": "fd32943d-58cf-4aca-b7c5-356a6d84007f",
   "metadata": {},
   "outputs": [],
   "source": [
    "device = 'cuda' if torch.cuda.is_available() else 'cpu'\n",
    "print(f\"[INFO] Pix2Text is using device: {device}\")\n",
    "# Mathematical Formula Detection\n",
    "ocr_agent = Pix2Text(det_model='mfd', device=device)"
   ]
  },
  {
   "cell_type": "markdown",
   "id": "15d53a57-1c4b-459d-a667-3930c4edd3e3",
   "metadata": {},
   "source": [
    "### Settings"
   ]
  },
  {
   "cell_type": "code",
   "execution_count": null,
   "id": "565c732a-056a-4c54-8f68-0ab22d5e96cb",
   "metadata": {},
   "outputs": [],
   "source": [
    "img_dir = Path(CAPTION_IMAGE_DIR)\n",
    "csv_path = Path(PIX2TEXT_OUTPUT_CSV)\n",
    "image_extensions = {'.png', '.jpg', '.jpeg', '.tif', '.tiff'}\n",
    "BATCH_SAVE = 100\n",
    "counter = 0"
   ]
  },
  {
   "cell_type": "markdown",
   "id": "fcd83987-8112-4be3-8070-b5b375834c71",
   "metadata": {},
   "source": [
    "### Initialize"
   ]
  },
  {
   "cell_type": "code",
   "execution_count": null,
   "id": "02c7c89d-a49d-4d19-b346-0f2355943f4b",
   "metadata": {},
   "outputs": [],
   "source": [
    "if not csv_path.exists() or csv_path.stat().st_size == 0:\n",
    "    pd.DataFrame(columns=['image_name', 'pix2text_ocr']).to_csv(csv_path, index=False)\n",
    "\n",
    "#check the completed images\n",
    "df_existing = pd.read_csv(csv_path)\n",
    "done_set = set(df_existing[\"image_name\"])\n",
    "\n",
    "sample_img = \"SAMPLE IMAGE PATH\"\n",
    "warmup_result = ocr_agent.recognize(str(sample_img))\n",
    "print(\"[INFO] Warm-up complete.\")\n",
    "\n",
    "all_imgs = sorted([p for p in img_dir.iterdir() if p.suffix.lower() in image_extensions])\n",
    "records = []\n"
   ]
  },
  {
   "cell_type": "markdown",
   "id": "ac46724b-762f-46de-9154-ca991128ab9c",
   "metadata": {},
   "source": [
    "### Main Processing"
   ]
  },
  {
   "cell_type": "code",
   "execution_count": null,
   "id": "f79d9e97-aaca-4a47-8175-6a9ba8520644",
   "metadata": {
    "scrolled": true
   },
   "outputs": [],
   "source": [
    "for img_path in tqdm(all_imgs, desc=\"Pix2Text Processing\"):\n",
    "    img_name = img_path.name\n",
    "    if img_name in done_set:\n",
    "        continue\n",
    "    \n",
    "    try:\n",
    "        pix2text_ocr = ocr_agent.recognize(str(img_path))\n",
    "    except Exception as e:\n",
    "        pix2text_ocr = \"\"\n",
    "    \n",
    "    records.append({\n",
    "        \"image_name\": img_name,\n",
    "        \"pix2text_ocr\": pix2text_ocr,\n",
    "    })\n",
    "    \n",
    "    counter += 1\n",
    "    #Batch Save\n",
    "    if counter % BATCH_SAVE == 0:\n",
    "       df_batch = pd.DataFrame(records)\n",
    "       df_batch.to_csv(csv_path, mode='a', header=False, index=False)\n",
    "       \n",
    "       #release memory\n",
    "       records.clear()\n",
    "       print(f\"Added {BATCH_SAVE} records to {csv_path}\")\n",
    "       torch.cuda.empty_cache()\n",
    "       gc.collect()\n",
    "\n",
    "if records:\n",
    "    pd.DataFrame(records).to_csv(csv_path, mode='a', header=False, index=False)\n",
    "    print(f\"Added final {len(records)} records to {csv_path}\")\n",
    "\n",
    "print(\"Processing completed!\")"
   ]
  },
  {
   "cell_type": "markdown",
   "id": "80159120-533f-4060-8395-a14ee49c6a2b",
   "metadata": {},
   "source": [
    "# Merge the two datasets of OCR results"
   ]
  },
  {
   "cell_type": "code",
   "execution_count": null,
   "id": "b57dc28b-9efe-46e3-b3e1-b95092dac62e",
   "metadata": {
    "scrolled": true
   },
   "outputs": [],
   "source": [
    "df1 = pd.read_csv(EASYOCR_OUTPUT_CSV)\n",
    "df2 = pd.read_csv(PIX2TEXT_OUTPUT_CSV)\n",
    "\n",
    "# intersection\n",
    "common_images = set(df1[\"image_name\"]) & set(df2[\"image_name\"])\n",
    "\n",
    "df1_filtered = df1[df1[\"image_name\"].isin(common_images)]\n",
    "df2_filtered = df2[df2[\"image_name\"].isin(common_images)]\n",
    "\n",
    "# Merge the two datasets\n",
    "merged_df = pd.merge(df1_filtered, df2_filtered, on=\"image_name\", how=\"inner\")\n",
    "\n",
    "# Save\n",
    "merged_df.to_csv(FINAL_OUTPUT_CSV, index=False)\n",
    "print(f\"✅ Merged {len(merged_df)} records, keeping only images with both OCR results.\")"
   ]
  }
 ],
 "metadata": {
  "kernelspec": {
   "display_name": "Python (TEM_project)",
   "language": "python",
   "name": "tem_project"
  },
  "language_info": {
   "codemirror_mode": {
    "name": "ipython",
    "version": 3
   },
   "file_extension": ".py",
   "mimetype": "text/x-python",
   "name": "python",
   "nbconvert_exporter": "python",
   "pygments_lexer": "ipython3",
   "version": "3.8.20"
  }
 },
 "nbformat": 4,
 "nbformat_minor": 5
}
