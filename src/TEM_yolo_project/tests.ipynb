{
 "cells": [
  {
   "cell_type": "code",
   "execution_count": 15,
   "id": "0db9f1fd-4f18-4f2c-a420-2d219616d2ef",
   "metadata": {},
   "outputs": [
    {
     "name": "stdout",
     "output_type": "stream",
     "text": [
      "Finish reading through the file list. Totally 2001 files.\n",
      "PDF10000_Image1\n",
      "PDF10000_Image2\n",
      "PDF10000_Image3\n",
      "PDF10000_Image4\n",
      "PDF10000_Image5\n",
      "PDF10000_Image6\n",
      "PDF10001_Image1\n",
      "PDF10001_Image2\n",
      "PDF10001_Image3\n",
      "PDF10001_Image4\n",
      "PDF10002_Image1\n",
      "PDF10002_Image2\n",
      "PDF10002_Image3\n",
      "PDF10003_Image1\n",
      "PDF10003_Image2\n",
      "PDF10003_Image3\n",
      "PDF10003_Image4\n",
      "PDF10003_Image5\n",
      "PDF10003_Image6\n",
      "PDF10003_Image7\n",
      "PDF10004_Image1\n",
      "PDF10004_Image2\n",
      "PDF10004_Image3\n",
      "PDF10004_Image4\n",
      "PDF10004_Image5\n",
      "PDF10004_Image6\n",
      "PDF10005_Image1\n",
      "PDF10005_Image2\n",
      "PDF10005_Image3\n",
      "PDF10005_Image4\n",
      "PDF10005_Image5\n",
      "PDF10005_Image6\n",
      "PDF10005_Image7\n",
      "PDF10005_Image8\n",
      "PDF10006_Image1\n",
      "PDF10006_Image2\n",
      "PDF10006_Image3\n",
      "PDF10006_Image4\n",
      "PDF10006_Image5\n",
      "PDF10006_Image6\n",
      "PDF10006_Image7\n",
      "PDF10006_Image8\n",
      "PDF10007_Image1\n",
      "PDF10007_Image2\n",
      "PDF10007_Image3\n",
      "PDF10007_Image4\n",
      "PDF10007_Image5\n",
      "PDF10007_Image6\n",
      "PDF10008_Image1\n",
      "PDF10008_Image2\n",
      "PDF10008_Image3\n",
      "PDF10008_Image4\n",
      "PDF10008_Image5\n",
      "PDF10008_Image6\n",
      "PDF10008_Image7\n",
      "PDF10009_Image1\n",
      "PDF10009_Image2\n",
      "PDF10009_Image3\n",
      "PDF10009_Image4\n",
      "PDF10009_Image5\n",
      "PDF1000_Image1\n",
      "PDF1000_Image2\n",
      "PDF1000_Image3\n",
      "PDF1000_Image4\n",
      "PDF1000_Image5\n",
      "PDF1000_Image6\n",
      "PDF1000_Image7\n",
      "PDF10010_Image1\n",
      "PDF10010_Image2\n",
      "PDF10010_Image3\n",
      "PDF10010_Image4\n",
      "PDF10010_Image5\n",
      "PDF10011_Image1\n",
      "PDF10011_Image10\n",
      "PDF10011_Image11\n",
      "PDF10011_Image2\n",
      "PDF10011_Image3\n",
      "PDF10011_Image4\n",
      "PDF10011_Image5\n",
      "PDF10011_Image6\n",
      "PDF10011_Image7\n",
      "PDF10011_Image8\n",
      "PDF10011_Image9\n",
      "PDF10012_Image1\n",
      "PDF10012_Image10\n",
      "PDF10012_Image11\n",
      "PDF10012_Image12\n",
      "PDF10012_Image2\n",
      "PDF10012_Image3\n",
      "PDF10012_Image4\n",
      "PDF10012_Image5\n",
      "PDF10012_Image6\n",
      "PDF10012_Image7\n",
      "PDF10012_Image8\n",
      "PDF10012_Image9\n",
      "PDF10013_Image1\n",
      "PDF10013_Image2\n",
      "PDF10013_Image3\n",
      "PDF10013_Image4\n",
      "PDF10013_Image5\n",
      "PDF10013_Image6\n",
      "PDF10014_Image1\n",
      "PDF10014_Image2\n",
      "PDF10014_Image3\n",
      "PDF10014_Image4\n",
      "PDF10014_Image5\n",
      "PDF10015_Image1\n",
      "PDF10015_Image2\n",
      "PDF10015_Image3\n",
      "PDF10015_Image4\n",
      "PDF10015_Image5\n",
      "PDF10015_Image6\n",
      "PDF10015_Image7\n",
      "PDF10016_Image1\n",
      "PDF10016_Image10\n",
      "PDF10016_Image11\n",
      "PDF10016_Image2\n",
      "PDF10016_Image3\n",
      "PDF10016_Image4\n",
      "PDF10016_Image5\n",
      "PDF10016_Image6\n",
      "PDF10016_Image7\n",
      "PDF10016_Image8\n",
      "PDF10016_Image9\n",
      "PDF10017_Image1\n",
      "PDF10017_Image2\n",
      "PDF10017_Image3\n",
      "PDF10017_Image4\n",
      "PDF10017_Image5\n",
      "PDF10017_Image6\n",
      "PDF10017_Image7\n",
      "PDF10017_Image8\n",
      "PDF10017_Image9\n",
      "PDF10018_Image1\n",
      "PDF10018_Image2\n",
      "PDF10018_Image3\n",
      "PDF10018_Image4\n",
      "PDF10018_Image5\n",
      "PDF10018_Image6\n",
      "PDF10018_Image7\n",
      "PDF10019_Image1\n",
      "PDF10019_Image2\n",
      "PDF10019_Image3\n",
      "PDF10019_Image4\n",
      "PDF10019_Image5\n",
      "PDF10019_Image6\n",
      "PDF10019_Image7\n",
      "PDF1001_Image1\n",
      "PDF1001_Image2\n",
      "PDF1001_Image3\n",
      "PDF1001_Image4\n",
      "PDF1001_Image5\n",
      "PDF10020_Image1\n",
      "PDF10020_Image2\n",
      "PDF10020_Image3\n",
      "PDF10020_Image4\n",
      "PDF10020_Image5\n",
      "PDF10021_Image1\n",
      "PDF10021_Image2\n",
      "PDF10021_Image3\n",
      "PDF10021_Image4\n",
      "PDF10021_Image5\n",
      "PDF10022_Image1\n",
      "PDF10022_Image2\n",
      "PDF10022_Image3\n",
      "PDF10023_Image1\n",
      "PDF10023_Image2\n",
      "PDF10023_Image3\n",
      "PDF10023_Image4\n",
      "PDF10023_Image5\n",
      "PDF10024_Image1\n",
      "PDF10024_Image10\n",
      "PDF10024_Image11\n",
      "PDF10024_Image12\n",
      "PDF10024_Image13\n",
      "PDF10024_Image14\n",
      "PDF10024_Image15\n",
      "PDF10024_Image16\n",
      "PDF10024_Image2\n",
      "PDF10024_Image3\n",
      "PDF10024_Image4\n",
      "PDF10024_Image5\n",
      "PDF10024_Image6\n",
      "PDF10024_Image7\n",
      "PDF10024_Image8\n",
      "PDF10024_Image9\n",
      "PDF10025_Image1\n",
      "PDF10025_Image2\n",
      "PDF10025_Image3\n",
      "PDF10025_Image4\n",
      "PDF10025_Image5\n",
      "PDF10026_Image1\n",
      "PDF10026_Image2\n",
      "PDF10026_Image3\n",
      "PDF10026_Image4\n",
      "PDF10026_Image5\n",
      "PDF10026_Image6\n",
      "PDF10027_Image1\n",
      "PDF10027_Image2\n",
      "PDF10027_Image3\n",
      "PDF10027_Image4\n",
      "PDF10027_Image5\n",
      "PDF10027_Image6\n",
      "PDF10028_Image1\n",
      "PDF10028_Image2\n",
      "PDF10028_Image3\n",
      "PDF10028_Image4\n",
      "PDF10028_Image5\n",
      "PDF10029_Image1\n",
      "PDF10029_Image2\n",
      "PDF10029_Image3\n",
      "PDF10029_Image4\n",
      "PDF10029_Image5\n",
      "PDF1002_Image1\n",
      "PDF1002_Image2\n",
      "PDF1002_Image3\n",
      "PDF1002_Image4\n",
      "PDF1002_Image5\n",
      "PDF1002_Image6\n",
      "PDF10030_Image1\n",
      "PDF10030_Image2\n",
      "PDF10030_Image3\n",
      "PDF10030_Image4\n",
      "PDF10031_Image1\n",
      "PDF10031_Image2\n",
      "PDF10031_Image3\n",
      "PDF10031_Image4\n",
      "PDF10032_Image1\n",
      "PDF10032_Image2\n",
      "PDF10032_Image3\n",
      "PDF10033_Image1\n",
      "PDF10033_Image2\n",
      "PDF10033_Image3\n",
      "PDF10033_Image4\n",
      "PDF10034_Image1\n",
      "PDF10034_Image2\n",
      "PDF10034_Image3\n",
      "PDF10034_Image4\n",
      "PDF10034_Image5\n",
      "PDF10034_Image6\n",
      "PDF10035_Image1\n",
      "PDF10035_Image10\n",
      "PDF10035_Image11\n",
      "PDF10035_Image12\n",
      "PDF10035_Image2\n",
      "PDF10035_Image3\n",
      "PDF10035_Image4\n",
      "PDF10035_Image5\n",
      "PDF10035_Image6\n",
      "PDF10035_Image7\n",
      "PDF10035_Image8\n",
      "PDF10035_Image9\n",
      "PDF10036_Image1\n",
      "PDF10036_Image2\n",
      "PDF10036_Image3\n",
      "PDF10036_Image4\n",
      "PDF10036_Image5\n",
      "PDF10036_Image6\n",
      "PDF10036_Image7\n",
      "PDF10036_Image8\n",
      "PDF10037_Image1\n",
      "PDF10037_Image10\n",
      "PDF10037_Image11\n",
      "PDF10037_Image12\n",
      "PDF10037_Image13\n",
      "PDF10037_Image14\n",
      "PDF10037_Image2\n",
      "PDF10037_Image3\n",
      "PDF10037_Image4\n",
      "PDF10037_Image5\n",
      "PDF10037_Image6\n",
      "PDF10037_Image7\n",
      "PDF10037_Image8\n",
      "PDF10037_Image9\n",
      "PDF10038_Image1\n",
      "PDF10038_Image2\n",
      "PDF10038_Image3\n",
      "PDF10038_Image4\n",
      "PDF10038_Image5\n",
      "PDF10038_Image6\n",
      "PDF10038_Image7\n",
      "PDF10038_Image8\n",
      "PDF10038_Image9\n",
      "PDF10039_Image1\n",
      "PDF10039_Image2\n",
      "PDF10039_Image3\n",
      "PDF10039_Image4\n",
      "PDF10039_Image5\n",
      "PDF1003_Image1\n",
      "PDF1003_Image10\n",
      "PDF1003_Image2\n",
      "PDF1003_Image3\n",
      "PDF1003_Image4\n",
      "PDF1003_Image5\n",
      "PDF1003_Image6\n",
      "PDF1003_Image7\n",
      "PDF1003_Image8\n",
      "PDF1003_Image9\n",
      "PDF10040_Image1\n",
      "PDF10040_Image2\n",
      "PDF10040_Image3\n",
      "PDF10040_Image4\n",
      "PDF10040_Image5\n",
      "PDF10040_Image6\n",
      "PDF10040_Image7\n",
      "PDF10041_Image1\n",
      "PDF10041_Image2\n",
      "PDF10041_Image3\n",
      "PDF10041_Image4\n",
      "PDF10041_Image5\n",
      "PDF10041_Image6\n",
      "PDF10041_Image7\n",
      "PDF10042_Image1\n",
      "PDF10042_Image2\n",
      "PDF10042_Image3\n",
      "PDF10042_Image4\n",
      "PDF10042_Image5\n",
      "PDF10043_Image1\n",
      "PDF10043_Image10\n",
      "PDF10043_Image11\n",
      "PDF10043_Image12\n",
      "PDF10043_Image2\n",
      "PDF10043_Image3\n",
      "PDF10043_Image4\n",
      "PDF10043_Image5\n",
      "PDF10043_Image6\n",
      "PDF10043_Image7\n",
      "PDF10043_Image8\n",
      "PDF10043_Image9\n",
      "PDF10044_Image1\n",
      "PDF10044_Image2\n",
      "PDF10044_Image3\n",
      "PDF10044_Image4\n",
      "PDF10044_Image5\n",
      "PDF10044_Image6\n",
      "PDF10044_Image7\n",
      "PDF10045_Image1\n",
      "PDF10045_Image2\n",
      "PDF10045_Image3\n",
      "PDF10045_Image4\n",
      "PDF10045_Image5\n",
      "PDF10045_Image6\n",
      "PDF10045_Image7\n",
      "PDF10046_Image1\n",
      "PDF10046_Image2\n",
      "PDF10046_Image3\n",
      "PDF10046_Image4\n",
      "PDF10046_Image5\n",
      "PDF10047_Image1\n",
      "PDF10047_Image2\n",
      "PDF10047_Image3\n",
      "PDF10047_Image4\n",
      "PDF10047_Image5\n",
      "PDF10047_Image6\n",
      "PDF10047_Image7\n",
      "PDF10047_Image8\n",
      "PDF10048_Image1\n",
      "PDF10048_Image2\n",
      "PDF10048_Image3\n",
      "PDF10048_Image4\n",
      "PDF10048_Image5\n",
      "PDF10048_Image6\n",
      "PDF10049_Image1\n",
      "PDF10049_Image2\n",
      "PDF10049_Image3\n",
      "PDF10049_Image4\n",
      "PDF10049_Image5\n",
      "PDF1004_Image1\n",
      "PDF1004_Image2\n",
      "PDF1004_Image3\n",
      "PDF1004_Image4\n",
      "PDF10050_Image1\n",
      "PDF10050_Image2\n",
      "PDF10050_Image3\n",
      "PDF10050_Image4\n",
      "PDF10050_Image5\n",
      "PDF10050_Image6\n",
      "PDF10050_Image7\n",
      "PDF10051_Image1\n",
      "PDF10051_Image2\n",
      "PDF10051_Image3\n",
      "PDF10051_Image4\n",
      "PDF10051_Image5\n",
      "PDF10051_Image6\n",
      "PDF10052_Image1\n",
      "PDF10052_Image2\n",
      "PDF10052_Image3\n",
      "PDF10052_Image4\n",
      "PDF10052_Image5\n",
      "PDF10052_Image6\n",
      "PDF10053_Image1\n",
      "PDF10053_Image2\n",
      "PDF10053_Image3\n",
      "PDF10053_Image4\n",
      "PDF10053_Image5\n",
      "PDF10053_Image6\n",
      "PDF10053_Image7\n",
      "PDF10053_Image8\n",
      "PDF10053_Image9\n",
      "PDF10054_Image1\n",
      "PDF10054_Image2\n",
      "PDF10054_Image3\n",
      "PDF10054_Image4\n",
      "PDF10054_Image5\n",
      "PDF10054_Image6\n",
      "PDF10054_Image7\n",
      "PDF10054_Image8\n",
      "PDF10055_Image1\n",
      "PDF10055_Image2\n",
      "PDF10055_Image3\n",
      "PDF10055_Image4\n",
      "PDF10055_Image5\n",
      "PDF10055_Image6\n",
      "PDF10056_Image1\n",
      "PDF10056_Image2\n",
      "PDF10056_Image3\n",
      "PDF10056_Image4\n",
      "PDF10056_Image5\n",
      "PDF10056_Image6\n",
      "PDF10056_Image7\n",
      "PDF10056_Image8\n",
      "PDF10056_Image9\n",
      "PDF10057_Image1\n",
      "PDF10057_Image2\n",
      "PDF10057_Image3\n",
      "PDF10057_Image4\n",
      "PDF10057_Image5\n",
      "PDF10057_Image6\n",
      "PDF10057_Image7\n",
      "PDF10057_Image8\n",
      "PDF10058_Image1\n",
      "PDF10058_Image10\n",
      "PDF10058_Image2\n",
      "PDF10058_Image3\n",
      "PDF10058_Image4\n",
      "PDF10058_Image5\n",
      "PDF10058_Image6\n",
      "PDF10058_Image7\n",
      "PDF10058_Image8\n",
      "PDF10058_Image9\n",
      "PDF10059_Image1\n",
      "PDF10059_Image2\n",
      "PDF10059_Image3\n",
      "PDF10059_Image4\n",
      "PDF10059_Image5\n",
      "PDF1005_Image1\n",
      "PDF1005_Image2\n",
      "PDF1005_Image3\n",
      "PDF1005_Image4\n",
      "PDF10060_Image1\n",
      "PDF10060_Image2\n",
      "PDF10060_Image3\n",
      "PDF10060_Image4\n",
      "PDF10060_Image5\n",
      "PDF10061_Image1\n",
      "PDF10061_Image2\n",
      "PDF10061_Image3\n",
      "PDF10062_Image1\n",
      "PDF10062_Image10\n",
      "PDF10062_Image2\n",
      "PDF10062_Image3\n",
      "PDF10062_Image4\n",
      "PDF10062_Image5\n",
      "PDF10062_Image6\n",
      "PDF10062_Image7\n",
      "PDF10062_Image8\n",
      "PDF10062_Image9\n",
      "PDF10063_Image1\n",
      "PDF10063_Image2\n",
      "PDF10063_Image3\n",
      "PDF10063_Image4\n",
      "PDF10063_Image5\n",
      "PDF10063_Image6\n",
      "PDF10063_Image7\n",
      "PDF10064_Image1\n",
      "PDF10064_Image2\n",
      "PDF10064_Image3\n",
      "PDF10065_Image1\n",
      "PDF10065_Image2\n",
      "PDF10065_Image3\n",
      "PDF10065_Image4\n",
      "PDF10065_Image5\n",
      "PDF10066_Image1\n",
      "PDF10066_Image2\n",
      "PDF10066_Image3\n",
      "PDF10066_Image4\n",
      "PDF10067_Image1\n",
      "PDF10067_Image2\n",
      "PDF10067_Image3\n",
      "PDF10067_Image4\n",
      "PDF10068_Image1\n",
      "PDF10068_Image2\n",
      "PDF10068_Image3\n",
      "PDF10068_Image4\n",
      "PDF10068_Image5\n",
      "PDF10068_Image6\n",
      "PDF10069_Image1\n",
      "PDF10069_Image2\n",
      "PDF10069_Image3\n",
      "PDF10069_Image4\n",
      "PDF10069_Image5\n",
      "PDF1006_Image1\n",
      "PDF1006_Image2\n",
      "PDF1006_Image3\n",
      "PDF1006_Image4\n",
      "PDF10070_Image1\n",
      "PDF10070_Image2\n",
      "PDF10070_Image3\n",
      "PDF10070_Image4\n",
      "PDF10070_Image5\n",
      "PDF10070_Image6\n",
      "PDF10070_Image7\n",
      "PDF10071_Image1\n",
      "PDF10071_Image2\n",
      "PDF10071_Image3\n",
      "PDF10071_Image4\n",
      "PDF10071_Image5\n",
      "PDF10071_Image6\n",
      "PDF10072_Image1\n",
      "PDF10072_Image2\n",
      "PDF10072_Image3\n",
      "PDF10072_Image4\n",
      "PDF10072_Image5\n",
      "PDF10072_Image6\n",
      "PDF10072_Image7\n",
      "PDF10073_Image1\n",
      "PDF10073_Image2\n",
      "PDF10073_Image3\n",
      "PDF10073_Image4\n",
      "PDF10073_Image5\n",
      "PDF10073_Image6\n",
      "PDF10073_Image7\n",
      "PDF10074_Image1\n",
      "PDF10074_Image10\n",
      "PDF10074_Image11\n",
      "PDF10074_Image2\n",
      "PDF10074_Image3\n",
      "PDF10074_Image4\n",
      "PDF10074_Image5\n",
      "PDF10074_Image6\n",
      "PDF10074_Image7\n",
      "PDF10074_Image8\n",
      "PDF10074_Image9\n",
      "PDF10075_Image1\n",
      "PDF10075_Image2\n",
      "PDF10075_Image3\n",
      "PDF10075_Image4\n",
      "PDF10075_Image5\n",
      "PDF10075_Image6\n",
      "PDF10075_Image7\n",
      "PDF10075_Image8\n",
      "PDF10076_Image1\n",
      "PDF10076_Image2\n",
      "PDF10076_Image3\n",
      "PDF10076_Image4\n",
      "PDF10076_Image5\n",
      "PDF10076_Image6\n",
      "PDF10077_Image1\n",
      "PDF10077_Image2\n",
      "PDF10077_Image3\n",
      "PDF10077_Image4\n",
      "PDF10078_Image1\n",
      "PDF10078_Image2\n",
      "PDF10078_Image3\n",
      "PDF10078_Image4\n",
      "PDF10078_Image5\n",
      "PDF10078_Image6\n",
      "PDF10078_Image7\n",
      "PDF10079_Image1\n",
      "PDF10079_Image2\n",
      "PDF10079_Image3\n",
      "PDF10079_Image4\n",
      "PDF1007_Image1\n",
      "PDF1007_Image2\n",
      "PDF1007_Image3\n",
      "PDF1007_Image4\n",
      "PDF1007_Image5\n",
      "PDF1007_Image6\n",
      "PDF10080_Image1\n",
      "PDF10080_Image2\n",
      "PDF10080_Image3\n",
      "PDF10080_Image4\n",
      "PDF10080_Image5\n",
      "PDF10080_Image6\n",
      "PDF10080_Image7\n",
      "PDF10081_Image1\n",
      "PDF10081_Image2\n",
      "PDF10081_Image3\n",
      "PDF10081_Image4\n",
      "PDF10081_Image5\n",
      "PDF10082_Image1\n",
      "PDF10082_Image2\n",
      "PDF10082_Image3\n",
      "PDF10082_Image4\n",
      "PDF10083_Image1\n",
      "PDF10083_Image2\n",
      "PDF10083_Image3\n",
      "PDF10083_Image4\n",
      "PDF10083_Image5\n",
      "PDF10084_Image1\n",
      "PDF10084_Image2\n",
      "PDF10084_Image3\n",
      "PDF10084_Image4\n",
      "PDF10084_Image5\n",
      "PDF10085_Image1\n",
      "PDF10085_Image10\n",
      "PDF10085_Image2\n",
      "PDF10085_Image3\n",
      "PDF10085_Image4\n",
      "PDF10085_Image5\n",
      "PDF10085_Image6\n",
      "PDF10085_Image7\n",
      "PDF10085_Image8\n",
      "PDF10085_Image9\n",
      "PDF10086_Image1\n",
      "PDF10086_Image10\n",
      "PDF10086_Image11\n",
      "PDF10086_Image12\n",
      "PDF10086_Image2\n",
      "PDF10086_Image3\n",
      "PDF10086_Image4\n",
      "PDF10086_Image5\n",
      "PDF10086_Image6\n",
      "PDF10086_Image7\n",
      "PDF10086_Image8\n",
      "PDF10086_Image9\n",
      "PDF10087_Image1\n",
      "PDF10087_Image2\n",
      "PDF10087_Image3\n",
      "PDF10087_Image4\n",
      "PDF10087_Image5\n",
      "PDF10087_Image6\n",
      "PDF10087_Image7\n",
      "PDF10088_Image1\n",
      "PDF10088_Image2\n",
      "PDF10088_Image3\n",
      "PDF10088_Image4\n",
      "PDF10088_Image5\n",
      "PDF10088_Image6\n",
      "PDF10089_Image1\n",
      "PDF10089_Image10\n",
      "PDF10089_Image11\n",
      "PDF10089_Image12\n",
      "PDF10089_Image2\n",
      "PDF10089_Image3\n",
      "PDF10089_Image4\n",
      "PDF10089_Image5\n",
      "PDF10089_Image6\n",
      "PDF10089_Image7\n",
      "PDF10089_Image8\n",
      "PDF10089_Image9\n",
      "PDF1008_Image1\n",
      "PDF1008_Image2\n",
      "PDF1008_Image3\n",
      "PDF1008_Image4\n",
      "PDF1008_Image5\n",
      "PDF10090_Image1\n",
      "PDF10090_Image2\n",
      "PDF10090_Image3\n",
      "PDF10090_Image4\n",
      "PDF10090_Image5\n",
      "PDF10090_Image6\n",
      "PDF10090_Image7\n",
      "PDF10090_Image8\n",
      "PDF10091_Image1\n",
      "PDF10091_Image10\n",
      "PDF10091_Image2\n",
      "PDF10091_Image3\n",
      "PDF10091_Image4\n",
      "PDF10091_Image5\n",
      "PDF10091_Image6\n",
      "PDF10091_Image7\n",
      "PDF10091_Image8\n",
      "PDF10091_Image9\n",
      "PDF10092_Image1\n",
      "PDF10092_Image2\n",
      "PDF10092_Image3\n",
      "PDF10093_Image1\n",
      "PDF10093_Image2\n",
      "PDF10093_Image3\n",
      "PDF10093_Image4\n",
      "PDF10093_Image5\n",
      "PDF10093_Image6\n",
      "PDF10093_Image7\n",
      "PDF10093_Image8\n",
      "PDF10093_Image9\n",
      "PDF10094_Image1\n",
      "PDF10094_Image2\n",
      "PDF10094_Image3\n",
      "PDF10094_Image4\n",
      "PDF10094_Image5\n",
      "PDF10094_Image6\n",
      "PDF10094_Image7\n",
      "PDF10095_Image1\n",
      "PDF10095_Image2\n",
      "PDF10095_Image3\n",
      "PDF10095_Image4\n",
      "PDF10095_Image5\n",
      "PDF10095_Image6\n",
      "PDF10095_Image7\n",
      "PDF10095_Image8\n",
      "PDF10096_Image1\n",
      "PDF10096_Image2\n",
      "PDF10096_Image3\n",
      "PDF10096_Image4\n",
      "PDF10096_Image5\n",
      "PDF10097_Image1\n",
      "PDF10097_Image2\n",
      "PDF10097_Image3\n",
      "PDF10097_Image4\n",
      "PDF10097_Image5\n",
      "PDF10098_Image1\n",
      "PDF10098_Image2\n",
      "PDF10098_Image3\n",
      "PDF10098_Image4\n",
      "PDF10098_Image5\n",
      "PDF10098_Image6\n",
      "PDF10098_Image7\n",
      "PDF10098_Image8\n",
      "PDF10098_Image9\n",
      "PDF10099_Image1\n",
      "PDF10099_Image2\n",
      "PDF10099_Image3\n",
      "PDF10099_Image4\n",
      "PDF10099_Image5\n",
      "PDF10099_Image6\n",
      "PDF10099_Image7\n",
      "PDF10099_Image8\n",
      "PDF1009_Image1\n",
      "PDF1009_Image10\n",
      "PDF1009_Image2\n",
      "PDF1009_Image3\n",
      "PDF1009_Image4\n",
      "PDF1009_Image5\n",
      "PDF1009_Image6\n",
      "PDF1009_Image7\n",
      "PDF1009_Image8\n",
      "PDF1009_Image9\n",
      "PDF100_Image1\n",
      "PDF100_Image10\n",
      "PDF100_Image11\n",
      "PDF100_Image12\n",
      "PDF100_Image13\n",
      "PDF100_Image14\n",
      "PDF100_Image2\n",
      "PDF100_Image3\n",
      "PDF100_Image4\n",
      "PDF100_Image5\n",
      "PDF100_Image6\n",
      "PDF100_Image7\n",
      "PDF100_Image8\n",
      "PDF100_Image9\n",
      "PDF10100_Image1\n",
      "PDF10100_Image2\n",
      "PDF10100_Image3\n",
      "PDF10100_Image4\n",
      "PDF10100_Image5\n",
      "PDF10100_Image6\n",
      "PDF10101_Image1\n",
      "PDF10101_Image10\n",
      "PDF10101_Image11\n",
      "PDF10101_Image12\n",
      "PDF10101_Image13\n",
      "PDF10101_Image2\n",
      "PDF10101_Image3\n",
      "PDF10101_Image4\n",
      "PDF10101_Image5\n",
      "PDF10101_Image6\n",
      "PDF10101_Image7\n",
      "PDF10101_Image8\n",
      "PDF10101_Image9\n",
      "PDF10102_Image1\n",
      "PDF10102_Image2\n",
      "PDF10102_Image3\n",
      "PDF10102_Image4\n",
      "PDF10103_Image1\n",
      "PDF10103_Image2\n",
      "PDF10103_Image3\n",
      "PDF10103_Image4\n",
      "PDF10103_Image5\n",
      "PDF10103_Image6\n",
      "PDF10103_Image7\n",
      "PDF10103_Image8\n",
      "PDF10104_Image1\n",
      "PDF10104_Image2\n",
      "PDF10104_Image3\n",
      "PDF10104_Image4\n",
      "PDF10104_Image5\n",
      "PDF10104_Image6\n",
      "PDF10104_Image7\n",
      "PDF10104_Image8\n",
      "PDF10105_Image1\n",
      "PDF10105_Image2\n",
      "PDF10105_Image3\n",
      "PDF10105_Image4\n",
      "PDF10105_Image5\n",
      "PDF10105_Image6\n",
      "PDF10106_Image1\n",
      "PDF10106_Image10\n",
      "PDF10106_Image11\n",
      "PDF10106_Image12\n",
      "PDF10106_Image13\n",
      "PDF10106_Image14\n",
      "PDF10106_Image15\n",
      "PDF10106_Image16\n",
      "PDF10106_Image17\n",
      "PDF10106_Image18\n",
      "PDF10106_Image19\n",
      "PDF10106_Image2\n",
      "PDF10106_Image20\n",
      "PDF10106_Image21\n",
      "PDF10106_Image22\n",
      "PDF10106_Image23\n",
      "PDF10106_Image24\n",
      "PDF10106_Image25\n",
      "PDF10106_Image26\n",
      "PDF10106_Image27\n",
      "PDF10106_Image28\n",
      "PDF10106_Image29\n",
      "PDF10106_Image3\n",
      "PDF10106_Image4\n",
      "PDF10106_Image5\n",
      "PDF10106_Image6\n",
      "PDF10106_Image7\n",
      "PDF10106_Image8\n",
      "PDF10106_Image9\n",
      "PDF10107_Image1\n",
      "PDF10107_Image2\n",
      "PDF10107_Image3\n",
      "PDF10107_Image4\n",
      "PDF10108_Image1\n",
      "PDF10108_Image2\n",
      "PDF10108_Image3\n",
      "PDF10108_Image4\n",
      "PDF10108_Image5\n",
      "PDF10108_Image6\n",
      "PDF10109_Image1\n",
      "PDF10109_Image2\n",
      "PDF10109_Image3\n",
      "PDF10109_Image4\n",
      "PDF10109_Image5\n",
      "PDF10109_Image6\n",
      "PDF10109_Image7\n",
      "PDF10109_Image8\n",
      "PDF10109_Image9\n",
      "PDF1010_Image1\n",
      "PDF1010_Image10\n",
      "PDF1010_Image11\n",
      "PDF1010_Image12\n",
      "PDF1010_Image13\n",
      "PDF1010_Image2\n",
      "PDF1010_Image3\n",
      "PDF1010_Image4\n",
      "PDF1010_Image5\n",
      "PDF1010_Image6\n",
      "PDF1010_Image7\n",
      "PDF1010_Image8\n",
      "PDF1010_Image9\n",
      "PDF10110_Image1\n",
      "PDF10110_Image10\n",
      "PDF10110_Image11\n",
      "PDF10110_Image12\n",
      "PDF10110_Image13\n",
      "PDF10110_Image2\n",
      "PDF10110_Image3\n",
      "PDF10110_Image4\n",
      "PDF10110_Image5\n",
      "PDF10110_Image6\n",
      "PDF10110_Image7\n",
      "PDF10110_Image8\n",
      "PDF10110_Image9\n",
      "PDF10111_Image1\n",
      "PDF10111_Image2\n",
      "PDF10111_Image3\n",
      "PDF10111_Image4\n",
      "PDF10111_Image5\n",
      "PDF10112_Image1\n",
      "PDF10112_Image10\n",
      "PDF10112_Image11\n",
      "PDF10112_Image2\n",
      "PDF10112_Image3\n",
      "PDF10112_Image4\n",
      "PDF10112_Image5\n",
      "PDF10112_Image6\n",
      "PDF10112_Image7\n",
      "PDF10112_Image8\n",
      "PDF10112_Image9\n",
      "PDF10113_Image1\n",
      "PDF10113_Image10\n",
      "PDF10113_Image11\n",
      "PDF10113_Image12\n",
      "PDF10113_Image13\n",
      "PDF10113_Image14\n",
      "PDF10113_Image15\n",
      "PDF10113_Image2\n",
      "PDF10113_Image3\n",
      "PDF10113_Image4\n",
      "PDF10113_Image5\n",
      "PDF10113_Image6\n",
      "PDF10113_Image7\n",
      "PDF10113_Image8\n",
      "PDF10113_Image9\n",
      "PDF10114_Image1\n",
      "PDF10114_Image2\n",
      "PDF10114_Image3\n",
      "PDF10114_Image4\n",
      "PDF10114_Image5\n",
      "PDF10114_Image6\n",
      "PDF10114_Image7\n",
      "PDF10115_Image1\n",
      "PDF10115_Image2\n",
      "PDF10115_Image3\n",
      "PDF10115_Image4\n",
      "PDF10115_Image5\n",
      "PDF10115_Image6\n",
      "PDF10115_Image7\n",
      "PDF10115_Image8\n",
      "PDF10115_Image9\n",
      "PDF10116_Image1\n",
      "PDF10116_Image2\n",
      "PDF10116_Image3\n",
      "PDF10116_Image4\n",
      "PDF10116_Image5\n",
      "PDF10117_Image1\n",
      "PDF10117_Image2\n",
      "PDF10117_Image3\n",
      "PDF10117_Image4\n",
      "PDF10117_Image5\n",
      "PDF10117_Image6\n",
      "PDF10118_Image1\n",
      "PDF10118_Image2\n",
      "PDF10118_Image3\n",
      "PDF10118_Image4\n",
      "PDF10118_Image5\n",
      "PDF10118_Image6\n",
      "PDF10119_Image1\n",
      "PDF10119_Image2\n",
      "PDF10119_Image3\n",
      "PDF10119_Image4\n",
      "PDF10119_Image5\n",
      "PDF10119_Image6\n",
      "PDF10119_Image7\n",
      "PDF10119_Image8\n",
      "PDF1011_Image1\n",
      "PDF1011_Image10\n",
      "PDF1011_Image11\n",
      "PDF1011_Image12\n",
      "PDF1011_Image13\n",
      "PDF1011_Image2\n",
      "PDF1011_Image3\n",
      "PDF1011_Image4\n",
      "PDF1011_Image5\n",
      "PDF1011_Image6\n",
      "PDF1011_Image7\n",
      "PDF1011_Image8\n",
      "PDF1011_Image9\n",
      "PDF10120_Image1\n",
      "PDF10120_Image2\n",
      "PDF10120_Image3\n",
      "PDF10120_Image4\n",
      "PDF10120_Image5\n",
      "PDF10121_Image1\n",
      "PDF10121_Image2\n",
      "PDF10121_Image3\n",
      "PDF10121_Image4\n",
      "PDF10121_Image5\n",
      "PDF10121_Image6\n",
      "PDF10122_Image1\n",
      "PDF10122_Image2\n",
      "PDF10122_Image3\n",
      "PDF10122_Image4\n",
      "PDF10122_Image5\n",
      "PDF10122_Image6\n",
      "PDF10122_Image7\n",
      "PDF10123_Image1\n",
      "PDF10123_Image2\n",
      "PDF10123_Image3\n",
      "PDF10123_Image4\n",
      "PDF10123_Image5\n",
      "PDF10123_Image6\n",
      "PDF10123_Image7\n",
      "PDF10123_Image8\n",
      "PDF10123_Image9\n",
      "PDF10124_Image1\n",
      "PDF10124_Image10\n",
      "PDF10124_Image11\n",
      "PDF10124_Image12\n",
      "PDF10124_Image13\n",
      "PDF10124_Image14\n",
      "PDF10124_Image15\n",
      "PDF10124_Image16\n",
      "PDF10124_Image17\n",
      "PDF10124_Image2\n",
      "PDF10124_Image3\n",
      "PDF10124_Image4\n",
      "PDF10124_Image5\n",
      "PDF10124_Image6\n",
      "PDF10124_Image7\n",
      "PDF10124_Image8\n",
      "PDF10124_Image9\n",
      "PDF10125_Image1\n",
      "PDF10125_Image2\n",
      "PDF10125_Image3\n",
      "PDF10125_Image4\n",
      "PDF10125_Image5\n",
      "PDF10125_Image6\n",
      "PDF10126_Image1\n",
      "PDF10126_Image2\n",
      "PDF10126_Image3\n",
      "PDF10126_Image4\n",
      "PDF10126_Image5\n",
      "PDF10126_Image6\n",
      "PDF10126_Image7\n",
      "PDF10126_Image8\n",
      "PDF10127_Image1\n",
      "PDF10127_Image10\n",
      "PDF10127_Image11\n",
      "PDF10127_Image12\n",
      "PDF10127_Image13\n",
      "PDF10127_Image14\n",
      "PDF10127_Image15\n",
      "PDF10127_Image2\n",
      "PDF10127_Image3\n",
      "PDF10127_Image4\n",
      "PDF10127_Image5\n",
      "PDF10127_Image6\n",
      "PDF10127_Image7\n",
      "PDF10127_Image8\n",
      "PDF10127_Image9\n",
      "PDF10128_Image1\n",
      "PDF10128_Image10\n",
      "PDF10128_Image11\n",
      "PDF10128_Image12\n",
      "PDF10128_Image13\n",
      "PDF10128_Image14\n",
      "PDF10128_Image15\n",
      "PDF10128_Image16\n",
      "PDF10128_Image17\n",
      "PDF10128_Image18\n",
      "PDF10128_Image19\n",
      "PDF10128_Image2\n",
      "PDF10128_Image20\n",
      "PDF10128_Image21\n",
      "PDF10128_Image22\n",
      "PDF10128_Image23\n",
      "PDF10128_Image24\n",
      "PDF10128_Image3\n",
      "PDF10128_Image4\n",
      "PDF10128_Image5\n",
      "PDF10128_Image6\n",
      "PDF10128_Image7\n",
      "PDF10128_Image8\n",
      "PDF10128_Image9\n",
      "PDF10129_Image1\n",
      "PDF10129_Image2\n",
      "PDF10129_Image3\n",
      "PDF1012_Image1\n",
      "PDF1012_Image2\n",
      "PDF1012_Image3\n",
      "PDF1012_Image4\n",
      "PDF10130_Image1\n",
      "PDF10130_Image2\n",
      "PDF10130_Image3\n",
      "PDF10130_Image4\n",
      "PDF10130_Image5\n",
      "PDF10131_Image1\n",
      "PDF10131_Image10\n",
      "PDF10131_Image11\n",
      "PDF10131_Image2\n",
      "PDF10131_Image3\n",
      "PDF10131_Image4\n",
      "PDF10131_Image5\n",
      "PDF10131_Image6\n",
      "PDF10131_Image7\n",
      "PDF10131_Image8\n",
      "PDF10131_Image9\n",
      "PDF10132_Image1\n",
      "PDF10132_Image2\n",
      "PDF10132_Image3\n",
      "PDF10132_Image4\n",
      "PDF10132_Image5\n",
      "PDF10133_Image1\n",
      "PDF10133_Image2\n",
      "PDF10133_Image3\n",
      "PDF10133_Image4\n",
      "PDF10133_Image5\n",
      "PDF10133_Image6\n",
      "PDF10134_Image1\n",
      "PDF10134_Image2\n",
      "PDF10134_Image3\n",
      "PDF10134_Image4\n",
      "PDF10134_Image5\n",
      "PDF10134_Image6\n",
      "PDF10134_Image7\n",
      "PDF10135_Image1\n",
      "PDF10135_Image2\n",
      "PDF10135_Image3\n",
      "PDF10135_Image4\n",
      "PDF10135_Image5\n",
      "PDF10136_Image1\n",
      "PDF10136_Image2\n",
      "PDF10136_Image3\n",
      "PDF10137_Image1\n",
      "PDF10137_Image2\n",
      "PDF10137_Image3\n",
      "PDF10137_Image4\n",
      "PDF10137_Image5\n",
      "PDF10137_Image6\n",
      "PDF10137_Image7\n",
      "PDF10137_Image8\n",
      "PDF10137_Image9\n",
      "PDF10138_Image1\n",
      "PDF10138_Image2\n",
      "PDF10138_Image3\n",
      "PDF10138_Image4\n",
      "PDF10138_Image5\n",
      "PDF10139_Image1\n",
      "PDF10139_Image10\n",
      "PDF10139_Image11\n",
      "PDF10139_Image2\n",
      "PDF10139_Image3\n",
      "PDF10139_Image4\n",
      "PDF10139_Image5\n",
      "PDF10139_Image6\n",
      "PDF10139_Image7\n",
      "PDF10139_Image8\n",
      "PDF10139_Image9\n",
      "PDF1013_Image1\n",
      "PDF1013_Image2\n",
      "PDF1013_Image3\n",
      "PDF1013_Image4\n",
      "PDF1013_Image5\n",
      "PDF1013_Image6\n",
      "PDF10140_Image1\n",
      "PDF10140_Image2\n",
      "PDF10140_Image3\n",
      "PDF10140_Image4\n",
      "PDF10140_Image5\n",
      "PDF10140_Image6\n",
      "PDF10140_Image7\n",
      "PDF10141_Image1\n",
      "PDF10141_Image10\n",
      "PDF10141_Image11\n",
      "PDF10141_Image12\n",
      "PDF10141_Image2\n",
      "PDF10141_Image3\n",
      "PDF10141_Image4\n",
      "PDF10141_Image5\n",
      "PDF10141_Image6\n",
      "PDF10141_Image7\n",
      "PDF10141_Image8\n",
      "PDF10141_Image9\n",
      "PDF10142_Image1\n",
      "PDF10142_Image2\n",
      "PDF10142_Image3\n",
      "PDF10142_Image4\n",
      "PDF10142_Image5\n",
      "PDF10142_Image6\n",
      "PDF10142_Image7\n",
      "PDF10143_Image1\n",
      "PDF10143_Image2\n",
      "PDF10143_Image3\n",
      "PDF10143_Image4\n",
      "PDF10143_Image5\n",
      "PDF10144_Image1\n",
      "PDF10144_Image2\n",
      "PDF10144_Image3\n",
      "PDF10144_Image4\n",
      "PDF10145_Image1\n",
      "PDF10145_Image2\n",
      "PDF10145_Image3\n",
      "PDF10145_Image4\n",
      "PDF10145_Image5\n",
      "PDF10145_Image6\n",
      "PDF10145_Image7\n",
      "PDF10145_Image8\n",
      "PDF10146_Image1\n",
      "PDF10146_Image2\n",
      "PDF10146_Image3\n",
      "PDF10146_Image4\n",
      "PDF10146_Image5\n",
      "PDF10147_Image1\n",
      "PDF10147_Image2\n",
      "PDF10147_Image3\n",
      "PDF10147_Image4\n",
      "PDF10147_Image5\n",
      "PDF10147_Image6\n",
      "PDF10147_Image7\n",
      "PDF10147_Image8\n",
      "PDF10148_Image1\n",
      "PDF10148_Image2\n",
      "PDF10148_Image3\n",
      "PDF10148_Image4\n",
      "PDF10149_Image1\n",
      "PDF10149_Image2\n",
      "PDF10149_Image3\n",
      "PDF10149_Image4\n",
      "PDF10149_Image5\n",
      "PDF10149_Image6\n",
      "PDF10149_Image7\n",
      "PDF1014_Image1\n",
      "PDF1014_Image2\n",
      "PDF1014_Image3\n",
      "PDF1014_Image4\n",
      "PDF1014_Image5\n",
      "PDF10150_Image1\n",
      "PDF10150_Image2\n",
      "PDF10150_Image3\n",
      "PDF10150_Image4\n",
      "PDF10150_Image5\n",
      "PDF10150_Image6\n",
      "PDF10150_Image7\n",
      "PDF10150_Image8\n",
      "PDF10151_Image1\n",
      "PDF10151_Image2\n",
      "PDF10151_Image3\n",
      "PDF10151_Image4\n",
      "PDF10151_Image5\n",
      "PDF10152_Image1\n",
      "PDF10152_Image2\n",
      "PDF10152_Image3\n",
      "PDF10152_Image4\n",
      "PDF10152_Image5\n",
      "PDF10152_Image6\n",
      "PDF10152_Image7\n",
      "PDF10153_Image1\n",
      "PDF10153_Image2\n",
      "PDF10153_Image3\n",
      "PDF10153_Image4\n",
      "PDF10153_Image5\n",
      "PDF10154_Image1\n",
      "PDF10154_Image10\n",
      "PDF10154_Image11\n",
      "PDF10154_Image12\n",
      "PDF10154_Image13\n",
      "PDF10154_Image14\n",
      "PDF10154_Image2\n",
      "PDF10154_Image3\n",
      "PDF10154_Image4\n",
      "PDF10154_Image5\n",
      "PDF10154_Image6\n",
      "PDF10154_Image7\n",
      "PDF10154_Image8\n",
      "PDF10154_Image9\n",
      "PDF10155_Image1\n",
      "PDF10155_Image2\n",
      "PDF10155_Image3\n",
      "PDF10155_Image4\n",
      "PDF10155_Image5\n",
      "PDF10155_Image6\n",
      "PDF10156_Image1\n",
      "PDF10156_Image2\n",
      "PDF10156_Image3\n",
      "PDF10156_Image4\n",
      "PDF10156_Image5\n",
      "PDF10157_Image1\n",
      "PDF10157_Image2\n",
      "PDF10157_Image3\n",
      "PDF10157_Image4\n",
      "PDF10158_Image1\n",
      "PDF10158_Image2\n",
      "PDF10158_Image3\n",
      "PDF10158_Image4\n",
      "PDF10158_Image5\n",
      "PDF10158_Image6\n",
      "PDF10159_Image1\n",
      "PDF10159_Image2\n",
      "PDF10159_Image3\n",
      "PDF10159_Image4\n",
      "PDF10159_Image5\n",
      "PDF10159_Image6\n",
      "PDF10159_Image7\n",
      "PDF1015_Image1\n",
      "PDF1015_Image2\n",
      "PDF1015_Image3\n",
      "PDF1015_Image4\n",
      "PDF1015_Image5\n",
      "PDF1015_Image6\n",
      "PDF10160_Image1\n",
      "PDF10160_Image10\n",
      "PDF10160_Image11\n",
      "PDF10160_Image12\n",
      "PDF10160_Image2\n",
      "PDF10160_Image3\n",
      "PDF10160_Image4\n",
      "PDF10160_Image5\n",
      "PDF10160_Image6\n",
      "PDF10160_Image7\n",
      "PDF10160_Image8\n",
      "PDF10160_Image9\n",
      "PDF10161_Image1\n",
      "PDF10161_Image2\n",
      "PDF10161_Image3\n",
      "PDF10161_Image4\n",
      "PDF10162_Image1\n",
      "PDF10162_Image2\n",
      "PDF10162_Image3\n",
      "PDF10162_Image4\n",
      "PDF10163_Image1\n",
      "PDF10163_Image2\n",
      "PDF10163_Image3\n",
      "PDF10163_Image4\n",
      "PDF10163_Image5\n",
      "PDF10163_Image6\n",
      "PDF10163_Image7\n",
      "PDF10164_Image1\n",
      "PDF10164_Image2\n",
      "PDF10164_Image3\n",
      "PDF10164_Image4\n",
      "PDF10164_Image5\n",
      "PDF10165_Image1\n",
      "PDF10165_Image2\n",
      "PDF10165_Image3\n",
      "PDF10165_Image4\n",
      "PDF10165_Image5\n",
      "PDF10165_Image6\n",
      "PDF10166_Image1\n",
      "PDF10166_Image10\n",
      "PDF10166_Image2\n",
      "PDF10166_Image3\n",
      "PDF10166_Image4\n",
      "PDF10166_Image5\n",
      "PDF10166_Image6\n",
      "PDF10166_Image7\n",
      "PDF10166_Image8\n",
      "PDF10166_Image9\n",
      "PDF10167_Image1\n",
      "PDF10167_Image2\n",
      "PDF10167_Image3\n",
      "PDF10167_Image4\n",
      "PDF10167_Image5\n",
      "PDF10167_Image6\n",
      "PDF10168_Image1\n",
      "PDF10168_Image10\n",
      "PDF10168_Image11\n",
      "PDF10168_Image2\n",
      "PDF10168_Image3\n",
      "PDF10168_Image4\n",
      "PDF10168_Image5\n",
      "PDF10168_Image6\n",
      "PDF10168_Image7\n",
      "PDF10168_Image8\n",
      "PDF10168_Image9\n",
      "PDF1016_Image1\n",
      "PDF1016_Image10\n",
      "PDF1016_Image11\n",
      "PDF1016_Image2\n",
      "PDF1016_Image3\n",
      "PDF1016_Image4\n",
      "PDF1016_Image5\n",
      "PDF1016_Image6\n",
      "PDF1016_Image7\n",
      "PDF1016_Image8\n",
      "PDF1016_Image9\n",
      "PDF10170_Image1\n",
      "PDF10170_Image2\n",
      "PDF10170_Image3\n",
      "PDF10170_Image4\n",
      "PDF10170_Image5\n",
      "PDF10170_Image6\n",
      "PDF10170_Image7\n",
      "PDF10170_Image8\n",
      "PDF10171_Image1\n",
      "PDF10171_Image2\n",
      "PDF10171_Image3\n",
      "PDF10171_Image4\n",
      "PDF10171_Image5\n",
      "PDF10171_Image6\n",
      "PDF10172_Image1\n",
      "PDF10172_Image2\n",
      "PDF10172_Image3\n",
      "PDF10172_Image4\n",
      "PDF10172_Image5\n",
      "PDF10172_Image6\n",
      "PDF10172_Image7\n",
      "PDF10172_Image8\n",
      "PDF10173_Image1\n",
      "PDF10173_Image2\n",
      "PDF10173_Image3\n",
      "PDF10173_Image4\n",
      "PDF10173_Image5\n",
      "PDF10173_Image6\n",
      "PDF10173_Image7\n",
      "PDF10174_Image1\n",
      "PDF10174_Image10\n",
      "PDF10174_Image2\n",
      "PDF10174_Image3\n",
      "PDF10174_Image4\n",
      "PDF10174_Image5\n",
      "PDF10174_Image6\n",
      "PDF10174_Image7\n",
      "PDF10174_Image8\n",
      "PDF10174_Image9\n",
      "PDF10175_Image1\n",
      "PDF10175_Image2\n",
      "PDF10175_Image3\n",
      "PDF10175_Image4\n",
      "PDF10175_Image5\n",
      "PDF10175_Image6\n",
      "PDF10176_Image1\n",
      "PDF10176_Image10\n",
      "PDF10176_Image2\n",
      "PDF10176_Image3\n",
      "PDF10176_Image4\n",
      "PDF10176_Image5\n",
      "PDF10176_Image6\n",
      "PDF10176_Image7\n",
      "PDF10176_Image8\n",
      "PDF10176_Image9\n",
      "PDF10177_Image1\n",
      "PDF10177_Image2\n",
      "PDF10177_Image3\n",
      "PDF10177_Image4\n",
      "PDF10178_Image1\n",
      "PDF10178_Image2\n",
      "PDF10178_Image3\n",
      "PDF10178_Image4\n",
      "PDF10178_Image5\n",
      "PDF10178_Image6\n",
      "PDF10179_Image1\n",
      "PDF10179_Image2\n",
      "PDF10179_Image3\n",
      "PDF10179_Image4\n",
      "PDF10179_Image5\n",
      "PDF10179_Image6\n",
      "PDF1017_Image1\n",
      "PDF1017_Image10\n",
      "PDF1017_Image11\n",
      "PDF1017_Image12\n",
      "PDF1017_Image13\n",
      "PDF1017_Image2\n",
      "PDF1017_Image3\n",
      "PDF1017_Image4\n",
      "PDF1017_Image5\n",
      "PDF1017_Image6\n",
      "PDF1017_Image7\n",
      "PDF1017_Image8\n",
      "PDF1017_Image9\n",
      "PDF10180_Image1\n",
      "PDF10180_Image10\n",
      "PDF10180_Image11\n",
      "PDF10180_Image2\n",
      "PDF10180_Image3\n",
      "PDF10180_Image4\n",
      "PDF10180_Image5\n",
      "PDF10180_Image6\n",
      "PDF10180_Image7\n",
      "PDF10180_Image8\n",
      "PDF10180_Image9\n",
      "PDF10181_Image1\n",
      "PDF10181_Image2\n",
      "PDF10181_Image3\n",
      "PDF10181_Image4\n",
      "PDF10181_Image5\n",
      "PDF10181_Image6\n",
      "PDF10182_Image1\n",
      "PDF10182_Image2\n",
      "PDF10182_Image3\n",
      "PDF10182_Image4\n",
      "PDF10182_Image5\n",
      "PDF10182_Image6\n",
      "PDF10182_Image7\n",
      "PDF10183_Image1\n",
      "PDF10183_Image10\n",
      "PDF10183_Image11\n",
      "PDF10183_Image12\n",
      "PDF10183_Image2\n",
      "PDF10183_Image3\n",
      "PDF10183_Image4\n",
      "PDF10183_Image5\n",
      "PDF10183_Image6\n",
      "PDF10183_Image7\n",
      "PDF10183_Image8\n",
      "PDF10183_Image9\n",
      "PDF10184_Image1\n",
      "PDF10184_Image2\n",
      "PDF10184_Image3\n",
      "PDF10184_Image4\n",
      "PDF10184_Image5\n",
      "PDF10184_Image6\n",
      "PDF10184_Image7\n",
      "PDF10184_Image8\n",
      "PDF10184_Image9\n",
      "PDF10185_Image1\n",
      "PDF10185_Image2\n",
      "PDF10185_Image3\n",
      "PDF10185_Image4\n",
      "PDF10185_Image5\n",
      "PDF10185_Image6\n",
      "PDF10185_Image7\n",
      "PDF10185_Image8\n",
      "PDF10186_Image1\n",
      "PDF10186_Image10\n",
      "PDF10186_Image11\n",
      "PDF10186_Image2\n",
      "PDF10186_Image3\n",
      "PDF10186_Image4\n",
      "PDF10186_Image5\n",
      "PDF10186_Image6\n",
      "PDF10186_Image7\n",
      "PDF10186_Image8\n",
      "PDF10186_Image9\n",
      "PDF10187_Image1\n",
      "PDF10187_Image2\n",
      "PDF10187_Image3\n",
      "PDF10187_Image4\n",
      "PDF10187_Image5\n",
      "PDF10187_Image6\n",
      "PDF10187_Image7\n",
      "PDF10187_Image8\n",
      "PDF10188_Image1\n",
      "PDF10188_Image10\n",
      "PDF10188_Image11\n",
      "PDF10188_Image12\n",
      "PDF10188_Image13\n",
      "PDF10188_Image14\n",
      "PDF10188_Image2\n",
      "PDF10188_Image3\n",
      "PDF10188_Image4\n",
      "PDF10188_Image5\n",
      "PDF10188_Image6\n",
      "PDF10188_Image7\n",
      "PDF10188_Image8\n",
      "PDF10188_Image9\n",
      "PDF10189_Image1\n",
      "PDF10189_Image10\n",
      "PDF10189_Image11\n",
      "PDF10189_Image2\n",
      "PDF10189_Image3\n",
      "PDF10189_Image4\n",
      "PDF10189_Image5\n",
      "PDF10189_Image6\n",
      "PDF10189_Image7\n",
      "PDF10189_Image8\n",
      "PDF10189_Image9\n",
      "PDF1018_Image1\n",
      "PDF1018_Image2\n",
      "PDF1018_Image3\n",
      "PDF1018_Image4\n",
      "PDF1018_Image5\n",
      "PDF1018_Image6\n",
      "PDF1018_Image7\n",
      "PDF1018_Image8\n",
      "PDF10190_Image1\n",
      "PDF10190_Image2\n",
      "PDF10190_Image3\n",
      "PDF10190_Image4\n",
      "PDF10190_Image5\n",
      "PDF10191_Image1\n",
      "PDF10191_Image2\n",
      "PDF10191_Image3\n",
      "PDF10191_Image4\n",
      "PDF10191_Image5\n",
      "PDF10192_Image1\n",
      "PDF10192_Image2\n",
      "PDF10192_Image3\n",
      "PDF10192_Image4\n",
      "PDF10193_Image1\n",
      "PDF10193_Image10\n",
      "PDF10193_Image11\n",
      "PDF10193_Image12\n",
      "PDF10193_Image13\n",
      "PDF10193_Image14\n",
      "PDF10193_Image2\n",
      "PDF10193_Image3\n",
      "PDF10193_Image4\n",
      "PDF10193_Image5\n",
      "PDF10193_Image6\n",
      "PDF10193_Image7\n",
      "PDF10193_Image8\n",
      "PDF10193_Image9\n",
      "PDF10194_Image1\n",
      "PDF10194_Image10\n",
      "PDF10194_Image11\n",
      "PDF10194_Image12\n",
      "PDF10194_Image2\n",
      "PDF10194_Image3\n",
      "PDF10194_Image4\n",
      "PDF10194_Image5\n",
      "PDF10194_Image6\n",
      "PDF10194_Image7\n",
      "PDF10194_Image8\n",
      "PDF10194_Image9\n",
      "PDF10195_Image1\n",
      "PDF10195_Image2\n",
      "PDF10195_Image3\n",
      "PDF10195_Image4\n",
      "PDF10195_Image5\n",
      "PDF10195_Image6\n",
      "PDF10196_Image1\n",
      "PDF10196_Image2\n",
      "PDF10196_Image3\n",
      "PDF10196_Image4\n",
      "PDF10196_Image5\n",
      "PDF10196_Image6\n",
      "PDF10197_Image1\n",
      "PDF10197_Image2\n",
      "PDF10197_Image3\n",
      "PDF10197_Image4\n",
      "PDF10197_Image5\n",
      "PDF10197_Image6\n",
      "PDF10197_Image7\n",
      "PDF10197_Image8\n",
      "PDF10197_Image9\n",
      "PDF10198_Image1\n",
      "PDF10198_Image10\n",
      "PDF10198_Image2\n",
      "PDF10198_Image3\n",
      "PDF10198_Image4\n",
      "PDF10198_Image5\n",
      "PDF10198_Image6\n",
      "PDF10198_Image7\n",
      "PDF10198_Image8\n",
      "PDF10198_Image9\n",
      "PDF10199_Image1\n",
      "PDF10199_Image10\n",
      "PDF10199_Image11\n",
      "PDF10199_Image12\n",
      "PDF10199_Image13\n",
      "PDF10199_Image14\n",
      "PDF10199_Image15\n",
      "PDF10199_Image16\n",
      "PDF10199_Image17\n",
      "PDF10199_Image18\n",
      "PDF10199_Image19\n",
      "PDF10199_Image2\n",
      "PDF10199_Image3\n",
      "PDF10199_Image4\n",
      "PDF10199_Image5\n",
      "PDF10199_Image6\n",
      "PDF10199_Image7\n",
      "PDF10199_Image8\n",
      "PDF10199_Image9\n",
      "PDF1019_Image1\n",
      "PDF1019_Image2\n",
      "PDF1019_Image3\n",
      "PDF1019_Image4\n",
      "PDF101_Image1\n",
      "PDF101_Image2\n",
      "PDF101_Image3\n",
      "PDF101_Image4\n",
      "PDF10200_Image1\n",
      "PDF10200_Image2\n",
      "PDF10200_Image3\n",
      "PDF10200_Image4\n",
      "PDF10200_Image5\n",
      "PDF10200_Image6\n",
      "PDF10200_Image7\n",
      "PDF10200_Image8\n",
      "PDF10201_Image1\n",
      "PDF10201_Image2\n",
      "PDF10201_Image3\n",
      "PDF10201_Image4\n",
      "PDF10201_Image5\n",
      "PDF10201_Image6\n",
      "PDF10202_Image1\n",
      "PDF10202_Image2\n",
      "PDF10203_Image1\n",
      "PDF10203_Image2\n",
      "PDF10203_Image3\n",
      "PDF10203_Image4\n",
      "PDF10203_Image5\n",
      "PDF10203_Image6\n",
      "PDF10203_Image7\n",
      "PDF10203_Image8\n",
      "PDF10203_Image9\n",
      "PDF10204_Image1\n",
      "PDF10204_Image10\n",
      "PDF10204_Image2\n",
      "PDF10204_Image3\n",
      "PDF10204_Image4\n",
      "PDF10204_Image5\n",
      "PDF10204_Image6\n",
      "PDF10204_Image7\n",
      "PDF10204_Image8\n",
      "PDF10204_Image9\n",
      "PDF10205_Image1\n",
      "PDF10205_Image2\n",
      "PDF10205_Image3\n",
      "PDF10205_Image4\n",
      "PDF10206_Image1\n",
      "PDF10206_Image2\n",
      "PDF10206_Image3\n",
      "PDF10206_Image4\n",
      "PDF10206_Image5\n",
      "PDF10206_Image6\n",
      "PDF10206_Image7\n",
      "PDF10206_Image8\n",
      "PDF10207_Image1\n",
      "PDF10207_Image2\n",
      "PDF10207_Image3\n",
      "PDF10207_Image4\n",
      "PDF10207_Image5\n",
      "PDF10207_Image6\n",
      "PDF10207_Image7\n",
      "PDF10208_Image1\n",
      "PDF10208_Image10\n",
      "PDF10208_Image2\n",
      "PDF10208_Image3\n",
      "PDF10208_Image4\n",
      "PDF10208_Image5\n",
      "PDF10208_Image6\n",
      "PDF10208_Image7\n",
      "PDF10208_Image8\n",
      "PDF10208_Image9\n",
      "PDF10209_Image1\n",
      "PDF10209_Image2\n",
      "PDF10209_Image3\n",
      "PDF10209_Image4\n",
      "PDF10209_Image5\n",
      "PDF1020_Image1\n",
      "PDF1020_Image2\n",
      "PDF1020_Image3\n",
      "PDF1020_Image4\n",
      "PDF10210_Image1\n",
      "PDF10210_Image2\n",
      "PDF10210_Image3\n",
      "PDF10210_Image4\n",
      "PDF10210_Image5\n",
      "PDF10210_Image6\n",
      "PDF10211_Image1\n",
      "PDF10211_Image10\n",
      "PDF10211_Image11\n",
      "PDF10211_Image12\n",
      "PDF10211_Image13\n",
      "PDF10211_Image14\n",
      "PDF10211_Image15\n",
      "PDF10211_Image16\n",
      "PDF10211_Image17\n",
      "PDF10211_Image18\n",
      "PDF10211_Image19\n",
      "PDF10211_Image2\n",
      "PDF10211_Image20\n",
      "PDF10211_Image21\n",
      "PDF10211_Image22\n",
      "PDF10211_Image23\n",
      "PDF10211_Image24\n",
      "PDF10211_Image25\n",
      "PDF10211_Image26\n",
      "PDF10211_Image27\n",
      "PDF10211_Image28\n",
      "PDF10211_Image29\n",
      "PDF10211_Image3\n",
      "PDF10211_Image30\n",
      "PDF10211_Image31\n",
      "PDF10211_Image32\n",
      "PDF10211_Image33\n",
      "PDF10211_Image34\n",
      "PDF10211_Image35\n",
      "PDF10211_Image36\n",
      "PDF10211_Image37\n",
      "PDF10211_Image38\n",
      "PDF10211_Image39\n",
      "PDF10211_Image4\n",
      "PDF10211_Image40\n",
      "PDF10211_Image41\n",
      "PDF10211_Image42\n",
      "PDF10211_Image43\n",
      "PDF10211_Image44\n",
      "PDF10211_Image45\n",
      "PDF10211_Image5\n",
      "PDF10211_Image6\n",
      "PDF10211_Image7\n",
      "PDF10211_Image8\n",
      "PDF10211_Image9\n",
      "PDF10212_Image1\n",
      "PDF10212_Image2\n",
      "PDF10212_Image3\n",
      "PDF10212_Image4\n",
      "PDF10212_Image5\n",
      "PDF10212_Image6\n",
      "PDF10212_Image7\n",
      "PDF10213_Image1\n",
      "PDF10214_Image1\n",
      "PDF10214_Image2\n",
      "PDF10214_Image3\n",
      "PDF10214_Image4\n",
      "PDF10214_Image5\n",
      "PDF10214_Image6\n",
      "PDF10214_Image7\n",
      "PDF10215_Image1\n",
      "PDF10215_Image2\n",
      "PDF10215_Image3\n",
      "PDF10215_Image4\n",
      "PDF10216_Image1\n",
      "PDF10216_Image10\n",
      "PDF10216_Image11\n",
      "PDF10216_Image12\n",
      "PDF10216_Image13\n",
      "PDF10216_Image14\n",
      "PDF10216_Image15\n",
      "PDF10216_Image16\n",
      "PDF10216_Image17\n",
      "PDF10216_Image18\n",
      "PDF10216_Image19\n",
      "PDF10216_Image2\n",
      "PDF10216_Image20\n",
      "PDF10216_Image21\n",
      "PDF10216_Image22\n",
      "PDF10216_Image23\n",
      "PDF10216_Image24\n",
      "PDF10216_Image25\n",
      "PDF10216_Image26\n",
      "PDF10216_Image27\n",
      "PDF10216_Image28\n",
      "PDF10216_Image29\n",
      "PDF10216_Image3\n",
      "PDF10216_Image30\n",
      "PDF10216_Image31\n",
      "PDF10216_Image32\n",
      "PDF10216_Image33\n",
      "PDF10216_Image34\n",
      "PDF10216_Image35\n",
      "PDF10216_Image36\n",
      "PDF10216_Image37\n",
      "PDF10216_Image38\n",
      "PDF10216_Image39\n",
      "PDF10216_Image4\n",
      "PDF10216_Image40\n",
      "PDF10216_Image41\n",
      "PDF10216_Image42\n",
      "PDF10216_Image43\n",
      "PDF10216_Image44\n",
      "PDF10216_Image45\n",
      "PDF10216_Image46\n",
      "PDF10216_Image47\n",
      "PDF10216_Image48\n",
      "PDF10216_Image5\n",
      "PDF10216_Image6\n",
      "PDF10216_Image7\n",
      "PDF10216_Image8\n",
      "PDF10216_Image9\n",
      "PDF10217_Image1\n",
      "PDF10217_Image2\n",
      "PDF10217_Image3\n",
      "PDF10217_Image4\n",
      "PDF10217_Image5\n",
      "PDF10218_Image1\n",
      "PDF10218_Image2\n",
      "PDF10218_Image3\n",
      "PDF10218_Image4\n",
      "PDF10219_Image1\n",
      "PDF10219_Image2\n",
      "PDF10219_Image3\n",
      "PDF10219_Image4\n",
      "PDF10219_Image5\n",
      "PDF10219_Image6\n",
      "PDF10219_Image7\n",
      "PDF10219_Image8\n",
      "PDF1021_Image1\n",
      "PDF1021_Image2\n",
      "PDF1021_Image3\n",
      "PDF1021_Image4\n",
      "PDF10220_Image1\n",
      "PDF10220_Image2\n",
      "PDF10220_Image3\n",
      "PDF10220_Image4\n",
      "PDF10221_Image1\n",
      "PDF10221_Image2\n",
      "PDF10221_Image3\n",
      "PDF10222_Image1\n",
      "PDF10222_Image2\n",
      "PDF10222_Image3\n",
      "PDF10222_Image4\n",
      "PDF10222_Image5\n",
      "PDF10222_Image6\n",
      "PDF10223_Image1\n",
      "PDF10223_Image2\n",
      "PDF10223_Image3\n",
      "PDF10223_Image4\n",
      "PDF10224_Image1\n",
      "PDF10224_Image2\n",
      "PDF10224_Image3\n",
      "PDF10225_Image1\n",
      "PDF10225_Image2\n",
      "PDF10225_Image3\n",
      "PDF10225_Image4\n",
      "PDF10225_Image5\n",
      "PDF10225_Image6\n",
      "PDF10226_Image1\n",
      "PDF10226_Image2\n",
      "PDF10226_Image3\n",
      "PDF10226_Image4\n",
      "PDF10226_Image5\n",
      "PDF10226_Image6\n",
      "PDF10226_Image7\n",
      "PDF10226_Image8\n",
      "PDF10226_Image9\n",
      "PDF10227_Image1\n",
      "PDF10227_Image2\n",
      "PDF10227_Image3\n",
      "PDF10227_Image4\n",
      "PDF10227_Image5\n",
      "PDF10227_Image6\n",
      "PDF10228_Image1\n",
      "PDF10228_Image2\n",
      "PDF10228_Image3\n",
      "PDF10228_Image4\n",
      "PDF10228_Image5\n",
      "PDF10229_Image1\n",
      "PDF10229_Image2\n",
      "PDF10229_Image3\n",
      "PDF10229_Image4\n",
      "PDF10229_Image5\n",
      "PDF10229_Image6\n",
      "PDF1022_Image1\n",
      "PDF1022_Image2\n",
      "PDF1022_Image3\n",
      "PDF1022_Image4\n",
      "PDF1022_Image5\n",
      "PDF1022_Image6\n",
      "PDF1022_Image7\n",
      "PDF10230_Image1\n",
      "PDF10230_Image2\n",
      "PDF10230_Image3\n",
      "PDF10230_Image4\n",
      "PDF10230_Image5\n",
      "PDF10230_Image6\n",
      "PDF10231_Image1\n",
      "PDF10231_Image2\n",
      "PDF10231_Image3\n",
      "PDF10231_Image4\n",
      "PDF10231_Image5\n",
      "PDF10231_Image6\n",
      "PDF10231_Image7\n",
      "PDF10231_Image8\n",
      "PDF10232_Image1\n",
      "PDF10232_Image2\n",
      "PDF10232_Image3\n",
      "PDF10232_Image4\n",
      "PDF10232_Image5\n",
      "PDF10232_Image6\n",
      "PDF10232_Image7\n",
      "PDF10233_Image1\n",
      "PDF10233_Image2\n",
      "PDF10233_Image3\n",
      "PDF10233_Image4\n",
      "PDF10233_Image5\n",
      "PDF10233_Image6\n",
      "PDF10233_Image7\n",
      "PDF10234_Image1\n",
      "PDF10234_Image2\n",
      "PDF10235_Image1\n",
      "PDF10235_Image10\n",
      "PDF10235_Image2\n",
      "PDF10235_Image3\n",
      "PDF10235_Image4\n",
      "PDF10235_Image5\n",
      "PDF10235_Image6\n",
      "PDF10235_Image7\n",
      "PDF10235_Image8\n",
      "PDF10235_Image9\n",
      "PDF10236_Image1\n",
      "PDF10236_Image2\n",
      "PDF10236_Image3\n",
      "PDF10236_Image4\n",
      "PDF10236_Image5\n",
      "PDF10237_Image1\n",
      "PDF10237_Image2\n",
      "PDF10237_Image3\n",
      "PDF10237_Image4\n",
      "PDF10237_Image5\n",
      "PDF10238_Image1\n",
      "PDF10238_Image2\n",
      "PDF10238_Image3\n",
      "PDF10238_Image4\n",
      "PDF10238_Image5\n",
      "PDF10238_Image6\n",
      "PDF10238_Image7\n",
      "PDF10239_Image1\n",
      "PDF10239_Image2\n",
      "PDF10239_Image3\n",
      "PDF10239_Image4\n",
      "PDF10239_Image5\n",
      "PDF1023_Image1\n",
      "PDF1023_Image2\n",
      "PDF1023_Image3\n",
      "PDF1023_Image4\n",
      "PDF1023_Image5\n",
      "PDF1023_Image6\n",
      "PDF1023_Image7\n",
      "PDF10240_Image1\n",
      "PDF10240_Image2\n",
      "PDF10240_Image3\n",
      "PDF10240_Image4\n",
      "PDF10241_Image1\n",
      "PDF10241_Image2\n",
      "PDF10241_Image3\n",
      "PDF10241_Image4\n",
      "PDF10241_Image5\n",
      "PDF10241_Image6\n",
      "PDF10241_Image7\n",
      "PDF10241_Image8\n",
      "PDF10242_Image1\n",
      "PDF10242_Image2\n",
      "PDF10242_Image3\n",
      "PDF10242_Image4\n",
      "PDF10242_Image5\n",
      "PDF10242_Image6\n",
      "PDF10242_Image7\n",
      "PDF10243_Image1\n",
      "PDF10243_Image2\n",
      "remove:  tem_crop_dataset/unlabel_images_copy/PDF10243_Image2.png\n",
      "PDF10243_Image3\n",
      "remove:  tem_crop_dataset/unlabel_images_copy/PDF10243_Image3.png\n",
      "PDF10243_Image4\n",
      "remove:  tem_crop_dataset/unlabel_images_copy/PDF10243_Image4.png\n",
      "PDF10243_Image5\n",
      "remove:  tem_crop_dataset/unlabel_images_copy/PDF10243_Image5.png\n",
      "PDF10243_Image6\n",
      "remove:  tem_crop_dataset/unlabel_images_copy/PDF10243_Image6.png\n",
      "PDF10243_Image7\n",
      "remove:  tem_crop_dataset/unlabel_images_copy/PDF10243_Image7.png\n",
      "PDF10244_Image1\n",
      "remove:  tem_crop_dataset/unlabel_images_copy/PDF10244_Image1.png\n",
      "PDF10244_Image2\n",
      "remove:  tem_crop_dataset/unlabel_images_copy/PDF10244_Image2.png\n",
      "PDF10244_Image3\n",
      "remove:  tem_crop_dataset/unlabel_images_copy/PDF10244_Image3.png\n",
      "PDF10244_Image4\n",
      "remove:  tem_crop_dataset/unlabel_images_copy/PDF10244_Image4.png\n",
      "PDF10244_Image5\n",
      "remove:  tem_crop_dataset/unlabel_images_copy/PDF10244_Image5.png\n",
      "PDF10244_Image6\n",
      "remove:  tem_crop_dataset/unlabel_images_copy/PDF10244_Image6.png\n",
      "PDF10244_Image7\n",
      "remove:  tem_crop_dataset/unlabel_images_copy/PDF10244_Image7.png\n",
      "PDF10244_Image8\n",
      "remove:  tem_crop_dataset/unlabel_images_copy/PDF10244_Image8.png\n",
      "PDF10244_Image9\n",
      "remove:  tem_crop_dataset/unlabel_images_copy/PDF10244_Image9.png\n",
      "PDF10245_Image1\n",
      "remove:  tem_crop_dataset/unlabel_images_copy/PDF10245_Image1.png\n",
      "PDF10245_Image2\n",
      "remove:  tem_crop_dataset/unlabel_images_copy/PDF10245_Image2.png\n",
      "PDF10245_Image3\n",
      "remove:  tem_crop_dataset/unlabel_images_copy/PDF10245_Image3.png\n",
      "PDF10246_Image1\n",
      "remove:  tem_crop_dataset/unlabel_images_copy/PDF10246_Image1.png\n",
      "PDF10246_Image2\n",
      "remove:  tem_crop_dataset/unlabel_images_copy/PDF10246_Image2.png\n",
      "PDF10246_Image3\n",
      "remove:  tem_crop_dataset/unlabel_images_copy/PDF10246_Image3.png\n",
      "PDF10246_Image4\n",
      "remove:  tem_crop_dataset/unlabel_images_copy/PDF10246_Image4.png\n",
      "PDF10246_Image5\n",
      "remove:  tem_crop_dataset/unlabel_images_copy/PDF10246_Image5.png\n",
      "PDF10247_Image1\n",
      "remove:  tem_crop_dataset/unlabel_images_copy/PDF10247_Image1.png\n",
      "PDF10247_Image2\n",
      "remove:  tem_crop_dataset/unlabel_images_copy/PDF10247_Image2.png\n",
      "PDF10248_Image1\n",
      "remove:  tem_crop_dataset/unlabel_images_copy/PDF10248_Image1.png\n",
      "PDF10248_Image2\n",
      "remove:  tem_crop_dataset/unlabel_images_copy/PDF10248_Image2.png\n",
      "PDF10248_Image3\n",
      "remove:  tem_crop_dataset/unlabel_images_copy/PDF10248_Image3.png\n",
      "PDF10248_Image4\n",
      "remove:  tem_crop_dataset/unlabel_images_copy/PDF10248_Image4.png\n",
      "PDF10248_Image5\n",
      "remove:  tem_crop_dataset/unlabel_images_copy/PDF10248_Image5.png\n",
      "PDF10249_Image1\n",
      "remove:  tem_crop_dataset/unlabel_images_copy/PDF10249_Image1.png\n",
      "PDF10249_Image2\n",
      "remove:  tem_crop_dataset/unlabel_images_copy/PDF10249_Image2.png\n",
      "PDF10249_Image3\n",
      "remove:  tem_crop_dataset/unlabel_images_copy/PDF10249_Image3.png\n",
      "PDF10249_Image4\n",
      "remove:  tem_crop_dataset/unlabel_images_copy/PDF10249_Image4.png\n",
      "PDF10249_Image5\n",
      "remove:  tem_crop_dataset/unlabel_images_copy/PDF10249_Image5.png\n",
      "PDF10249_Image6\n",
      "remove:  tem_crop_dataset/unlabel_images_copy/PDF10249_Image6.png\n",
      "PDF10249_Image7\n",
      "remove:  tem_crop_dataset/unlabel_images_copy/PDF10249_Image7.png\n",
      "PDF10249_Image8\n",
      "remove:  tem_crop_dataset/unlabel_images_copy/PDF10249_Image8.png\n",
      "PDF10249_Image9\n",
      "remove:  tem_crop_dataset/unlabel_images_copy/PDF10249_Image9.png\n",
      "PDF1024_Image1\n",
      "remove:  tem_crop_dataset/unlabel_images_copy/PDF1024_Image1.png\n",
      "PDF1024_Image2\n",
      "remove:  tem_crop_dataset/unlabel_images_copy/PDF1024_Image2.png\n",
      "PDF1024_Image3\n",
      "remove:  tem_crop_dataset/unlabel_images_copy/PDF1024_Image3.png\n",
      "PDF1024_Image4\n",
      "remove:  tem_crop_dataset/unlabel_images_copy/PDF1024_Image4.png\n",
      "PDF1024_Image5\n",
      "remove:  tem_crop_dataset/unlabel_images_copy/PDF1024_Image5.png\n",
      "PDF1024_Image6\n",
      "remove:  tem_crop_dataset/unlabel_images_copy/PDF1024_Image6.png\n",
      "PDF1024_Image7\n",
      "remove:  tem_crop_dataset/unlabel_images_copy/PDF1024_Image7.png\n",
      "PDF1024_Image8\n",
      "remove:  tem_crop_dataset/unlabel_images_copy/PDF1024_Image8.png\n",
      "PDF1024_Image9\n",
      "remove:  tem_crop_dataset/unlabel_images_copy/PDF1024_Image9.png\n",
      "PDF10250_Image1\n",
      "remove:  tem_crop_dataset/unlabel_images_copy/PDF10250_Image1.png\n",
      "PDF10250_Image10\n",
      "remove:  tem_crop_dataset/unlabel_images_copy/PDF10250_Image10.png\n",
      "PDF10250_Image11\n",
      "remove:  tem_crop_dataset/unlabel_images_copy/PDF10250_Image11.png\n",
      "PDF10250_Image12\n",
      "remove:  tem_crop_dataset/unlabel_images_copy/PDF10250_Image12.png\n",
      "PDF10250_Image2\n",
      "remove:  tem_crop_dataset/unlabel_images_copy/PDF10250_Image2.png\n",
      "PDF10250_Image3\n",
      "remove:  tem_crop_dataset/unlabel_images_copy/PDF10250_Image3.png\n",
      "PDF10250_Image4\n",
      "remove:  tem_crop_dataset/unlabel_images_copy/PDF10250_Image4.png\n",
      "PDF10250_Image5\n",
      "remove:  tem_crop_dataset/unlabel_images_copy/PDF10250_Image5.png\n",
      "PDF10250_Image6\n",
      "remove:  tem_crop_dataset/unlabel_images_copy/PDF10250_Image6.png\n",
      "PDF10250_Image7\n",
      "remove:  tem_crop_dataset/unlabel_images_copy/PDF10250_Image7.png\n",
      "PDF10250_Image8\n",
      "remove:  tem_crop_dataset/unlabel_images_copy/PDF10250_Image8.png\n",
      "PDF10250_Image9\n",
      "remove:  tem_crop_dataset/unlabel_images_copy/PDF10250_Image9.png\n",
      "PDF10251_Image1\n",
      "remove:  tem_crop_dataset/unlabel_images_copy/PDF10251_Image1.png\n",
      "PDF10251_Image2\n",
      "remove:  tem_crop_dataset/unlabel_images_copy/PDF10251_Image2.png\n",
      "PDF10251_Image3\n",
      "remove:  tem_crop_dataset/unlabel_images_copy/PDF10251_Image3.png\n",
      "PDF10251_Image4\n",
      "remove:  tem_crop_dataset/unlabel_images_copy/PDF10251_Image4.png\n",
      "PDF10251_Image5\n",
      "remove:  tem_crop_dataset/unlabel_images_copy/PDF10251_Image5.png\n",
      "PDF10251_Image6\n",
      "remove:  tem_crop_dataset/unlabel_images_copy/PDF10251_Image6.png\n",
      "PDF10251_Image7\n",
      "remove:  tem_crop_dataset/unlabel_images_copy/PDF10251_Image7.png\n",
      "PDF10251_Image8\n",
      "remove:  tem_crop_dataset/unlabel_images_copy/PDF10251_Image8.png\n",
      "PDF10252_Image1\n",
      "remove:  tem_crop_dataset/unlabel_images_copy/PDF10252_Image1.png\n",
      "PDF10252_Image2\n",
      "remove:  tem_crop_dataset/unlabel_images_copy/PDF10252_Image2.png\n",
      "PDF10252_Image3\n",
      "remove:  tem_crop_dataset/unlabel_images_copy/PDF10252_Image3.png\n",
      "PDF10252_Image4\n",
      "remove:  tem_crop_dataset/unlabel_images_copy/PDF10252_Image4.png\n",
      "PDF10252_Image5\n",
      "remove:  tem_crop_dataset/unlabel_images_copy/PDF10252_Image5.png\n",
      "PDF10252_Image6\n",
      "remove:  tem_crop_dataset/unlabel_images_copy/PDF10252_Image6.png\n",
      "PDF10253_Image1\n",
      "remove:  tem_crop_dataset/unlabel_images_copy/PDF10253_Image1.png\n",
      "PDF10253_Image10\n",
      "remove:  tem_crop_dataset/unlabel_images_copy/PDF10253_Image10.png\n",
      "PDF10253_Image2\n",
      "remove:  tem_crop_dataset/unlabel_images_copy/PDF10253_Image2.png\n",
      "PDF10253_Image3\n",
      "remove:  tem_crop_dataset/unlabel_images_copy/PDF10253_Image3.png\n",
      "PDF10253_Image4\n",
      "remove:  tem_crop_dataset/unlabel_images_copy/PDF10253_Image4.png\n",
      "PDF10253_Image5\n",
      "remove:  tem_crop_dataset/unlabel_images_copy/PDF10253_Image5.png\n",
      "PDF10253_Image6\n",
      "remove:  tem_crop_dataset/unlabel_images_copy/PDF10253_Image6.png\n",
      "PDF10253_Image7\n",
      "remove:  tem_crop_dataset/unlabel_images_copy/PDF10253_Image7.png\n",
      "PDF10253_Image8\n",
      "remove:  tem_crop_dataset/unlabel_images_copy/PDF10253_Image8.png\n",
      "PDF10253_Image9\n",
      "remove:  tem_crop_dataset/unlabel_images_copy/PDF10253_Image9.png\n",
      "PDF10254_Image1\n",
      "remove:  tem_crop_dataset/unlabel_images_copy/PDF10254_Image1.png\n",
      "PDF10254_Image2\n",
      "remove:  tem_crop_dataset/unlabel_images_copy/PDF10254_Image2.png\n",
      "PDF10254_Image3\n",
      "remove:  tem_crop_dataset/unlabel_images_copy/PDF10254_Image3.png\n",
      "PDF10254_Image4\n",
      "remove:  tem_crop_dataset/unlabel_images_copy/PDF10254_Image4.png\n",
      "PDF10254_Image5\n",
      "remove:  tem_crop_dataset/unlabel_images_copy/PDF10254_Image5.png\n",
      "PDF10254_Image6\n",
      "remove:  tem_crop_dataset/unlabel_images_copy/PDF10254_Image6.png\n",
      "PDF10254_Image7\n",
      "remove:  tem_crop_dataset/unlabel_images_copy/PDF10254_Image7.png\n",
      "PDF10255_Image1\n",
      "remove:  tem_crop_dataset/unlabel_images_copy/PDF10255_Image1.png\n",
      "PDF10255_Image2\n",
      "remove:  tem_crop_dataset/unlabel_images_copy/PDF10255_Image2.png\n",
      "PDF10255_Image3\n",
      "remove:  tem_crop_dataset/unlabel_images_copy/PDF10255_Image3.png\n",
      "PDF10255_Image4\n",
      "remove:  tem_crop_dataset/unlabel_images_copy/PDF10255_Image4.png\n",
      "PDF10255_Image5\n",
      "remove:  tem_crop_dataset/unlabel_images_copy/PDF10255_Image5.png\n",
      "PDF10255_Image6\n",
      "remove:  tem_crop_dataset/unlabel_images_copy/PDF10255_Image6.png\n",
      "PDF10255_Image7\n",
      "remove:  tem_crop_dataset/unlabel_images_copy/PDF10255_Image7.png\n",
      "PDF10255_Image8\n",
      "remove:  tem_crop_dataset/unlabel_images_copy/PDF10255_Image8.png\n",
      "PDF10256_Image1\n",
      "remove:  tem_crop_dataset/unlabel_images_copy/PDF10256_Image1.png\n",
      "PDF10256_Image2\n",
      "remove:  tem_crop_dataset/unlabel_images_copy/PDF10256_Image2.png\n",
      "PDF10256_Image3\n",
      "remove:  tem_crop_dataset/unlabel_images_copy/PDF10256_Image3.png\n",
      "PDF10256_Image4\n",
      "remove:  tem_crop_dataset/unlabel_images_copy/PDF10256_Image4.png\n",
      "PDF10256_Image5\n",
      "remove:  tem_crop_dataset/unlabel_images_copy/PDF10256_Image5.png\n",
      "PDF10256_Image6\n",
      "remove:  tem_crop_dataset/unlabel_images_copy/PDF10256_Image6.png\n",
      "PDF10256_Image7\n",
      "remove:  tem_crop_dataset/unlabel_images_copy/PDF10256_Image7.png\n",
      "PDF10256_Image8\n",
      "remove:  tem_crop_dataset/unlabel_images_copy/PDF10256_Image8.png\n",
      "PDF10257_Image1\n",
      "remove:  tem_crop_dataset/unlabel_images_copy/PDF10257_Image1.png\n",
      "PDF10257_Image2\n",
      "remove:  tem_crop_dataset/unlabel_images_copy/PDF10257_Image2.png\n",
      "PDF10257_Image3\n",
      "remove:  tem_crop_dataset/unlabel_images_copy/PDF10257_Image3.png\n",
      "PDF10257_Image4\n",
      "remove:  tem_crop_dataset/unlabel_images_copy/PDF10257_Image4.png\n",
      "PDF10257_Image5\n",
      "remove:  tem_crop_dataset/unlabel_images_copy/PDF10257_Image5.png\n",
      "PDF10257_Image6\n",
      "remove:  tem_crop_dataset/unlabel_images_copy/PDF10257_Image6.png\n",
      "PDF10257_Image7\n",
      "remove:  tem_crop_dataset/unlabel_images_copy/PDF10257_Image7.png\n",
      "PDF10258_Image1\n",
      "remove:  tem_crop_dataset/unlabel_images_copy/PDF10258_Image1.png\n",
      "PDF10258_Image2\n",
      "remove:  tem_crop_dataset/unlabel_images_copy/PDF10258_Image2.png\n",
      "PDF10258_Image3\n",
      "remove:  tem_crop_dataset/unlabel_images_copy/PDF10258_Image3.png\n",
      "PDF10258_Image4\n",
      "remove:  tem_crop_dataset/unlabel_images_copy/PDF10258_Image4.png\n",
      "PDF10258_Image5\n",
      "remove:  tem_crop_dataset/unlabel_images_copy/PDF10258_Image5.png\n",
      "PDF10258_Image6\n",
      "remove:  tem_crop_dataset/unlabel_images_copy/PDF10258_Image6.png\n",
      "PDF10258_Image7\n",
      "remove:  tem_crop_dataset/unlabel_images_copy/PDF10258_Image7.png\n",
      "PDF10259_Image1\n",
      "remove:  tem_crop_dataset/unlabel_images_copy/PDF10259_Image1.png\n",
      "PDF10259_Image2\n",
      "remove:  tem_crop_dataset/unlabel_images_copy/PDF10259_Image2.png\n",
      "PDF10259_Image3\n",
      "remove:  tem_crop_dataset/unlabel_images_copy/PDF10259_Image3.png\n",
      "PDF10259_Image4\n",
      "remove:  tem_crop_dataset/unlabel_images_copy/PDF10259_Image4.png\n",
      "PDF10259_Image5\n",
      "remove:  tem_crop_dataset/unlabel_images_copy/PDF10259_Image5.png\n",
      "PDF1025_Image1\n",
      "remove:  tem_crop_dataset/unlabel_images_copy/PDF1025_Image1.png\n",
      "PDF1025_Image2\n",
      "remove:  tem_crop_dataset/unlabel_images_copy/PDF1025_Image2.png\n",
      "PDF1025_Image3\n",
      "remove:  tem_crop_dataset/unlabel_images_copy/PDF1025_Image3.png\n",
      "PDF1025_Image4\n",
      "remove:  tem_crop_dataset/unlabel_images_copy/PDF1025_Image4.png\n",
      "PDF10260_Image1\n",
      "remove:  tem_crop_dataset/unlabel_images_copy/PDF10260_Image1.png\n",
      "PDF10260_Image2\n",
      "remove:  tem_crop_dataset/unlabel_images_copy/PDF10260_Image2.png\n",
      "PDF10260_Image3\n",
      "remove:  tem_crop_dataset/unlabel_images_copy/PDF10260_Image3.png\n",
      "PDF10260_Image4\n",
      "remove:  tem_crop_dataset/unlabel_images_copy/PDF10260_Image4.png\n",
      "PDF10260_Image5\n",
      "remove:  tem_crop_dataset/unlabel_images_copy/PDF10260_Image5.png\n",
      "PDF10261_Image1\n",
      "remove:  tem_crop_dataset/unlabel_images_copy/PDF10261_Image1.png\n",
      "PDF10261_Image2\n",
      "remove:  tem_crop_dataset/unlabel_images_copy/PDF10261_Image2.png\n",
      "PDF10261_Image3\n",
      "remove:  tem_crop_dataset/unlabel_images_copy/PDF10261_Image3.png\n",
      "PDF10261_Image4\n",
      "remove:  tem_crop_dataset/unlabel_images_copy/PDF10261_Image4.png\n",
      "PDF10261_Image5\n",
      "remove:  tem_crop_dataset/unlabel_images_copy/PDF10261_Image5.png\n",
      "PDF10261_Image6\n",
      "remove:  tem_crop_dataset/unlabel_images_copy/PDF10261_Image6.png\n",
      "PDF10261_Image7\n",
      "remove:  tem_crop_dataset/unlabel_images_copy/PDF10261_Image7.png\n",
      "PDF10261_Image8\n",
      "remove:  tem_crop_dataset/unlabel_images_copy/PDF10261_Image8.png\n",
      "PDF10261_Image9\n",
      "remove:  tem_crop_dataset/unlabel_images_copy/PDF10261_Image9.png\n",
      "PDF10262_Image1\n",
      "remove:  tem_crop_dataset/unlabel_images_copy/PDF10262_Image1.png\n",
      "PDF10262_Image2\n",
      "remove:  tem_crop_dataset/unlabel_images_copy/PDF10262_Image2.png\n",
      "PDF10262_Image3\n",
      "remove:  tem_crop_dataset/unlabel_images_copy/PDF10262_Image3.png\n",
      "PDF10262_Image4\n",
      "remove:  tem_crop_dataset/unlabel_images_copy/PDF10262_Image4.png\n",
      "PDF10262_Image5\n",
      "remove:  tem_crop_dataset/unlabel_images_copy/PDF10262_Image5.png\n",
      "PDF10262_Image6\n",
      "remove:  tem_crop_dataset/unlabel_images_copy/PDF10262_Image6.png\n",
      "PDF10263_Image1\n",
      "remove:  tem_crop_dataset/unlabel_images_copy/PDF10263_Image1.png\n",
      "PDF10263_Image2\n",
      "remove:  tem_crop_dataset/unlabel_images_copy/PDF10263_Image2.png\n",
      "PDF10263_Image3\n",
      "remove:  tem_crop_dataset/unlabel_images_copy/PDF10263_Image3.png\n",
      "PDF10263_Image4\n",
      "remove:  tem_crop_dataset/unlabel_images_copy/PDF10263_Image4.png\n",
      "PDF10263_Image5\n",
      "remove:  tem_crop_dataset/unlabel_images_copy/PDF10263_Image5.png\n",
      "PDF10263_Image6\n",
      "remove:  tem_crop_dataset/unlabel_images_copy/PDF10263_Image6.png\n",
      "PDF10264_Image1\n",
      "remove:  tem_crop_dataset/unlabel_images_copy/PDF10264_Image1.png\n",
      "PDF10264_Image2\n",
      "remove:  tem_crop_dataset/unlabel_images_copy/PDF10264_Image2.png\n",
      "PDF10264_Image3\n",
      "remove:  tem_crop_dataset/unlabel_images_copy/PDF10264_Image3.png\n",
      "PDF10264_Image4\n",
      "remove:  tem_crop_dataset/unlabel_images_copy/PDF10264_Image4.png\n",
      "PDF10264_Image5\n",
      "remove:  tem_crop_dataset/unlabel_images_copy/PDF10264_Image5.png\n",
      "PDF10264_Image6\n",
      "remove:  tem_crop_dataset/unlabel_images_copy/PDF10264_Image6.png\n",
      "PDF10265_Image1\n",
      "remove:  tem_crop_dataset/unlabel_images_copy/PDF10265_Image1.png\n",
      "PDF10265_Image2\n",
      "remove:  tem_crop_dataset/unlabel_images_copy/PDF10265_Image2.png\n",
      "PDF10265_Image3\n",
      "remove:  tem_crop_dataset/unlabel_images_copy/PDF10265_Image3.png\n",
      "PDF10265_Image4\n",
      "remove:  tem_crop_dataset/unlabel_images_copy/PDF10265_Image4.png\n",
      "PDF10266_Image1\n",
      "remove:  tem_crop_dataset/unlabel_images_copy/PDF10266_Image1.png\n",
      "PDF10266_Image2\n",
      "remove:  tem_crop_dataset/unlabel_images_copy/PDF10266_Image2.png\n",
      "PDF10266_Image3\n",
      "remove:  tem_crop_dataset/unlabel_images_copy/PDF10266_Image3.png\n",
      "PDF10266_Image4\n",
      "remove:  tem_crop_dataset/unlabel_images_copy/PDF10266_Image4.png\n",
      "PDF10266_Image5\n",
      "remove:  tem_crop_dataset/unlabel_images_copy/PDF10266_Image5.png\n",
      "PDF10266_Image6\n",
      "remove:  tem_crop_dataset/unlabel_images_copy/PDF10266_Image6.png\n",
      "PDF10266_Image7\n",
      "remove:  tem_crop_dataset/unlabel_images_copy/PDF10266_Image7.png\n",
      "PDF10267_Image1\n",
      "remove:  tem_crop_dataset/unlabel_images_copy/PDF10267_Image1.png\n",
      "PDF10267_Image10\n",
      "remove:  tem_crop_dataset/unlabel_images_copy/PDF10267_Image10.png\n",
      "PDF10267_Image11\n",
      "remove:  tem_crop_dataset/unlabel_images_copy/PDF10267_Image11.png\n",
      "PDF10267_Image12\n",
      "remove:  tem_crop_dataset/unlabel_images_copy/PDF10267_Image12.png\n",
      "PDF10267_Image2\n",
      "remove:  tem_crop_dataset/unlabel_images_copy/PDF10267_Image2.png\n",
      "PDF10267_Image3\n",
      "remove:  tem_crop_dataset/unlabel_images_copy/PDF10267_Image3.png\n",
      "PDF10267_Image4\n",
      "remove:  tem_crop_dataset/unlabel_images_copy/PDF10267_Image4.png\n",
      "PDF10267_Image5\n",
      "remove:  tem_crop_dataset/unlabel_images_copy/PDF10267_Image5.png\n",
      "PDF10267_Image6\n",
      "remove:  tem_crop_dataset/unlabel_images_copy/PDF10267_Image6.png\n",
      "PDF10267_Image7\n",
      "remove:  tem_crop_dataset/unlabel_images_copy/PDF10267_Image7.png\n",
      "PDF10267_Image8\n",
      "remove:  tem_crop_dataset/unlabel_images_copy/PDF10267_Image8.png\n",
      "PDF10267_Image9\n",
      "remove:  tem_crop_dataset/unlabel_images_copy/PDF10267_Image9.png\n",
      "PDF10268_Image1\n",
      "remove:  tem_crop_dataset/unlabel_images_copy/PDF10268_Image1.png\n",
      "PDF10268_Image2\n",
      "remove:  tem_crop_dataset/unlabel_images_copy/PDF10268_Image2.png\n",
      "PDF10268_Image3\n",
      "remove:  tem_crop_dataset/unlabel_images_copy/PDF10268_Image3.png\n",
      "PDF10268_Image4\n",
      "remove:  tem_crop_dataset/unlabel_images_copy/PDF10268_Image4.png\n",
      "PDF10268_Image5\n",
      "remove:  tem_crop_dataset/unlabel_images_copy/PDF10268_Image5.png\n",
      "PDF10269_Image1\n",
      "remove:  tem_crop_dataset/unlabel_images_copy/PDF10269_Image1.png\n",
      "PDF10269_Image2\n",
      "remove:  tem_crop_dataset/unlabel_images_copy/PDF10269_Image2.png\n",
      "PDF10269_Image3\n",
      "remove:  tem_crop_dataset/unlabel_images_copy/PDF10269_Image3.png\n",
      "PDF10269_Image4\n",
      "remove:  tem_crop_dataset/unlabel_images_copy/PDF10269_Image4.png\n",
      "PDF10269_Image5\n",
      "remove:  tem_crop_dataset/unlabel_images_copy/PDF10269_Image5.png\n",
      "PDF1026_Image1\n",
      "remove:  tem_crop_dataset/unlabel_images_copy/PDF1026_Image1.png\n",
      "PDF1026_Image2\n",
      "remove:  tem_crop_dataset/unlabel_images_copy/PDF1026_Image2.png\n",
      "PDF1026_Image3\n",
      "remove:  tem_crop_dataset/unlabel_images_copy/PDF1026_Image3.png\n",
      "PDF1026_Image4\n",
      "remove:  tem_crop_dataset/unlabel_images_copy/PDF1026_Image4.png\n",
      "PDF1026_Image5\n",
      "remove:  tem_crop_dataset/unlabel_images_copy/PDF1026_Image5.png\n",
      "PDF10270_Image1\n",
      "remove:  tem_crop_dataset/unlabel_images_copy/PDF10270_Image1.png\n",
      "PDF10270_Image10\n",
      "remove:  tem_crop_dataset/unlabel_images_copy/PDF10270_Image10.png\n",
      "PDF10270_Image11\n",
      "remove:  tem_crop_dataset/unlabel_images_copy/PDF10270_Image11.png\n",
      "PDF10270_Image12\n",
      "remove:  tem_crop_dataset/unlabel_images_copy/PDF10270_Image12.png\n",
      "PDF10270_Image13\n",
      "remove:  tem_crop_dataset/unlabel_images_copy/PDF10270_Image13.png\n",
      "PDF10270_Image14\n",
      "remove:  tem_crop_dataset/unlabel_images_copy/PDF10270_Image14.png\n",
      "PDF10270_Image2\n",
      "remove:  tem_crop_dataset/unlabel_images_copy/PDF10270_Image2.png\n",
      "PDF10270_Image3\n",
      "remove:  tem_crop_dataset/unlabel_images_copy/PDF10270_Image3.png\n",
      "PDF10270_Image4\n",
      "remove:  tem_crop_dataset/unlabel_images_copy/PDF10270_Image4.png\n",
      "PDF10270_Image5\n",
      "remove:  tem_crop_dataset/unlabel_images_copy/PDF10270_Image5.png\n",
      "PDF10270_Image6\n",
      "remove:  tem_crop_dataset/unlabel_images_copy/PDF10270_Image6.png\n",
      "PDF10270_Image7\n",
      "remove:  tem_crop_dataset/unlabel_images_copy/PDF10270_Image7.png\n",
      "PDF10270_Image8\n",
      "remove:  tem_crop_dataset/unlabel_images_copy/PDF10270_Image8.png\n",
      "PDF10270_Image9\n",
      "remove:  tem_crop_dataset/unlabel_images_copy/PDF10270_Image9.png\n",
      "PDF10271_Image1\n",
      "remove:  tem_crop_dataset/unlabel_images_copy/PDF10271_Image1.png\n",
      "PDF10271_Image10\n",
      "remove:  tem_crop_dataset/unlabel_images_copy/PDF10271_Image10.png\n",
      "PDF10271_Image11\n",
      "remove:  tem_crop_dataset/unlabel_images_copy/PDF10271_Image11.png\n",
      "PDF10271_Image12\n",
      "remove:  tem_crop_dataset/unlabel_images_copy/PDF10271_Image12.png\n",
      "PDF10271_Image13\n",
      "remove:  tem_crop_dataset/unlabel_images_copy/PDF10271_Image13.png\n",
      "PDF10271_Image14\n",
      "remove:  tem_crop_dataset/unlabel_images_copy/PDF10271_Image14.png\n",
      "PDF10271_Image15\n",
      "remove:  tem_crop_dataset/unlabel_images_copy/PDF10271_Image15.png\n",
      "PDF10271_Image16\n",
      "remove:  tem_crop_dataset/unlabel_images_copy/PDF10271_Image16.png\n",
      "PDF10271_Image17\n",
      "remove:  tem_crop_dataset/unlabel_images_copy/PDF10271_Image17.png\n",
      "PDF10271_Image18\n",
      "remove:  tem_crop_dataset/unlabel_images_copy/PDF10271_Image18.png\n",
      "PDF10271_Image19\n",
      "remove:  tem_crop_dataset/unlabel_images_copy/PDF10271_Image19.png\n",
      "PDF10271_Image2\n",
      "remove:  tem_crop_dataset/unlabel_images_copy/PDF10271_Image2.png\n",
      "PDF10271_Image20\n",
      "remove:  tem_crop_dataset/unlabel_images_copy/PDF10271_Image20.png\n",
      "PDF10271_Image21\n",
      "remove:  tem_crop_dataset/unlabel_images_copy/PDF10271_Image21.png\n",
      "PDF10271_Image22\n",
      "remove:  tem_crop_dataset/unlabel_images_copy/PDF10271_Image22.png\n",
      "PDF10271_Image3\n",
      "remove:  tem_crop_dataset/unlabel_images_copy/PDF10271_Image3.png\n",
      "PDF10271_Image4\n",
      "remove:  tem_crop_dataset/unlabel_images_copy/PDF10271_Image4.png\n",
      "PDF10271_Image5\n",
      "remove:  tem_crop_dataset/unlabel_images_copy/PDF10271_Image5.png\n",
      "PDF10271_Image6\n",
      "remove:  tem_crop_dataset/unlabel_images_copy/PDF10271_Image6.png\n",
      "PDF10271_Image7\n",
      "remove:  tem_crop_dataset/unlabel_images_copy/PDF10271_Image7.png\n",
      "PDF10271_Image8\n",
      "remove:  tem_crop_dataset/unlabel_images_copy/PDF10271_Image8.png\n",
      "PDF10271_Image9\n",
      "remove:  tem_crop_dataset/unlabel_images_copy/PDF10271_Image9.png\n",
      "PDF10272_Image1\n",
      "remove:  tem_crop_dataset/unlabel_images_copy/PDF10272_Image1.png\n",
      "PDF10272_Image2\n",
      "remove:  tem_crop_dataset/unlabel_images_copy/PDF10272_Image2.png\n",
      "PDF10272_Image3\n",
      "remove:  tem_crop_dataset/unlabel_images_copy/PDF10272_Image3.png\n",
      "PDF10272_Image4\n",
      "remove:  tem_crop_dataset/unlabel_images_copy/PDF10272_Image4.png\n",
      "PDF10272_Image5\n",
      "remove:  tem_crop_dataset/unlabel_images_copy/PDF10272_Image5.png\n",
      "PDF10273_Image1\n",
      "remove:  tem_crop_dataset/unlabel_images_copy/PDF10273_Image1.png\n",
      "PDF10273_Image2\n",
      "remove:  tem_crop_dataset/unlabel_images_copy/PDF10273_Image2.png\n",
      "PDF10274_Image1\n",
      "remove:  tem_crop_dataset/unlabel_images_copy/PDF10274_Image1.png\n",
      "PDF10274_Image10\n",
      "remove:  tem_crop_dataset/unlabel_images_copy/PDF10274_Image10.png\n",
      "PDF10274_Image11\n",
      "remove:  tem_crop_dataset/unlabel_images_copy/PDF10274_Image11.png\n",
      "PDF10274_Image2\n",
      "remove:  tem_crop_dataset/unlabel_images_copy/PDF10274_Image2.png\n",
      "PDF10274_Image3\n",
      "remove:  tem_crop_dataset/unlabel_images_copy/PDF10274_Image3.png\n",
      "PDF10274_Image4\n",
      "remove:  tem_crop_dataset/unlabel_images_copy/PDF10274_Image4.png\n",
      "PDF10274_Image5\n",
      "remove:  tem_crop_dataset/unlabel_images_copy/PDF10274_Image5.png\n",
      "PDF10274_Image6\n",
      "remove:  tem_crop_dataset/unlabel_images_copy/PDF10274_Image6.png\n",
      "PDF10274_Image7\n",
      "remove:  tem_crop_dataset/unlabel_images_copy/PDF10274_Image7.png\n",
      "PDF10274_Image8\n",
      "remove:  tem_crop_dataset/unlabel_images_copy/PDF10274_Image8.png\n",
      "PDF10274_Image9\n",
      "remove:  tem_crop_dataset/unlabel_images_copy/PDF10274_Image9.png\n",
      "PDF10275_Image1\n",
      "remove:  tem_crop_dataset/unlabel_images_copy/PDF10275_Image1.png\n",
      "PDF10275_Image2\n",
      "remove:  tem_crop_dataset/unlabel_images_copy/PDF10275_Image2.png\n",
      "PDF10275_Image3\n",
      "remove:  tem_crop_dataset/unlabel_images_copy/PDF10275_Image3.png\n",
      "PDF10275_Image4\n",
      "remove:  tem_crop_dataset/unlabel_images_copy/PDF10275_Image4.png\n",
      "PDF10275_Image5\n",
      "remove:  tem_crop_dataset/unlabel_images_copy/PDF10275_Image5.png\n",
      "PDF10275_Image6\n",
      "remove:  tem_crop_dataset/unlabel_images_copy/PDF10275_Image6.png\n",
      "PDF10275_Image7\n",
      "remove:  tem_crop_dataset/unlabel_images_copy/PDF10275_Image7.png\n",
      "PDF10275_Image8\n",
      "remove:  tem_crop_dataset/unlabel_images_copy/PDF10275_Image8.png\n",
      "PDF10275_Image9\n",
      "remove:  tem_crop_dataset/unlabel_images_copy/PDF10275_Image9.png\n",
      "PDF10276_Image1\n",
      "remove:  tem_crop_dataset/unlabel_images_copy/PDF10276_Image1.png\n",
      "PDF10276_Image2\n",
      "remove:  tem_crop_dataset/unlabel_images_copy/PDF10276_Image2.png\n",
      "PDF10276_Image3\n",
      "remove:  tem_crop_dataset/unlabel_images_copy/PDF10276_Image3.png\n",
      "PDF10276_Image4\n",
      "remove:  tem_crop_dataset/unlabel_images_copy/PDF10276_Image4.png\n",
      "PDF10276_Image5\n",
      "remove:  tem_crop_dataset/unlabel_images_copy/PDF10276_Image5.png\n",
      "PDF10276_Image6\n",
      "remove:  tem_crop_dataset/unlabel_images_copy/PDF10276_Image6.png\n",
      "PDF10277_Image1\n",
      "remove:  tem_crop_dataset/unlabel_images_copy/PDF10277_Image1.png\n",
      "PDF10277_Image2\n",
      "remove:  tem_crop_dataset/unlabel_images_copy/PDF10277_Image2.png\n",
      "PDF10277_Image3\n",
      "remove:  tem_crop_dataset/unlabel_images_copy/PDF10277_Image3.png\n",
      "PDF10277_Image4\n",
      "remove:  tem_crop_dataset/unlabel_images_copy/PDF10277_Image4.png\n",
      "PDF10278_Image1\n",
      "remove:  tem_crop_dataset/unlabel_images_copy/PDF10278_Image1.png\n",
      "PDF10278_Image2\n",
      "remove:  tem_crop_dataset/unlabel_images_copy/PDF10278_Image2.png\n",
      "PDF10278_Image3\n",
      "remove:  tem_crop_dataset/unlabel_images_copy/PDF10278_Image3.png\n",
      "PDF10278_Image4\n",
      "remove:  tem_crop_dataset/unlabel_images_copy/PDF10278_Image4.png\n",
      "PDF10278_Image5\n",
      "remove:  tem_crop_dataset/unlabel_images_copy/PDF10278_Image5.png\n",
      "PDF10278_Image6\n",
      "remove:  tem_crop_dataset/unlabel_images_copy/PDF10278_Image6.png\n",
      "PDF1027_Image1\n",
      "remove:  tem_crop_dataset/unlabel_images_copy/PDF1027_Image1.png\n",
      "PDF1027_Image2\n",
      "remove:  tem_crop_dataset/unlabel_images_copy/PDF1027_Image2.png\n",
      "PDF1027_Image3\n",
      "remove:  tem_crop_dataset/unlabel_images_copy/PDF1027_Image3.png\n",
      "PDF1027_Image4\n",
      "remove:  tem_crop_dataset/unlabel_images_copy/PDF1027_Image4.png\n",
      "PDF1027_Image5\n",
      "remove:  tem_crop_dataset/unlabel_images_copy/PDF1027_Image5.png\n",
      "PDF10280_Image1\n",
      "remove:  tem_crop_dataset/unlabel_images_copy/PDF10280_Image1.png\n",
      "PDF10280_Image2\n",
      "remove:  tem_crop_dataset/unlabel_images_copy/PDF10280_Image2.png\n",
      "PDF10280_Image3\n",
      "remove:  tem_crop_dataset/unlabel_images_copy/PDF10280_Image3.png\n",
      "PDF10280_Image4\n",
      "remove:  tem_crop_dataset/unlabel_images_copy/PDF10280_Image4.png\n",
      "PDF10280_Image5\n",
      "remove:  tem_crop_dataset/unlabel_images_copy/PDF10280_Image5.png\n",
      "PDF10280_Image6\n",
      "remove:  tem_crop_dataset/unlabel_images_copy/PDF10280_Image6.png\n",
      "PDF10281_Image1\n",
      "remove:  tem_crop_dataset/unlabel_images_copy/PDF10281_Image1.png\n",
      "PDF10281_Image2\n",
      "remove:  tem_crop_dataset/unlabel_images_copy/PDF10281_Image2.png\n",
      "PDF10281_Image3\n",
      "remove:  tem_crop_dataset/unlabel_images_copy/PDF10281_Image3.png\n",
      "PDF10281_Image4\n",
      "remove:  tem_crop_dataset/unlabel_images_copy/PDF10281_Image4.png\n",
      "PDF10281_Image5\n",
      "remove:  tem_crop_dataset/unlabel_images_copy/PDF10281_Image5.png\n",
      "PDF10282_Image1\n",
      "remove:  tem_crop_dataset/unlabel_images_copy/PDF10282_Image1.png\n",
      "PDF10282_Image2\n",
      "remove:  tem_crop_dataset/unlabel_images_copy/PDF10282_Image2.png\n",
      "PDF10282_Image3\n",
      "remove:  tem_crop_dataset/unlabel_images_copy/PDF10282_Image3.png\n",
      "PDF10282_Image4\n",
      "remove:  tem_crop_dataset/unlabel_images_copy/PDF10282_Image4.png\n",
      "PDF10282_Image5\n",
      "remove:  tem_crop_dataset/unlabel_images_copy/PDF10282_Image5.png\n",
      "PDF10282_Image6\n",
      "remove:  tem_crop_dataset/unlabel_images_copy/PDF10282_Image6.png\n",
      "PDF10283_Image1\n",
      "remove:  tem_crop_dataset/unlabel_images_copy/PDF10283_Image1.png\n",
      "PDF10283_Image2\n",
      "remove:  tem_crop_dataset/unlabel_images_copy/PDF10283_Image2.png\n",
      "PDF10283_Image3\n",
      "remove:  tem_crop_dataset/unlabel_images_copy/PDF10283_Image3.png\n",
      "PDF10283_Image4\n",
      "remove:  tem_crop_dataset/unlabel_images_copy/PDF10283_Image4.png\n",
      "PDF10284_Image1\n",
      "remove:  tem_crop_dataset/unlabel_images_copy/PDF10284_Image1.png\n",
      "PDF10284_Image2\n",
      "remove:  tem_crop_dataset/unlabel_images_copy/PDF10284_Image2.png\n",
      "PDF10284_Image3\n",
      "remove:  tem_crop_dataset/unlabel_images_copy/PDF10284_Image3.png\n",
      "PDF10284_Image4\n",
      "remove:  tem_crop_dataset/unlabel_images_copy/PDF10284_Image4.png\n",
      "PDF10284_Image5\n",
      "remove:  tem_crop_dataset/unlabel_images_copy/PDF10284_Image5.png\n",
      "PDF10284_Image6\n",
      "remove:  tem_crop_dataset/unlabel_images_copy/PDF10284_Image6.png\n",
      "PDF10284_Image7\n",
      "remove:  tem_crop_dataset/unlabel_images_copy/PDF10284_Image7.png\n",
      "PDF10284_Image8\n",
      "remove:  tem_crop_dataset/unlabel_images_copy/PDF10284_Image8.png\n",
      "PDF10285_Image1\n",
      "remove:  tem_crop_dataset/unlabel_images_copy/PDF10285_Image1.png\n",
      "PDF10285_Image10\n",
      "remove:  tem_crop_dataset/unlabel_images_copy/PDF10285_Image10.png\n",
      "PDF10285_Image11\n",
      "remove:  tem_crop_dataset/unlabel_images_copy/PDF10285_Image11.png\n",
      "PDF10285_Image12\n",
      "remove:  tem_crop_dataset/unlabel_images_copy/PDF10285_Image12.png\n",
      "PDF10285_Image13\n",
      "remove:  tem_crop_dataset/unlabel_images_copy/PDF10285_Image13.png\n",
      "PDF10285_Image14\n",
      "remove:  tem_crop_dataset/unlabel_images_copy/PDF10285_Image14.png\n",
      "PDF10285_Image2\n",
      "remove:  tem_crop_dataset/unlabel_images_copy/PDF10285_Image2.png\n",
      "PDF10285_Image3\n",
      "remove:  tem_crop_dataset/unlabel_images_copy/PDF10285_Image3.png\n",
      "PDF10285_Image4\n",
      "remove:  tem_crop_dataset/unlabel_images_copy/PDF10285_Image4.png\n",
      "PDF10285_Image5\n",
      "remove:  tem_crop_dataset/unlabel_images_copy/PDF10285_Image5.png\n",
      "PDF10285_Image6\n",
      "remove:  tem_crop_dataset/unlabel_images_copy/PDF10285_Image6.png\n",
      "PDF10285_Image7\n",
      "remove:  tem_crop_dataset/unlabel_images_copy/PDF10285_Image7.png\n",
      "PDF10285_Image8\n",
      "remove:  tem_crop_dataset/unlabel_images_copy/PDF10285_Image8.png\n",
      "PDF10285_Image9\n",
      "remove:  tem_crop_dataset/unlabel_images_copy/PDF10285_Image9.png\n",
      "PDF10286_Image1\n",
      "remove:  tem_crop_dataset/unlabel_images_copy/PDF10286_Image1.png\n",
      "PDF10286_Image2\n",
      "remove:  tem_crop_dataset/unlabel_images_copy/PDF10286_Image2.png\n",
      "PDF10286_Image3\n",
      "remove:  tem_crop_dataset/unlabel_images_copy/PDF10286_Image3.png\n",
      "PDF10286_Image4\n",
      "remove:  tem_crop_dataset/unlabel_images_copy/PDF10286_Image4.png\n",
      "PDF10286_Image5\n",
      "remove:  tem_crop_dataset/unlabel_images_copy/PDF10286_Image5.png\n",
      "PDF10286_Image6\n",
      "remove:  tem_crop_dataset/unlabel_images_copy/PDF10286_Image6.png\n",
      "PDF10286_Image7\n",
      "remove:  tem_crop_dataset/unlabel_images_copy/PDF10286_Image7.png\n",
      "PDF10286_Image8\n",
      "remove:  tem_crop_dataset/unlabel_images_copy/PDF10286_Image8.png\n",
      "PDF10287_Image1\n",
      "remove:  tem_crop_dataset/unlabel_images_copy/PDF10287_Image1.png\n",
      "PDF10287_Image2\n",
      "remove:  tem_crop_dataset/unlabel_images_copy/PDF10287_Image2.png\n",
      "PDF10287_Image3\n",
      "remove:  tem_crop_dataset/unlabel_images_copy/PDF10287_Image3.png\n",
      "PDF10287_Image4\n",
      "remove:  tem_crop_dataset/unlabel_images_copy/PDF10287_Image4.png\n",
      "PDF10287_Image5\n",
      "remove:  tem_crop_dataset/unlabel_images_copy/PDF10287_Image5.png\n",
      "PDF10288_Image1\n",
      "remove:  tem_crop_dataset/unlabel_images_copy/PDF10288_Image1.png\n",
      "PDF10288_Image2\n",
      "remove:  tem_crop_dataset/unlabel_images_copy/PDF10288_Image2.png\n",
      "PDF10288_Image3\n",
      "remove:  tem_crop_dataset/unlabel_images_copy/PDF10288_Image3.png\n",
      "PDF10288_Image4\n",
      "remove:  tem_crop_dataset/unlabel_images_copy/PDF10288_Image4.png\n",
      "PDF10288_Image5\n",
      "remove:  tem_crop_dataset/unlabel_images_copy/PDF10288_Image5.png\n",
      "PDF10288_Image6\n",
      "remove:  tem_crop_dataset/unlabel_images_copy/PDF10288_Image6.png\n",
      "PDF10289_Image1\n",
      "remove:  tem_crop_dataset/unlabel_images_copy/PDF10289_Image1.png\n",
      "PDF10289_Image2\n",
      "remove:  tem_crop_dataset/unlabel_images_copy/PDF10289_Image2.png\n",
      "PDF10289_Image3\n",
      "remove:  tem_crop_dataset/unlabel_images_copy/PDF10289_Image3.png\n",
      "PDF10289_Image4\n",
      "remove:  tem_crop_dataset/unlabel_images_copy/PDF10289_Image4.png\n",
      "PDF10289_Image5\n",
      "remove:  tem_crop_dataset/unlabel_images_copy/PDF10289_Image5.png\n",
      "PDF1028_Image1\n",
      "remove:  tem_crop_dataset/unlabel_images_copy/PDF1028_Image1.png\n",
      "PDF1028_Image2\n",
      "remove:  tem_crop_dataset/unlabel_images_copy/PDF1028_Image2.png\n",
      "PDF1028_Image3\n",
      "remove:  tem_crop_dataset/unlabel_images_copy/PDF1028_Image3.png\n",
      "PDF1028_Image4\n",
      "remove:  tem_crop_dataset/unlabel_images_copy/PDF1028_Image4.png\n",
      "PDF1028_Image5\n",
      "remove:  tem_crop_dataset/unlabel_images_copy/PDF1028_Image5.png\n",
      "PDF10290_Image1\n",
      "remove:  tem_crop_dataset/unlabel_images_copy/PDF10290_Image1.png\n",
      "PDF10290_Image2\n",
      "remove:  tem_crop_dataset/unlabel_images_copy/PDF10290_Image2.png\n",
      "PDF10290_Image3\n",
      "remove:  tem_crop_dataset/unlabel_images_copy/PDF10290_Image3.png\n",
      "PDF10290_Image4\n",
      "remove:  tem_crop_dataset/unlabel_images_copy/PDF10290_Image4.png\n",
      "PDF10291_Image1\n",
      "remove:  tem_crop_dataset/unlabel_images_copy/PDF10291_Image1.png\n",
      "PDF10291_Image2\n",
      "remove:  tem_crop_dataset/unlabel_images_copy/PDF10291_Image2.png\n",
      "PDF10291_Image3\n",
      "remove:  tem_crop_dataset/unlabel_images_copy/PDF10291_Image3.png\n",
      "PDF10291_Image4\n",
      "remove:  tem_crop_dataset/unlabel_images_copy/PDF10291_Image4.png\n",
      "PDF10292_Image1\n",
      "remove:  tem_crop_dataset/unlabel_images_copy/PDF10292_Image1.png\n",
      "PDF10292_Image2\n",
      "remove:  tem_crop_dataset/unlabel_images_copy/PDF10292_Image2.png\n",
      "PDF10292_Image3\n",
      "remove:  tem_crop_dataset/unlabel_images_copy/PDF10292_Image3.png\n",
      "PDF10292_Image4\n",
      "remove:  tem_crop_dataset/unlabel_images_copy/PDF10292_Image4.png\n",
      "PDF10293_Image1\n",
      "remove:  tem_crop_dataset/unlabel_images_copy/PDF10293_Image1.png\n",
      "PDF10293_Image2\n",
      "remove:  tem_crop_dataset/unlabel_images_copy/PDF10293_Image2.png\n",
      "PDF10293_Image3\n",
      "remove:  tem_crop_dataset/unlabel_images_copy/PDF10293_Image3.png\n",
      "PDF10293_Image4\n",
      "remove:  tem_crop_dataset/unlabel_images_copy/PDF10293_Image4.png\n",
      "PDF10293_Image5\n",
      "remove:  tem_crop_dataset/unlabel_images_copy/PDF10293_Image5.png\n",
      "PDF10293_Image6\n",
      "remove:  tem_crop_dataset/unlabel_images_copy/PDF10293_Image6.png\n",
      "PDF10293_Image7\n",
      "remove:  tem_crop_dataset/unlabel_images_copy/PDF10293_Image7.png\n",
      "PDF10293_Image8\n",
      "remove:  tem_crop_dataset/unlabel_images_copy/PDF10293_Image8.png\n",
      "PDF10294_Image1\n",
      "remove:  tem_crop_dataset/unlabel_images_copy/PDF10294_Image1.png\n",
      "PDF10294_Image2\n",
      "remove:  tem_crop_dataset/unlabel_images_copy/PDF10294_Image2.png\n",
      "PDF10294_Image3\n",
      "remove:  tem_crop_dataset/unlabel_images_copy/PDF10294_Image3.png\n",
      "PDF10294_Image4\n",
      "remove:  tem_crop_dataset/unlabel_images_copy/PDF10294_Image4.png\n",
      "PDF10294_Image5\n",
      "remove:  tem_crop_dataset/unlabel_images_copy/PDF10294_Image5.png\n",
      "PDF10294_Image6\n",
      "remove:  tem_crop_dataset/unlabel_images_copy/PDF10294_Image6.png\n",
      "PDF10295_Image1\n",
      "remove:  tem_crop_dataset/unlabel_images_copy/PDF10295_Image1.png\n",
      "PDF10295_Image2\n",
      "remove:  tem_crop_dataset/unlabel_images_copy/PDF10295_Image2.png\n",
      "PDF10295_Image3\n",
      "remove:  tem_crop_dataset/unlabel_images_copy/PDF10295_Image3.png\n",
      "PDF10295_Image4\n",
      "remove:  tem_crop_dataset/unlabel_images_copy/PDF10295_Image4.png\n",
      "PDF10295_Image5\n",
      "remove:  tem_crop_dataset/unlabel_images_copy/PDF10295_Image5.png\n",
      "PDF10295_Image6\n",
      "remove:  tem_crop_dataset/unlabel_images_copy/PDF10295_Image6.png\n",
      "PDF10296_Image1\n",
      "remove:  tem_crop_dataset/unlabel_images_copy/PDF10296_Image1.png\n",
      "PDF10296_Image2\n",
      "remove:  tem_crop_dataset/unlabel_images_copy/PDF10296_Image2.png\n",
      "PDF10296_Image3\n",
      "remove:  tem_crop_dataset/unlabel_images_copy/PDF10296_Image3.png\n",
      "PDF10296_Image4\n",
      "remove:  tem_crop_dataset/unlabel_images_copy/PDF10296_Image4.png\n",
      "PDF10296_Image5\n",
      "remove:  tem_crop_dataset/unlabel_images_copy/PDF10296_Image5.png\n",
      "PDF10297_Image1\n",
      "remove:  tem_crop_dataset/unlabel_images_copy/PDF10297_Image1.png\n",
      "PDF10297_Image2\n",
      "remove:  tem_crop_dataset/unlabel_images_copy/PDF10297_Image2.png\n",
      "PDF10297_Image3\n",
      "remove:  tem_crop_dataset/unlabel_images_copy/PDF10297_Image3.png\n",
      "PDF10297_Image4\n",
      "remove:  tem_crop_dataset/unlabel_images_copy/PDF10297_Image4.png\n",
      "PDF10297_Image5\n",
      "remove:  tem_crop_dataset/unlabel_images_copy/PDF10297_Image5.png\n",
      "PDF10298_Image1\n",
      "remove:  tem_crop_dataset/unlabel_images_copy/PDF10298_Image1.png\n",
      "PDF10298_Image2\n",
      "remove:  tem_crop_dataset/unlabel_images_copy/PDF10298_Image2.png\n",
      "PDF10298_Image3\n",
      "remove:  tem_crop_dataset/unlabel_images_copy/PDF10298_Image3.png\n",
      "PDF10298_Image4\n",
      "remove:  tem_crop_dataset/unlabel_images_copy/PDF10298_Image4.png\n",
      "PDF10298_Image5\n",
      "remove:  tem_crop_dataset/unlabel_images_copy/PDF10298_Image5.png\n",
      "PDF10298_Image6\n",
      "remove:  tem_crop_dataset/unlabel_images_copy/PDF10298_Image6.png\n",
      "PDF10298_Image7\n",
      "remove:  tem_crop_dataset/unlabel_images_copy/PDF10298_Image7.png\n",
      "PDF10299_Image1\n",
      "remove:  tem_crop_dataset/unlabel_images_copy/PDF10299_Image1.png\n",
      "PDF10299_Image2\n",
      "remove:  tem_crop_dataset/unlabel_images_copy/PDF10299_Image2.png\n",
      "PDF10299_Image3\n",
      "remove:  tem_crop_dataset/unlabel_images_copy/PDF10299_Image3.png\n",
      "PDF10299_Image4\n",
      "remove:  tem_crop_dataset/unlabel_images_copy/PDF10299_Image4.png\n",
      "PDF10299_Image5\n",
      "remove:  tem_crop_dataset/unlabel_images_copy/PDF10299_Image5.png\n",
      "PDF10299_Image6\n",
      "remove:  tem_crop_dataset/unlabel_images_copy/PDF10299_Image6.png\n",
      "PDF10299_Image7\n",
      "remove:  tem_crop_dataset/unlabel_images_copy/PDF10299_Image7.png\n",
      "PDF10299_Image8\n",
      "remove:  tem_crop_dataset/unlabel_images_copy/PDF10299_Image8.png\n",
      "PDF10299_Image9\n",
      "remove:  tem_crop_dataset/unlabel_images_copy/PDF10299_Image9.png\n",
      "PDF1029_Image1\n",
      "remove:  tem_crop_dataset/unlabel_images_copy/PDF1029_Image1.png\n",
      "PDF1029_Image2\n",
      "remove:  tem_crop_dataset/unlabel_images_copy/PDF1029_Image2.png\n",
      "PDF1029_Image3\n",
      "remove:  tem_crop_dataset/unlabel_images_copy/PDF1029_Image3.png\n",
      "PDF1029_Image4\n",
      "remove:  tem_crop_dataset/unlabel_images_copy/PDF1029_Image4.png\n",
      "PDF1029_Image5\n",
      "remove:  tem_crop_dataset/unlabel_images_copy/PDF1029_Image5.png\n",
      "PDF1029_Image6\n",
      "remove:  tem_crop_dataset/unlabel_images_copy/PDF1029_Image6.png\n",
      "PDF102_Image1\n",
      "remove:  tem_crop_dataset/unlabel_images_copy/PDF102_Image1.png\n",
      "PDF102_Image2\n",
      "remove:  tem_crop_dataset/unlabel_images_copy/PDF102_Image2.png\n",
      "PDF102_Image3\n",
      "remove:  tem_crop_dataset/unlabel_images_copy/PDF102_Image3.png\n",
      "PDF102_Image4\n",
      "remove:  tem_crop_dataset/unlabel_images_copy/PDF102_Image4.png\n",
      "PDF10300_Image1\n",
      "remove:  tem_crop_dataset/unlabel_images_copy/PDF10300_Image1.png\n",
      "PDF10300_Image2\n",
      "remove:  tem_crop_dataset/unlabel_images_copy/PDF10300_Image2.png\n",
      "PDF10300_Image3\n",
      "remove:  tem_crop_dataset/unlabel_images_copy/PDF10300_Image3.png\n",
      "PDF10300_Image4\n",
      "remove:  tem_crop_dataset/unlabel_images_copy/PDF10300_Image4.png\n",
      "PDF10300_Image5\n",
      "remove:  tem_crop_dataset/unlabel_images_copy/PDF10300_Image5.png\n",
      "PDF10300_Image6\n",
      "remove:  tem_crop_dataset/unlabel_images_copy/PDF10300_Image6.png\n",
      "PDF10300_Image7\n",
      "remove:  tem_crop_dataset/unlabel_images_copy/PDF10300_Image7.png\n",
      "PDF10301_Image1\n",
      "remove:  tem_crop_dataset/unlabel_images_copy/PDF10301_Image1.png\n",
      "PDF10301_Image2\n",
      "remove:  tem_crop_dataset/unlabel_images_copy/PDF10301_Image2.png\n",
      "PDF10301_Image3\n",
      "remove:  tem_crop_dataset/unlabel_images_copy/PDF10301_Image3.png\n",
      "PDF10301_Image4\n",
      "remove:  tem_crop_dataset/unlabel_images_copy/PDF10301_Image4.png\n",
      "PDF10301_Image5\n",
      "remove:  tem_crop_dataset/unlabel_images_copy/PDF10301_Image5.png\n",
      "PDF10301_Image6\n",
      "remove:  tem_crop_dataset/unlabel_images_copy/PDF10301_Image6.png\n",
      "PDF10301_Image7\n",
      "remove:  tem_crop_dataset/unlabel_images_copy/PDF10301_Image7.png\n",
      "PDF10301_Image8\n",
      "remove:  tem_crop_dataset/unlabel_images_copy/PDF10301_Image8.png\n",
      "PDF10302_Image1\n",
      "remove:  tem_crop_dataset/unlabel_images_copy/PDF10302_Image1.png\n",
      "PDF10302_Image2\n",
      "remove:  tem_crop_dataset/unlabel_images_copy/PDF10302_Image2.png\n",
      "PDF10302_Image3\n",
      "remove:  tem_crop_dataset/unlabel_images_copy/PDF10302_Image3.png\n",
      "PDF10302_Image4\n",
      "remove:  tem_crop_dataset/unlabel_images_copy/PDF10302_Image4.png\n",
      "PDF10303_Image1\n",
      "remove:  tem_crop_dataset/unlabel_images_copy/PDF10303_Image1.png\n",
      "PDF10303_Image2\n",
      "remove:  tem_crop_dataset/unlabel_images_copy/PDF10303_Image2.png\n",
      "PDF10303_Image3\n",
      "remove:  tem_crop_dataset/unlabel_images_copy/PDF10303_Image3.png\n",
      "PDF10303_Image4\n",
      "remove:  tem_crop_dataset/unlabel_images_copy/PDF10303_Image4.png\n",
      "PDF10303_Image5\n",
      "remove:  tem_crop_dataset/unlabel_images_copy/PDF10303_Image5.png\n",
      "PDF10303_Image6\n",
      "remove:  tem_crop_dataset/unlabel_images_copy/PDF10303_Image6.png\n",
      "PDF10303_Image7\n",
      "remove:  tem_crop_dataset/unlabel_images_copy/PDF10303_Image7.png\n",
      "PDF10303_Image8\n",
      "remove:  tem_crop_dataset/unlabel_images_copy/PDF10303_Image8.png\n",
      "PDF10303_Image9\n",
      "remove:  tem_crop_dataset/unlabel_images_copy/PDF10303_Image9.png\n",
      "PDF10304_Image1\n",
      "remove:  tem_crop_dataset/unlabel_images_copy/PDF10304_Image1.png\n",
      "PDF10304_Image10\n",
      "remove:  tem_crop_dataset/unlabel_images_copy/PDF10304_Image10.png\n",
      "PDF10304_Image11\n",
      "remove:  tem_crop_dataset/unlabel_images_copy/PDF10304_Image11.png\n",
      "PDF10304_Image2\n",
      "remove:  tem_crop_dataset/unlabel_images_copy/PDF10304_Image2.png\n",
      "PDF10304_Image3\n",
      "remove:  tem_crop_dataset/unlabel_images_copy/PDF10304_Image3.png\n",
      "PDF10304_Image4\n",
      "remove:  tem_crop_dataset/unlabel_images_copy/PDF10304_Image4.png\n",
      "PDF10304_Image5\n",
      "remove:  tem_crop_dataset/unlabel_images_copy/PDF10304_Image5.png\n",
      "PDF10304_Image6\n",
      "remove:  tem_crop_dataset/unlabel_images_copy/PDF10304_Image6.png\n",
      "PDF10304_Image7\n",
      "remove:  tem_crop_dataset/unlabel_images_copy/PDF10304_Image7.png\n",
      "PDF10304_Image8\n",
      "remove:  tem_crop_dataset/unlabel_images_copy/PDF10304_Image8.png\n",
      "PDF10304_Image9\n",
      "remove:  tem_crop_dataset/unlabel_images_copy/PDF10304_Image9.png\n",
      "PDF10305_Image1\n",
      "remove:  tem_crop_dataset/unlabel_images_copy/PDF10305_Image1.png\n",
      "PDF10305_Image2\n",
      "remove:  tem_crop_dataset/unlabel_images_copy/PDF10305_Image2.png\n",
      "PDF10305_Image3\n",
      "remove:  tem_crop_dataset/unlabel_images_copy/PDF10305_Image3.png\n",
      "PDF10305_Image4\n",
      "remove:  tem_crop_dataset/unlabel_images_copy/PDF10305_Image4.png\n",
      "PDF10305_Image5\n",
      "remove:  tem_crop_dataset/unlabel_images_copy/PDF10305_Image5.png\n",
      "PDF10305_Image6\n",
      "remove:  tem_crop_dataset/unlabel_images_copy/PDF10305_Image6.png\n",
      "PDF10305_Image7\n",
      "remove:  tem_crop_dataset/unlabel_images_copy/PDF10305_Image7.png\n",
      "PDF10305_Image8\n",
      "remove:  tem_crop_dataset/unlabel_images_copy/PDF10305_Image8.png\n",
      "PDF10306_Image1\n",
      "remove:  tem_crop_dataset/unlabel_images_copy/PDF10306_Image1.png\n",
      "PDF10306_Image2\n",
      "remove:  tem_crop_dataset/unlabel_images_copy/PDF10306_Image2.png\n",
      "PDF10306_Image3\n",
      "remove:  tem_crop_dataset/unlabel_images_copy/PDF10306_Image3.png\n",
      "PDF10306_Image4\n",
      "remove:  tem_crop_dataset/unlabel_images_copy/PDF10306_Image4.png\n",
      "PDF10307_Image1\n",
      "remove:  tem_crop_dataset/unlabel_images_copy/PDF10307_Image1.png\n",
      "PDF10307_Image10\n",
      "remove:  tem_crop_dataset/unlabel_images_copy/PDF10307_Image10.png\n",
      "PDF10307_Image11\n",
      "remove:  tem_crop_dataset/unlabel_images_copy/PDF10307_Image11.png\n",
      "PDF10307_Image2\n",
      "remove:  tem_crop_dataset/unlabel_images_copy/PDF10307_Image2.png\n",
      "PDF10307_Image3\n",
      "remove:  tem_crop_dataset/unlabel_images_copy/PDF10307_Image3.png\n",
      "PDF10307_Image4\n",
      "remove:  tem_crop_dataset/unlabel_images_copy/PDF10307_Image4.png\n",
      "PDF10307_Image5\n",
      "remove:  tem_crop_dataset/unlabel_images_copy/PDF10307_Image5.png\n",
      "PDF10307_Image6\n",
      "remove:  tem_crop_dataset/unlabel_images_copy/PDF10307_Image6.png\n",
      "PDF10307_Image7\n",
      "remove:  tem_crop_dataset/unlabel_images_copy/PDF10307_Image7.png\n",
      "PDF10307_Image8\n",
      "remove:  tem_crop_dataset/unlabel_images_copy/PDF10307_Image8.png\n",
      "PDF10307_Image9\n",
      "remove:  tem_crop_dataset/unlabel_images_copy/PDF10307_Image9.png\n",
      "PDF10308_Image1\n",
      "remove:  tem_crop_dataset/unlabel_images_copy/PDF10308_Image1.png\n",
      "PDF10308_Image2\n",
      "remove:  tem_crop_dataset/unlabel_images_copy/PDF10308_Image2.png\n",
      "PDF10308_Image3\n",
      "remove:  tem_crop_dataset/unlabel_images_copy/PDF10308_Image3.png\n",
      "PDF10308_Image4\n",
      "remove:  tem_crop_dataset/unlabel_images_copy/PDF10308_Image4.png\n",
      "PDF10308_Image5\n",
      "remove:  tem_crop_dataset/unlabel_images_copy/PDF10308_Image5.png\n",
      "PDF10308_Image6\n",
      "remove:  tem_crop_dataset/unlabel_images_copy/PDF10308_Image6.png\n",
      "PDF10309_Image1\n",
      "remove:  tem_crop_dataset/unlabel_images_copy/PDF10309_Image1.png\n",
      "PDF10309_Image2\n",
      "remove:  tem_crop_dataset/unlabel_images_copy/PDF10309_Image2.png\n",
      "PDF10309_Image3\n",
      "remove:  tem_crop_dataset/unlabel_images_copy/PDF10309_Image3.png\n",
      "PDF10309_Image4\n",
      "remove:  tem_crop_dataset/unlabel_images_copy/PDF10309_Image4.png\n",
      "PDF10309_Image5\n",
      "remove:  tem_crop_dataset/unlabel_images_copy/PDF10309_Image5.png\n",
      "PDF1030_Image1\n",
      "remove:  tem_crop_dataset/unlabel_images_copy/PDF1030_Image1.png\n",
      "PDF1030_Image2\n",
      "remove:  tem_crop_dataset/unlabel_images_copy/PDF1030_Image2.png\n",
      "PDF1030_Image3\n",
      "remove:  tem_crop_dataset/unlabel_images_copy/PDF1030_Image3.png\n",
      "PDF10310_Image1\n",
      "remove:  tem_crop_dataset/unlabel_images_copy/PDF10310_Image1.png\n",
      "PDF10310_Image2\n",
      "remove:  tem_crop_dataset/unlabel_images_copy/PDF10310_Image2.png\n",
      "PDF10310_Image3\n",
      "remove:  tem_crop_dataset/unlabel_images_copy/PDF10310_Image3.png\n",
      "PDF10310_Image4\n",
      "remove:  tem_crop_dataset/unlabel_images_copy/PDF10310_Image4.png\n",
      "PDF10310_Image5\n",
      "remove:  tem_crop_dataset/unlabel_images_copy/PDF10310_Image5.png\n",
      "PDF10310_Image6\n",
      "remove:  tem_crop_dataset/unlabel_images_copy/PDF10310_Image6.png\n",
      "PDF10311_Image1\n",
      "remove:  tem_crop_dataset/unlabel_images_copy/PDF10311_Image1.png\n",
      "PDF10311_Image10\n",
      "remove:  tem_crop_dataset/unlabel_images_copy/PDF10311_Image10.png\n",
      "PDF10311_Image11\n",
      "remove:  tem_crop_dataset/unlabel_images_copy/PDF10311_Image11.png\n",
      "PDF10311_Image2\n",
      "remove:  tem_crop_dataset/unlabel_images_copy/PDF10311_Image2.png\n",
      "PDF10311_Image3\n",
      "remove:  tem_crop_dataset/unlabel_images_copy/PDF10311_Image3.png\n",
      "PDF10311_Image4\n",
      "remove:  tem_crop_dataset/unlabel_images_copy/PDF10311_Image4.png\n",
      "PDF10311_Image5\n",
      "remove:  tem_crop_dataset/unlabel_images_copy/PDF10311_Image5.png\n",
      "PDF10311_Image6\n",
      "remove:  tem_crop_dataset/unlabel_images_copy/PDF10311_Image6.png\n",
      "PDF10311_Image7\n",
      "remove:  tem_crop_dataset/unlabel_images_copy/PDF10311_Image7.png\n",
      "PDF10311_Image8\n",
      "remove:  tem_crop_dataset/unlabel_images_copy/PDF10311_Image8.png\n",
      "PDF10311_Image9\n",
      "remove:  tem_crop_dataset/unlabel_images_copy/PDF10311_Image9.png\n",
      "PDF10312_Image1\n",
      "remove:  tem_crop_dataset/unlabel_images_copy/PDF10312_Image1.png\n",
      "PDF10312_Image2\n",
      "remove:  tem_crop_dataset/unlabel_images_copy/PDF10312_Image2.png\n",
      "PDF10312_Image3\n",
      "remove:  tem_crop_dataset/unlabel_images_copy/PDF10312_Image3.png\n",
      "PDF10312_Image4\n",
      "remove:  tem_crop_dataset/unlabel_images_copy/PDF10312_Image4.png\n",
      "PDF10313_Image1\n",
      "remove:  tem_crop_dataset/unlabel_images_copy/PDF10313_Image1.png\n",
      "PDF10313_Image2\n",
      "remove:  tem_crop_dataset/unlabel_images_copy/PDF10313_Image2.png\n",
      "PDF10313_Image3\n",
      "remove:  tem_crop_dataset/unlabel_images_copy/PDF10313_Image3.png\n",
      "PDF10313_Image4\n",
      "remove:  tem_crop_dataset/unlabel_images_copy/PDF10313_Image4.png\n",
      "PDF10313_Image5\n",
      "remove:  tem_crop_dataset/unlabel_images_copy/PDF10313_Image5.png\n",
      "PDF10314_Image1\n",
      "remove:  tem_crop_dataset/unlabel_images_copy/PDF10314_Image1.png\n",
      "PDF10314_Image2\n",
      "remove:  tem_crop_dataset/unlabel_images_copy/PDF10314_Image2.png\n",
      "PDF10314_Image3\n",
      "remove:  tem_crop_dataset/unlabel_images_copy/PDF10314_Image3.png\n",
      "PDF10314_Image4\n",
      "remove:  tem_crop_dataset/unlabel_images_copy/PDF10314_Image4.png\n",
      "PDF10314_Image5\n",
      "remove:  tem_crop_dataset/unlabel_images_copy/PDF10314_Image5.png\n",
      "PDF10314_Image6\n",
      "remove:  tem_crop_dataset/unlabel_images_copy/PDF10314_Image6.png\n",
      "PDF10314_Image7\n",
      "remove:  tem_crop_dataset/unlabel_images_copy/PDF10314_Image7.png\n",
      "PDF10314_Image8\n",
      "remove:  tem_crop_dataset/unlabel_images_copy/PDF10314_Image8.png\n",
      "PDF10314_Image9\n",
      "remove:  tem_crop_dataset/unlabel_images_copy/PDF10314_Image9.png\n",
      "PDF10315_Image1\n",
      "remove:  tem_crop_dataset/unlabel_images_copy/PDF10315_Image1.png\n",
      "PDF10315_Image2\n",
      "remove:  tem_crop_dataset/unlabel_images_copy/PDF10315_Image2.png\n",
      "PDF10315_Image3\n",
      "remove:  tem_crop_dataset/unlabel_images_copy/PDF10315_Image3.png\n",
      "PDF10315_Image4\n",
      "remove:  tem_crop_dataset/unlabel_images_copy/PDF10315_Image4.png\n",
      "PDF10315_Image5\n",
      "remove:  tem_crop_dataset/unlabel_images_copy/PDF10315_Image5.png\n",
      "PDF10315_Image6\n",
      "remove:  tem_crop_dataset/unlabel_images_copy/PDF10315_Image6.png\n",
      "PDF10315_Image7\n",
      "remove:  tem_crop_dataset/unlabel_images_copy/PDF10315_Image7.png\n",
      "PDF10316_Image1\n",
      "remove:  tem_crop_dataset/unlabel_images_copy/PDF10316_Image1.png\n",
      "PDF10316_Image2\n",
      "remove:  tem_crop_dataset/unlabel_images_copy/PDF10316_Image2.png\n",
      "PDF10316_Image3\n",
      "remove:  tem_crop_dataset/unlabel_images_copy/PDF10316_Image3.png\n",
      "PDF10316_Image4\n",
      "remove:  tem_crop_dataset/unlabel_images_copy/PDF10316_Image4.png\n",
      "PDF10316_Image5\n",
      "remove:  tem_crop_dataset/unlabel_images_copy/PDF10316_Image5.png\n",
      "PDF10316_Image6\n",
      "remove:  tem_crop_dataset/unlabel_images_copy/PDF10316_Image6.png\n",
      "PDF10317_Image1\n",
      "remove:  tem_crop_dataset/unlabel_images_copy/PDF10317_Image1.png\n",
      "PDF10317_Image2\n",
      "remove:  tem_crop_dataset/unlabel_images_copy/PDF10317_Image2.png\n",
      "PDF10318_Image1\n",
      "remove:  tem_crop_dataset/unlabel_images_copy/PDF10318_Image1.png\n",
      "PDF10318_Image2\n",
      "remove:  tem_crop_dataset/unlabel_images_copy/PDF10318_Image2.png\n",
      "PDF10318_Image3\n",
      "remove:  tem_crop_dataset/unlabel_images_copy/PDF10318_Image3.png\n",
      "PDF10318_Image4\n",
      "remove:  tem_crop_dataset/unlabel_images_copy/PDF10318_Image4.png\n",
      "PDF10318_Image5\n",
      "remove:  tem_crop_dataset/unlabel_images_copy/PDF10318_Image5.png\n",
      "PDF10319_Image1\n",
      "remove:  tem_crop_dataset/unlabel_images_copy/PDF10319_Image1.png\n",
      "PDF10319_Image2\n",
      "remove:  tem_crop_dataset/unlabel_images_copy/PDF10319_Image2.png\n",
      "PDF10319_Image3\n",
      "remove:  tem_crop_dataset/unlabel_images_copy/PDF10319_Image3.png\n",
      "PDF10319_Image4\n",
      "remove:  tem_crop_dataset/unlabel_images_copy/PDF10319_Image4.png\n",
      "PDF10319_Image5\n",
      "remove:  tem_crop_dataset/unlabel_images_copy/PDF10319_Image5.png\n",
      "PDF10319_Image6\n",
      "remove:  tem_crop_dataset/unlabel_images_copy/PDF10319_Image6.png\n",
      "PDF10319_Image7\n",
      "remove:  tem_crop_dataset/unlabel_images_copy/PDF10319_Image7.png\n",
      "PDF10319_Image8\n",
      "remove:  tem_crop_dataset/unlabel_images_copy/PDF10319_Image8.png\n",
      "PDF10319_Image9\n",
      "remove:  tem_crop_dataset/unlabel_images_copy/PDF10319_Image9.png\n",
      "PDF1031_Image1\n",
      "remove:  tem_crop_dataset/unlabel_images_copy/PDF1031_Image1.png\n",
      "PDF1031_Image2\n",
      "remove:  tem_crop_dataset/unlabel_images_copy/PDF1031_Image2.png\n",
      "PDF1031_Image3\n",
      "remove:  tem_crop_dataset/unlabel_images_copy/PDF1031_Image3.png\n",
      "PDF1031_Image4\n",
      "remove:  tem_crop_dataset/unlabel_images_copy/PDF1031_Image4.png\n",
      "PDF1031_Image5\n",
      "remove:  tem_crop_dataset/unlabel_images_copy/PDF1031_Image5.png\n",
      "PDF1031_Image6\n",
      "remove:  tem_crop_dataset/unlabel_images_copy/PDF1031_Image6.png\n",
      "PDF10320_Image1\n",
      "remove:  tem_crop_dataset/unlabel_images_copy/PDF10320_Image1.png\n",
      "PDF10320_Image2\n",
      "remove:  tem_crop_dataset/unlabel_images_copy/PDF10320_Image2.png\n",
      "PDF10320_Image3\n",
      "remove:  tem_crop_dataset/unlabel_images_copy/PDF10320_Image3.png\n",
      "PDF10320_Image4\n",
      "remove:  tem_crop_dataset/unlabel_images_copy/PDF10320_Image4.png\n",
      "PDF10320_Image5\n",
      "remove:  tem_crop_dataset/unlabel_images_copy/PDF10320_Image5.png\n",
      "PDF10320_Image6\n",
      "remove:  tem_crop_dataset/unlabel_images_copy/PDF10320_Image6.png\n",
      "PDF10321_Image1\n",
      "remove:  tem_crop_dataset/unlabel_images_copy/PDF10321_Image1.png\n",
      "PDF10321_Image10\n",
      "remove:  tem_crop_dataset/unlabel_images_copy/PDF10321_Image10.png\n",
      "PDF10321_Image11\n",
      "remove:  tem_crop_dataset/unlabel_images_copy/PDF10321_Image11.png\n",
      "PDF10321_Image12\n",
      "remove:  tem_crop_dataset/unlabel_images_copy/PDF10321_Image12.png\n",
      "PDF10321_Image13\n",
      "remove:  tem_crop_dataset/unlabel_images_copy/PDF10321_Image13.png\n",
      "PDF10321_Image14\n",
      "remove:  tem_crop_dataset/unlabel_images_copy/PDF10321_Image14.png\n",
      "PDF10321_Image15\n",
      "remove:  tem_crop_dataset/unlabel_images_copy/PDF10321_Image15.png\n",
      "PDF10321_Image2\n",
      "remove:  tem_crop_dataset/unlabel_images_copy/PDF10321_Image2.png\n",
      "PDF10321_Image3\n",
      "remove:  tem_crop_dataset/unlabel_images_copy/PDF10321_Image3.png\n",
      "PDF10321_Image4\n",
      "remove:  tem_crop_dataset/unlabel_images_copy/PDF10321_Image4.png\n",
      "PDF10321_Image5\n",
      "remove:  tem_crop_dataset/unlabel_images_copy/PDF10321_Image5.png\n",
      "PDF10321_Image6\n",
      "remove:  tem_crop_dataset/unlabel_images_copy/PDF10321_Image6.png\n",
      "PDF10321_Image7\n",
      "remove:  tem_crop_dataset/unlabel_images_copy/PDF10321_Image7.png\n",
      "PDF10321_Image8\n",
      "remove:  tem_crop_dataset/unlabel_images_copy/PDF10321_Image8.png\n",
      "PDF10321_Image9\n",
      "remove:  tem_crop_dataset/unlabel_images_copy/PDF10321_Image9.png\n",
      "PDF10322_Image1\n",
      "remove:  tem_crop_dataset/unlabel_images_copy/PDF10322_Image1.png\n",
      "PDF10322_Image2\n",
      "remove:  tem_crop_dataset/unlabel_images_copy/PDF10322_Image2.png\n",
      "PDF10322_Image3\n",
      "remove:  tem_crop_dataset/unlabel_images_copy/PDF10322_Image3.png\n",
      "PDF10323_Image1\n",
      "remove:  tem_crop_dataset/unlabel_images_copy/PDF10323_Image1.png\n",
      "PDF10323_Image2\n",
      "remove:  tem_crop_dataset/unlabel_images_copy/PDF10323_Image2.png\n",
      "PDF10323_Image3\n",
      "remove:  tem_crop_dataset/unlabel_images_copy/PDF10323_Image3.png\n",
      "PDF10323_Image4\n",
      "remove:  tem_crop_dataset/unlabel_images_copy/PDF10323_Image4.png\n",
      "PDF10324_Image1\n",
      "remove:  tem_crop_dataset/unlabel_images_copy/PDF10324_Image1.png\n",
      "PDF10324_Image2\n",
      "remove:  tem_crop_dataset/unlabel_images_copy/PDF10324_Image2.png\n",
      "PDF10324_Image3\n",
      "remove:  tem_crop_dataset/unlabel_images_copy/PDF10324_Image3.png\n",
      "PDF10324_Image4\n",
      "remove:  tem_crop_dataset/unlabel_images_copy/PDF10324_Image4.png\n",
      "PDF10324_Image5\n",
      "remove:  tem_crop_dataset/unlabel_images_copy/PDF10324_Image5.png\n",
      "PDF10324_Image6\n",
      "remove:  tem_crop_dataset/unlabel_images_copy/PDF10324_Image6.png\n",
      "PDF10325_Image1\n",
      "remove:  tem_crop_dataset/unlabel_images_copy/PDF10325_Image1.png\n",
      "PDF10325_Image2\n",
      "remove:  tem_crop_dataset/unlabel_images_copy/PDF10325_Image2.png\n",
      "PDF10325_Image3\n",
      "remove:  tem_crop_dataset/unlabel_images_copy/PDF10325_Image3.png\n",
      "PDF10325_Image4\n",
      "remove:  tem_crop_dataset/unlabel_images_copy/PDF10325_Image4.png\n",
      "PDF10325_Image5\n",
      "remove:  tem_crop_dataset/unlabel_images_copy/PDF10325_Image5.png\n",
      "PDF10325_Image6\n",
      "remove:  tem_crop_dataset/unlabel_images_copy/PDF10325_Image6.png\n",
      "PDF10325_Image7\n",
      "remove:  tem_crop_dataset/unlabel_images_copy/PDF10325_Image7.png\n",
      "PDF10325_Image8\n",
      "remove:  tem_crop_dataset/unlabel_images_copy/PDF10325_Image8.png\n",
      "PDF10326_Image1\n",
      "remove:  tem_crop_dataset/unlabel_images_copy/PDF10326_Image1.png\n",
      "PDF10326_Image2\n",
      "remove:  tem_crop_dataset/unlabel_images_copy/PDF10326_Image2.png\n",
      "PDF10326_Image3\n",
      "remove:  tem_crop_dataset/unlabel_images_copy/PDF10326_Image3.png\n",
      "PDF10326_Image4\n",
      "remove:  tem_crop_dataset/unlabel_images_copy/PDF10326_Image4.png\n",
      "PDF10326_Image5\n",
      "remove:  tem_crop_dataset/unlabel_images_copy/PDF10326_Image5.png\n",
      "PDF10326_Image6\n",
      "remove:  tem_crop_dataset/unlabel_images_copy/PDF10326_Image6.png\n",
      "PDF10326_Image7\n",
      "remove:  tem_crop_dataset/unlabel_images_copy/PDF10326_Image7.png\n",
      "PDF10326_Image8\n",
      "remove:  tem_crop_dataset/unlabel_images_copy/PDF10326_Image8.png\n",
      "PDF10327_Image1\n",
      "remove:  tem_crop_dataset/unlabel_images_copy/PDF10327_Image1.png\n",
      "PDF10327_Image2\n",
      "remove:  tem_crop_dataset/unlabel_images_copy/PDF10327_Image2.png\n",
      "PDF10327_Image3\n",
      "remove:  tem_crop_dataset/unlabel_images_copy/PDF10327_Image3.png\n",
      "PDF10327_Image4\n",
      "remove:  tem_crop_dataset/unlabel_images_copy/PDF10327_Image4.png\n",
      "PDF10327_Image5\n",
      "remove:  tem_crop_dataset/unlabel_images_copy/PDF10327_Image5.png\n",
      "PDF10327_Image6\n",
      "remove:  tem_crop_dataset/unlabel_images_copy/PDF10327_Image6.png\n",
      "PDF10328_Image1\n",
      "remove:  tem_crop_dataset/unlabel_images_copy/PDF10328_Image1.png\n",
      "PDF10328_Image2\n",
      "remove:  tem_crop_dataset/unlabel_images_copy/PDF10328_Image2.png\n",
      "PDF10328_Image3\n",
      "remove:  tem_crop_dataset/unlabel_images_copy/PDF10328_Image3.png\n",
      "PDF10328_Image4\n",
      "remove:  tem_crop_dataset/unlabel_images_copy/PDF10328_Image4.png\n",
      "PDF10328_Image5\n",
      "remove:  tem_crop_dataset/unlabel_images_copy/PDF10328_Image5.png\n",
      "PDF10328_Image6\n",
      "remove:  tem_crop_dataset/unlabel_images_copy/PDF10328_Image6.png\n",
      "PDF10328_Image7\n",
      "remove:  tem_crop_dataset/unlabel_images_copy/PDF10328_Image7.png\n",
      "PDF10328_Image8\n",
      "remove:  tem_crop_dataset/unlabel_images_copy/PDF10328_Image8.png\n",
      "PDF10328_Image9\n",
      "remove:  tem_crop_dataset/unlabel_images_copy/PDF10328_Image9.png\n",
      "PDF10329_Image1\n",
      "remove:  tem_crop_dataset/unlabel_images_copy/PDF10329_Image1.png\n",
      "PDF10329_Image10\n",
      "remove:  tem_crop_dataset/unlabel_images_copy/PDF10329_Image10.png\n",
      "PDF10329_Image11\n",
      "remove:  tem_crop_dataset/unlabel_images_copy/PDF10329_Image11.png\n",
      "PDF10329_Image12\n",
      "remove:  tem_crop_dataset/unlabel_images_copy/PDF10329_Image12.png\n",
      "PDF10329_Image2\n",
      "remove:  tem_crop_dataset/unlabel_images_copy/PDF10329_Image2.png\n",
      "PDF10329_Image3\n",
      "remove:  tem_crop_dataset/unlabel_images_copy/PDF10329_Image3.png\n",
      "PDF10329_Image4\n",
      "remove:  tem_crop_dataset/unlabel_images_copy/PDF10329_Image4.png\n",
      "PDF10329_Image5\n",
      "remove:  tem_crop_dataset/unlabel_images_copy/PDF10329_Image5.png\n",
      "PDF10329_Image6\n",
      "remove:  tem_crop_dataset/unlabel_images_copy/PDF10329_Image6.png\n",
      "PDF10329_Image7\n",
      "remove:  tem_crop_dataset/unlabel_images_copy/PDF10329_Image7.png\n",
      "PDF10329_Image8\n",
      "remove:  tem_crop_dataset/unlabel_images_copy/PDF10329_Image8.png\n",
      "PDF10329_Image9\n",
      "remove:  tem_crop_dataset/unlabel_images_copy/PDF10329_Image9.png\n",
      "PDF1032_Image1\n",
      "remove:  tem_crop_dataset/unlabel_images_copy/PDF1032_Image1.png\n",
      "PDF1032_Image2\n",
      "remove:  tem_crop_dataset/unlabel_images_copy/PDF1032_Image2.png\n",
      "PDF1032_Image3\n",
      "remove:  tem_crop_dataset/unlabel_images_copy/PDF1032_Image3.png\n",
      "PDF1032_Image4\n",
      "remove:  tem_crop_dataset/unlabel_images_copy/PDF1032_Image4.png\n",
      "PDF1032_Image5\n",
      "remove:  tem_crop_dataset/unlabel_images_copy/PDF1032_Image5.png\n",
      "PDF1032_Image6\n",
      "remove:  tem_crop_dataset/unlabel_images_copy/PDF1032_Image6.png\n",
      "PDF10330_Image1\n",
      "remove:  tem_crop_dataset/unlabel_images_copy/PDF10330_Image1.png\n",
      "PDF10330_Image2\n",
      "remove:  tem_crop_dataset/unlabel_images_copy/PDF10330_Image2.png\n",
      "PDF10330_Image3\n",
      "remove:  tem_crop_dataset/unlabel_images_copy/PDF10330_Image3.png\n",
      "PDF10330_Image4\n",
      "remove:  tem_crop_dataset/unlabel_images_copy/PDF10330_Image4.png\n",
      "PDF10330_Image5\n",
      "remove:  tem_crop_dataset/unlabel_images_copy/PDF10330_Image5.png\n",
      "PDF10330_Image6\n",
      "remove:  tem_crop_dataset/unlabel_images_copy/PDF10330_Image6.png\n",
      "PDF10330_Image7\n",
      "remove:  tem_crop_dataset/unlabel_images_copy/PDF10330_Image7.png\n",
      "PDF10331_Image1\n",
      "remove:  tem_crop_dataset/unlabel_images_copy/PDF10331_Image1.png\n",
      "PDF10331_Image2\n",
      "remove:  tem_crop_dataset/unlabel_images_copy/PDF10331_Image2.png\n",
      "PDF10331_Image3\n",
      "remove:  tem_crop_dataset/unlabel_images_copy/PDF10331_Image3.png\n",
      "PDF10331_Image4\n",
      "remove:  tem_crop_dataset/unlabel_images_copy/PDF10331_Image4.png\n",
      "PDF10331_Image5\n",
      "remove:  tem_crop_dataset/unlabel_images_copy/PDF10331_Image5.png\n",
      "PDF10332_Image1\n",
      "remove:  tem_crop_dataset/unlabel_images_copy/PDF10332_Image1.png\n",
      "PDF10332_Image10\n",
      "remove:  tem_crop_dataset/unlabel_images_copy/PDF10332_Image10.png\n",
      "PDF10332_Image11\n",
      "remove:  tem_crop_dataset/unlabel_images_copy/PDF10332_Image11.png\n",
      "PDF10332_Image12\n",
      "remove:  tem_crop_dataset/unlabel_images_copy/PDF10332_Image12.png\n",
      "PDF10332_Image13\n",
      "remove:  tem_crop_dataset/unlabel_images_copy/PDF10332_Image13.png\n",
      "PDF10332_Image14\n",
      "remove:  tem_crop_dataset/unlabel_images_copy/PDF10332_Image14.png\n",
      "PDF10332_Image15\n",
      "remove:  tem_crop_dataset/unlabel_images_copy/PDF10332_Image15.png\n",
      "PDF10332_Image16\n",
      "remove:  tem_crop_dataset/unlabel_images_copy/PDF10332_Image16.png\n",
      "PDF10332_Image17\n",
      "remove:  tem_crop_dataset/unlabel_images_copy/PDF10332_Image17.png\n",
      "PDF10332_Image18\n",
      "remove:  tem_crop_dataset/unlabel_images_copy/PDF10332_Image18.png\n",
      "PDF10332_Image19\n",
      "remove:  tem_crop_dataset/unlabel_images_copy/PDF10332_Image19.png\n",
      "PDF10332_Image2\n",
      "remove:  tem_crop_dataset/unlabel_images_copy/PDF10332_Image2.png\n",
      "PDF10332_Image3\n",
      "remove:  tem_crop_dataset/unlabel_images_copy/PDF10332_Image3.png\n",
      "PDF10332_Image4\n",
      "remove:  tem_crop_dataset/unlabel_images_copy/PDF10332_Image4.png\n",
      "PDF10332_Image5\n",
      "remove:  tem_crop_dataset/unlabel_images_copy/PDF10332_Image5.png\n",
      "PDF10332_Image6\n",
      "remove:  tem_crop_dataset/unlabel_images_copy/PDF10332_Image6.png\n",
      "PDF10332_Image7\n",
      "remove:  tem_crop_dataset/unlabel_images_copy/PDF10332_Image7.png\n",
      "PDF10332_Image8\n",
      "remove:  tem_crop_dataset/unlabel_images_copy/PDF10332_Image8.png\n",
      "PDF10332_Image9\n",
      "remove:  tem_crop_dataset/unlabel_images_copy/PDF10332_Image9.png\n",
      "PDF10333_Image1\n",
      "remove:  tem_crop_dataset/unlabel_images_copy/PDF10333_Image1.png\n",
      "PDF10333_Image2\n",
      "remove:  tem_crop_dataset/unlabel_images_copy/PDF10333_Image2.png\n",
      "PDF10333_Image3\n",
      "remove:  tem_crop_dataset/unlabel_images_copy/PDF10333_Image3.png\n",
      "PDF10333_Image4\n",
      "remove:  tem_crop_dataset/unlabel_images_copy/PDF10333_Image4.png\n",
      "PDF10333_Image5\n",
      "remove:  tem_crop_dataset/unlabel_images_copy/PDF10333_Image5.png\n",
      "PDF10334_Image1\n",
      "remove:  tem_crop_dataset/unlabel_images_copy/PDF10334_Image1.png\n",
      "PDF10334_Image10\n",
      "remove:  tem_crop_dataset/unlabel_images_copy/PDF10334_Image10.png\n",
      "PDF10334_Image2\n",
      "remove:  tem_crop_dataset/unlabel_images_copy/PDF10334_Image2.png\n",
      "PDF10334_Image3\n",
      "remove:  tem_crop_dataset/unlabel_images_copy/PDF10334_Image3.png\n",
      "PDF10334_Image4\n",
      "remove:  tem_crop_dataset/unlabel_images_copy/PDF10334_Image4.png\n",
      "PDF10334_Image5\n",
      "remove:  tem_crop_dataset/unlabel_images_copy/PDF10334_Image5.png\n",
      "PDF10334_Image6\n",
      "remove:  tem_crop_dataset/unlabel_images_copy/PDF10334_Image6.png\n",
      "PDF10334_Image7\n",
      "remove:  tem_crop_dataset/unlabel_images_copy/PDF10334_Image7.png\n",
      "PDF10334_Image8\n",
      "remove:  tem_crop_dataset/unlabel_images_copy/PDF10334_Image8.png\n",
      "PDF10334_Image9\n",
      "remove:  tem_crop_dataset/unlabel_images_copy/PDF10334_Image9.png\n",
      "PDF10335_Image1\n",
      "remove:  tem_crop_dataset/unlabel_images_copy/PDF10335_Image1.png\n",
      "PDF10335_Image2\n",
      "remove:  tem_crop_dataset/unlabel_images_copy/PDF10335_Image2.png\n",
      "PDF10335_Image3\n",
      "remove:  tem_crop_dataset/unlabel_images_copy/PDF10335_Image3.png\n",
      "PDF10335_Image4\n",
      "remove:  tem_crop_dataset/unlabel_images_copy/PDF10335_Image4.png\n",
      "PDF10335_Image5\n",
      "remove:  tem_crop_dataset/unlabel_images_copy/PDF10335_Image5.png\n",
      "PDF10336_Image1\n",
      "remove:  tem_crop_dataset/unlabel_images_copy/PDF10336_Image1.png\n",
      "PDF10336_Image2\n",
      "remove:  tem_crop_dataset/unlabel_images_copy/PDF10336_Image2.png\n",
      "PDF10336_Image3\n",
      "remove:  tem_crop_dataset/unlabel_images_copy/PDF10336_Image3.png\n",
      "PDF10336_Image4\n",
      "remove:  tem_crop_dataset/unlabel_images_copy/PDF10336_Image4.png\n",
      "PDF10336_Image5\n",
      "remove:  tem_crop_dataset/unlabel_images_copy/PDF10336_Image5.png\n",
      "PDF10337_Image1\n",
      "remove:  tem_crop_dataset/unlabel_images_copy/PDF10337_Image1.png\n",
      "PDF10337_Image2\n",
      "remove:  tem_crop_dataset/unlabel_images_copy/PDF10337_Image2.png\n",
      "PDF10337_Image3\n",
      "remove:  tem_crop_dataset/unlabel_images_copy/PDF10337_Image3.png\n",
      "PDF10337_Image4\n",
      "remove:  tem_crop_dataset/unlabel_images_copy/PDF10337_Image4.png\n",
      "PDF10338_Image1\n",
      "remove:  tem_crop_dataset/unlabel_images_copy/PDF10338_Image1.png\n",
      "PDF10338_Image2\n",
      "remove:  tem_crop_dataset/unlabel_images_copy/PDF10338_Image2.png\n",
      "PDF10338_Image3\n",
      "remove:  tem_crop_dataset/unlabel_images_copy/PDF10338_Image3.png\n",
      "PDF10338_Image4\n",
      "remove:  tem_crop_dataset/unlabel_images_copy/PDF10338_Image4.png\n",
      "PDF10338_Image5\n",
      "remove:  tem_crop_dataset/unlabel_images_copy/PDF10338_Image5.png\n",
      "PDF10339_Image1\n",
      "remove:  tem_crop_dataset/unlabel_images_copy/PDF10339_Image1.png\n",
      "PDF10339_Image2\n",
      "remove:  tem_crop_dataset/unlabel_images_copy/PDF10339_Image2.png\n",
      "PDF10339_Image3\n",
      "remove:  tem_crop_dataset/unlabel_images_copy/PDF10339_Image3.png\n",
      "PDF10339_Image4\n",
      "remove:  tem_crop_dataset/unlabel_images_copy/PDF10339_Image4.png\n",
      "PDF10339_Image5\n",
      "remove:  tem_crop_dataset/unlabel_images_copy/PDF10339_Image5.png\n",
      "PDF10339_Image6\n",
      "remove:  tem_crop_dataset/unlabel_images_copy/PDF10339_Image6.png\n",
      "PDF1033_Image1\n",
      "remove:  tem_crop_dataset/unlabel_images_copy/PDF1033_Image1.png\n",
      "PDF1033_Image2\n",
      "remove:  tem_crop_dataset/unlabel_images_copy/PDF1033_Image2.png\n",
      "PDF1033_Image3\n",
      "remove:  tem_crop_dataset/unlabel_images_copy/PDF1033_Image3.png\n",
      "PDF1033_Image4\n",
      "remove:  tem_crop_dataset/unlabel_images_copy/PDF1033_Image4.png\n",
      "PDF10340_Image1\n",
      "remove:  tem_crop_dataset/unlabel_images_copy/PDF10340_Image1.png\n",
      "PDF10340_Image2\n",
      "remove:  tem_crop_dataset/unlabel_images_copy/PDF10340_Image2.png\n",
      "PDF10340_Image3\n",
      "remove:  tem_crop_dataset/unlabel_images_copy/PDF10340_Image3.png\n",
      "PDF10340_Image4\n",
      "remove:  tem_crop_dataset/unlabel_images_copy/PDF10340_Image4.png\n",
      "PDF10340_Image5\n",
      "remove:  tem_crop_dataset/unlabel_images_copy/PDF10340_Image5.png\n",
      "PDF10341_Image1\n",
      "remove:  tem_crop_dataset/unlabel_images_copy/PDF10341_Image1.png\n",
      "PDF10341_Image2\n",
      "remove:  tem_crop_dataset/unlabel_images_copy/PDF10341_Image2.png\n",
      "PDF10341_Image3\n",
      "remove:  tem_crop_dataset/unlabel_images_copy/PDF10341_Image3.png\n",
      "PDF10342_Image1\n",
      "remove:  tem_crop_dataset/unlabel_images_copy/PDF10342_Image1.png\n",
      "PDF10342_Image2\n",
      "remove:  tem_crop_dataset/unlabel_images_copy/PDF10342_Image2.png\n",
      "PDF10342_Image3\n",
      "remove:  tem_crop_dataset/unlabel_images_copy/PDF10342_Image3.png\n",
      "PDF10342_Image4\n",
      "remove:  tem_crop_dataset/unlabel_images_copy/PDF10342_Image4.png\n",
      "PDF10342_Image5\n",
      "remove:  tem_crop_dataset/unlabel_images_copy/PDF10342_Image5.png\n",
      "PDF10342_Image6\n",
      "remove:  tem_crop_dataset/unlabel_images_copy/PDF10342_Image6.png\n",
      "PDF10343_Image1\n",
      "remove:  tem_crop_dataset/unlabel_images_copy/PDF10343_Image1.png\n",
      "PDF10343_Image2\n",
      "remove:  tem_crop_dataset/unlabel_images_copy/PDF10343_Image2.png\n",
      "PDF10343_Image3\n",
      "remove:  tem_crop_dataset/unlabel_images_copy/PDF10343_Image3.png\n",
      "PDF10343_Image4\n",
      "remove:  tem_crop_dataset/unlabel_images_copy/PDF10343_Image4.png\n",
      "PDF10343_Image5\n",
      "remove:  tem_crop_dataset/unlabel_images_copy/PDF10343_Image5.png\n",
      "PDF10343_Image6\n",
      "remove:  tem_crop_dataset/unlabel_images_copy/PDF10343_Image6.png\n",
      "PDF10344_Image1\n",
      "remove:  tem_crop_dataset/unlabel_images_copy/PDF10344_Image1.png\n",
      "PDF10344_Image10\n",
      "remove:  tem_crop_dataset/unlabel_images_copy/PDF10344_Image10.png\n",
      "PDF10344_Image11\n",
      "remove:  tem_crop_dataset/unlabel_images_copy/PDF10344_Image11.png\n",
      "PDF10344_Image12\n",
      "remove:  tem_crop_dataset/unlabel_images_copy/PDF10344_Image12.png\n",
      "PDF10344_Image13\n",
      "remove:  tem_crop_dataset/unlabel_images_copy/PDF10344_Image13.png\n",
      "PDF10344_Image14\n",
      "remove:  tem_crop_dataset/unlabel_images_copy/PDF10344_Image14.png\n",
      "PDF10344_Image15\n",
      "remove:  tem_crop_dataset/unlabel_images_copy/PDF10344_Image15.png\n",
      "PDF10344_Image16\n",
      "remove:  tem_crop_dataset/unlabel_images_copy/PDF10344_Image16.png\n",
      "PDF10344_Image17\n",
      "remove:  tem_crop_dataset/unlabel_images_copy/PDF10344_Image17.png\n",
      "PDF10344_Image18\n",
      "remove:  tem_crop_dataset/unlabel_images_copy/PDF10344_Image18.png\n",
      "PDF10344_Image19\n",
      "remove:  tem_crop_dataset/unlabel_images_copy/PDF10344_Image19.png\n",
      "PDF10344_Image2\n",
      "remove:  tem_crop_dataset/unlabel_images_copy/PDF10344_Image2.png\n",
      "PDF10344_Image20\n",
      "remove:  tem_crop_dataset/unlabel_images_copy/PDF10344_Image20.png\n",
      "PDF10344_Image21\n",
      "remove:  tem_crop_dataset/unlabel_images_copy/PDF10344_Image21.png\n",
      "PDF10344_Image22\n",
      "remove:  tem_crop_dataset/unlabel_images_copy/PDF10344_Image22.png\n",
      "PDF10344_Image23\n",
      "remove:  tem_crop_dataset/unlabel_images_copy/PDF10344_Image23.png\n",
      "PDF10344_Image24\n",
      "remove:  tem_crop_dataset/unlabel_images_copy/PDF10344_Image24.png\n",
      "PDF10344_Image25\n",
      "remove:  tem_crop_dataset/unlabel_images_copy/PDF10344_Image25.png\n",
      "PDF10344_Image26\n",
      "remove:  tem_crop_dataset/unlabel_images_copy/PDF10344_Image26.png\n",
      "PDF10344_Image27\n",
      "remove:  tem_crop_dataset/unlabel_images_copy/PDF10344_Image27.png\n",
      "PDF10344_Image28\n",
      "remove:  tem_crop_dataset/unlabel_images_copy/PDF10344_Image28.png\n",
      "PDF10344_Image3\n",
      "remove:  tem_crop_dataset/unlabel_images_copy/PDF10344_Image3.png\n",
      "PDF10344_Image4\n",
      "remove:  tem_crop_dataset/unlabel_images_copy/PDF10344_Image4.png\n",
      "PDF10344_Image5\n",
      "remove:  tem_crop_dataset/unlabel_images_copy/PDF10344_Image5.png\n",
      "PDF10344_Image6\n",
      "remove:  tem_crop_dataset/unlabel_images_copy/PDF10344_Image6.png\n",
      "PDF10344_Image7\n",
      "remove:  tem_crop_dataset/unlabel_images_copy/PDF10344_Image7.png\n",
      "PDF10344_Image8\n",
      "remove:  tem_crop_dataset/unlabel_images_copy/PDF10344_Image8.png\n",
      "PDF10344_Image9\n",
      "remove:  tem_crop_dataset/unlabel_images_copy/PDF10344_Image9.png\n",
      "PDF10345_Image1\n",
      "remove:  tem_crop_dataset/unlabel_images_copy/PDF10345_Image1.png\n",
      "PDF10345_Image2\n",
      "remove:  tem_crop_dataset/unlabel_images_copy/PDF10345_Image2.png\n",
      "PDF10345_Image3\n",
      "remove:  tem_crop_dataset/unlabel_images_copy/PDF10345_Image3.png\n",
      "PDF10346_Image1\n",
      "remove:  tem_crop_dataset/unlabel_images_copy/PDF10346_Image1.png\n",
      "PDF10346_Image2\n",
      "remove:  tem_crop_dataset/unlabel_images_copy/PDF10346_Image2.png\n",
      "PDF10346_Image3\n",
      "remove:  tem_crop_dataset/unlabel_images_copy/PDF10346_Image3.png\n",
      "PDF10346_Image4\n",
      "remove:  tem_crop_dataset/unlabel_images_copy/PDF10346_Image4.png\n",
      "PDF10346_Image5\n",
      "remove:  tem_crop_dataset/unlabel_images_copy/PDF10346_Image5.png\n",
      "PDF1034_Image1\n",
      "remove:  tem_crop_dataset/unlabel_images_copy/PDF1034_Image1.png\n",
      "PDF1034_Image2\n",
      "remove:  tem_crop_dataset/unlabel_images_copy/PDF1034_Image2.png\n",
      "PDF1034_Image3\n",
      "remove:  tem_crop_dataset/unlabel_images_copy/PDF1034_Image3.png\n",
      "PDF1034_Image4\n",
      "remove:  tem_crop_dataset/unlabel_images_copy/PDF1034_Image4.png\n",
      "PDF1034_Image5\n",
      "remove:  tem_crop_dataset/unlabel_images_copy/PDF1034_Image5.png\n",
      "PDF1034_Image6\n",
      "remove:  tem_crop_dataset/unlabel_images_copy/PDF1034_Image6.png\n",
      "PDF1034_Image7\n",
      "remove:  tem_crop_dataset/unlabel_images_copy/PDF1034_Image7.png\n",
      "PDF1034_Image8\n",
      "remove:  tem_crop_dataset/unlabel_images_copy/PDF1034_Image8.png\n",
      "PDF103_Image1\n",
      "remove:  tem_crop_dataset/unlabel_images_copy/PDF103_Image1.png\n",
      "PDF103_Image2\n",
      "remove:  tem_crop_dataset/unlabel_images_copy/PDF103_Image2.png\n",
      "PDF103_Image3\n",
      "remove:  tem_crop_dataset/unlabel_images_copy/PDF103_Image3.png\n",
      "PDF10_Image1\n",
      "remove:  tem_crop_dataset/unlabel_images_copy/PDF10_Image1.png\n",
      "PDF10_Image2\n",
      "remove:  tem_crop_dataset/unlabel_images_copy/PDF10_Image2.png\n",
      "PDF10_Image3\n",
      "remove:  tem_crop_dataset/unlabel_images_copy/PDF10_Image3.png\n",
      "PDF10_Image4\n",
      "remove:  tem_crop_dataset/unlabel_images_copy/PDF10_Image4.png\n",
      "PDF10_Image5\n",
      "remove:  tem_crop_dataset/unlabel_images_copy/PDF10_Image5.png\n",
      "PDF10_Image6\n",
      "remove:  tem_crop_dataset/unlabel_images_copy/PDF10_Image6.png\n",
      "PDF10_Image7\n",
      "remove:  tem_crop_dataset/unlabel_images_copy/PDF10_Image7.png\n",
      "PDF10_Image8\n",
      "remove:  tem_crop_dataset/unlabel_images_copy/PDF10_Image8.png\n",
      "Finish removing unannotated images. Totally 2001 files are kept, and 803 files are unannotated and deleted.\n"
     ]
    }
   ],
   "source": [
    "# import sys\n",
    "# import os\n",
    "# import glob\n",
    "# dataset_path = \"tem_crop_dataset/dataset\"\n",
    "# annotated_file_list = []\n",
    "# i = 0\n",
    "# with open(dataset_path + \"/train.txt\") as fh:\n",
    "#     for line in fh:\n",
    "#         i += 1\n",
    "#         file_path = line.strip()\n",
    "#         annotated_file_list.append(file_path.rsplit(\"/\", 1)[1][:-4])\n",
    "# print(f\"Finish reading through the file list. Totally {i} files.\")\n",
    "\n",
    "# def remove_unannotated_image(image_path, annotated_file_list):\n",
    "    \n",
    "#     kept = 0\n",
    "#     delete = 0\n",
    "#     if not os.path.exists(image_path):\n",
    "#         print(\"image_path does not exist.\")\n",
    "#         return \n",
    "#     else:\n",
    "#         dir = os.listdir(image_path)\n",
    "#         for file in dir:  \n",
    "#             print(file[:-4])\n",
    "#             if file[:-4] not in annotated_file_list:\n",
    "#                 print(\"remove: \", image_path + \"/\" + file)\n",
    "#                 delete += 1\n",
    "#                 os.remove(image_path + \"/\" + file)\n",
    "#             else:\n",
    "#                 kept += 1\n",
    "#     print(f\"Finish removing unannotated images. Totally {kept} files are kept, and {delete} files are unannotated and deleted.\")\n",
    "\n",
    "# remove_unannotated_image(\"tem_crop_dataset/unlabel_images_copy\", annotated_file_list)"
   ]
  },
  {
   "cell_type": "code",
   "execution_count": 18,
   "id": "665492ed-2276-47ec-a714-a17cb3a455b6",
   "metadata": {},
   "outputs": [
    {
     "name": "stdout",
     "output_type": "stream",
     "text": [
      "1545\n"
     ]
    }
   ],
   "source": [
    "# import os\n",
    "\n",
    "# image_dir = 'tem_crop_dataset/unlabel_images_copy'\n",
    "# label_dir = 'tem_crop_dataset/dataset/dataset/labels/train'\n",
    "\n",
    "# image_exts = ['.jpg', '.png', '.jpeg']\n",
    "\n",
    "# os.makedirs(label_dir, exist_ok=True)\n",
    "\n",
    "# image_files = [f for f in os.listdir(image_dir) if os.path.splitext(f)[1].lower() in image_exts]\n",
    "\n",
    "# count = 0\n",
    "# for img_file in image_files:\n",
    "#     base = os.path.splitext(img_file)[0]\n",
    "#     label_path = os.path.join(label_dir, base + '.txt')\n",
    "#     if not os.path.exists(label_path):\n",
    "#         open(label_path, 'w').close()  \n",
    "#         count += 1\n",
    "\n",
    "# # print(f'give  {count} empty file ') \n",
    "# print (count)\n"
   ]
  },
  {
   "cell_type": "code",
   "execution_count": 29,
   "id": "6b8f48da-baee-4209-a814-fcfe81dfd9f5",
   "metadata": {},
   "outputs": [
    {
     "name": "stdout",
     "output_type": "stream",
     "text": [
      "📦 總圖片數量：402\n",
      "❌ 空標註圖片數量：60\n",
      "📊 空圖片比例：14.93%\n"
     ]
    }
   ],
   "source": [
    "# import os\n",
    "\n",
    "# # 修改這裡：放你的資料集路徑\n",
    "# image_dir = 'tem_crop_dataset/dataset/images/train'   # 你的圖片資料夾\n",
    "# label_dir = 'tem_crop_dataset/dataset/labels/train'   # 你的標註 txt 資料夾\n",
    "\n",
    "# # 允許的圖片副檔名\n",
    "# image_exts = ['.jpg', '.jpeg', '.png']\n",
    "\n",
    "# total_images = 0\n",
    "# empty_labels = 0\n",
    "\n",
    "# for file in os.listdir(image_dir):\n",
    "#     name, ext = os.path.splitext(file)\n",
    "#     if ext.lower() in image_exts:\n",
    "#         total_images += 1\n",
    "#         label_path = os.path.join(label_dir, f\"{name}.txt\")\n",
    "        \n",
    "#         # 沒有標註檔 或 是空檔\n",
    "#         if not os.path.exists(label_path) or os.path.getsize(label_path) == 0:\n",
    "#             empty_labels += 1\n",
    "\n",
    "# # 結果輸出\n",
    "# print(f\"📦 總圖片數量：{total_images}\")\n",
    "# print(f\"❌ 空標註圖片數量：{empty_labels}\")\n",
    "# if total_images > 0:\n",
    "#     print(f\"📊 空圖片比例：{empty_labels / total_images * 100:.2f}%\")\n",
    "# else:\n",
    "#     print(\"⚠️ 找不到任何圖片！請檢查 image_dir 是否正確\")\n"
   ]
  },
  {
   "cell_type": "code",
   "execution_count": 27,
   "id": "bcc2fdea-e611-4298-b0bb-4f271e6356e5",
   "metadata": {},
   "outputs": [
    {
     "name": "stdout",
     "output_type": "stream",
     "text": [
      "✅ 已移除 457 張空圖片，現在空圖數約為 30 張。\n"
     ]
    }
   ],
   "source": [
    "# import os\n",
    "# import random\n",
    "# import shutil\n",
    "\n",
    "# # 修改這裡：放你的資料集路徑\n",
    "# image_dir = 'tem_crop_dataset/dataset/images/val'   # 你的圖片資料夾\n",
    "# label_dir = 'tem_crop_dataset/dataset/labels/val'   # 你的標註 txt 資料夾\n",
    "\n",
    "# image_exts = ['.jpg', '.jpeg', '.png']\n",
    "\n",
    "# # 找出所有空圖片（沒有標註檔 or 標註檔為空）\n",
    "# empty_images = []\n",
    "# for file in os.listdir(image_dir):\n",
    "#     name, ext = os.path.splitext(file)\n",
    "#     if ext.lower() in image_exts:\n",
    "#         label_path = os.path.join(label_dir, f\"{name}.txt\")\n",
    "#         if not os.path.exists(label_path) or os.path.getsize(label_path) == 0:\n",
    "#             empty_images.append(name)\n",
    "\n",
    "# # ✅ 保留 360 張空圖，其餘刪掉\n",
    "# keep_num = 30\n",
    "# if len(empty_images) > keep_num:\n",
    "#     to_remove = random.sample(empty_images, len(empty_images) - keep_num)\n",
    "\n",
    "#     for name in to_remove:\n",
    "#         img_path = None\n",
    "#         for ext in image_exts:\n",
    "#             try_path = os.path.join(image_dir, name + ext)\n",
    "#             if os.path.exists(try_path):\n",
    "#                 img_path = try_path\n",
    "#                 break\n",
    "#         label_path = os.path.join(label_dir, name + '.txt')\n",
    "\n",
    "#         if img_path and os.path.exists(img_path):\n",
    "#             os.remove(img_path)\n",
    "#         if os.path.exists(label_path):\n",
    "#             os.remove(label_path)\n",
    "\n",
    "#     print(f\"✅ 已移除 {len(to_remove)} 張空圖片，現在空圖數約為 {keep_num} 張。\")\n",
    "# else:\n",
    "#     print(\"🎉 空圖片數量已經在目標範圍內，無需刪除。\")\n"
   ]
  },
  {
   "cell_type": "code",
   "execution_count": 3,
   "id": "c4b5acb2-b5eb-418e-a833-50c55eed5774",
   "metadata": {},
   "outputs": [
    {
     "name": "stdout",
     "output_type": "stream",
     "text": [
      "Ultralytics 8.3.110 🚀 Python-3.13.2 torch-2.6.0+cu124 CUDA:0 (NVIDIA RTX A4000, 15081MiB)\n",
      "\u001b[34m\u001b[1mengine/trainer: \u001b[0mtask=detect, mode=train, model=yolov8s.yaml, data=config.yaml, epochs=100, time=None, patience=100, batch=16, imgsz=640, save=True, save_period=-1, cache=False, device=0, workers=8, project=None, name=my_yolo_experiment10, exist_ok=False, pretrained=True, optimizer=auto, verbose=True, seed=0, deterministic=True, single_cls=False, rect=False, cos_lr=False, close_mosaic=10, resume=False, amp=True, fraction=1.0, profile=False, freeze=None, multi_scale=False, overlap_mask=True, mask_ratio=4, dropout=0.0, val=True, split=val, save_json=False, conf=None, iou=0.7, max_det=300, half=False, dnn=False, plots=True, source=None, vid_stride=1, stream_buffer=False, visualize=False, augment=False, agnostic_nms=False, classes=None, retina_masks=False, embed=None, show=False, save_frames=False, save_txt=False, save_conf=False, save_crop=False, show_labels=True, show_conf=True, show_boxes=True, line_width=None, format=torchscript, keras=False, optimize=False, int8=False, dynamic=False, simplify=True, opset=None, workspace=None, nms=False, lr0=0.01, lrf=0.01, momentum=0.937, weight_decay=0.0005, warmup_epochs=3.0, warmup_momentum=0.8, warmup_bias_lr=0.1, box=7.5, cls=0.5, dfl=1.5, pose=12.0, kobj=1.0, nbs=64, hsv_h=0.015, hsv_s=0.7, hsv_v=0.4, degrees=0.0, translate=0.1, scale=0.5, shear=0.0, perspective=0.0, flipud=0.0, fliplr=0.5, bgr=0.0, mosaic=1.0, mixup=0.0, copy_paste=0.0, copy_paste_mode=flip, auto_augment=randaugment, erasing=0.4, cfg=None, tracker=botsort.yaml, save_dir=runs/detect/my_yolo_experiment10\n",
      "Overriding model.yaml nc=80 with nc=1\n",
      "\n",
      "                   from  n    params  module                                       arguments                     \n",
      "  0                  -1  1       928  ultralytics.nn.modules.conv.Conv             [3, 32, 3, 2]                 \n",
      "  1                  -1  1     18560  ultralytics.nn.modules.conv.Conv             [32, 64, 3, 2]                \n",
      "  2                  -1  1     29056  ultralytics.nn.modules.block.C2f             [64, 64, 1, True]             \n",
      "  3                  -1  1     73984  ultralytics.nn.modules.conv.Conv             [64, 128, 3, 2]               \n",
      "  4                  -1  2    197632  ultralytics.nn.modules.block.C2f             [128, 128, 2, True]           \n",
      "  5                  -1  1    295424  ultralytics.nn.modules.conv.Conv             [128, 256, 3, 2]              \n",
      "  6                  -1  2    788480  ultralytics.nn.modules.block.C2f             [256, 256, 2, True]           \n",
      "  7                  -1  1   1180672  ultralytics.nn.modules.conv.Conv             [256, 512, 3, 2]              \n",
      "  8                  -1  1   1838080  ultralytics.nn.modules.block.C2f             [512, 512, 1, True]           \n",
      "  9                  -1  1    656896  ultralytics.nn.modules.block.SPPF            [512, 512, 5]                 \n",
      " 10                  -1  1         0  torch.nn.modules.upsampling.Upsample         [None, 2, 'nearest']          \n",
      " 11             [-1, 6]  1         0  ultralytics.nn.modules.conv.Concat           [1]                           \n",
      " 12                  -1  1    591360  ultralytics.nn.modules.block.C2f             [768, 256, 1]                 \n",
      " 13                  -1  1         0  torch.nn.modules.upsampling.Upsample         [None, 2, 'nearest']          \n",
      " 14             [-1, 4]  1         0  ultralytics.nn.modules.conv.Concat           [1]                           \n",
      " 15                  -1  1    148224  ultralytics.nn.modules.block.C2f             [384, 128, 1]                 \n",
      " 16                  -1  1    147712  ultralytics.nn.modules.conv.Conv             [128, 128, 3, 2]              \n",
      " 17            [-1, 12]  1         0  ultralytics.nn.modules.conv.Concat           [1]                           \n",
      " 18                  -1  1    493056  ultralytics.nn.modules.block.C2f             [384, 256, 1]                 \n",
      " 19                  -1  1    590336  ultralytics.nn.modules.conv.Conv             [256, 256, 3, 2]              \n",
      " 20             [-1, 9]  1         0  ultralytics.nn.modules.conv.Concat           [1]                           \n",
      " 21                  -1  1   1969152  ultralytics.nn.modules.block.C2f             [768, 512, 1]                 \n",
      " 22        [15, 18, 21]  1   2116435  ultralytics.nn.modules.head.Detect           [1, [128, 256, 512]]          \n",
      "YOLOv8s summary: 129 layers, 11,135,987 parameters, 11,135,971 gradients, 28.6 GFLOPs\n",
      "\n",
      "Freezing layer 'model.22.dfl.conv.weight'\n",
      "\u001b[34m\u001b[1mAMP: \u001b[0mrunning Automatic Mixed Precision (AMP) checks...\n",
      "\u001b[34m\u001b[1mAMP: \u001b[0mchecks passed ✅\n",
      "\u001b[34m\u001b[1mtrain: \u001b[0mFast image access ✅ (ping: 0.0±0.0 ms, read: 5604.6±489.0 MB/s, size: 1809.7 KB)\n"
     ]
    },
    {
     "name": "stderr",
     "output_type": "stream",
     "text": [
      "\u001b[34m\u001b[1mtrain: \u001b[0mScanning /home/ne6131039/Desktop/TEM_DATAS/TEM_PROJECT_CODES/little_tu/te\u001b[0m"
     ]
    },
    {
     "name": "stdout",
     "output_type": "stream",
     "text": [
      "\u001b[34m\u001b[1mtrain: \u001b[0mNew cache created: /home/ne6131039/Desktop/TEM_DATAS/TEM_PROJECT_CODES/little_tu/tem_crop_dataset/dataset/labels/train.cache\n"
     ]
    },
    {
     "name": "stderr",
     "output_type": "stream",
     "text": [
      "\n"
     ]
    },
    {
     "name": "stdout",
     "output_type": "stream",
     "text": [
      "\u001b[34m\u001b[1mval: \u001b[0mFast image access ✅ (ping: 0.0±0.0 ms, read: 48.4±25.5 MB/s, size: 507.9 KB)\n"
     ]
    },
    {
     "name": "stderr",
     "output_type": "stream",
     "text": [
      "\u001b[34m\u001b[1mval: \u001b[0mScanning /home/ne6131039/Desktop/TEM_DATAS/TEM_PROJECT_CODES/little_tu/tem_\u001b[0m"
     ]
    },
    {
     "name": "stdout",
     "output_type": "stream",
     "text": [
      "\u001b[34m\u001b[1mval: \u001b[0mNew cache created: /home/ne6131039/Desktop/TEM_DATAS/TEM_PROJECT_CODES/little_tu/tem_crop_dataset/dataset/labels/val.cache\n"
     ]
    },
    {
     "name": "stderr",
     "output_type": "stream",
     "text": [
      "\n"
     ]
    },
    {
     "name": "stdout",
     "output_type": "stream",
     "text": [
      "Plotting labels to runs/detect/my_yolo_experiment10/labels.jpg... \n",
      "\u001b[34m\u001b[1moptimizer:\u001b[0m 'optimizer=auto' found, ignoring 'lr0=0.01' and 'momentum=0.937' and determining best 'optimizer', 'lr0' and 'momentum' automatically... \n",
      "\u001b[34m\u001b[1moptimizer:\u001b[0m AdamW(lr=0.002, momentum=0.9) with parameter groups 57 weight(decay=0.0), 64 weight(decay=0.0005), 63 bias(decay=0.0)\n",
      "Image sizes 640 train, 640 val\n",
      "Using 8 dataloader workers\n",
      "Logging results to \u001b[1mruns/detect/my_yolo_experiment10\u001b[0m\n",
      "Starting training for 100 epochs...\n",
      "\n",
      "      Epoch    GPU_mem   box_loss   cls_loss   dfl_loss  Instances       Size\n"
     ]
    },
    {
     "name": "stderr",
     "output_type": "stream",
     "text": [
      "      1/100      3.68G      3.092      3.384      4.114          8        640: 1\n",
      "                 Class     Images  Instances      Box(P          R      mAP50  m"
     ]
    },
    {
     "name": "stdout",
     "output_type": "stream",
     "text": [
      "                   all        144        485    0.00764       0.68     0.0286    0.00899\n"
     ]
    },
    {
     "name": "stderr",
     "output_type": "stream",
     "text": [
      "\n"
     ]
    },
    {
     "name": "stdout",
     "output_type": "stream",
     "text": [
      "\n",
      "      Epoch    GPU_mem   box_loss   cls_loss   dfl_loss  Instances       Size\n"
     ]
    },
    {
     "name": "stderr",
     "output_type": "stream",
     "text": [
      "      2/100      4.92G      2.782      2.866      3.713         23        640: 1\n",
      "                 Class     Images  Instances      Box(P          R      mAP50  m"
     ]
    },
    {
     "name": "stdout",
     "output_type": "stream",
     "text": [
      "                   all        144        485    0.00787      0.701     0.0253     0.0109\n"
     ]
    },
    {
     "name": "stderr",
     "output_type": "stream",
     "text": [
      "\n"
     ]
    },
    {
     "name": "stdout",
     "output_type": "stream",
     "text": [
      "\n",
      "      Epoch    GPU_mem   box_loss   cls_loss   dfl_loss  Instances       Size\n"
     ]
    },
    {
     "name": "stderr",
     "output_type": "stream",
     "text": [
      "      3/100      4.97G       2.54      2.591      3.244         12        640: 1\n",
      "                 Class     Images  Instances      Box(P          R      mAP50  m"
     ]
    },
    {
     "name": "stdout",
     "output_type": "stream",
     "text": [
      "                   all        144        485     0.0584      0.136     0.0368     0.0142\n"
     ]
    },
    {
     "name": "stderr",
     "output_type": "stream",
     "text": [
      "\n"
     ]
    },
    {
     "name": "stdout",
     "output_type": "stream",
     "text": [
      "\n",
      "      Epoch    GPU_mem   box_loss   cls_loss   dfl_loss  Instances       Size\n"
     ]
    },
    {
     "name": "stderr",
     "output_type": "stream",
     "text": [
      "      4/100      5.01G      2.362      2.313      2.892         25        640: 1\n",
      "                 Class     Images  Instances      Box(P          R      mAP50  m"
     ]
    },
    {
     "name": "stdout",
     "output_type": "stream",
     "text": [
      "                   all        144        485     0.0478      0.406     0.0332     0.0113\n",
      "\n",
      "      Epoch    GPU_mem   box_loss   cls_loss   dfl_loss  Instances       Size\n"
     ]
    },
    {
     "name": "stderr",
     "output_type": "stream",
     "text": [
      "\n",
      "      5/100      5.04G      2.117      2.027      2.613         33        640: 1\n",
      "                 Class     Images  Instances      Box(P          R      mAP50  m"
     ]
    },
    {
     "name": "stdout",
     "output_type": "stream",
     "text": [
      "                   all        144        485      0.154      0.435      0.109      0.045\n"
     ]
    },
    {
     "name": "stderr",
     "output_type": "stream",
     "text": [
      "\n"
     ]
    },
    {
     "name": "stdout",
     "output_type": "stream",
     "text": [
      "\n",
      "      Epoch    GPU_mem   box_loss   cls_loss   dfl_loss  Instances       Size\n"
     ]
    },
    {
     "name": "stderr",
     "output_type": "stream",
     "text": [
      "      6/100      5.08G      1.868      1.805      2.369         23        640: 1\n",
      "                 Class     Images  Instances      Box(P          R      mAP50  m"
     ]
    },
    {
     "name": "stdout",
     "output_type": "stream",
     "text": [
      "                   all        144        485      0.571      0.581      0.591      0.383\n"
     ]
    },
    {
     "name": "stderr",
     "output_type": "stream",
     "text": [
      "\n"
     ]
    },
    {
     "name": "stdout",
     "output_type": "stream",
     "text": [
      "\n",
      "      Epoch    GPU_mem   box_loss   cls_loss   dfl_loss  Instances       Size\n"
     ]
    },
    {
     "name": "stderr",
     "output_type": "stream",
     "text": [
      "      7/100      5.12G       1.64      1.734      2.201          7        640: 1\n",
      "                 Class     Images  Instances      Box(P          R      mAP50  m"
     ]
    },
    {
     "name": "stdout",
     "output_type": "stream",
     "text": [
      "                   all        144        485      0.578      0.631      0.597      0.415\n"
     ]
    },
    {
     "name": "stderr",
     "output_type": "stream",
     "text": [
      "\n"
     ]
    },
    {
     "name": "stdout",
     "output_type": "stream",
     "text": [
      "\n",
      "      Epoch    GPU_mem   box_loss   cls_loss   dfl_loss  Instances       Size\n"
     ]
    },
    {
     "name": "stderr",
     "output_type": "stream",
     "text": [
      "      8/100      5.16G      1.458      1.551      2.024         16        640: 1\n",
      "                 Class     Images  Instances      Box(P          R      mAP50  m"
     ]
    },
    {
     "name": "stdout",
     "output_type": "stream",
     "text": [
      "                   all        144        485       0.72      0.674      0.713      0.537\n"
     ]
    },
    {
     "name": "stderr",
     "output_type": "stream",
     "text": [
      "\n"
     ]
    },
    {
     "name": "stdout",
     "output_type": "stream",
     "text": [
      "\n",
      "      Epoch    GPU_mem   box_loss   cls_loss   dfl_loss  Instances       Size\n"
     ]
    },
    {
     "name": "stderr",
     "output_type": "stream",
     "text": [
      "      9/100      5.19G      1.283      1.346      1.833         12        640: 1\n",
      "                 Class     Images  Instances      Box(P          R      mAP50  m"
     ]
    },
    {
     "name": "stdout",
     "output_type": "stream",
     "text": [
      "                   all        144        485      0.723      0.728      0.674      0.476\n",
      "\n",
      "      Epoch    GPU_mem   box_loss   cls_loss   dfl_loss  Instances       Size\n"
     ]
    },
    {
     "name": "stderr",
     "output_type": "stream",
     "text": [
      "\n",
      "     10/100      5.23G      1.156       1.27      1.715          7        640: 1\n",
      "                 Class     Images  Instances      Box(P          R      mAP50  m"
     ]
    },
    {
     "name": "stdout",
     "output_type": "stream",
     "text": [
      "                   all        144        485      0.853      0.751      0.815      0.665\n"
     ]
    },
    {
     "name": "stderr",
     "output_type": "stream",
     "text": [
      "\n"
     ]
    },
    {
     "name": "stdout",
     "output_type": "stream",
     "text": [
      "\n",
      "      Epoch    GPU_mem   box_loss   cls_loss   dfl_loss  Instances       Size\n"
     ]
    },
    {
     "name": "stderr",
     "output_type": "stream",
     "text": [
      "     11/100      5.26G      1.081      1.197       1.63         20        640: 1\n",
      "                 Class     Images  Instances      Box(P          R      mAP50  m"
     ]
    },
    {
     "name": "stdout",
     "output_type": "stream",
     "text": [
      "                   all        144        485      0.816      0.769      0.799      0.673\n"
     ]
    },
    {
     "name": "stderr",
     "output_type": "stream",
     "text": [
      "\n"
     ]
    },
    {
     "name": "stdout",
     "output_type": "stream",
     "text": [
      "\n",
      "      Epoch    GPU_mem   box_loss   cls_loss   dfl_loss  Instances       Size\n"
     ]
    },
    {
     "name": "stderr",
     "output_type": "stream",
     "text": [
      "     12/100       5.3G      1.008      1.169      1.562         14        640: 1\n",
      "                 Class     Images  Instances      Box(P          R      mAP50  m"
     ]
    },
    {
     "name": "stdout",
     "output_type": "stream",
     "text": [
      "                   all        144        485      0.852        0.8      0.854      0.741\n"
     ]
    },
    {
     "name": "stderr",
     "output_type": "stream",
     "text": [
      "\n"
     ]
    },
    {
     "name": "stdout",
     "output_type": "stream",
     "text": [
      "\n",
      "      Epoch    GPU_mem   box_loss   cls_loss   dfl_loss  Instances       Size\n"
     ]
    },
    {
     "name": "stderr",
     "output_type": "stream",
     "text": [
      "     13/100      5.34G     0.9338      1.149      1.495         20        640: 1\n",
      "                 Class     Images  Instances      Box(P          R      mAP50  m"
     ]
    },
    {
     "name": "stdout",
     "output_type": "stream",
     "text": [
      "                   all        144        485       0.76       0.79      0.811      0.702\n"
     ]
    },
    {
     "name": "stderr",
     "output_type": "stream",
     "text": [
      "\n"
     ]
    },
    {
     "name": "stdout",
     "output_type": "stream",
     "text": [
      "\n",
      "      Epoch    GPU_mem   box_loss   cls_loss   dfl_loss  Instances       Size\n"
     ]
    },
    {
     "name": "stderr",
     "output_type": "stream",
     "text": [
      "     14/100      5.38G     0.8621      1.034      1.406         22        640: 1\n",
      "                 Class     Images  Instances      Box(P          R      mAP50  m"
     ]
    },
    {
     "name": "stdout",
     "output_type": "stream",
     "text": [
      "                   all        144        485      0.846      0.819      0.855      0.751\n"
     ]
    },
    {
     "name": "stderr",
     "output_type": "stream",
     "text": [
      "\n"
     ]
    },
    {
     "name": "stdout",
     "output_type": "stream",
     "text": [
      "\n",
      "      Epoch    GPU_mem   box_loss   cls_loss   dfl_loss  Instances       Size\n"
     ]
    },
    {
     "name": "stderr",
     "output_type": "stream",
     "text": [
      "     15/100      5.41G     0.8415      1.112      1.373          5        640: 1\n",
      "                 Class     Images  Instances      Box(P          R      mAP50  m"
     ]
    },
    {
     "name": "stdout",
     "output_type": "stream",
     "text": [
      "                   all        144        485      0.814      0.707      0.766       0.62\n",
      "\n",
      "      Epoch    GPU_mem   box_loss   cls_loss   dfl_loss  Instances       Size\n"
     ]
    },
    {
     "name": "stderr",
     "output_type": "stream",
     "text": [
      "\n",
      "     16/100      5.44G     0.7679      0.931      1.308         22        640: 1\n",
      "                 Class     Images  Instances      Box(P          R      mAP50  m"
     ]
    },
    {
     "name": "stdout",
     "output_type": "stream",
     "text": [
      "                   all        144        485      0.898      0.803      0.856       0.76\n"
     ]
    },
    {
     "name": "stderr",
     "output_type": "stream",
     "text": [
      "\n"
     ]
    },
    {
     "name": "stdout",
     "output_type": "stream",
     "text": [
      "\n",
      "      Epoch    GPU_mem   box_loss   cls_loss   dfl_loss  Instances       Size\n"
     ]
    },
    {
     "name": "stderr",
     "output_type": "stream",
     "text": [
      "     17/100      5.48G     0.8047     0.9893      1.331         17        640: 1\n",
      "                 Class     Images  Instances      Box(P          R      mAP50  m"
     ]
    },
    {
     "name": "stdout",
     "output_type": "stream",
     "text": [
      "                   all        144        485      0.847       0.79      0.855      0.747\n",
      "\n",
      "      Epoch    GPU_mem   box_loss   cls_loss   dfl_loss  Instances       Size\n"
     ]
    },
    {
     "name": "stderr",
     "output_type": "stream",
     "text": [
      "\n",
      "     18/100      5.52G     0.7321     0.9044      1.281         11        640: 1\n",
      "                 Class     Images  Instances      Box(P          R      mAP50  m"
     ]
    },
    {
     "name": "stdout",
     "output_type": "stream",
     "text": [
      "                   all        144        485       0.92      0.788      0.882      0.799\n"
     ]
    },
    {
     "name": "stderr",
     "output_type": "stream",
     "text": [
      "\n"
     ]
    },
    {
     "name": "stdout",
     "output_type": "stream",
     "text": [
      "\n",
      "      Epoch    GPU_mem   box_loss   cls_loss   dfl_loss  Instances       Size\n"
     ]
    },
    {
     "name": "stderr",
     "output_type": "stream",
     "text": [
      "     19/100      5.56G     0.7043     0.8629      1.256         22        640: 1\n",
      "                 Class     Images  Instances      Box(P          R      mAP50  m"
     ]
    },
    {
     "name": "stdout",
     "output_type": "stream",
     "text": [
      "                   all        144        485      0.854      0.798      0.855       0.76\n",
      "\n",
      "      Epoch    GPU_mem   box_loss   cls_loss   dfl_loss  Instances       Size\n"
     ]
    },
    {
     "name": "stderr",
     "output_type": "stream",
     "text": [
      "\n",
      "     20/100      5.59G     0.6505     0.7996      1.194         15        640: 1\n",
      "                 Class     Images  Instances      Box(P          R      mAP50  m"
     ]
    },
    {
     "name": "stdout",
     "output_type": "stream",
     "text": [
      "                   all        144        485      0.845       0.81      0.871      0.788\n"
     ]
    },
    {
     "name": "stderr",
     "output_type": "stream",
     "text": [
      "\n"
     ]
    },
    {
     "name": "stdout",
     "output_type": "stream",
     "text": [
      "\n",
      "      Epoch    GPU_mem   box_loss   cls_loss   dfl_loss  Instances       Size\n"
     ]
    },
    {
     "name": "stderr",
     "output_type": "stream",
     "text": [
      "     21/100      5.62G     0.6342      0.799      1.187          8        640: 1\n",
      "                 Class     Images  Instances      Box(P          R      mAP50  m"
     ]
    },
    {
     "name": "stdout",
     "output_type": "stream",
     "text": [
      "                   all        144        485      0.786      0.814      0.843      0.776\n",
      "\n",
      "      Epoch    GPU_mem   box_loss   cls_loss   dfl_loss  Instances       Size\n"
     ]
    },
    {
     "name": "stderr",
     "output_type": "stream",
     "text": [
      "\n",
      "     22/100      5.66G     0.6279      0.776      1.185         15        640: 1\n",
      "                 Class     Images  Instances      Box(P          R      mAP50  m"
     ]
    },
    {
     "name": "stdout",
     "output_type": "stream",
     "text": [
      "                   all        144        485      0.901      0.854       0.91      0.828\n"
     ]
    },
    {
     "name": "stderr",
     "output_type": "stream",
     "text": [
      "\n"
     ]
    },
    {
     "name": "stdout",
     "output_type": "stream",
     "text": [
      "\n",
      "      Epoch    GPU_mem   box_loss   cls_loss   dfl_loss  Instances       Size\n"
     ]
    },
    {
     "name": "stderr",
     "output_type": "stream",
     "text": [
      "     23/100       5.7G     0.6138     0.7979      1.188          8        640: 1\n",
      "                 Class     Images  Instances      Box(P          R      mAP50  m"
     ]
    },
    {
     "name": "stdout",
     "output_type": "stream",
     "text": [
      "                   all        144        485      0.883      0.844       0.89      0.807\n",
      "\n",
      "      Epoch    GPU_mem   box_loss   cls_loss   dfl_loss  Instances       Size\n"
     ]
    },
    {
     "name": "stderr",
     "output_type": "stream",
     "text": [
      "\n",
      "     24/100      5.74G     0.6038     0.7664      1.165         17        640: 1\n",
      "                 Class     Images  Instances      Box(P          R      mAP50  m"
     ]
    },
    {
     "name": "stdout",
     "output_type": "stream",
     "text": [
      "                   all        144        485       0.92      0.811      0.917      0.857\n"
     ]
    },
    {
     "name": "stderr",
     "output_type": "stream",
     "text": [
      "\n"
     ]
    },
    {
     "name": "stdout",
     "output_type": "stream",
     "text": [
      "\n",
      "      Epoch    GPU_mem   box_loss   cls_loss   dfl_loss  Instances       Size\n"
     ]
    },
    {
     "name": "stderr",
     "output_type": "stream",
     "text": [
      "     25/100      5.77G     0.5901     0.7399      1.134         12        640: 1\n",
      "                 Class     Images  Instances      Box(P          R      mAP50  m"
     ]
    },
    {
     "name": "stdout",
     "output_type": "stream",
     "text": [
      "                   all        144        485        0.9      0.814      0.901      0.821\n"
     ]
    },
    {
     "name": "stderr",
     "output_type": "stream",
     "text": [
      "\n"
     ]
    },
    {
     "name": "stdout",
     "output_type": "stream",
     "text": [
      "\n",
      "      Epoch    GPU_mem   box_loss   cls_loss   dfl_loss  Instances       Size\n"
     ]
    },
    {
     "name": "stderr",
     "output_type": "stream",
     "text": [
      "     26/100       5.8G     0.6035     0.8062      1.166          3        640: 1\n",
      "                 Class     Images  Instances      Box(P          R      mAP50  m"
     ]
    },
    {
     "name": "stdout",
     "output_type": "stream",
     "text": [
      "                   all        144        485      0.929      0.787      0.921      0.857\n"
     ]
    },
    {
     "name": "stderr",
     "output_type": "stream",
     "text": [
      "\n"
     ]
    },
    {
     "name": "stdout",
     "output_type": "stream",
     "text": [
      "\n",
      "      Epoch    GPU_mem   box_loss   cls_loss   dfl_loss  Instances       Size\n"
     ]
    },
    {
     "name": "stderr",
     "output_type": "stream",
     "text": [
      "     27/100      5.85G     0.5864     0.7035      1.157         26        640: 1\n",
      "                 Class     Images  Instances      Box(P          R      mAP50  m"
     ]
    },
    {
     "name": "stdout",
     "output_type": "stream",
     "text": [
      "                   all        144        485      0.892      0.869      0.918      0.842\n",
      "\n",
      "      Epoch    GPU_mem   box_loss   cls_loss   dfl_loss  Instances       Size\n"
     ]
    },
    {
     "name": "stderr",
     "output_type": "stream",
     "text": [
      "\n",
      "     28/100      5.88G     0.5837     0.7053       1.14         11        640: 1\n",
      "                 Class     Images  Instances      Box(P          R      mAP50  m"
     ]
    },
    {
     "name": "stdout",
     "output_type": "stream",
     "text": [
      "                   all        144        485      0.889      0.882      0.918      0.848\n"
     ]
    },
    {
     "name": "stderr",
     "output_type": "stream",
     "text": [
      "\n"
     ]
    },
    {
     "name": "stdout",
     "output_type": "stream",
     "text": [
      "\n",
      "      Epoch    GPU_mem   box_loss   cls_loss   dfl_loss  Instances       Size\n"
     ]
    },
    {
     "name": "stderr",
     "output_type": "stream",
     "text": [
      "     29/100      5.92G      0.582     0.7035       1.13         19        640: 1\n",
      "                 Class     Images  Instances      Box(P          R      mAP50  m"
     ]
    },
    {
     "name": "stdout",
     "output_type": "stream",
     "text": [
      "                   all        144        485      0.919      0.812      0.918      0.846\n"
     ]
    },
    {
     "name": "stderr",
     "output_type": "stream",
     "text": [
      "\n"
     ]
    },
    {
     "name": "stdout",
     "output_type": "stream",
     "text": [
      "\n",
      "      Epoch    GPU_mem   box_loss   cls_loss   dfl_loss  Instances       Size\n"
     ]
    },
    {
     "name": "stderr",
     "output_type": "stream",
     "text": [
      "     30/100      5.95G     0.5333     0.6699      1.094         22        640: 1\n",
      "                 Class     Images  Instances      Box(P          R      mAP50  m"
     ]
    },
    {
     "name": "stdout",
     "output_type": "stream",
     "text": [
      "                   all        144        485      0.884      0.862      0.927      0.856\n",
      "\n",
      "      Epoch    GPU_mem   box_loss   cls_loss   dfl_loss  Instances       Size\n"
     ]
    },
    {
     "name": "stderr",
     "output_type": "stream",
     "text": [
      "\n",
      "     31/100      5.99G     0.5394     0.6484      1.086         19        640: 1\n",
      "                 Class     Images  Instances      Box(P          R      mAP50  m"
     ]
    },
    {
     "name": "stdout",
     "output_type": "stream",
     "text": [
      "                   all        144        485      0.899      0.841      0.893      0.843\n",
      "\n",
      "      Epoch    GPU_mem   box_loss   cls_loss   dfl_loss  Instances       Size\n"
     ]
    },
    {
     "name": "stderr",
     "output_type": "stream",
     "text": [
      "\n",
      "     32/100      6.03G     0.5469     0.6511      1.109         15        640: 1\n",
      "                 Class     Images  Instances      Box(P          R      mAP50  m"
     ]
    },
    {
     "name": "stdout",
     "output_type": "stream",
     "text": [
      "                   all        144        485      0.862      0.854      0.905      0.831\n"
     ]
    },
    {
     "name": "stderr",
     "output_type": "stream",
     "text": [
      "\n"
     ]
    },
    {
     "name": "stdout",
     "output_type": "stream",
     "text": [
      "\n",
      "      Epoch    GPU_mem   box_loss   cls_loss   dfl_loss  Instances       Size\n"
     ]
    },
    {
     "name": "stderr",
     "output_type": "stream",
     "text": [
      "     33/100      6.06G      0.556      0.657      1.104         24        640: 1\n",
      "                 Class     Images  Instances      Box(P          R      mAP50  m"
     ]
    },
    {
     "name": "stdout",
     "output_type": "stream",
     "text": [
      "                   all        144        485       0.89        0.8      0.919      0.866\n"
     ]
    },
    {
     "name": "stderr",
     "output_type": "stream",
     "text": [
      "\n"
     ]
    },
    {
     "name": "stdout",
     "output_type": "stream",
     "text": [
      "\n",
      "      Epoch    GPU_mem   box_loss   cls_loss   dfl_loss  Instances       Size\n"
     ]
    },
    {
     "name": "stderr",
     "output_type": "stream",
     "text": [
      "     34/100       6.1G     0.4925      0.605      1.069          6        640: 1\n",
      "                 Class     Images  Instances      Box(P          R      mAP50  m"
     ]
    },
    {
     "name": "stdout",
     "output_type": "stream",
     "text": [
      "                   all        144        485      0.878      0.798      0.859      0.804\n",
      "\n",
      "      Epoch    GPU_mem   box_loss   cls_loss   dfl_loss  Instances       Size\n"
     ]
    },
    {
     "name": "stderr",
     "output_type": "stream",
     "text": [
      "\n",
      "     35/100      6.13G     0.4811     0.5998      1.062         13        640: 1\n",
      "                 Class     Images  Instances      Box(P          R      mAP50  m"
     ]
    },
    {
     "name": "stdout",
     "output_type": "stream",
     "text": [
      "                   all        144        485      0.913      0.906      0.949      0.894\n"
     ]
    },
    {
     "name": "stderr",
     "output_type": "stream",
     "text": [
      "\n"
     ]
    },
    {
     "name": "stdout",
     "output_type": "stream",
     "text": [
      "\n",
      "      Epoch    GPU_mem   box_loss   cls_loss   dfl_loss  Instances       Size\n"
     ]
    },
    {
     "name": "stderr",
     "output_type": "stream",
     "text": [
      "     36/100      6.17G     0.5049     0.6605      1.078          6        640: 1\n",
      "                 Class     Images  Instances      Box(P          R      mAP50  m"
     ]
    },
    {
     "name": "stdout",
     "output_type": "stream",
     "text": [
      "                   all        144        485      0.906       0.87      0.959       0.91\n"
     ]
    },
    {
     "name": "stderr",
     "output_type": "stream",
     "text": [
      "\n"
     ]
    },
    {
     "name": "stdout",
     "output_type": "stream",
     "text": [
      "\n",
      "      Epoch    GPU_mem   box_loss   cls_loss   dfl_loss  Instances       Size\n"
     ]
    },
    {
     "name": "stderr",
     "output_type": "stream",
     "text": [
      "     37/100      6.21G     0.4917     0.6026      1.072         22        640: 1\n",
      "                 Class     Images  Instances      Box(P          R      mAP50  m"
     ]
    },
    {
     "name": "stdout",
     "output_type": "stream",
     "text": [
      "                   all        144        485      0.858      0.787      0.867      0.806\n"
     ]
    },
    {
     "name": "stderr",
     "output_type": "stream",
     "text": [
      "\n"
     ]
    },
    {
     "name": "stdout",
     "output_type": "stream",
     "text": [
      "\n",
      "      Epoch    GPU_mem   box_loss   cls_loss   dfl_loss  Instances       Size\n"
     ]
    },
    {
     "name": "stderr",
     "output_type": "stream",
     "text": [
      "     38/100      6.25G     0.4758     0.6005      1.069         15        640: 1\n",
      "                 Class     Images  Instances      Box(P          R      mAP50  m"
     ]
    },
    {
     "name": "stdout",
     "output_type": "stream",
     "text": [
      "                   all        144        485      0.885       0.89      0.937      0.887\n"
     ]
    },
    {
     "name": "stderr",
     "output_type": "stream",
     "text": [
      "\n"
     ]
    },
    {
     "name": "stdout",
     "output_type": "stream",
     "text": [
      "\n",
      "      Epoch    GPU_mem   box_loss   cls_loss   dfl_loss  Instances       Size\n"
     ]
    },
    {
     "name": "stderr",
     "output_type": "stream",
     "text": [
      "     39/100      6.28G     0.4622      0.588      1.048         14        640: 1\n",
      "                 Class     Images  Instances      Box(P          R      mAP50  m"
     ]
    },
    {
     "name": "stdout",
     "output_type": "stream",
     "text": [
      "                   all        144        485      0.919      0.821      0.904       0.86\n"
     ]
    },
    {
     "name": "stderr",
     "output_type": "stream",
     "text": [
      "\n"
     ]
    },
    {
     "name": "stdout",
     "output_type": "stream",
     "text": [
      "\n",
      "      Epoch    GPU_mem   box_loss   cls_loss   dfl_loss  Instances       Size\n"
     ]
    },
    {
     "name": "stderr",
     "output_type": "stream",
     "text": [
      "     40/100      6.32G      0.438     0.5512      1.044         15        640: 1\n",
      "                 Class     Images  Instances      Box(P          R      mAP50  m"
     ]
    },
    {
     "name": "stdout",
     "output_type": "stream",
     "text": [
      "                   all        144        485      0.907       0.88      0.929      0.885\n"
     ]
    },
    {
     "name": "stderr",
     "output_type": "stream",
     "text": [
      "\n"
     ]
    },
    {
     "name": "stdout",
     "output_type": "stream",
     "text": [
      "\n",
      "      Epoch    GPU_mem   box_loss   cls_loss   dfl_loss  Instances       Size\n"
     ]
    },
    {
     "name": "stderr",
     "output_type": "stream",
     "text": [
      "     41/100      6.35G     0.4314     0.5392      1.019         11        640: 1\n",
      "                 Class     Images  Instances      Box(P          R      mAP50  m"
     ]
    },
    {
     "name": "stdout",
     "output_type": "stream",
     "text": [
      "                   all        144        485      0.921      0.852      0.947      0.904\n"
     ]
    },
    {
     "name": "stderr",
     "output_type": "stream",
     "text": [
      "\n"
     ]
    },
    {
     "name": "stdout",
     "output_type": "stream",
     "text": [
      "\n",
      "      Epoch    GPU_mem   box_loss   cls_loss   dfl_loss  Instances       Size\n"
     ]
    },
    {
     "name": "stderr",
     "output_type": "stream",
     "text": [
      "     42/100      6.39G     0.4437     0.5936      1.036          8        640: 1\n",
      "                 Class     Images  Instances      Box(P          R      mAP50  m"
     ]
    },
    {
     "name": "stdout",
     "output_type": "stream",
     "text": [
      "                   all        144        485      0.867      0.852      0.894      0.851\n"
     ]
    },
    {
     "name": "stderr",
     "output_type": "stream",
     "text": [
      "\n"
     ]
    },
    {
     "name": "stdout",
     "output_type": "stream",
     "text": [
      "\n",
      "      Epoch    GPU_mem   box_loss   cls_loss   dfl_loss  Instances       Size\n"
     ]
    },
    {
     "name": "stderr",
     "output_type": "stream",
     "text": [
      "     43/100      6.43G     0.4279     0.5611      1.045         17        640: 1\n",
      "                 Class     Images  Instances      Box(P          R      mAP50  m"
     ]
    },
    {
     "name": "stdout",
     "output_type": "stream",
     "text": [
      "                   all        144        485      0.941      0.819      0.902      0.864\n"
     ]
    },
    {
     "name": "stderr",
     "output_type": "stream",
     "text": [
      "\n"
     ]
    },
    {
     "name": "stdout",
     "output_type": "stream",
     "text": [
      "\n",
      "      Epoch    GPU_mem   box_loss   cls_loss   dfl_loss  Instances       Size\n"
     ]
    },
    {
     "name": "stderr",
     "output_type": "stream",
     "text": [
      "     44/100      6.46G     0.4559     0.5622      1.023         18        640: 1\n",
      "                 Class     Images  Instances      Box(P          R      mAP50  m"
     ]
    },
    {
     "name": "stdout",
     "output_type": "stream",
     "text": [
      "                   all        144        485      0.907       0.92      0.963      0.918\n"
     ]
    },
    {
     "name": "stderr",
     "output_type": "stream",
     "text": [
      "\n"
     ]
    },
    {
     "name": "stdout",
     "output_type": "stream",
     "text": [
      "\n",
      "      Epoch    GPU_mem   box_loss   cls_loss   dfl_loss  Instances       Size\n"
     ]
    },
    {
     "name": "stderr",
     "output_type": "stream",
     "text": [
      "     45/100       6.5G     0.4472     0.5462      1.023         12        640: 1\n",
      "                 Class     Images  Instances      Box(P          R      mAP50  m"
     ]
    },
    {
     "name": "stdout",
     "output_type": "stream",
     "text": [
      "                   all        144        485      0.922      0.898      0.959      0.911\n",
      "\n",
      "      Epoch    GPU_mem   box_loss   cls_loss   dfl_loss  Instances       Size\n"
     ]
    },
    {
     "name": "stderr",
     "output_type": "stream",
     "text": [
      "\n",
      "     46/100      6.54G     0.4643     0.5412      1.046         21        640: 1\n",
      "                 Class     Images  Instances      Box(P          R      mAP50  m"
     ]
    },
    {
     "name": "stdout",
     "output_type": "stream",
     "text": [
      "                   all        144        485      0.902      0.854      0.917      0.885\n",
      "\n",
      "      Epoch    GPU_mem   box_loss   cls_loss   dfl_loss  Instances       Size\n"
     ]
    },
    {
     "name": "stderr",
     "output_type": "stream",
     "text": [
      "\n",
      "     47/100      6.57G     0.4182     0.5286      1.029         21        640: 1\n",
      "                 Class     Images  Instances      Box(P          R      mAP50  m"
     ]
    },
    {
     "name": "stdout",
     "output_type": "stream",
     "text": [
      "                   all        144        485      0.919       0.91      0.964      0.934\n"
     ]
    },
    {
     "name": "stderr",
     "output_type": "stream",
     "text": [
      "\n"
     ]
    },
    {
     "name": "stdout",
     "output_type": "stream",
     "text": [
      "\n",
      "      Epoch    GPU_mem   box_loss   cls_loss   dfl_loss  Instances       Size\n"
     ]
    },
    {
     "name": "stderr",
     "output_type": "stream",
     "text": [
      "     48/100      6.73G     0.4112      0.519      1.007         23        640: 1\n",
      "                 Class     Images  Instances      Box(P          R      mAP50  m"
     ]
    },
    {
     "name": "stdout",
     "output_type": "stream",
     "text": [
      "                   all        144        485      0.922       0.88      0.945      0.908\n"
     ]
    },
    {
     "name": "stderr",
     "output_type": "stream",
     "text": [
      "\n"
     ]
    },
    {
     "name": "stdout",
     "output_type": "stream",
     "text": [
      "\n",
      "      Epoch    GPU_mem   box_loss   cls_loss   dfl_loss  Instances       Size\n"
     ]
    },
    {
     "name": "stderr",
     "output_type": "stream",
     "text": [
      "     49/100      6.77G     0.4061     0.5198      1.014         13        640: 1\n",
      "                 Class     Images  Instances      Box(P          R      mAP50  m"
     ]
    },
    {
     "name": "stdout",
     "output_type": "stream",
     "text": [
      "                   all        144        485      0.951      0.866       0.96      0.926\n"
     ]
    },
    {
     "name": "stderr",
     "output_type": "stream",
     "text": [
      "\n"
     ]
    },
    {
     "name": "stdout",
     "output_type": "stream",
     "text": [
      "\n",
      "      Epoch    GPU_mem   box_loss   cls_loss   dfl_loss  Instances       Size\n"
     ]
    },
    {
     "name": "stderr",
     "output_type": "stream",
     "text": [
      "     50/100      7.13G     0.3977     0.5008      1.001         14        640: 1\n",
      "                 Class     Images  Instances      Box(P          R      mAP50  m"
     ]
    },
    {
     "name": "stdout",
     "output_type": "stream",
     "text": [
      "                   all        144        485       0.91      0.905      0.953      0.914\n"
     ]
    },
    {
     "name": "stderr",
     "output_type": "stream",
     "text": [
      "\n"
     ]
    },
    {
     "name": "stdout",
     "output_type": "stream",
     "text": [
      "\n",
      "      Epoch    GPU_mem   box_loss   cls_loss   dfl_loss  Instances       Size\n"
     ]
    },
    {
     "name": "stderr",
     "output_type": "stream",
     "text": [
      "     51/100      7.17G     0.4063     0.4996      1.002         18        640: 1\n",
      "                 Class     Images  Instances      Box(P          R      mAP50  m"
     ]
    },
    {
     "name": "stdout",
     "output_type": "stream",
     "text": [
      "                   all        144        485      0.939      0.909      0.941      0.907\n"
     ]
    },
    {
     "name": "stderr",
     "output_type": "stream",
     "text": [
      "\n"
     ]
    },
    {
     "name": "stdout",
     "output_type": "stream",
     "text": [
      "\n",
      "      Epoch    GPU_mem   box_loss   cls_loss   dfl_loss  Instances       Size\n"
     ]
    },
    {
     "name": "stderr",
     "output_type": "stream",
     "text": [
      "     52/100      7.21G     0.4008     0.5004      0.996         16        640: 1\n",
      "                 Class     Images  Instances      Box(P          R      mAP50  m"
     ]
    },
    {
     "name": "stdout",
     "output_type": "stream",
     "text": [
      "                   all        144        485      0.935      0.888      0.954      0.923\n"
     ]
    },
    {
     "name": "stderr",
     "output_type": "stream",
     "text": [
      "\n"
     ]
    },
    {
     "name": "stdout",
     "output_type": "stream",
     "text": [
      "\n",
      "      Epoch    GPU_mem   box_loss   cls_loss   dfl_loss  Instances       Size\n"
     ]
    },
    {
     "name": "stderr",
     "output_type": "stream",
     "text": [
      "     53/100      7.24G     0.3954     0.4744     0.9819         13        640: 1\n",
      "                 Class     Images  Instances      Box(P          R      mAP50  m"
     ]
    },
    {
     "name": "stdout",
     "output_type": "stream",
     "text": [
      "                   all        144        485      0.896      0.887       0.95      0.919\n"
     ]
    },
    {
     "name": "stderr",
     "output_type": "stream",
     "text": [
      "\n"
     ]
    },
    {
     "name": "stdout",
     "output_type": "stream",
     "text": [
      "\n",
      "      Epoch    GPU_mem   box_loss   cls_loss   dfl_loss  Instances       Size\n"
     ]
    },
    {
     "name": "stderr",
     "output_type": "stream",
     "text": [
      "     54/100      7.28G     0.4031      0.514      1.004         11        640: 1\n",
      "                 Class     Images  Instances      Box(P          R      mAP50  m"
     ]
    },
    {
     "name": "stdout",
     "output_type": "stream",
     "text": [
      "                   all        144        485      0.947      0.876       0.95      0.921\n"
     ]
    },
    {
     "name": "stderr",
     "output_type": "stream",
     "text": [
      "\n"
     ]
    },
    {
     "name": "stdout",
     "output_type": "stream",
     "text": [
      "\n",
      "      Epoch    GPU_mem   box_loss   cls_loss   dfl_loss  Instances       Size\n"
     ]
    },
    {
     "name": "stderr",
     "output_type": "stream",
     "text": [
      "     55/100      7.31G      0.391     0.5054      1.003         27        640: 1\n",
      "                 Class     Images  Instances      Box(P          R      mAP50  m"
     ]
    },
    {
     "name": "stdout",
     "output_type": "stream",
     "text": [
      "                   all        144        485      0.913      0.907      0.966       0.93\n"
     ]
    },
    {
     "name": "stderr",
     "output_type": "stream",
     "text": [
      "\n"
     ]
    },
    {
     "name": "stdout",
     "output_type": "stream",
     "text": [
      "\n",
      "      Epoch    GPU_mem   box_loss   cls_loss   dfl_loss  Instances       Size\n"
     ]
    },
    {
     "name": "stderr",
     "output_type": "stream",
     "text": [
      "     56/100      7.35G     0.3919     0.4813      1.003          6        640: 1\n",
      "                 Class     Images  Instances      Box(P          R      mAP50  m"
     ]
    },
    {
     "name": "stdout",
     "output_type": "stream",
     "text": [
      "                   all        144        485      0.938      0.858      0.935        0.9\n"
     ]
    },
    {
     "name": "stderr",
     "output_type": "stream",
     "text": [
      "\n"
     ]
    },
    {
     "name": "stdout",
     "output_type": "stream",
     "text": [
      "\n",
      "      Epoch    GPU_mem   box_loss   cls_loss   dfl_loss  Instances       Size\n"
     ]
    },
    {
     "name": "stderr",
     "output_type": "stream",
     "text": [
      "     57/100      7.38G     0.3893     0.5146     0.9863          8        640: 1\n",
      "                 Class     Images  Instances      Box(P          R      mAP50  m"
     ]
    },
    {
     "name": "stdout",
     "output_type": "stream",
     "text": [
      "                   all        144        485      0.938      0.907      0.967      0.939\n"
     ]
    },
    {
     "name": "stderr",
     "output_type": "stream",
     "text": [
      "\n"
     ]
    },
    {
     "name": "stdout",
     "output_type": "stream",
     "text": [
      "\n",
      "      Epoch    GPU_mem   box_loss   cls_loss   dfl_loss  Instances       Size\n"
     ]
    },
    {
     "name": "stderr",
     "output_type": "stream",
     "text": [
      "     58/100       4.2G     0.3883     0.5025     0.9902          9        640: 1\n",
      "                 Class     Images  Instances      Box(P          R      mAP50  m"
     ]
    },
    {
     "name": "stdout",
     "output_type": "stream",
     "text": [
      "                   all        144        485      0.932      0.901      0.955      0.929\n",
      "\n",
      "      Epoch    GPU_mem   box_loss   cls_loss   dfl_loss  Instances       Size\n"
     ]
    },
    {
     "name": "stderr",
     "output_type": "stream",
     "text": [
      "\n",
      "     59/100      4.52G     0.3913     0.5023     0.9951         25        640: 1\n",
      "                 Class     Images  Instances      Box(P          R      mAP50  m"
     ]
    },
    {
     "name": "stdout",
     "output_type": "stream",
     "text": [
      "                   all        144        485      0.885      0.868      0.923      0.867\n",
      "\n",
      "      Epoch    GPU_mem   box_loss   cls_loss   dfl_loss  Instances       Size\n"
     ]
    },
    {
     "name": "stderr",
     "output_type": "stream",
     "text": [
      "\n",
      "     60/100      4.52G       0.38     0.4566     0.9858          9        640: 1\n",
      "                 Class     Images  Instances      Box(P          R      mAP50  m"
     ]
    },
    {
     "name": "stdout",
     "output_type": "stream",
     "text": [
      "                   all        144        485      0.928      0.862      0.955      0.922\n"
     ]
    },
    {
     "name": "stderr",
     "output_type": "stream",
     "text": [
      "\n"
     ]
    },
    {
     "name": "stdout",
     "output_type": "stream",
     "text": [
      "\n",
      "      Epoch    GPU_mem   box_loss   cls_loss   dfl_loss  Instances       Size\n"
     ]
    },
    {
     "name": "stderr",
     "output_type": "stream",
     "text": [
      "     61/100      4.52G     0.3896     0.4578     0.9839         12        640: 1\n",
      "                 Class     Images  Instances      Box(P          R      mAP50  m"
     ]
    },
    {
     "name": "stdout",
     "output_type": "stream",
     "text": [
      "                   all        144        485      0.912       0.92      0.955      0.922\n"
     ]
    },
    {
     "name": "stderr",
     "output_type": "stream",
     "text": [
      "\n"
     ]
    },
    {
     "name": "stdout",
     "output_type": "stream",
     "text": [
      "\n",
      "      Epoch    GPU_mem   box_loss   cls_loss   dfl_loss  Instances       Size\n"
     ]
    },
    {
     "name": "stderr",
     "output_type": "stream",
     "text": [
      "     62/100      4.52G     0.3782     0.4658     0.9834          8        640: 1\n",
      "                 Class     Images  Instances      Box(P          R      mAP50  m"
     ]
    },
    {
     "name": "stdout",
     "output_type": "stream",
     "text": [
      "                   all        144        485      0.906      0.938      0.964      0.936\n"
     ]
    },
    {
     "name": "stderr",
     "output_type": "stream",
     "text": [
      "\n"
     ]
    },
    {
     "name": "stdout",
     "output_type": "stream",
     "text": [
      "\n",
      "      Epoch    GPU_mem   box_loss   cls_loss   dfl_loss  Instances       Size\n"
     ]
    },
    {
     "name": "stderr",
     "output_type": "stream",
     "text": [
      "     63/100      4.52G     0.3618     0.4744     0.9614         14        640: 1\n",
      "                 Class     Images  Instances      Box(P          R      mAP50  m"
     ]
    },
    {
     "name": "stdout",
     "output_type": "stream",
     "text": [
      "                   all        144        485      0.895      0.909      0.939       0.91\n"
     ]
    },
    {
     "name": "stderr",
     "output_type": "stream",
     "text": [
      "\n"
     ]
    },
    {
     "name": "stdout",
     "output_type": "stream",
     "text": [
      "\n",
      "      Epoch    GPU_mem   box_loss   cls_loss   dfl_loss  Instances       Size\n"
     ]
    },
    {
     "name": "stderr",
     "output_type": "stream",
     "text": [
      "     64/100      4.52G     0.3872     0.4794     0.9882          7        640: 1\n",
      "                 Class     Images  Instances      Box(P          R      mAP50  m"
     ]
    },
    {
     "name": "stdout",
     "output_type": "stream",
     "text": [
      "                   all        144        485      0.914      0.936      0.964      0.936\n",
      "\n",
      "      Epoch    GPU_mem   box_loss   cls_loss   dfl_loss  Instances       Size\n"
     ]
    },
    {
     "name": "stderr",
     "output_type": "stream",
     "text": [
      "\n",
      "     65/100      4.52G     0.3673     0.4735     0.9812          5        640: 1\n",
      "                 Class     Images  Instances      Box(P          R      mAP50  m"
     ]
    },
    {
     "name": "stdout",
     "output_type": "stream",
     "text": [
      "                   all        144        485      0.925      0.917      0.959       0.93\n"
     ]
    },
    {
     "name": "stderr",
     "output_type": "stream",
     "text": [
      "\n"
     ]
    },
    {
     "name": "stdout",
     "output_type": "stream",
     "text": [
      "\n",
      "      Epoch    GPU_mem   box_loss   cls_loss   dfl_loss  Instances       Size\n"
     ]
    },
    {
     "name": "stderr",
     "output_type": "stream",
     "text": [
      "     66/100      4.52G     0.3694     0.4493     0.9818         13        640: 1\n",
      "                 Class     Images  Instances      Box(P          R      mAP50  m"
     ]
    },
    {
     "name": "stdout",
     "output_type": "stream",
     "text": [
      "                   all        144        485      0.942      0.908      0.969       0.94\n"
     ]
    },
    {
     "name": "stderr",
     "output_type": "stream",
     "text": [
      "\n"
     ]
    },
    {
     "name": "stdout",
     "output_type": "stream",
     "text": [
      "\n",
      "      Epoch    GPU_mem   box_loss   cls_loss   dfl_loss  Instances       Size\n"
     ]
    },
    {
     "name": "stderr",
     "output_type": "stream",
     "text": [
      "     67/100      4.52G     0.3473     0.4326     0.9651         22        640: 1\n",
      "                 Class     Images  Instances      Box(P          R      mAP50  m"
     ]
    },
    {
     "name": "stdout",
     "output_type": "stream",
     "text": [
      "                   all        144        485      0.904      0.937      0.956      0.931\n",
      "\n",
      "      Epoch    GPU_mem   box_loss   cls_loss   dfl_loss  Instances       Size\n"
     ]
    },
    {
     "name": "stderr",
     "output_type": "stream",
     "text": [
      "\n",
      "     68/100      4.52G       0.35     0.4388     0.9591          6        640: 1\n",
      "                 Class     Images  Instances      Box(P          R      mAP50  m"
     ]
    },
    {
     "name": "stdout",
     "output_type": "stream",
     "text": [
      "                   all        144        485       0.93      0.953      0.974      0.951\n"
     ]
    },
    {
     "name": "stderr",
     "output_type": "stream",
     "text": [
      "\n"
     ]
    },
    {
     "name": "stdout",
     "output_type": "stream",
     "text": [
      "\n",
      "      Epoch    GPU_mem   box_loss   cls_loss   dfl_loss  Instances       Size\n"
     ]
    },
    {
     "name": "stderr",
     "output_type": "stream",
     "text": [
      "     69/100      4.52G     0.3575     0.4403     0.9592         12        640: 1\n",
      "                 Class     Images  Instances      Box(P          R      mAP50  m"
     ]
    },
    {
     "name": "stdout",
     "output_type": "stream",
     "text": [
      "                   all        144        485      0.937      0.896      0.955      0.926\n"
     ]
    },
    {
     "name": "stderr",
     "output_type": "stream",
     "text": [
      "\n"
     ]
    },
    {
     "name": "stdout",
     "output_type": "stream",
     "text": [
      "\n",
      "      Epoch    GPU_mem   box_loss   cls_loss   dfl_loss  Instances       Size\n"
     ]
    },
    {
     "name": "stderr",
     "output_type": "stream",
     "text": [
      "     70/100      4.52G     0.3579     0.4399     0.9686         10        640: 1\n",
      "                 Class     Images  Instances      Box(P          R      mAP50  m"
     ]
    },
    {
     "name": "stdout",
     "output_type": "stream",
     "text": [
      "                   all        144        485      0.888      0.849      0.922      0.891\n",
      "\n",
      "      Epoch    GPU_mem   box_loss   cls_loss   dfl_loss  Instances       Size\n"
     ]
    },
    {
     "name": "stderr",
     "output_type": "stream",
     "text": [
      "\n",
      "     71/100      4.52G     0.3276      0.403     0.9419          7        640: 1\n",
      "                 Class     Images  Instances      Box(P          R      mAP50  m"
     ]
    },
    {
     "name": "stdout",
     "output_type": "stream",
     "text": [
      "                   all        144        485      0.906      0.854      0.933      0.912\n",
      "\n",
      "      Epoch    GPU_mem   box_loss   cls_loss   dfl_loss  Instances       Size\n"
     ]
    },
    {
     "name": "stderr",
     "output_type": "stream",
     "text": [
      "\n",
      "     72/100      4.54G     0.3277     0.4198     0.9543         13        640: 1\n",
      "                 Class     Images  Instances      Box(P          R      mAP50  m"
     ]
    },
    {
     "name": "stdout",
     "output_type": "stream",
     "text": [
      "                   all        144        485      0.902      0.924      0.959      0.937\n"
     ]
    },
    {
     "name": "stderr",
     "output_type": "stream",
     "text": [
      "\n"
     ]
    },
    {
     "name": "stdout",
     "output_type": "stream",
     "text": [
      "\n",
      "      Epoch    GPU_mem   box_loss   cls_loss   dfl_loss  Instances       Size\n"
     ]
    },
    {
     "name": "stderr",
     "output_type": "stream",
     "text": [
      "     73/100      4.75G     0.3416     0.4203     0.9536         15        640: 1\n",
      "                 Class     Images  Instances      Box(P          R      mAP50  m"
     ]
    },
    {
     "name": "stdout",
     "output_type": "stream",
     "text": [
      "                   all        144        485      0.904       0.93       0.95      0.922\n"
     ]
    },
    {
     "name": "stderr",
     "output_type": "stream",
     "text": [
      "\n"
     ]
    },
    {
     "name": "stdout",
     "output_type": "stream",
     "text": [
      "\n",
      "      Epoch    GPU_mem   box_loss   cls_loss   dfl_loss  Instances       Size\n"
     ]
    },
    {
     "name": "stderr",
     "output_type": "stream",
     "text": [
      "     74/100      4.78G     0.3317     0.4143     0.9491         10        640: 1\n",
      "                 Class     Images  Instances      Box(P          R      mAP50  m"
     ]
    },
    {
     "name": "stdout",
     "output_type": "stream",
     "text": [
      "                   all        144        485      0.935      0.895      0.961      0.932\n"
     ]
    },
    {
     "name": "stderr",
     "output_type": "stream",
     "text": [
      "\n"
     ]
    },
    {
     "name": "stdout",
     "output_type": "stream",
     "text": [
      "\n",
      "      Epoch    GPU_mem   box_loss   cls_loss   dfl_loss  Instances       Size\n"
     ]
    },
    {
     "name": "stderr",
     "output_type": "stream",
     "text": [
      "     75/100      4.82G     0.3377     0.4531     0.9652          4        640: 1\n",
      "                 Class     Images  Instances      Box(P          R      mAP50  m"
     ]
    },
    {
     "name": "stdout",
     "output_type": "stream",
     "text": [
      "                   all        144        485      0.879      0.814      0.887      0.851\n",
      "\n",
      "      Epoch    GPU_mem   box_loss   cls_loss   dfl_loss  Instances       Size\n"
     ]
    },
    {
     "name": "stderr",
     "output_type": "stream",
     "text": [
      "\n",
      "     76/100      4.86G     0.3355     0.4028     0.9444         18        640: 1\n",
      "                 Class     Images  Instances      Box(P          R      mAP50  m"
     ]
    },
    {
     "name": "stdout",
     "output_type": "stream",
     "text": [
      "                   all        144        485      0.931      0.957      0.971       0.95\n",
      "\n",
      "      Epoch    GPU_mem   box_loss   cls_loss   dfl_loss  Instances       Size\n"
     ]
    },
    {
     "name": "stderr",
     "output_type": "stream",
     "text": [
      "\n",
      "     77/100      4.89G     0.3395     0.3951     0.9499         15        640: 1\n",
      "                 Class     Images  Instances      Box(P          R      mAP50  m"
     ]
    },
    {
     "name": "stdout",
     "output_type": "stream",
     "text": [
      "                   all        144        485      0.909      0.934      0.966      0.945\n",
      "\n",
      "      Epoch    GPU_mem   box_loss   cls_loss   dfl_loss  Instances       Size\n"
     ]
    },
    {
     "name": "stderr",
     "output_type": "stream",
     "text": [
      "\n",
      "     78/100      4.93G      0.306     0.3634      0.934         12        640: 1\n",
      "                 Class     Images  Instances      Box(P          R      mAP50  m"
     ]
    },
    {
     "name": "stdout",
     "output_type": "stream",
     "text": [
      "                   all        144        485      0.944      0.906      0.967      0.948\n",
      "\n",
      "      Epoch    GPU_mem   box_loss   cls_loss   dfl_loss  Instances       Size\n"
     ]
    },
    {
     "name": "stderr",
     "output_type": "stream",
     "text": [
      "\n",
      "     79/100       5.1G     0.3395     0.3994     0.9488         16        640: 1\n",
      "                 Class     Images  Instances      Box(P          R      mAP50  m"
     ]
    },
    {
     "name": "stdout",
     "output_type": "stream",
     "text": [
      "                   all        144        485      0.925      0.944      0.969      0.948\n",
      "\n",
      "      Epoch    GPU_mem   box_loss   cls_loss   dfl_loss  Instances       Size\n"
     ]
    },
    {
     "name": "stderr",
     "output_type": "stream",
     "text": [
      "\n",
      "     80/100      5.13G     0.3186     0.4055     0.9437         23        640: 1\n",
      "                 Class     Images  Instances      Box(P          R      mAP50  m"
     ]
    },
    {
     "name": "stdout",
     "output_type": "stream",
     "text": [
      "                   all        144        485      0.942      0.897      0.951      0.932\n",
      "\n",
      "      Epoch    GPU_mem   box_loss   cls_loss   dfl_loss  Instances       Size\n"
     ]
    },
    {
     "name": "stderr",
     "output_type": "stream",
     "text": [
      "\n",
      "     81/100      5.17G     0.3271      0.387     0.9495         12        640: 1\n",
      "                 Class     Images  Instances      Box(P          R      mAP50  m"
     ]
    },
    {
     "name": "stdout",
     "output_type": "stream",
     "text": [
      "                   all        144        485      0.946      0.933      0.975      0.955\n"
     ]
    },
    {
     "name": "stderr",
     "output_type": "stream",
     "text": [
      "\n"
     ]
    },
    {
     "name": "stdout",
     "output_type": "stream",
     "text": [
      "\n",
      "      Epoch    GPU_mem   box_loss   cls_loss   dfl_loss  Instances       Size\n"
     ]
    },
    {
     "name": "stderr",
     "output_type": "stream",
     "text": [
      "     82/100      5.21G      0.315     0.3976     0.9453         17        640: 1\n",
      "                 Class     Images  Instances      Box(P          R      mAP50  m"
     ]
    },
    {
     "name": "stdout",
     "output_type": "stream",
     "text": [
      "                   all        144        485      0.956      0.844      0.957      0.936\n",
      "\n",
      "      Epoch    GPU_mem   box_loss   cls_loss   dfl_loss  Instances       Size\n"
     ]
    },
    {
     "name": "stderr",
     "output_type": "stream",
     "text": [
      "\n",
      "     83/100      5.24G     0.3353     0.4395     0.9424          4        640: 1\n",
      "                 Class     Images  Instances      Box(P          R      mAP50  m"
     ]
    },
    {
     "name": "stdout",
     "output_type": "stream",
     "text": [
      "                   all        144        485      0.937      0.957      0.975      0.953\n"
     ]
    },
    {
     "name": "stderr",
     "output_type": "stream",
     "text": [
      "\n"
     ]
    },
    {
     "name": "stdout",
     "output_type": "stream",
     "text": [
      "\n",
      "      Epoch    GPU_mem   box_loss   cls_loss   dfl_loss  Instances       Size\n"
     ]
    },
    {
     "name": "stderr",
     "output_type": "stream",
     "text": [
      "     84/100      5.28G     0.3172     0.3922     0.9341         13        640: 1\n",
      "                 Class     Images  Instances      Box(P          R      mAP50  m"
     ]
    },
    {
     "name": "stdout",
     "output_type": "stream",
     "text": [
      "                   all        144        485      0.939      0.936      0.976      0.958\n"
     ]
    },
    {
     "name": "stderr",
     "output_type": "stream",
     "text": [
      "\n"
     ]
    },
    {
     "name": "stdout",
     "output_type": "stream",
     "text": [
      "\n",
      "      Epoch    GPU_mem   box_loss   cls_loss   dfl_loss  Instances       Size\n"
     ]
    },
    {
     "name": "stderr",
     "output_type": "stream",
     "text": [
      "     85/100      5.31G     0.3142     0.3838     0.9218         35        640: 1\n",
      "                 Class     Images  Instances      Box(P          R      mAP50  m"
     ]
    },
    {
     "name": "stdout",
     "output_type": "stream",
     "text": [
      "                   all        144        485      0.945      0.926      0.975      0.958\n",
      "\n",
      "      Epoch    GPU_mem   box_loss   cls_loss   dfl_loss  Instances       Size\n"
     ]
    },
    {
     "name": "stderr",
     "output_type": "stream",
     "text": [
      "\n",
      "     86/100      5.35G     0.3052     0.3723     0.9403          8        640: 1\n",
      "                 Class     Images  Instances      Box(P          R      mAP50  m"
     ]
    },
    {
     "name": "stdout",
     "output_type": "stream",
     "text": [
      "                   all        144        485      0.947      0.922       0.97      0.949\n",
      "\n",
      "      Epoch    GPU_mem   box_loss   cls_loss   dfl_loss  Instances       Size\n"
     ]
    },
    {
     "name": "stderr",
     "output_type": "stream",
     "text": [
      "\n",
      "     87/100      5.38G     0.3074     0.3814     0.9433         13        640: 1\n",
      "                 Class     Images  Instances      Box(P          R      mAP50  m"
     ]
    },
    {
     "name": "stdout",
     "output_type": "stream",
     "text": [
      "                   all        144        485      0.919      0.948      0.976      0.955\n",
      "\n",
      "      Epoch    GPU_mem   box_loss   cls_loss   dfl_loss  Instances       Size\n"
     ]
    },
    {
     "name": "stderr",
     "output_type": "stream",
     "text": [
      "\n",
      "     88/100      5.51G     0.3097     0.3737     0.9285         27        640: 1\n",
      "                 Class     Images  Instances      Box(P          R      mAP50  m"
     ]
    },
    {
     "name": "stdout",
     "output_type": "stream",
     "text": [
      "                   all        144        485      0.953      0.944      0.978      0.959\n"
     ]
    },
    {
     "name": "stderr",
     "output_type": "stream",
     "text": [
      "\n"
     ]
    },
    {
     "name": "stdout",
     "output_type": "stream",
     "text": [
      "\n",
      "      Epoch    GPU_mem   box_loss   cls_loss   dfl_loss  Instances       Size\n"
     ]
    },
    {
     "name": "stderr",
     "output_type": "stream",
     "text": [
      "     89/100      5.67G      0.298     0.3661      0.927         16        640: 1\n",
      "                 Class     Images  Instances      Box(P          R      mAP50  m"
     ]
    },
    {
     "name": "stdout",
     "output_type": "stream",
     "text": [
      "                   all        144        485       0.95      0.938      0.975      0.957\n"
     ]
    },
    {
     "name": "stderr",
     "output_type": "stream",
     "text": [
      "\n"
     ]
    },
    {
     "name": "stdout",
     "output_type": "stream",
     "text": [
      "\n",
      "      Epoch    GPU_mem   box_loss   cls_loss   dfl_loss  Instances       Size\n"
     ]
    },
    {
     "name": "stderr",
     "output_type": "stream",
     "text": [
      "     90/100       5.7G      0.304     0.3592     0.9346          9        640: 1\n",
      "                 Class     Images  Instances      Box(P          R      mAP50  m"
     ]
    },
    {
     "name": "stdout",
     "output_type": "stream",
     "text": [
      "                   all        144        485      0.935      0.936      0.976      0.961\n"
     ]
    },
    {
     "name": "stderr",
     "output_type": "stream",
     "text": [
      "\n"
     ]
    },
    {
     "name": "stdout",
     "output_type": "stream",
     "text": [
      "Closing dataloader mosaic\n",
      "\n",
      "      Epoch    GPU_mem   box_loss   cls_loss   dfl_loss  Instances       Size\n"
     ]
    },
    {
     "name": "stderr",
     "output_type": "stream",
     "text": [
      "     91/100      5.74G     0.2652     0.3544     0.8985          7        640: 1\n",
      "                 Class     Images  Instances      Box(P          R      mAP50  m"
     ]
    },
    {
     "name": "stdout",
     "output_type": "stream",
     "text": [
      "                   all        144        485      0.943      0.894       0.96      0.942\n",
      "\n",
      "      Epoch    GPU_mem   box_loss   cls_loss   dfl_loss  Instances       Size\n"
     ]
    },
    {
     "name": "stderr",
     "output_type": "stream",
     "text": [
      "\n",
      "     92/100      5.77G     0.2574     0.3248     0.8888          3        640: 1\n",
      "                 Class     Images  Instances      Box(P          R      mAP50  m"
     ]
    },
    {
     "name": "stdout",
     "output_type": "stream",
     "text": [
      "                   all        144        485      0.932      0.937      0.977      0.958\n"
     ]
    },
    {
     "name": "stderr",
     "output_type": "stream",
     "text": [
      "\n"
     ]
    },
    {
     "name": "stdout",
     "output_type": "stream",
     "text": [
      "\n",
      "      Epoch    GPU_mem   box_loss   cls_loss   dfl_loss  Instances       Size\n"
     ]
    },
    {
     "name": "stderr",
     "output_type": "stream",
     "text": [
      "     93/100      5.93G     0.2529     0.3201     0.8924          7        640: 1\n",
      "                 Class     Images  Instances      Box(P          R      mAP50  m"
     ]
    },
    {
     "name": "stdout",
     "output_type": "stream",
     "text": [
      "                   all        144        485      0.939      0.945      0.978      0.958\n",
      "\n",
      "      Epoch    GPU_mem   box_loss   cls_loss   dfl_loss  Instances       Size\n"
     ]
    },
    {
     "name": "stderr",
     "output_type": "stream",
     "text": [
      "\n",
      "     94/100      5.97G     0.2399     0.2939      0.883          7        640: 1\n",
      "                 Class     Images  Instances      Box(P          R      mAP50  m"
     ]
    },
    {
     "name": "stdout",
     "output_type": "stream",
     "text": [
      "                   all        144        485      0.924      0.957      0.978       0.96\n"
     ]
    },
    {
     "name": "stderr",
     "output_type": "stream",
     "text": [
      "\n"
     ]
    },
    {
     "name": "stdout",
     "output_type": "stream",
     "text": [
      "\n",
      "      Epoch    GPU_mem   box_loss   cls_loss   dfl_loss  Instances       Size\n"
     ]
    },
    {
     "name": "stderr",
     "output_type": "stream",
     "text": [
      "     95/100         6G     0.2288     0.2977     0.8879          4        640: 1\n",
      "                 Class     Images  Instances      Box(P          R      mAP50  m"
     ]
    },
    {
     "name": "stdout",
     "output_type": "stream",
     "text": [
      "                   all        144        485       0.93       0.94      0.975      0.957\n"
     ]
    },
    {
     "name": "stderr",
     "output_type": "stream",
     "text": [
      "\n"
     ]
    },
    {
     "name": "stdout",
     "output_type": "stream",
     "text": [
      "\n",
      "      Epoch    GPU_mem   box_loss   cls_loss   dfl_loss  Instances       Size\n"
     ]
    },
    {
     "name": "stderr",
     "output_type": "stream",
     "text": [
      "     96/100      6.04G     0.2351     0.3174     0.8715          9        640: 1\n",
      "                 Class     Images  Instances      Box(P          R      mAP50  m"
     ]
    },
    {
     "name": "stdout",
     "output_type": "stream",
     "text": [
      "                   all        144        485      0.958      0.899      0.966       0.95\n"
     ]
    },
    {
     "name": "stderr",
     "output_type": "stream",
     "text": [
      "\n"
     ]
    },
    {
     "name": "stdout",
     "output_type": "stream",
     "text": [
      "\n",
      "      Epoch    GPU_mem   box_loss   cls_loss   dfl_loss  Instances       Size\n"
     ]
    },
    {
     "name": "stderr",
     "output_type": "stream",
     "text": [
      "     97/100      6.08G     0.2343     0.2782      0.881         10        640: 1\n",
      "                 Class     Images  Instances      Box(P          R      mAP50  m"
     ]
    },
    {
     "name": "stdout",
     "output_type": "stream",
     "text": [
      "                   all        144        485      0.945       0.92      0.972      0.954\n"
     ]
    },
    {
     "name": "stderr",
     "output_type": "stream",
     "text": [
      "\n"
     ]
    },
    {
     "name": "stdout",
     "output_type": "stream",
     "text": [
      "\n",
      "      Epoch    GPU_mem   box_loss   cls_loss   dfl_loss  Instances       Size\n"
     ]
    },
    {
     "name": "stderr",
     "output_type": "stream",
     "text": [
      "     98/100      6.44G     0.2347     0.2959     0.8701         10        640: 1\n",
      "                 Class     Images  Instances      Box(P          R      mAP50  m"
     ]
    },
    {
     "name": "stdout",
     "output_type": "stream",
     "text": [
      "                   all        144        485      0.947      0.913      0.975      0.959\n",
      "\n",
      "      Epoch    GPU_mem   box_loss   cls_loss   dfl_loss  Instances       Size\n"
     ]
    },
    {
     "name": "stderr",
     "output_type": "stream",
     "text": [
      "\n",
      "     99/100      6.47G     0.2316      0.295     0.8802          3        640: 1\n",
      "                 Class     Images  Instances      Box(P          R      mAP50  m"
     ]
    },
    {
     "name": "stdout",
     "output_type": "stream",
     "text": [
      "                   all        144        485       0.96      0.913      0.976      0.958\n"
     ]
    },
    {
     "name": "stderr",
     "output_type": "stream",
     "text": [
      "\n"
     ]
    },
    {
     "name": "stdout",
     "output_type": "stream",
     "text": [
      "\n",
      "      Epoch    GPU_mem   box_loss   cls_loss   dfl_loss  Instances       Size\n"
     ]
    },
    {
     "name": "stderr",
     "output_type": "stream",
     "text": [
      "    100/100      6.51G      0.248     0.3046     0.8929          7        640: 1\n",
      "                 Class     Images  Instances      Box(P          R      mAP50  m"
     ]
    },
    {
     "name": "stdout",
     "output_type": "stream",
     "text": [
      "                   all        144        485      0.957      0.921      0.976      0.958\n",
      "\n",
      "100 epochs completed in 0.127 hours.\n"
     ]
    },
    {
     "name": "stderr",
     "output_type": "stream",
     "text": [
      "\n"
     ]
    },
    {
     "name": "stdout",
     "output_type": "stream",
     "text": [
      "Optimizer stripped from runs/detect/my_yolo_experiment10/weights/last.pt, 22.5MB\n",
      "Optimizer stripped from runs/detect/my_yolo_experiment10/weights/best.pt, 22.5MB\n",
      "\n",
      "Validating runs/detect/my_yolo_experiment10/weights/best.pt...\n",
      "Ultralytics 8.3.110 🚀 Python-3.13.2 torch-2.6.0+cu124 CUDA:0 (NVIDIA RTX A4000, 15081MiB)\n",
      "YOLOv8s summary (fused): 72 layers, 11,125,971 parameters, 0 gradients, 28.4 GFLOPs\n"
     ]
    },
    {
     "name": "stderr",
     "output_type": "stream",
     "text": [
      "                 Class     Images  Instances      Box(P          R      mAP50  m\n"
     ]
    },
    {
     "name": "stdout",
     "output_type": "stream",
     "text": [
      "                   all        144        485      0.936      0.937      0.976      0.961\n",
      "Speed: 0.1ms preprocess, 2.2ms inference, 0.0ms loss, 0.6ms postprocess per image\n",
      "Results saved to \u001b[1mruns/detect/my_yolo_experiment10\u001b[0m\n"
     ]
    },
    {
     "data": {
      "text/plain": [
       "ultralytics.utils.metrics.DetMetrics object with attributes:\n",
       "\n",
       "ap_class_index: array([0])\n",
       "box: ultralytics.utils.metrics.Metric object\n",
       "confusion_matrix: <ultralytics.utils.metrics.ConfusionMatrix object at 0x7f823e9a2190>\n",
       "curves: ['Precision-Recall(B)', 'F1-Confidence(B)', 'Precision-Confidence(B)', 'Recall-Confidence(B)']\n",
       "curves_results: [[array([          0,    0.001001,    0.002002,    0.003003,    0.004004,    0.005005,    0.006006,    0.007007,    0.008008,    0.009009,     0.01001,    0.011011,    0.012012,    0.013013,    0.014014,    0.015015,    0.016016,    0.017017,    0.018018,    0.019019,     0.02002,    0.021021,    0.022022,    0.023023,\n",
       "          0.024024,    0.025025,    0.026026,    0.027027,    0.028028,    0.029029,     0.03003,    0.031031,    0.032032,    0.033033,    0.034034,    0.035035,    0.036036,    0.037037,    0.038038,    0.039039,     0.04004,    0.041041,    0.042042,    0.043043,    0.044044,    0.045045,    0.046046,    0.047047,\n",
       "          0.048048,    0.049049,     0.05005,    0.051051,    0.052052,    0.053053,    0.054054,    0.055055,    0.056056,    0.057057,    0.058058,    0.059059,     0.06006,    0.061061,    0.062062,    0.063063,    0.064064,    0.065065,    0.066066,    0.067067,    0.068068,    0.069069,     0.07007,    0.071071,\n",
       "          0.072072,    0.073073,    0.074074,    0.075075,    0.076076,    0.077077,    0.078078,    0.079079,     0.08008,    0.081081,    0.082082,    0.083083,    0.084084,    0.085085,    0.086086,    0.087087,    0.088088,    0.089089,     0.09009,    0.091091,    0.092092,    0.093093,    0.094094,    0.095095,\n",
       "          0.096096,    0.097097,    0.098098,    0.099099,      0.1001,      0.1011,      0.1021,      0.1031,      0.1041,     0.10511,     0.10611,     0.10711,     0.10811,     0.10911,     0.11011,     0.11111,     0.11211,     0.11311,     0.11411,     0.11512,     0.11612,     0.11712,     0.11812,     0.11912,\n",
       "           0.12012,     0.12112,     0.12212,     0.12312,     0.12412,     0.12513,     0.12613,     0.12713,     0.12813,     0.12913,     0.13013,     0.13113,     0.13213,     0.13313,     0.13413,     0.13514,     0.13614,     0.13714,     0.13814,     0.13914,     0.14014,     0.14114,     0.14214,     0.14314,\n",
       "           0.14414,     0.14515,     0.14615,     0.14715,     0.14815,     0.14915,     0.15015,     0.15115,     0.15215,     0.15315,     0.15415,     0.15516,     0.15616,     0.15716,     0.15816,     0.15916,     0.16016,     0.16116,     0.16216,     0.16316,     0.16416,     0.16517,     0.16617,     0.16717,\n",
       "           0.16817,     0.16917,     0.17017,     0.17117,     0.17217,     0.17317,     0.17417,     0.17518,     0.17618,     0.17718,     0.17818,     0.17918,     0.18018,     0.18118,     0.18218,     0.18318,     0.18418,     0.18519,     0.18619,     0.18719,     0.18819,     0.18919,     0.19019,     0.19119,\n",
       "           0.19219,     0.19319,     0.19419,      0.1952,      0.1962,      0.1972,      0.1982,      0.1992,      0.2002,      0.2012,      0.2022,      0.2032,      0.2042,     0.20521,     0.20621,     0.20721,     0.20821,     0.20921,     0.21021,     0.21121,     0.21221,     0.21321,     0.21421,     0.21522,\n",
       "           0.21622,     0.21722,     0.21822,     0.21922,     0.22022,     0.22122,     0.22222,     0.22322,     0.22422,     0.22523,     0.22623,     0.22723,     0.22823,     0.22923,     0.23023,     0.23123,     0.23223,     0.23323,     0.23423,     0.23524,     0.23624,     0.23724,     0.23824,     0.23924,\n",
       "           0.24024,     0.24124,     0.24224,     0.24324,     0.24424,     0.24525,     0.24625,     0.24725,     0.24825,     0.24925,     0.25025,     0.25125,     0.25225,     0.25325,     0.25425,     0.25526,     0.25626,     0.25726,     0.25826,     0.25926,     0.26026,     0.26126,     0.26226,     0.26326,\n",
       "           0.26426,     0.26527,     0.26627,     0.26727,     0.26827,     0.26927,     0.27027,     0.27127,     0.27227,     0.27327,     0.27427,     0.27528,     0.27628,     0.27728,     0.27828,     0.27928,     0.28028,     0.28128,     0.28228,     0.28328,     0.28428,     0.28529,     0.28629,     0.28729,\n",
       "           0.28829,     0.28929,     0.29029,     0.29129,     0.29229,     0.29329,     0.29429,      0.2953,      0.2963,      0.2973,      0.2983,      0.2993,      0.3003,      0.3013,      0.3023,      0.3033,      0.3043,     0.30531,     0.30631,     0.30731,     0.30831,     0.30931,     0.31031,     0.31131,\n",
       "           0.31231,     0.31331,     0.31431,     0.31532,     0.31632,     0.31732,     0.31832,     0.31932,     0.32032,     0.32132,     0.32232,     0.32332,     0.32432,     0.32533,     0.32633,     0.32733,     0.32833,     0.32933,     0.33033,     0.33133,     0.33233,     0.33333,     0.33433,     0.33534,\n",
       "           0.33634,     0.33734,     0.33834,     0.33934,     0.34034,     0.34134,     0.34234,     0.34334,     0.34434,     0.34535,     0.34635,     0.34735,     0.34835,     0.34935,     0.35035,     0.35135,     0.35235,     0.35335,     0.35435,     0.35536,     0.35636,     0.35736,     0.35836,     0.35936,\n",
       "           0.36036,     0.36136,     0.36236,     0.36336,     0.36436,     0.36537,     0.36637,     0.36737,     0.36837,     0.36937,     0.37037,     0.37137,     0.37237,     0.37337,     0.37437,     0.37538,     0.37638,     0.37738,     0.37838,     0.37938,     0.38038,     0.38138,     0.38238,     0.38338,\n",
       "           0.38438,     0.38539,     0.38639,     0.38739,     0.38839,     0.38939,     0.39039,     0.39139,     0.39239,     0.39339,     0.39439,      0.3954,      0.3964,      0.3974,      0.3984,      0.3994,      0.4004,      0.4014,      0.4024,      0.4034,      0.4044,     0.40541,     0.40641,     0.40741,\n",
       "           0.40841,     0.40941,     0.41041,     0.41141,     0.41241,     0.41341,     0.41441,     0.41542,     0.41642,     0.41742,     0.41842,     0.41942,     0.42042,     0.42142,     0.42242,     0.42342,     0.42442,     0.42543,     0.42643,     0.42743,     0.42843,     0.42943,     0.43043,     0.43143,\n",
       "           0.43243,     0.43343,     0.43443,     0.43544,     0.43644,     0.43744,     0.43844,     0.43944,     0.44044,     0.44144,     0.44244,     0.44344,     0.44444,     0.44545,     0.44645,     0.44745,     0.44845,     0.44945,     0.45045,     0.45145,     0.45245,     0.45345,     0.45445,     0.45546,\n",
       "           0.45646,     0.45746,     0.45846,     0.45946,     0.46046,     0.46146,     0.46246,     0.46346,     0.46446,     0.46547,     0.46647,     0.46747,     0.46847,     0.46947,     0.47047,     0.47147,     0.47247,     0.47347,     0.47447,     0.47548,     0.47648,     0.47748,     0.47848,     0.47948,\n",
       "           0.48048,     0.48148,     0.48248,     0.48348,     0.48448,     0.48549,     0.48649,     0.48749,     0.48849,     0.48949,     0.49049,     0.49149,     0.49249,     0.49349,     0.49449,      0.4955,      0.4965,      0.4975,      0.4985,      0.4995,      0.5005,      0.5015,      0.5025,      0.5035,\n",
       "            0.5045,     0.50551,     0.50651,     0.50751,     0.50851,     0.50951,     0.51051,     0.51151,     0.51251,     0.51351,     0.51451,     0.51552,     0.51652,     0.51752,     0.51852,     0.51952,     0.52052,     0.52152,     0.52252,     0.52352,     0.52452,     0.52553,     0.52653,     0.52753,\n",
       "           0.52853,     0.52953,     0.53053,     0.53153,     0.53253,     0.53353,     0.53453,     0.53554,     0.53654,     0.53754,     0.53854,     0.53954,     0.54054,     0.54154,     0.54254,     0.54354,     0.54454,     0.54555,     0.54655,     0.54755,     0.54855,     0.54955,     0.55055,     0.55155,\n",
       "           0.55255,     0.55355,     0.55455,     0.55556,     0.55656,     0.55756,     0.55856,     0.55956,     0.56056,     0.56156,     0.56256,     0.56356,     0.56456,     0.56557,     0.56657,     0.56757,     0.56857,     0.56957,     0.57057,     0.57157,     0.57257,     0.57357,     0.57457,     0.57558,\n",
       "           0.57658,     0.57758,     0.57858,     0.57958,     0.58058,     0.58158,     0.58258,     0.58358,     0.58458,     0.58559,     0.58659,     0.58759,     0.58859,     0.58959,     0.59059,     0.59159,     0.59259,     0.59359,     0.59459,      0.5956,      0.5966,      0.5976,      0.5986,      0.5996,\n",
       "            0.6006,      0.6016,      0.6026,      0.6036,      0.6046,     0.60561,     0.60661,     0.60761,     0.60861,     0.60961,     0.61061,     0.61161,     0.61261,     0.61361,     0.61461,     0.61562,     0.61662,     0.61762,     0.61862,     0.61962,     0.62062,     0.62162,     0.62262,     0.62362,\n",
       "           0.62462,     0.62563,     0.62663,     0.62763,     0.62863,     0.62963,     0.63063,     0.63163,     0.63263,     0.63363,     0.63463,     0.63564,     0.63664,     0.63764,     0.63864,     0.63964,     0.64064,     0.64164,     0.64264,     0.64364,     0.64464,     0.64565,     0.64665,     0.64765,\n",
       "           0.64865,     0.64965,     0.65065,     0.65165,     0.65265,     0.65365,     0.65465,     0.65566,     0.65666,     0.65766,     0.65866,     0.65966,     0.66066,     0.66166,     0.66266,     0.66366,     0.66466,     0.66567,     0.66667,     0.66767,     0.66867,     0.66967,     0.67067,     0.67167,\n",
       "           0.67267,     0.67367,     0.67467,     0.67568,     0.67668,     0.67768,     0.67868,     0.67968,     0.68068,     0.68168,     0.68268,     0.68368,     0.68468,     0.68569,     0.68669,     0.68769,     0.68869,     0.68969,     0.69069,     0.69169,     0.69269,     0.69369,     0.69469,      0.6957,\n",
       "            0.6967,      0.6977,      0.6987,      0.6997,      0.7007,      0.7017,      0.7027,      0.7037,      0.7047,     0.70571,     0.70671,     0.70771,     0.70871,     0.70971,     0.71071,     0.71171,     0.71271,     0.71371,     0.71471,     0.71572,     0.71672,     0.71772,     0.71872,     0.71972,\n",
       "           0.72072,     0.72172,     0.72272,     0.72372,     0.72472,     0.72573,     0.72673,     0.72773,     0.72873,     0.72973,     0.73073,     0.73173,     0.73273,     0.73373,     0.73473,     0.73574,     0.73674,     0.73774,     0.73874,     0.73974,     0.74074,     0.74174,     0.74274,     0.74374,\n",
       "           0.74474,     0.74575,     0.74675,     0.74775,     0.74875,     0.74975,     0.75075,     0.75175,     0.75275,     0.75375,     0.75475,     0.75576,     0.75676,     0.75776,     0.75876,     0.75976,     0.76076,     0.76176,     0.76276,     0.76376,     0.76476,     0.76577,     0.76677,     0.76777,\n",
       "           0.76877,     0.76977,     0.77077,     0.77177,     0.77277,     0.77377,     0.77477,     0.77578,     0.77678,     0.77778,     0.77878,     0.77978,     0.78078,     0.78178,     0.78278,     0.78378,     0.78478,     0.78579,     0.78679,     0.78779,     0.78879,     0.78979,     0.79079,     0.79179,\n",
       "           0.79279,     0.79379,     0.79479,      0.7958,      0.7968,      0.7978,      0.7988,      0.7998,      0.8008,      0.8018,      0.8028,      0.8038,      0.8048,     0.80581,     0.80681,     0.80781,     0.80881,     0.80981,     0.81081,     0.81181,     0.81281,     0.81381,     0.81481,     0.81582,\n",
       "           0.81682,     0.81782,     0.81882,     0.81982,     0.82082,     0.82182,     0.82282,     0.82382,     0.82482,     0.82583,     0.82683,     0.82783,     0.82883,     0.82983,     0.83083,     0.83183,     0.83283,     0.83383,     0.83483,     0.83584,     0.83684,     0.83784,     0.83884,     0.83984,\n",
       "           0.84084,     0.84184,     0.84284,     0.84384,     0.84484,     0.84585,     0.84685,     0.84785,     0.84885,     0.84985,     0.85085,     0.85185,     0.85285,     0.85385,     0.85485,     0.85586,     0.85686,     0.85786,     0.85886,     0.85986,     0.86086,     0.86186,     0.86286,     0.86386,\n",
       "           0.86486,     0.86587,     0.86687,     0.86787,     0.86887,     0.86987,     0.87087,     0.87187,     0.87287,     0.87387,     0.87487,     0.87588,     0.87688,     0.87788,     0.87888,     0.87988,     0.88088,     0.88188,     0.88288,     0.88388,     0.88488,     0.88589,     0.88689,     0.88789,\n",
       "           0.88889,     0.88989,     0.89089,     0.89189,     0.89289,     0.89389,     0.89489,      0.8959,      0.8969,      0.8979,      0.8989,      0.8999,      0.9009,      0.9019,      0.9029,      0.9039,      0.9049,     0.90591,     0.90691,     0.90791,     0.90891,     0.90991,     0.91091,     0.91191,\n",
       "           0.91291,     0.91391,     0.91491,     0.91592,     0.91692,     0.91792,     0.91892,     0.91992,     0.92092,     0.92192,     0.92292,     0.92392,     0.92492,     0.92593,     0.92693,     0.92793,     0.92893,     0.92993,     0.93093,     0.93193,     0.93293,     0.93393,     0.93493,     0.93594,\n",
       "           0.93694,     0.93794,     0.93894,     0.93994,     0.94094,     0.94194,     0.94294,     0.94394,     0.94494,     0.94595,     0.94695,     0.94795,     0.94895,     0.94995,     0.95095,     0.95195,     0.95295,     0.95395,     0.95495,     0.95596,     0.95696,     0.95796,     0.95896,     0.95996,\n",
       "           0.96096,     0.96196,     0.96296,     0.96396,     0.96496,     0.96597,     0.96697,     0.96797,     0.96897,     0.96997,     0.97097,     0.97197,     0.97297,     0.97397,     0.97497,     0.97598,     0.97698,     0.97798,     0.97898,     0.97998,     0.98098,     0.98198,     0.98298,     0.98398,\n",
       "           0.98498,     0.98599,     0.98699,     0.98799,     0.98899,     0.98999,     0.99099,     0.99199,     0.99299,     0.99399,     0.99499,       0.996,       0.997,       0.998,       0.999,           1]), array([[          1,           1,           1,           1,           1,           1,           1,           1,           1,           1,           1,           1,           1,           1,           1,           1,           1,           1,           1,           1,           1,           1,           1,\n",
       "                  1,           1,           1,           1,           1,           1,           1,           1,           1,           1,           1,           1,           1,           1,           1,           1,           1,           1,           1,           1,           1,           1,           1,\n",
       "                  1,           1,           1,           1,           1,           1,           1,           1,           1,           1,           1,           1,           1,           1,           1,           1,           1,           1,           1,           1,           1,           1,           1,\n",
       "                  1,           1,           1,           1,           1,           1,           1,           1,           1,           1,           1,           1,           1,           1,           1,           1,           1,           1,           1,           1,           1,           1,           1,\n",
       "                  1,           1,           1,           1,           1,           1,           1,           1,           1,           1,           1,           1,           1,           1,           1,           1,           1,           1,           1,           1,           1,           1,           1,\n",
       "                  1,           1,           1,           1,           1,           1,           1,           1,           1,           1,           1,           1,           1,           1,           1,           1,           1,           1,           1,           1,           1,           1,           1,\n",
       "                  1,           1,           1,           1,           1,           1,           1,           1,           1,           1,           1,           1,           1,           1,           1,           1,           1,           1,           1,           1,           1,           1,           1,\n",
       "                  1,           1,           1,           1,           1,           1,           1,           1,           1,           1,           1,           1,           1,           1,           1,           1,           1,           1,           1,           1,           1,           1,           1,\n",
       "                  1,           1,           1,           1,           1,           1,           1,           1,           1,           1,           1,           1,           1,           1,           1,           1,           1,           1,           1,           1,           1,           1,           1,\n",
       "                  1,           1,           1,           1,           1,           1,           1,           1,           1,           1,           1,           1,           1,           1,           1,           1,           1,           1,           1,           1,           1,           1,           1,\n",
       "                  1,           1,           1,           1,           1,           1,           1,           1,           1,           1,           1,           1,           1,           1,           1,           1,           1,           1,           1,           1,           1,           1,           1,\n",
       "                  1,           1,           1,           1,           1,           1,           1,           1,           1,           1,           1,           1,           1,           1,           1,           1,           1,           1,           1,           1,           1,           1,           1,\n",
       "                  1,           1,           1,           1,           1,           1,           1,           1,           1,           1,           1,           1,           1,           1,           1,           1,           1,           1,           1,           1,           1,           1,           1,\n",
       "                  1,           1,           1,           1,           1,           1,           1,           1,           1,           1,           1,           1,           1,           1,           1,           1,           1,           1,           1,           1,           1,           1,           1,\n",
       "                  1,           1,           1,           1,           1,           1,           1,           1,           1,           1,           1,           1,           1,           1,           1,           1,           1,           1,           1,           1,           1,           1,           1,\n",
       "                  1,           1,           1,           1,           1,           1,           1,           1,           1,           1,           1,           1,           1,           1,           1,           1,           1,           1,           1,           1,           1,           1,           1,\n",
       "                  1,           1,           1,           1,           1,           1,           1,           1,           1,           1,           1,           1,           1,           1,           1,           1,           1,           1,           1,           1,           1,           1,           1,\n",
       "                  1,           1,           1,           1,           1,           1,           1,           1,           1,           1,           1,           1,           1,           1,           1,           1,           1,           1,           1,           1,           1,           1,           1,\n",
       "                  1,           1,           1,           1,           1,           1,           1,           1,           1,           1,           1,           1,           1,           1,           1,           1,           1,           1,           1,           1,           1,           1,           1,\n",
       "                  1,           1,           1,           1,           1,           1,           1,           1,           1,           1,           1,           1,           1,           1,           1,           1,           1,           1,           1,           1,           1,     0.99603,     0.99603,\n",
       "            0.99603,     0.99603,     0.99603,     0.99603,     0.99603,     0.99603,     0.99603,     0.99603,     0.99603,     0.99603,     0.99603,     0.99603,     0.99603,     0.99603,     0.99603,     0.99603,     0.99603,     0.99603,     0.99603,     0.99603,     0.99603,     0.99603,     0.99603,\n",
       "            0.99603,     0.99603,     0.99603,     0.99603,     0.99603,     0.99603,     0.99603,     0.99603,     0.99603,     0.99603,     0.99603,     0.99603,     0.99603,     0.99603,     0.99603,     0.99603,     0.99603,     0.99603,     0.99603,     0.99603,     0.99603,     0.99603,     0.99603,\n",
       "            0.99603,     0.99603,     0.99603,     0.99603,     0.99603,     0.99603,     0.99603,     0.99603,     0.99603,     0.99603,     0.99603,     0.99603,     0.99222,     0.99222,     0.99222,     0.99222,     0.99222,     0.99222,     0.99222,     0.99222,      0.9914,      0.9914,      0.9914,\n",
       "             0.9914,      0.9914,      0.9914,      0.9914,      0.9914,      0.9914,      0.9914,      0.9914,      0.9914,      0.9914,      0.9914,      0.9914,      0.9914,      0.9914,      0.9914,      0.9914,      0.9914,      0.9914,      0.9914,      0.9914,      0.9914,      0.9914,      0.9914,\n",
       "             0.9914,      0.9914,      0.9914,      0.9914,      0.9914,      0.9914,      0.9914,      0.9914,      0.9914,      0.9914,      0.9914,      0.9914,      0.9914,      0.9914,      0.9914,      0.9914,      0.9914,      0.9914,      0.9914,      0.9914,      0.9914,      0.9914,      0.9914,\n",
       "             0.9914,      0.9914,      0.9914,      0.9914,      0.9914,      0.9914,      0.9914,      0.9914,      0.9914,      0.9914,      0.9914,      0.9914,      0.9914,      0.9914,      0.9914,      0.9914,      0.9914,      0.9914,      0.9914,      0.9914,      0.9914,      0.9914,      0.9914,\n",
       "             0.9914,      0.9914,      0.9914,      0.9914,      0.9914,      0.9914,      0.9914,      0.9914,      0.9914,      0.9914,      0.9914,      0.9914,      0.9914,      0.9914,      0.9914,      0.9914,      0.9914,      0.9914,      0.9914,      0.9914,      0.9914,      0.9914,      0.9914,\n",
       "             0.9914,      0.9914,      0.9914,      0.9914,      0.9914,      0.9914,      0.9914,      0.9914,      0.9914,      0.9914,      0.9914,      0.9914,      0.9914,      0.9914,      0.9914,      0.9914,      0.9914,      0.9914,      0.9914,      0.9914,      0.9914,      0.9914,      0.9914,\n",
       "             0.9914,      0.9914,      0.9914,      0.9914,      0.9914,      0.9914,      0.9914,      0.9914,      0.9914,      0.9914,      0.9914,      0.9914,      0.9914,      0.9914,      0.9914,      0.9914,      0.9914,      0.9914,      0.9914,      0.9914,      0.9914,      0.9914,      0.9914,\n",
       "             0.9914,      0.9914,      0.9914,      0.9914,      0.9914,      0.9914,      0.9914,      0.9914,      0.9914,      0.9914,      0.9914,      0.9914,      0.9914,      0.9914,      0.9914,      0.9914,      0.9914,      0.9914,      0.9914,      0.9914,      0.9914,      0.9914,      0.9914,\n",
       "             0.9914,      0.9914,      0.9914,      0.9914,      0.9914,      0.9914,      0.9914,      0.9914,      0.9914,      0.9914,      0.9914,      0.9914,      0.9914,      0.9914,      0.9914,      0.9914,      0.9914,      0.9914,      0.9914,      0.9914,      0.9914,      0.9914,      0.9914,\n",
       "            0.98898,     0.98898,     0.98898,     0.98898,     0.98898,     0.98898,     0.98898,     0.98898,     0.98898,     0.98898,     0.98898,     0.98898,     0.98898,     0.98898,     0.98898,     0.98898,     0.98898,     0.98898,     0.98898,     0.98898,     0.98898,     0.98898,     0.98898,\n",
       "            0.98898,     0.98898,     0.98898,     0.98898,       0.984,       0.984,       0.984,       0.984,       0.984,       0.984,       0.984,       0.984,       0.984,       0.984,       0.984,       0.984,       0.984,       0.984,       0.984,       0.984,       0.984,       0.984,       0.984,\n",
       "              0.984,       0.984,     0.98172,     0.98172,     0.98172,     0.98172,     0.98172,     0.98172,     0.98172,     0.98172,     0.98172,     0.98172,     0.98172,     0.98172,     0.98172,     0.98172,     0.97959,     0.97959,     0.97959,     0.97959,     0.97959,     0.97959,     0.97959,\n",
       "            0.97959,     0.97959,     0.97959,     0.97959,     0.97959,     0.97959,     0.97959,     0.97959,     0.97959,     0.97475,     0.97475,     0.97475,     0.97475,     0.97475,      0.9725,      0.9725,      0.9725,      0.9725,      0.9725,      0.9725,     0.97022,     0.97022,     0.97022,\n",
       "            0.97022,     0.96814,     0.96814,     0.96814,     0.96814,     0.96814,     0.96814,     0.96814,     0.96814,     0.96721,     0.96721,     0.96721,     0.96721,     0.96721,     0.96721,     0.96721,     0.96721,     0.96721,     0.96721,     0.96721,     0.96721,     0.96721,     0.96721,\n",
       "            0.96721,     0.96721,     0.96721,     0.96721,     0.96721,     0.96721,     0.96721,     0.96721,     0.96721,     0.96721,     0.96721,     0.96721,     0.96721,     0.96721,     0.96721,     0.96721,     0.96721,     0.96721,     0.96721,     0.96721,     0.96721,     0.96721,     0.96721,\n",
       "            0.96575,     0.96575,     0.96575,     0.96575,     0.96575,     0.96575,     0.96575,     0.96575,     0.96575,     0.96575,     0.96575,     0.96575,     0.96575,     0.96575,     0.96575,     0.96575,     0.96575,     0.96575,     0.96575,     0.96575,     0.96575,     0.96413,     0.96413,\n",
       "            0.96413,     0.96413,     0.96413,     0.96413,     0.96413,     0.96413,     0.96413,     0.96413,     0.96413,     0.96413,     0.96413,     0.96413,     0.96222,     0.96222,     0.96222,     0.96222,     0.96222,     0.96222,     0.96018,     0.96018,     0.95824,     0.95824,     0.95824,\n",
       "            0.95824,     0.95824,     0.95633,     0.95633,     0.95633,     0.95633,     0.95484,     0.95484,     0.95484,     0.95484,     0.95484,     0.95484,     0.95484,     0.95484,     0.95484,     0.95484,     0.95484,     0.95484,     0.94883,     0.94883,     0.94167,     0.94167,     0.94167,\n",
       "            0.94167,     0.94167,     0.94167,     0.94167,     0.94167,     0.94167,     0.94167,     0.94167,     0.94167,     0.94167,     0.94167,     0.94167,     0.93802,     0.93802,     0.93802,     0.93802,     0.93621,     0.93621,     0.93443,     0.93443,     0.93279,     0.93279,     0.93279,\n",
       "            0.93279,     0.92354,     0.92354,     0.91849,     0.91849,     0.91849,     0.91849,     0.91849,     0.91849,     0.91339,     0.91339,     0.91339,     0.91339,     0.91176,     0.91176,     0.90838,     0.90838,     0.90154,     0.90154,     0.89655,     0.89655,     0.88658,     0.88658,\n",
       "            0.88658,     0.87896,     0.87896,     0.87896,     0.87896,     0.87896,     0.87896,     0.87431,     0.87431,     0.87156,     0.87156,     0.87156,     0.87156,      0.8702,      0.8702,     0.86885,     0.86885,     0.86438,     0.86438,      0.8508,      0.8508,     0.81911,     0.81911,\n",
       "            0.48783,     0.48783,      0.4319,      0.4319,     0.28496,     0.28496,     0.21444,     0.16083,     0.10722,     0.05361,           0]]), 'Recall', 'Precision'], [array([          0,    0.001001,    0.002002,    0.003003,    0.004004,    0.005005,    0.006006,    0.007007,    0.008008,    0.009009,     0.01001,    0.011011,    0.012012,    0.013013,    0.014014,    0.015015,    0.016016,    0.017017,    0.018018,    0.019019,     0.02002,    0.021021,    0.022022,    0.023023,\n",
       "          0.024024,    0.025025,    0.026026,    0.027027,    0.028028,    0.029029,     0.03003,    0.031031,    0.032032,    0.033033,    0.034034,    0.035035,    0.036036,    0.037037,    0.038038,    0.039039,     0.04004,    0.041041,    0.042042,    0.043043,    0.044044,    0.045045,    0.046046,    0.047047,\n",
       "          0.048048,    0.049049,     0.05005,    0.051051,    0.052052,    0.053053,    0.054054,    0.055055,    0.056056,    0.057057,    0.058058,    0.059059,     0.06006,    0.061061,    0.062062,    0.063063,    0.064064,    0.065065,    0.066066,    0.067067,    0.068068,    0.069069,     0.07007,    0.071071,\n",
       "          0.072072,    0.073073,    0.074074,    0.075075,    0.076076,    0.077077,    0.078078,    0.079079,     0.08008,    0.081081,    0.082082,    0.083083,    0.084084,    0.085085,    0.086086,    0.087087,    0.088088,    0.089089,     0.09009,    0.091091,    0.092092,    0.093093,    0.094094,    0.095095,\n",
       "          0.096096,    0.097097,    0.098098,    0.099099,      0.1001,      0.1011,      0.1021,      0.1031,      0.1041,     0.10511,     0.10611,     0.10711,     0.10811,     0.10911,     0.11011,     0.11111,     0.11211,     0.11311,     0.11411,     0.11512,     0.11612,     0.11712,     0.11812,     0.11912,\n",
       "           0.12012,     0.12112,     0.12212,     0.12312,     0.12412,     0.12513,     0.12613,     0.12713,     0.12813,     0.12913,     0.13013,     0.13113,     0.13213,     0.13313,     0.13413,     0.13514,     0.13614,     0.13714,     0.13814,     0.13914,     0.14014,     0.14114,     0.14214,     0.14314,\n",
       "           0.14414,     0.14515,     0.14615,     0.14715,     0.14815,     0.14915,     0.15015,     0.15115,     0.15215,     0.15315,     0.15415,     0.15516,     0.15616,     0.15716,     0.15816,     0.15916,     0.16016,     0.16116,     0.16216,     0.16316,     0.16416,     0.16517,     0.16617,     0.16717,\n",
       "           0.16817,     0.16917,     0.17017,     0.17117,     0.17217,     0.17317,     0.17417,     0.17518,     0.17618,     0.17718,     0.17818,     0.17918,     0.18018,     0.18118,     0.18218,     0.18318,     0.18418,     0.18519,     0.18619,     0.18719,     0.18819,     0.18919,     0.19019,     0.19119,\n",
       "           0.19219,     0.19319,     0.19419,      0.1952,      0.1962,      0.1972,      0.1982,      0.1992,      0.2002,      0.2012,      0.2022,      0.2032,      0.2042,     0.20521,     0.20621,     0.20721,     0.20821,     0.20921,     0.21021,     0.21121,     0.21221,     0.21321,     0.21421,     0.21522,\n",
       "           0.21622,     0.21722,     0.21822,     0.21922,     0.22022,     0.22122,     0.22222,     0.22322,     0.22422,     0.22523,     0.22623,     0.22723,     0.22823,     0.22923,     0.23023,     0.23123,     0.23223,     0.23323,     0.23423,     0.23524,     0.23624,     0.23724,     0.23824,     0.23924,\n",
       "           0.24024,     0.24124,     0.24224,     0.24324,     0.24424,     0.24525,     0.24625,     0.24725,     0.24825,     0.24925,     0.25025,     0.25125,     0.25225,     0.25325,     0.25425,     0.25526,     0.25626,     0.25726,     0.25826,     0.25926,     0.26026,     0.26126,     0.26226,     0.26326,\n",
       "           0.26426,     0.26527,     0.26627,     0.26727,     0.26827,     0.26927,     0.27027,     0.27127,     0.27227,     0.27327,     0.27427,     0.27528,     0.27628,     0.27728,     0.27828,     0.27928,     0.28028,     0.28128,     0.28228,     0.28328,     0.28428,     0.28529,     0.28629,     0.28729,\n",
       "           0.28829,     0.28929,     0.29029,     0.29129,     0.29229,     0.29329,     0.29429,      0.2953,      0.2963,      0.2973,      0.2983,      0.2993,      0.3003,      0.3013,      0.3023,      0.3033,      0.3043,     0.30531,     0.30631,     0.30731,     0.30831,     0.30931,     0.31031,     0.31131,\n",
       "           0.31231,     0.31331,     0.31431,     0.31532,     0.31632,     0.31732,     0.31832,     0.31932,     0.32032,     0.32132,     0.32232,     0.32332,     0.32432,     0.32533,     0.32633,     0.32733,     0.32833,     0.32933,     0.33033,     0.33133,     0.33233,     0.33333,     0.33433,     0.33534,\n",
       "           0.33634,     0.33734,     0.33834,     0.33934,     0.34034,     0.34134,     0.34234,     0.34334,     0.34434,     0.34535,     0.34635,     0.34735,     0.34835,     0.34935,     0.35035,     0.35135,     0.35235,     0.35335,     0.35435,     0.35536,     0.35636,     0.35736,     0.35836,     0.35936,\n",
       "           0.36036,     0.36136,     0.36236,     0.36336,     0.36436,     0.36537,     0.36637,     0.36737,     0.36837,     0.36937,     0.37037,     0.37137,     0.37237,     0.37337,     0.37437,     0.37538,     0.37638,     0.37738,     0.37838,     0.37938,     0.38038,     0.38138,     0.38238,     0.38338,\n",
       "           0.38438,     0.38539,     0.38639,     0.38739,     0.38839,     0.38939,     0.39039,     0.39139,     0.39239,     0.39339,     0.39439,      0.3954,      0.3964,      0.3974,      0.3984,      0.3994,      0.4004,      0.4014,      0.4024,      0.4034,      0.4044,     0.40541,     0.40641,     0.40741,\n",
       "           0.40841,     0.40941,     0.41041,     0.41141,     0.41241,     0.41341,     0.41441,     0.41542,     0.41642,     0.41742,     0.41842,     0.41942,     0.42042,     0.42142,     0.42242,     0.42342,     0.42442,     0.42543,     0.42643,     0.42743,     0.42843,     0.42943,     0.43043,     0.43143,\n",
       "           0.43243,     0.43343,     0.43443,     0.43544,     0.43644,     0.43744,     0.43844,     0.43944,     0.44044,     0.44144,     0.44244,     0.44344,     0.44444,     0.44545,     0.44645,     0.44745,     0.44845,     0.44945,     0.45045,     0.45145,     0.45245,     0.45345,     0.45445,     0.45546,\n",
       "           0.45646,     0.45746,     0.45846,     0.45946,     0.46046,     0.46146,     0.46246,     0.46346,     0.46446,     0.46547,     0.46647,     0.46747,     0.46847,     0.46947,     0.47047,     0.47147,     0.47247,     0.47347,     0.47447,     0.47548,     0.47648,     0.47748,     0.47848,     0.47948,\n",
       "           0.48048,     0.48148,     0.48248,     0.48348,     0.48448,     0.48549,     0.48649,     0.48749,     0.48849,     0.48949,     0.49049,     0.49149,     0.49249,     0.49349,     0.49449,      0.4955,      0.4965,      0.4975,      0.4985,      0.4995,      0.5005,      0.5015,      0.5025,      0.5035,\n",
       "            0.5045,     0.50551,     0.50651,     0.50751,     0.50851,     0.50951,     0.51051,     0.51151,     0.51251,     0.51351,     0.51451,     0.51552,     0.51652,     0.51752,     0.51852,     0.51952,     0.52052,     0.52152,     0.52252,     0.52352,     0.52452,     0.52553,     0.52653,     0.52753,\n",
       "           0.52853,     0.52953,     0.53053,     0.53153,     0.53253,     0.53353,     0.53453,     0.53554,     0.53654,     0.53754,     0.53854,     0.53954,     0.54054,     0.54154,     0.54254,     0.54354,     0.54454,     0.54555,     0.54655,     0.54755,     0.54855,     0.54955,     0.55055,     0.55155,\n",
       "           0.55255,     0.55355,     0.55455,     0.55556,     0.55656,     0.55756,     0.55856,     0.55956,     0.56056,     0.56156,     0.56256,     0.56356,     0.56456,     0.56557,     0.56657,     0.56757,     0.56857,     0.56957,     0.57057,     0.57157,     0.57257,     0.57357,     0.57457,     0.57558,\n",
       "           0.57658,     0.57758,     0.57858,     0.57958,     0.58058,     0.58158,     0.58258,     0.58358,     0.58458,     0.58559,     0.58659,     0.58759,     0.58859,     0.58959,     0.59059,     0.59159,     0.59259,     0.59359,     0.59459,      0.5956,      0.5966,      0.5976,      0.5986,      0.5996,\n",
       "            0.6006,      0.6016,      0.6026,      0.6036,      0.6046,     0.60561,     0.60661,     0.60761,     0.60861,     0.60961,     0.61061,     0.61161,     0.61261,     0.61361,     0.61461,     0.61562,     0.61662,     0.61762,     0.61862,     0.61962,     0.62062,     0.62162,     0.62262,     0.62362,\n",
       "           0.62462,     0.62563,     0.62663,     0.62763,     0.62863,     0.62963,     0.63063,     0.63163,     0.63263,     0.63363,     0.63463,     0.63564,     0.63664,     0.63764,     0.63864,     0.63964,     0.64064,     0.64164,     0.64264,     0.64364,     0.64464,     0.64565,     0.64665,     0.64765,\n",
       "           0.64865,     0.64965,     0.65065,     0.65165,     0.65265,     0.65365,     0.65465,     0.65566,     0.65666,     0.65766,     0.65866,     0.65966,     0.66066,     0.66166,     0.66266,     0.66366,     0.66466,     0.66567,     0.66667,     0.66767,     0.66867,     0.66967,     0.67067,     0.67167,\n",
       "           0.67267,     0.67367,     0.67467,     0.67568,     0.67668,     0.67768,     0.67868,     0.67968,     0.68068,     0.68168,     0.68268,     0.68368,     0.68468,     0.68569,     0.68669,     0.68769,     0.68869,     0.68969,     0.69069,     0.69169,     0.69269,     0.69369,     0.69469,      0.6957,\n",
       "            0.6967,      0.6977,      0.6987,      0.6997,      0.7007,      0.7017,      0.7027,      0.7037,      0.7047,     0.70571,     0.70671,     0.70771,     0.70871,     0.70971,     0.71071,     0.71171,     0.71271,     0.71371,     0.71471,     0.71572,     0.71672,     0.71772,     0.71872,     0.71972,\n",
       "           0.72072,     0.72172,     0.72272,     0.72372,     0.72472,     0.72573,     0.72673,     0.72773,     0.72873,     0.72973,     0.73073,     0.73173,     0.73273,     0.73373,     0.73473,     0.73574,     0.73674,     0.73774,     0.73874,     0.73974,     0.74074,     0.74174,     0.74274,     0.74374,\n",
       "           0.74474,     0.74575,     0.74675,     0.74775,     0.74875,     0.74975,     0.75075,     0.75175,     0.75275,     0.75375,     0.75475,     0.75576,     0.75676,     0.75776,     0.75876,     0.75976,     0.76076,     0.76176,     0.76276,     0.76376,     0.76476,     0.76577,     0.76677,     0.76777,\n",
       "           0.76877,     0.76977,     0.77077,     0.77177,     0.77277,     0.77377,     0.77477,     0.77578,     0.77678,     0.77778,     0.77878,     0.77978,     0.78078,     0.78178,     0.78278,     0.78378,     0.78478,     0.78579,     0.78679,     0.78779,     0.78879,     0.78979,     0.79079,     0.79179,\n",
       "           0.79279,     0.79379,     0.79479,      0.7958,      0.7968,      0.7978,      0.7988,      0.7998,      0.8008,      0.8018,      0.8028,      0.8038,      0.8048,     0.80581,     0.80681,     0.80781,     0.80881,     0.80981,     0.81081,     0.81181,     0.81281,     0.81381,     0.81481,     0.81582,\n",
       "           0.81682,     0.81782,     0.81882,     0.81982,     0.82082,     0.82182,     0.82282,     0.82382,     0.82482,     0.82583,     0.82683,     0.82783,     0.82883,     0.82983,     0.83083,     0.83183,     0.83283,     0.83383,     0.83483,     0.83584,     0.83684,     0.83784,     0.83884,     0.83984,\n",
       "           0.84084,     0.84184,     0.84284,     0.84384,     0.84484,     0.84585,     0.84685,     0.84785,     0.84885,     0.84985,     0.85085,     0.85185,     0.85285,     0.85385,     0.85485,     0.85586,     0.85686,     0.85786,     0.85886,     0.85986,     0.86086,     0.86186,     0.86286,     0.86386,\n",
       "           0.86486,     0.86587,     0.86687,     0.86787,     0.86887,     0.86987,     0.87087,     0.87187,     0.87287,     0.87387,     0.87487,     0.87588,     0.87688,     0.87788,     0.87888,     0.87988,     0.88088,     0.88188,     0.88288,     0.88388,     0.88488,     0.88589,     0.88689,     0.88789,\n",
       "           0.88889,     0.88989,     0.89089,     0.89189,     0.89289,     0.89389,     0.89489,      0.8959,      0.8969,      0.8979,      0.8989,      0.8999,      0.9009,      0.9019,      0.9029,      0.9039,      0.9049,     0.90591,     0.90691,     0.90791,     0.90891,     0.90991,     0.91091,     0.91191,\n",
       "           0.91291,     0.91391,     0.91491,     0.91592,     0.91692,     0.91792,     0.91892,     0.91992,     0.92092,     0.92192,     0.92292,     0.92392,     0.92492,     0.92593,     0.92693,     0.92793,     0.92893,     0.92993,     0.93093,     0.93193,     0.93293,     0.93393,     0.93493,     0.93594,\n",
       "           0.93694,     0.93794,     0.93894,     0.93994,     0.94094,     0.94194,     0.94294,     0.94394,     0.94494,     0.94595,     0.94695,     0.94795,     0.94895,     0.94995,     0.95095,     0.95195,     0.95295,     0.95395,     0.95495,     0.95596,     0.95696,     0.95796,     0.95896,     0.95996,\n",
       "           0.96096,     0.96196,     0.96296,     0.96396,     0.96496,     0.96597,     0.96697,     0.96797,     0.96897,     0.96997,     0.97097,     0.97197,     0.97297,     0.97397,     0.97497,     0.97598,     0.97698,     0.97798,     0.97898,     0.97998,     0.98098,     0.98198,     0.98298,     0.98398,\n",
       "           0.98498,     0.98599,     0.98699,     0.98799,     0.98899,     0.98999,     0.99099,     0.99199,     0.99299,     0.99399,     0.99499,       0.996,       0.997,       0.998,       0.999,           1]), array([[    0.36153,     0.36153,     0.47911,     0.54553,     0.59539,     0.62802,     0.65354,     0.68514,     0.71384,     0.73322,      0.7515,      0.7612,      0.7708,     0.78361,     0.78826,     0.79376,     0.79799,     0.80342,     0.81007,     0.81651,     0.82122,     0.82526,     0.82883,\n",
       "            0.82969,     0.83221,     0.83541,     0.83693,     0.83866,     0.84023,     0.84275,     0.84443,     0.84517,     0.84709,     0.84884,     0.85124,      0.8518,       0.855,      0.8555,     0.85705,     0.85784,     0.85974,     0.86051,     0.86287,     0.86447,     0.86815,     0.87037,\n",
       "            0.87104,     0.87309,     0.87529,     0.87569,     0.87704,     0.87772,     0.87832,     0.87848,     0.87864,      0.8788,     0.87896,     0.87912,     0.87987,     0.88031,     0.88072,     0.88112,     0.88153,     0.88339,     0.88413,     0.88456,     0.88555,     0.88595,      0.8863,\n",
       "            0.88658,     0.88682,     0.88706,     0.88743,     0.88889,     0.88926,     0.88962,      0.8906,     0.89079,     0.89098,     0.89117,     0.89137,     0.89155,     0.89173,     0.89191,     0.89209,     0.89254,     0.89313,     0.89341,     0.89369,     0.89504,     0.89608,     0.89562,\n",
       "            0.89618,     0.89642,     0.89666,      0.8969,     0.89711,     0.89729,     0.89747,     0.89765,     0.89783,      0.9005,     0.90111,     0.90413,     0.90482,     0.90503,     0.90524,     0.90545,     0.90705,     0.90749,     0.90782,      0.9086,      0.9099,     0.91031,     0.91068,\n",
       "            0.91089,     0.91109,      0.9113,      0.9115,     0.91246,     0.91258,     0.91269,     0.91281,     0.91292,     0.91304,     0.91315,      0.9133,     0.91359,     0.91389,     0.91395,     0.91318,     0.91387,     0.91412,      0.9143,     0.91448,     0.91466,     0.91484,     0.91511,\n",
       "            0.91537,     0.91564,     0.91594,     0.91625,     0.91656,     0.91743,      0.9176,     0.91774,     0.91788,     0.91802,     0.91816,     0.91829,     0.91844,     0.91858,     0.91873,     0.91887,     0.91902,     0.91916,     0.91941,     0.91975,      0.9201,     0.92038,     0.92066,\n",
       "            0.92094,     0.92081,     0.92057,     0.92032,     0.92008,     0.92174,     0.92193,     0.92211,     0.92229,     0.92248,     0.92237,     0.92215,     0.92241,     0.92231,     0.92221,     0.92211,     0.92201,     0.92191,     0.92181,     0.92171,     0.92162,     0.92152,     0.92153,\n",
       "            0.92202,     0.92216,     0.92171,     0.92125,     0.92068,     0.92029,     0.92054,      0.9208,     0.92105,     0.92118,     0.92126,     0.92134,     0.92142,      0.9215,     0.92158,     0.92166,     0.92174,     0.92182,      0.9219,     0.92198,     0.92176,     0.92118,     0.92127,\n",
       "            0.92173,     0.92294,     0.92317,      0.9234,     0.92363,     0.92343,     0.92311,     0.92279,      0.9226,     0.92256,     0.92251,     0.92247,     0.92242,     0.92237,     0.92233,     0.92228,     0.92224,     0.92219,     0.92215,      0.9221,     0.92206,     0.92201,     0.92196,\n",
       "            0.92192,     0.92187,     0.92183,     0.92178,     0.92174,     0.92169,     0.92165,      0.9216,     0.92141,     0.92093,     0.92054,     0.92075,     0.92096,     0.92117,     0.92138,     0.92236,     0.92267,     0.92298,     0.92329,      0.9236,     0.92391,     0.92448,     0.92466,\n",
       "            0.92495,     0.92558,     0.92659,     0.92684,     0.92696,     0.92708,      0.9272,     0.92733,     0.92745,     0.92757,     0.92768,     0.92776,     0.92785,     0.92794,     0.92802,     0.92811,     0.92819,     0.92828,     0.92837,     0.92845,     0.92854,     0.92894,      0.9294,\n",
       "            0.92867,     0.92852,     0.92865,     0.92878,     0.92891,     0.92904,     0.92917,      0.9293,     0.92992,     0.93033,     0.93041,      0.9305,     0.93058,     0.93066,     0.93074,     0.93083,     0.93091,     0.93099,     0.93107,     0.93116,     0.93116,     0.93104,     0.93092,\n",
       "            0.93081,     0.93069,     0.93057,     0.93045,     0.93033,     0.93021,     0.93019,     0.93033,     0.93047,     0.93062,     0.93076,      0.9309,     0.93104,     0.93128,     0.93156,     0.93183,     0.93207,     0.93225,     0.93243,     0.93261,      0.9328,     0.93296,     0.93306,\n",
       "            0.93316,     0.93326,     0.93336,     0.93346,     0.93356,     0.93366,     0.93377,     0.93387,     0.93356,     0.93325,     0.93293,     0.93284,      0.9329,     0.93297,     0.93303,      0.9331,     0.93317,     0.93323,      0.9333,     0.93337,     0.93343,      0.9335,     0.93356,\n",
       "            0.93363,      0.9337,     0.93385,     0.93413,      0.9344,     0.93467,     0.93462,     0.93456,     0.93451,     0.93446,      0.9344,     0.93435,     0.93429,     0.93424,     0.93418,     0.93413,     0.93408,     0.93402,     0.93397,     0.93391,     0.93386,     0.93381,     0.93375,\n",
       "             0.9337,     0.93364,     0.93364,     0.93378,     0.93392,     0.93407,     0.93421,     0.93435,     0.93449,     0.93443,     0.93426,     0.93409,     0.93392,     0.93375,     0.93358,     0.93345,      0.9334,     0.93336,     0.93331,     0.93326,     0.93321,     0.93316,     0.93312,\n",
       "            0.93307,     0.93302,     0.93297,     0.93292,     0.93288,     0.93283,     0.93278,     0.93273,     0.93268,     0.93264,     0.93259,     0.93254,     0.93249,     0.93244,      0.9324,     0.93262,     0.93288,     0.93314,     0.93341,     0.93373,     0.93405,     0.93434,     0.93454,\n",
       "            0.93475,     0.93495,     0.93516,     0.93504,     0.93476,     0.93449,     0.93421,     0.93384,     0.93343,     0.93305,     0.93289,     0.93273,     0.93257,     0.93242,     0.93226,      0.9321,       0.932,     0.93208,     0.93215,     0.93223,      0.9323,     0.93238,     0.93246,\n",
       "            0.93253,     0.93261,     0.93268,     0.93276,     0.93284,     0.93291,     0.93298,     0.93306,     0.93313,      0.9332,     0.93327,     0.93334,     0.93341,     0.93348,     0.93355,     0.93362,     0.93369,     0.93376,     0.93383,     0.93392,     0.93405,     0.93417,     0.93429,\n",
       "            0.93441,     0.93453,     0.93466,     0.93478,     0.93461,     0.93423,     0.93386,     0.93396,     0.93428,     0.93461,     0.93571,     0.93579,     0.93587,     0.93595,     0.93604,     0.93612,      0.9362,     0.93628,     0.93636,     0.93644,     0.93653,     0.93661,     0.93686,\n",
       "            0.93711,     0.93735,     0.93763,     0.93812,     0.93832,     0.93742,     0.93736,     0.93731,     0.93725,     0.93719,     0.93713,     0.93707,     0.93701,     0.93695,     0.93689,     0.93684,     0.93678,     0.93672,     0.93666,      0.9366,     0.93654,     0.93648,     0.93642,\n",
       "            0.93636,     0.93644,     0.93658,     0.93672,     0.93686,       0.937,     0.93714,     0.93729,      0.9372,     0.93708,     0.93695,     0.93683,      0.9367,     0.93658,     0.93646,     0.93633,     0.93623,     0.93648,     0.93672,     0.93697,     0.93712,     0.93674,     0.93637,\n",
       "            0.93614,     0.93639,     0.93664,     0.93688,     0.93701,     0.93688,     0.93676,     0.93663,     0.93651,     0.93638,     0.93626,     0.93613,     0.93601,      0.9349,     0.93498,     0.93506,     0.93514,     0.93523,     0.93531,     0.93539,     0.93547,     0.93556,     0.93564,\n",
       "            0.93572,      0.9358,     0.93591,     0.93601,     0.93612,     0.93622,     0.93632,     0.93643,     0.93653,     0.93664,     0.93674,     0.93676,     0.93673,     0.93669,     0.93665,     0.93661,     0.93657,     0.93653,     0.93649,     0.93645,     0.93641,     0.93637,     0.93633,\n",
       "            0.93629,     0.93625,     0.93621,     0.93617,     0.93613,     0.93609,     0.93605,     0.93601,     0.93597,     0.93593,     0.93589,     0.93585,     0.93581,     0.93577,     0.93573,     0.93569,     0.93525,     0.93468,     0.93454,      0.9345,     0.93445,     0.93441,     0.93437,\n",
       "            0.93432,     0.93428,     0.93423,     0.93419,     0.93414,      0.9341,     0.93405,     0.93401,     0.93396,     0.93392,     0.93388,     0.93383,     0.93379,     0.93374,      0.9337,     0.93365,     0.93361,     0.93356,     0.93352,     0.93347,     0.93329,      0.9331,     0.93291,\n",
       "            0.93272,     0.93254,     0.93226,     0.93124,     0.93112,     0.93101,     0.93089,     0.93078,     0.93067,     0.93055,     0.93044,     0.93032,     0.93021,     0.92973,     0.92917,     0.92957,     0.92997,     0.93011,     0.93025,     0.93038,     0.93051,     0.93065,     0.93078,\n",
       "            0.93091,     0.93112,     0.93137,     0.93162,     0.93187,       0.932,     0.93209,     0.93217,     0.93226,     0.93235,     0.93244,     0.93252,     0.93261,      0.9327,     0.93278,     0.93287,      0.9329,     0.93287,     0.93284,     0.93282,     0.93279,     0.93276,     0.93273,\n",
       "            0.93271,     0.93268,     0.93265,     0.93262,      0.9326,     0.93257,     0.93254,     0.93251,     0.93249,     0.93246,     0.93243,      0.9324,     0.93237,     0.93235,     0.93232,     0.93229,     0.93226,     0.93224,     0.93221,     0.93218,     0.93215,     0.93213,      0.9321,\n",
       "            0.93207,     0.93204,     0.93202,     0.93199,     0.93196,     0.93193,      0.9319,     0.93188,     0.93185,     0.93182,     0.93181,      0.9328,     0.93347,     0.93384,     0.93398,     0.93413,     0.93427,     0.93441,     0.93456,      0.9347,     0.93452,     0.93423,     0.93395,\n",
       "            0.93366,     0.93337,     0.93308,     0.93279,     0.93251,     0.93234,     0.93219,     0.93204,     0.93188,     0.93173,     0.93157,     0.93142,     0.93129,     0.93117,     0.93106,     0.93094,     0.93083,     0.93071,      0.9306,     0.93048,     0.93036,     0.93025,      0.9301,\n",
       "            0.92994,     0.92979,     0.92963,     0.92948,     0.92932,     0.92917,     0.92902,     0.92887,     0.92873,     0.92858,     0.92844,     0.92829,     0.92815,       0.928,     0.92804,     0.92814,     0.92824,     0.92834,     0.92845,     0.92855,     0.92865,     0.92875,     0.92885,\n",
       "            0.92895,     0.92856,     0.92818,     0.92777,     0.92719,      0.9267,     0.92696,     0.92721,     0.92746,     0.92602,     0.92552,     0.92572,     0.92593,     0.92613,     0.92633,     0.92616,     0.92593,     0.92569,     0.92546,     0.92522,     0.92529,     0.92537,     0.92545,\n",
       "            0.92554,     0.92562,      0.9257,     0.92578,     0.92586,     0.92594,     0.92602,      0.9261,     0.92619,     0.92597,     0.92568,     0.92539,     0.92509,     0.92495,     0.92482,      0.9247,     0.92457,     0.92445,     0.92432,      0.9242,     0.92407,     0.92395,     0.92379,\n",
       "            0.92361,     0.92343,     0.92325,     0.92306,     0.92288,     0.92276,     0.92282,     0.92288,     0.92294,       0.923,     0.92306,     0.92312,     0.92318,     0.92324,      0.9233,     0.92336,     0.92342,     0.92348,     0.92354,      0.9236,     0.92366,     0.92372,     0.92354,\n",
       "            0.92324,     0.92294,     0.92265,     0.92132,     0.92098,     0.92064,      0.9203,     0.91996,     0.91962,     0.91928,     0.91854,     0.91735,     0.91655,     0.91615,     0.91575,     0.91618,     0.91641,     0.91615,     0.91588,     0.91561,     0.91527,     0.91467,      0.9139,\n",
       "            0.91287,     0.91226,     0.91166,     0.91105,     0.91052,     0.91011,     0.90971,     0.90893,     0.90705,     0.90695,     0.90685,     0.90675,     0.90665,     0.90654,     0.90644,     0.90634,     0.90624,     0.90614,     0.90603,     0.90593,      0.9058,     0.90565,     0.90551,\n",
       "            0.90536,     0.90522,     0.90507,     0.90493,     0.90478,     0.90496,     0.90546,     0.90439,     0.90312,     0.90282,     0.90251,      0.9022,     0.90084,     0.90062,     0.90039,     0.90017,     0.89994,     0.89971,     0.89745,     0.89585,     0.89535,     0.89485,     0.89423,\n",
       "             0.8936,      0.8933,     0.89303,     0.89275,     0.89247,     0.89214,     0.89178,     0.89142,      0.8897,     0.88843,     0.88716,     0.88561,     0.88404,     0.88309,     0.88266,     0.88223,     0.88061,     0.87975,     0.87823,     0.87761,     0.87709,     0.87657,     0.87571,\n",
       "            0.87497,     0.87559,     0.87295,     0.86901,     0.86585,     0.86601,     0.86483,     0.86348,     0.85964,     0.85897,     0.85742,     0.85641,     0.85505,     0.85257,     0.85188,     0.84823,     0.84491,      0.8466,     0.84195,     0.83433,     0.83151,      0.8296,     0.82685,\n",
       "            0.82589,     0.81805,      0.8146,      0.8078,     0.80334,     0.79588,     0.78833,     0.78069,     0.77449,      0.7726,     0.76346,      0.7555,     0.74583,     0.73833,     0.72602,     0.72088,      0.7107,     0.68985,     0.68183,     0.67186,     0.64208,     0.61774,     0.60372,\n",
       "             0.5728,     0.55569,     0.51807,     0.48082,     0.42392,     0.37901,      0.3286,     0.27495,     0.24355,      0.1977,     0.17721,     0.13139,     0.11303,    0.098043,    0.071383,    0.047901,    0.027857,    0.015552,   0.0097476,           0,           0,           0,           0,\n",
       "                  0,           0,           0,           0,           0,           0,           0,           0,           0,           0,           0]]), 'Confidence', 'F1'], [array([          0,    0.001001,    0.002002,    0.003003,    0.004004,    0.005005,    0.006006,    0.007007,    0.008008,    0.009009,     0.01001,    0.011011,    0.012012,    0.013013,    0.014014,    0.015015,    0.016016,    0.017017,    0.018018,    0.019019,     0.02002,    0.021021,    0.022022,    0.023023,\n",
       "          0.024024,    0.025025,    0.026026,    0.027027,    0.028028,    0.029029,     0.03003,    0.031031,    0.032032,    0.033033,    0.034034,    0.035035,    0.036036,    0.037037,    0.038038,    0.039039,     0.04004,    0.041041,    0.042042,    0.043043,    0.044044,    0.045045,    0.046046,    0.047047,\n",
       "          0.048048,    0.049049,     0.05005,    0.051051,    0.052052,    0.053053,    0.054054,    0.055055,    0.056056,    0.057057,    0.058058,    0.059059,     0.06006,    0.061061,    0.062062,    0.063063,    0.064064,    0.065065,    0.066066,    0.067067,    0.068068,    0.069069,     0.07007,    0.071071,\n",
       "          0.072072,    0.073073,    0.074074,    0.075075,    0.076076,    0.077077,    0.078078,    0.079079,     0.08008,    0.081081,    0.082082,    0.083083,    0.084084,    0.085085,    0.086086,    0.087087,    0.088088,    0.089089,     0.09009,    0.091091,    0.092092,    0.093093,    0.094094,    0.095095,\n",
       "          0.096096,    0.097097,    0.098098,    0.099099,      0.1001,      0.1011,      0.1021,      0.1031,      0.1041,     0.10511,     0.10611,     0.10711,     0.10811,     0.10911,     0.11011,     0.11111,     0.11211,     0.11311,     0.11411,     0.11512,     0.11612,     0.11712,     0.11812,     0.11912,\n",
       "           0.12012,     0.12112,     0.12212,     0.12312,     0.12412,     0.12513,     0.12613,     0.12713,     0.12813,     0.12913,     0.13013,     0.13113,     0.13213,     0.13313,     0.13413,     0.13514,     0.13614,     0.13714,     0.13814,     0.13914,     0.14014,     0.14114,     0.14214,     0.14314,\n",
       "           0.14414,     0.14515,     0.14615,     0.14715,     0.14815,     0.14915,     0.15015,     0.15115,     0.15215,     0.15315,     0.15415,     0.15516,     0.15616,     0.15716,     0.15816,     0.15916,     0.16016,     0.16116,     0.16216,     0.16316,     0.16416,     0.16517,     0.16617,     0.16717,\n",
       "           0.16817,     0.16917,     0.17017,     0.17117,     0.17217,     0.17317,     0.17417,     0.17518,     0.17618,     0.17718,     0.17818,     0.17918,     0.18018,     0.18118,     0.18218,     0.18318,     0.18418,     0.18519,     0.18619,     0.18719,     0.18819,     0.18919,     0.19019,     0.19119,\n",
       "           0.19219,     0.19319,     0.19419,      0.1952,      0.1962,      0.1972,      0.1982,      0.1992,      0.2002,      0.2012,      0.2022,      0.2032,      0.2042,     0.20521,     0.20621,     0.20721,     0.20821,     0.20921,     0.21021,     0.21121,     0.21221,     0.21321,     0.21421,     0.21522,\n",
       "           0.21622,     0.21722,     0.21822,     0.21922,     0.22022,     0.22122,     0.22222,     0.22322,     0.22422,     0.22523,     0.22623,     0.22723,     0.22823,     0.22923,     0.23023,     0.23123,     0.23223,     0.23323,     0.23423,     0.23524,     0.23624,     0.23724,     0.23824,     0.23924,\n",
       "           0.24024,     0.24124,     0.24224,     0.24324,     0.24424,     0.24525,     0.24625,     0.24725,     0.24825,     0.24925,     0.25025,     0.25125,     0.25225,     0.25325,     0.25425,     0.25526,     0.25626,     0.25726,     0.25826,     0.25926,     0.26026,     0.26126,     0.26226,     0.26326,\n",
       "           0.26426,     0.26527,     0.26627,     0.26727,     0.26827,     0.26927,     0.27027,     0.27127,     0.27227,     0.27327,     0.27427,     0.27528,     0.27628,     0.27728,     0.27828,     0.27928,     0.28028,     0.28128,     0.28228,     0.28328,     0.28428,     0.28529,     0.28629,     0.28729,\n",
       "           0.28829,     0.28929,     0.29029,     0.29129,     0.29229,     0.29329,     0.29429,      0.2953,      0.2963,      0.2973,      0.2983,      0.2993,      0.3003,      0.3013,      0.3023,      0.3033,      0.3043,     0.30531,     0.30631,     0.30731,     0.30831,     0.30931,     0.31031,     0.31131,\n",
       "           0.31231,     0.31331,     0.31431,     0.31532,     0.31632,     0.31732,     0.31832,     0.31932,     0.32032,     0.32132,     0.32232,     0.32332,     0.32432,     0.32533,     0.32633,     0.32733,     0.32833,     0.32933,     0.33033,     0.33133,     0.33233,     0.33333,     0.33433,     0.33534,\n",
       "           0.33634,     0.33734,     0.33834,     0.33934,     0.34034,     0.34134,     0.34234,     0.34334,     0.34434,     0.34535,     0.34635,     0.34735,     0.34835,     0.34935,     0.35035,     0.35135,     0.35235,     0.35335,     0.35435,     0.35536,     0.35636,     0.35736,     0.35836,     0.35936,\n",
       "           0.36036,     0.36136,     0.36236,     0.36336,     0.36436,     0.36537,     0.36637,     0.36737,     0.36837,     0.36937,     0.37037,     0.37137,     0.37237,     0.37337,     0.37437,     0.37538,     0.37638,     0.37738,     0.37838,     0.37938,     0.38038,     0.38138,     0.38238,     0.38338,\n",
       "           0.38438,     0.38539,     0.38639,     0.38739,     0.38839,     0.38939,     0.39039,     0.39139,     0.39239,     0.39339,     0.39439,      0.3954,      0.3964,      0.3974,      0.3984,      0.3994,      0.4004,      0.4014,      0.4024,      0.4034,      0.4044,     0.40541,     0.40641,     0.40741,\n",
       "           0.40841,     0.40941,     0.41041,     0.41141,     0.41241,     0.41341,     0.41441,     0.41542,     0.41642,     0.41742,     0.41842,     0.41942,     0.42042,     0.42142,     0.42242,     0.42342,     0.42442,     0.42543,     0.42643,     0.42743,     0.42843,     0.42943,     0.43043,     0.43143,\n",
       "           0.43243,     0.43343,     0.43443,     0.43544,     0.43644,     0.43744,     0.43844,     0.43944,     0.44044,     0.44144,     0.44244,     0.44344,     0.44444,     0.44545,     0.44645,     0.44745,     0.44845,     0.44945,     0.45045,     0.45145,     0.45245,     0.45345,     0.45445,     0.45546,\n",
       "           0.45646,     0.45746,     0.45846,     0.45946,     0.46046,     0.46146,     0.46246,     0.46346,     0.46446,     0.46547,     0.46647,     0.46747,     0.46847,     0.46947,     0.47047,     0.47147,     0.47247,     0.47347,     0.47447,     0.47548,     0.47648,     0.47748,     0.47848,     0.47948,\n",
       "           0.48048,     0.48148,     0.48248,     0.48348,     0.48448,     0.48549,     0.48649,     0.48749,     0.48849,     0.48949,     0.49049,     0.49149,     0.49249,     0.49349,     0.49449,      0.4955,      0.4965,      0.4975,      0.4985,      0.4995,      0.5005,      0.5015,      0.5025,      0.5035,\n",
       "            0.5045,     0.50551,     0.50651,     0.50751,     0.50851,     0.50951,     0.51051,     0.51151,     0.51251,     0.51351,     0.51451,     0.51552,     0.51652,     0.51752,     0.51852,     0.51952,     0.52052,     0.52152,     0.52252,     0.52352,     0.52452,     0.52553,     0.52653,     0.52753,\n",
       "           0.52853,     0.52953,     0.53053,     0.53153,     0.53253,     0.53353,     0.53453,     0.53554,     0.53654,     0.53754,     0.53854,     0.53954,     0.54054,     0.54154,     0.54254,     0.54354,     0.54454,     0.54555,     0.54655,     0.54755,     0.54855,     0.54955,     0.55055,     0.55155,\n",
       "           0.55255,     0.55355,     0.55455,     0.55556,     0.55656,     0.55756,     0.55856,     0.55956,     0.56056,     0.56156,     0.56256,     0.56356,     0.56456,     0.56557,     0.56657,     0.56757,     0.56857,     0.56957,     0.57057,     0.57157,     0.57257,     0.57357,     0.57457,     0.57558,\n",
       "           0.57658,     0.57758,     0.57858,     0.57958,     0.58058,     0.58158,     0.58258,     0.58358,     0.58458,     0.58559,     0.58659,     0.58759,     0.58859,     0.58959,     0.59059,     0.59159,     0.59259,     0.59359,     0.59459,      0.5956,      0.5966,      0.5976,      0.5986,      0.5996,\n",
       "            0.6006,      0.6016,      0.6026,      0.6036,      0.6046,     0.60561,     0.60661,     0.60761,     0.60861,     0.60961,     0.61061,     0.61161,     0.61261,     0.61361,     0.61461,     0.61562,     0.61662,     0.61762,     0.61862,     0.61962,     0.62062,     0.62162,     0.62262,     0.62362,\n",
       "           0.62462,     0.62563,     0.62663,     0.62763,     0.62863,     0.62963,     0.63063,     0.63163,     0.63263,     0.63363,     0.63463,     0.63564,     0.63664,     0.63764,     0.63864,     0.63964,     0.64064,     0.64164,     0.64264,     0.64364,     0.64464,     0.64565,     0.64665,     0.64765,\n",
       "           0.64865,     0.64965,     0.65065,     0.65165,     0.65265,     0.65365,     0.65465,     0.65566,     0.65666,     0.65766,     0.65866,     0.65966,     0.66066,     0.66166,     0.66266,     0.66366,     0.66466,     0.66567,     0.66667,     0.66767,     0.66867,     0.66967,     0.67067,     0.67167,\n",
       "           0.67267,     0.67367,     0.67467,     0.67568,     0.67668,     0.67768,     0.67868,     0.67968,     0.68068,     0.68168,     0.68268,     0.68368,     0.68468,     0.68569,     0.68669,     0.68769,     0.68869,     0.68969,     0.69069,     0.69169,     0.69269,     0.69369,     0.69469,      0.6957,\n",
       "            0.6967,      0.6977,      0.6987,      0.6997,      0.7007,      0.7017,      0.7027,      0.7037,      0.7047,     0.70571,     0.70671,     0.70771,     0.70871,     0.70971,     0.71071,     0.71171,     0.71271,     0.71371,     0.71471,     0.71572,     0.71672,     0.71772,     0.71872,     0.71972,\n",
       "           0.72072,     0.72172,     0.72272,     0.72372,     0.72472,     0.72573,     0.72673,     0.72773,     0.72873,     0.72973,     0.73073,     0.73173,     0.73273,     0.73373,     0.73473,     0.73574,     0.73674,     0.73774,     0.73874,     0.73974,     0.74074,     0.74174,     0.74274,     0.74374,\n",
       "           0.74474,     0.74575,     0.74675,     0.74775,     0.74875,     0.74975,     0.75075,     0.75175,     0.75275,     0.75375,     0.75475,     0.75576,     0.75676,     0.75776,     0.75876,     0.75976,     0.76076,     0.76176,     0.76276,     0.76376,     0.76476,     0.76577,     0.76677,     0.76777,\n",
       "           0.76877,     0.76977,     0.77077,     0.77177,     0.77277,     0.77377,     0.77477,     0.77578,     0.77678,     0.77778,     0.77878,     0.77978,     0.78078,     0.78178,     0.78278,     0.78378,     0.78478,     0.78579,     0.78679,     0.78779,     0.78879,     0.78979,     0.79079,     0.79179,\n",
       "           0.79279,     0.79379,     0.79479,      0.7958,      0.7968,      0.7978,      0.7988,      0.7998,      0.8008,      0.8018,      0.8028,      0.8038,      0.8048,     0.80581,     0.80681,     0.80781,     0.80881,     0.80981,     0.81081,     0.81181,     0.81281,     0.81381,     0.81481,     0.81582,\n",
       "           0.81682,     0.81782,     0.81882,     0.81982,     0.82082,     0.82182,     0.82282,     0.82382,     0.82482,     0.82583,     0.82683,     0.82783,     0.82883,     0.82983,     0.83083,     0.83183,     0.83283,     0.83383,     0.83483,     0.83584,     0.83684,     0.83784,     0.83884,     0.83984,\n",
       "           0.84084,     0.84184,     0.84284,     0.84384,     0.84484,     0.84585,     0.84685,     0.84785,     0.84885,     0.84985,     0.85085,     0.85185,     0.85285,     0.85385,     0.85485,     0.85586,     0.85686,     0.85786,     0.85886,     0.85986,     0.86086,     0.86186,     0.86286,     0.86386,\n",
       "           0.86486,     0.86587,     0.86687,     0.86787,     0.86887,     0.86987,     0.87087,     0.87187,     0.87287,     0.87387,     0.87487,     0.87588,     0.87688,     0.87788,     0.87888,     0.87988,     0.88088,     0.88188,     0.88288,     0.88388,     0.88488,     0.88589,     0.88689,     0.88789,\n",
       "           0.88889,     0.88989,     0.89089,     0.89189,     0.89289,     0.89389,     0.89489,      0.8959,      0.8969,      0.8979,      0.8989,      0.8999,      0.9009,      0.9019,      0.9029,      0.9039,      0.9049,     0.90591,     0.90691,     0.90791,     0.90891,     0.90991,     0.91091,     0.91191,\n",
       "           0.91291,     0.91391,     0.91491,     0.91592,     0.91692,     0.91792,     0.91892,     0.91992,     0.92092,     0.92192,     0.92292,     0.92392,     0.92492,     0.92593,     0.92693,     0.92793,     0.92893,     0.92993,     0.93093,     0.93193,     0.93293,     0.93393,     0.93493,     0.93594,\n",
       "           0.93694,     0.93794,     0.93894,     0.93994,     0.94094,     0.94194,     0.94294,     0.94394,     0.94494,     0.94595,     0.94695,     0.94795,     0.94895,     0.94995,     0.95095,     0.95195,     0.95295,     0.95395,     0.95495,     0.95596,     0.95696,     0.95796,     0.95896,     0.95996,\n",
       "           0.96096,     0.96196,     0.96296,     0.96396,     0.96496,     0.96597,     0.96697,     0.96797,     0.96897,     0.96997,     0.97097,     0.97197,     0.97297,     0.97397,     0.97497,     0.97598,     0.97698,     0.97798,     0.97898,     0.97998,     0.98098,     0.98198,     0.98298,     0.98398,\n",
       "           0.98498,     0.98599,     0.98699,     0.98799,     0.98899,     0.98999,     0.99099,     0.99199,     0.99299,     0.99399,     0.99499,       0.996,       0.997,       0.998,       0.999,           1]), array([[    0.22085,     0.22085,     0.31564,     0.37595,     0.42501,      0.4595,     0.48784,     0.52392,     0.55824,     0.58232,     0.60572,     0.61843,     0.63119,     0.64856,     0.65495,     0.66259,      0.6685,     0.67616,     0.68563,     0.69492,     0.70176,     0.70768,     0.71294,\n",
       "            0.71423,     0.71796,     0.72274,     0.72502,     0.72762,        0.73,      0.7338,     0.73636,     0.73748,      0.7404,     0.74308,     0.74677,     0.74764,     0.75258,     0.75336,     0.75576,       0.757,     0.75996,     0.76116,     0.76486,     0.76738,      0.7732,     0.77673,\n",
       "            0.77779,     0.78108,      0.7846,     0.78525,     0.78741,      0.7885,     0.78948,     0.78974,        0.79,     0.79025,     0.79051,     0.79077,     0.79198,      0.7927,     0.79337,     0.79402,     0.79468,     0.79772,     0.79891,     0.79961,     0.80124,     0.80189,     0.80247,\n",
       "            0.80293,     0.80332,     0.80372,     0.80432,     0.80673,     0.80733,     0.80794,     0.80955,     0.80986,     0.81018,      0.8105,     0.81081,     0.81111,     0.81141,     0.81171,     0.81201,     0.81275,     0.81374,      0.8142,     0.81467,     0.81691,     0.81865,     0.81889,\n",
       "            0.82023,     0.82063,     0.82104,     0.82144,     0.82179,     0.82209,      0.8224,      0.8227,     0.82301,      0.8275,     0.82852,     0.83364,     0.83482,     0.83518,     0.83554,      0.8359,     0.83862,     0.83938,     0.83994,     0.84129,     0.84352,     0.84421,     0.84485,\n",
       "            0.84521,     0.84556,     0.84592,     0.84627,     0.84793,     0.84813,     0.84833,     0.84853,     0.84872,     0.84892,     0.84912,     0.84937,     0.84988,      0.8504,     0.85076,     0.85056,      0.8519,     0.85233,     0.85264,     0.85296,     0.85327,     0.85358,     0.85405,\n",
       "            0.85451,     0.85498,      0.8555,     0.85605,     0.85659,      0.8581,      0.8584,     0.85864,     0.85889,     0.85913,     0.85937,     0.85962,     0.85987,     0.86012,     0.86038,     0.86063,     0.86088,     0.86114,     0.86157,     0.86218,     0.86279,     0.86329,     0.86378,\n",
       "            0.86427,     0.86433,     0.86427,     0.86422,     0.86416,     0.86728,     0.86761,     0.86793,     0.86825,     0.86858,     0.86879,     0.86962,     0.87019,     0.87016,     0.87014,     0.87012,     0.87009,     0.87007,     0.87005,     0.87003,        0.87,     0.86998,     0.87014,\n",
       "            0.87101,     0.87152,     0.87142,     0.87132,     0.87119,     0.87119,     0.87164,      0.8721,     0.87255,     0.87279,     0.87294,     0.87308,     0.87322,     0.87337,     0.87351,     0.87366,      0.8738,     0.87394,     0.87409,     0.87423,     0.87425,     0.87412,     0.87461,\n",
       "            0.87544,     0.87761,     0.87803,     0.87845,     0.87887,      0.8789,     0.87883,     0.87877,     0.87873,     0.87872,     0.87871,      0.8787,     0.87869,     0.87868,     0.87867,     0.87866,     0.87865,     0.87864,     0.87863,     0.87862,     0.87861,      0.8786,     0.87859,\n",
       "            0.87858,     0.87857,     0.87856,     0.87855,     0.87854,     0.87853,     0.87852,     0.87851,     0.87847,     0.87837,     0.87833,     0.87871,      0.8791,     0.87948,     0.87987,     0.88165,     0.88222,     0.88279,     0.88335,     0.88392,     0.88449,     0.88553,      0.8865,\n",
       "            0.88814,     0.88929,     0.89116,     0.89163,     0.89185,     0.89208,      0.8923,     0.89253,     0.89275,     0.89298,     0.89318,     0.89334,      0.8935,     0.89366,     0.89382,     0.89398,     0.89414,      0.8943,     0.89445,     0.89461,     0.89477,     0.89553,     0.89653,\n",
       "             0.8964,     0.89652,     0.89676,       0.897,     0.89725,     0.89749,     0.89773,     0.89798,     0.89913,      0.8999,     0.90006,     0.90021,     0.90037,     0.90052,     0.90068,     0.90083,     0.90099,     0.90114,      0.9013,     0.90145,     0.90154,     0.90151,     0.90149,\n",
       "            0.90147,     0.90145,     0.90143,     0.90141,     0.90139,     0.90137,     0.90145,     0.90172,     0.90198,     0.90225,     0.90251,     0.90278,     0.90304,     0.90351,     0.90402,     0.90453,     0.90498,     0.90533,     0.90567,     0.90601,     0.90636,     0.90666,     0.90685,\n",
       "            0.90704,     0.90723,     0.90743,     0.90762,     0.90781,       0.908,     0.90819,     0.90838,     0.90833,     0.90828,     0.90823,     0.90827,      0.9084,     0.90853,     0.90865,     0.90878,      0.9089,     0.90903,     0.90915,     0.90928,     0.90941,     0.90953,     0.90966,\n",
       "            0.90978,     0.90991,      0.9102,     0.91072,     0.91125,     0.91176,     0.91176,     0.91175,     0.91174,     0.91173,     0.91172,     0.91171,      0.9117,     0.91169,     0.91169,     0.91168,     0.91167,     0.91166,     0.91165,     0.91164,     0.91163,     0.91162,     0.91162,\n",
       "            0.91161,      0.9116,     0.91166,     0.91193,     0.91221,     0.91248,     0.91275,     0.91302,      0.9133,     0.91337,     0.91334,     0.91331,     0.91329,     0.91326,     0.91323,     0.91321,      0.9132,      0.9132,     0.91319,     0.91318,     0.91317,     0.91317,     0.91316,\n",
       "            0.91315,     0.91314,     0.91314,     0.91313,     0.91312,     0.91311,     0.91311,      0.9131,     0.91309,     0.91308,     0.91307,     0.91307,     0.91306,     0.91305,     0.91304,     0.91348,     0.91398,     0.91447,     0.91499,     0.91561,     0.91623,     0.91679,     0.91718,\n",
       "            0.91757,     0.91797,     0.91836,     0.91846,     0.91842,     0.91838,     0.91834,     0.91828,     0.91822,     0.91816,     0.91814,     0.91811,     0.91809,     0.91807,     0.91804,     0.91802,     0.91804,     0.91819,     0.91833,     0.91848,     0.91863,     0.91878,     0.91893,\n",
       "            0.91907,     0.91922,     0.91937,     0.91952,     0.91966,     0.91981,     0.91995,     0.92009,     0.92023,     0.92037,      0.9205,     0.92064,     0.92078,     0.92092,     0.92105,     0.92119,     0.92133,     0.92147,      0.9216,     0.92178,     0.92202,     0.92226,     0.92249,\n",
       "            0.92273,     0.92297,     0.92321,     0.92345,     0.92351,     0.92346,      0.9234,     0.92381,     0.92445,     0.92509,     0.92724,     0.92741,     0.92757,     0.92773,     0.92789,     0.92805,     0.92821,     0.92837,     0.92853,     0.92869,     0.92885,     0.92902,     0.92951,\n",
       "            0.92999,     0.93048,     0.93102,       0.932,     0.93276,     0.93265,     0.93264,     0.93264,     0.93263,     0.93262,     0.93261,     0.93261,      0.9326,     0.93259,     0.93258,     0.93258,     0.93257,     0.93256,     0.93255,     0.93255,     0.93254,     0.93253,     0.93253,\n",
       "            0.93252,      0.9327,     0.93298,     0.93326,     0.93354,     0.93382,      0.9341,     0.93438,     0.93441,      0.9344,     0.93438,     0.93437,     0.93435,     0.93434,     0.93432,     0.93431,     0.93432,     0.93481,     0.93531,      0.9358,     0.93621,     0.93616,     0.93612,\n",
       "             0.9362,     0.93669,     0.93719,     0.93768,     0.93801,       0.938,     0.93798,     0.93797,     0.93795,     0.93794,     0.93792,     0.93791,     0.93789,     0.93785,     0.93802,     0.93818,     0.93835,     0.93852,     0.93868,     0.93885,     0.93902,     0.93918,     0.93935,\n",
       "            0.93952,     0.93968,     0.93989,      0.9401,     0.94031,     0.94052,     0.94073,     0.94094,     0.94115,     0.94137,     0.94158,     0.94166,     0.94166,     0.94166,     0.94165,     0.94165,     0.94164,     0.94164,     0.94163,     0.94163,     0.94162,     0.94162,     0.94162,\n",
       "            0.94161,     0.94161,      0.9416,      0.9416,     0.94159,     0.94159,     0.94159,     0.94158,     0.94158,     0.94157,     0.94157,     0.94156,     0.94156,     0.94155,     0.94155,     0.94155,      0.9415,     0.94143,     0.94142,     0.94141,     0.94141,      0.9414,      0.9414,\n",
       "            0.94139,     0.94139,     0.94138,     0.94138,     0.94137,     0.94137,     0.94136,     0.94136,     0.94135,     0.94135,     0.94134,     0.94134,     0.94133,     0.94133,     0.94132,     0.94132,     0.94131,     0.94131,     0.94131,      0.9413,     0.94128,     0.94126,     0.94124,\n",
       "            0.94122,      0.9412,     0.94117,     0.94105,     0.94104,     0.94103,     0.94101,       0.941,     0.94099,     0.94097,     0.94096,     0.94095,     0.94094,     0.94088,     0.94112,     0.94193,     0.94275,     0.94305,     0.94333,      0.9436,     0.94388,     0.94415,     0.94442,\n",
       "             0.9447,     0.94512,     0.94564,     0.94615,     0.94667,     0.94694,     0.94712,      0.9473,     0.94748,     0.94766,     0.94784,     0.94802,      0.9482,     0.94838,     0.94856,     0.94874,     0.94883,     0.94882,     0.94882,     0.94882,     0.94882,     0.94881,     0.94881,\n",
       "            0.94881,      0.9488,      0.9488,      0.9488,      0.9488,     0.94879,     0.94879,     0.94879,     0.94879,     0.94878,     0.94878,     0.94878,     0.94877,     0.94877,     0.94877,     0.94877,     0.94876,     0.94876,     0.94876,     0.94876,     0.94875,     0.94875,     0.94875,\n",
       "            0.94874,     0.94874,     0.94874,     0.94874,     0.94873,     0.94873,     0.94873,     0.94873,     0.94872,     0.94872,     0.94875,     0.95081,      0.9522,     0.95296,     0.95326,     0.95356,     0.95386,     0.95416,     0.95446,     0.95476,     0.95482,      0.9548,     0.95477,\n",
       "            0.95475,     0.95472,      0.9547,     0.95467,     0.95465,     0.95463,     0.95462,      0.9546,     0.95459,     0.95458,     0.95456,     0.95455,     0.95454,     0.95453,     0.95452,     0.95451,      0.9545,     0.95449,     0.95448,     0.95447,     0.95446,     0.95445,     0.95444,\n",
       "            0.95442,     0.95441,     0.95439,     0.95438,     0.95437,     0.95435,     0.95434,     0.95433,     0.95432,      0.9543,     0.95429,     0.95428,     0.95426,     0.95425,     0.95441,     0.95462,     0.95484,     0.95505,     0.95526,     0.95548,     0.95569,      0.9559,     0.95612,\n",
       "            0.95633,      0.9563,     0.95627,     0.95623,     0.95618,      0.9562,     0.95674,     0.95728,     0.95782,     0.95811,     0.95837,     0.95881,     0.95924,     0.95968,     0.96011,     0.96016,     0.96014,     0.96013,     0.96011,     0.96009,     0.96026,     0.96043,     0.96061,\n",
       "            0.96078,     0.96096,     0.96113,     0.96131,     0.96148,     0.96166,     0.96183,     0.96201,     0.96218,     0.96221,     0.96218,     0.96216,     0.96214,     0.96213,     0.96212,     0.96211,      0.9621,     0.96209,     0.96208,     0.96208,     0.96207,     0.96206,     0.96205,\n",
       "            0.96203,     0.96202,     0.96201,     0.96199,     0.96198,       0.962,     0.96213,     0.96226,     0.96239,     0.96252,     0.96265,     0.96278,     0.96291,     0.96304,     0.96317,      0.9633,     0.96343,     0.96356,     0.96369,     0.96382,     0.96395,     0.96408,     0.96411,\n",
       "            0.96409,     0.96407,     0.96405,     0.96396,     0.96393,     0.96391,     0.96389,     0.96386,     0.96384,     0.96381,     0.96376,     0.96368,     0.96362,     0.96359,     0.96357,     0.96486,     0.96574,     0.96572,     0.96571,     0.96569,     0.96567,     0.96563,     0.96557,\n",
       "            0.96551,     0.96546,     0.96542,     0.96538,     0.96535,     0.96532,     0.96529,     0.96524,     0.96511,     0.96511,      0.9651,     0.96509,     0.96509,     0.96508,     0.96507,     0.96506,     0.96506,     0.96505,     0.96504,     0.96504,     0.96503,     0.96502,     0.96501,\n",
       "              0.965,     0.96499,     0.96498,     0.96497,     0.96496,     0.96551,     0.96667,     0.96713,     0.96705,     0.96703,     0.96701,     0.96699,      0.9669,     0.96689,     0.96687,     0.96686,     0.96684,     0.96683,     0.96668,     0.96658,     0.96654,     0.96651,     0.96647,\n",
       "            0.96643,     0.96641,     0.96639,     0.96637,     0.96635,     0.96633,     0.96631,     0.96629,     0.96617,     0.96609,       0.966,      0.9659,      0.9681,     0.96804,     0.96801,     0.96798,     0.96788,     0.96783,     0.97008,     0.97242,     0.97239,     0.97236,     0.97232,\n",
       "            0.97468,     0.97959,     0.97948,     0.97932,     0.97919,     0.98082,     0.98167,     0.98162,     0.98148,     0.98145,      0.9821,     0.98394,      0.9839,     0.98382,      0.9838,     0.98368,     0.98357,      0.9887,     0.98887,      0.9887,     0.98864,      0.9914,     0.99135,\n",
       "            0.99134,      0.9912,     0.99113,     0.99101,     0.99093,     0.99078,     0.99064,     0.99049,     0.99037,     0.99033,     0.99014,     0.98997,     0.98977,      0.9896,     0.98933,     0.98921,     0.98897,     0.98846,     0.99212,     0.99595,     0.99567,           1,           1,\n",
       "                  1,           1,           1,           1,           1,           1,           1,           1,           1,           1,           1,           1,           1,           1,           1,           1,           1,           1,           1,           1,           1,           1,           1,\n",
       "                  1,           1,           1,           1,           1,           1,           1,           1,           1,           1,           1]]), 'Confidence', 'Precision'], [array([          0,    0.001001,    0.002002,    0.003003,    0.004004,    0.005005,    0.006006,    0.007007,    0.008008,    0.009009,     0.01001,    0.011011,    0.012012,    0.013013,    0.014014,    0.015015,    0.016016,    0.017017,    0.018018,    0.019019,     0.02002,    0.021021,    0.022022,    0.023023,\n",
       "          0.024024,    0.025025,    0.026026,    0.027027,    0.028028,    0.029029,     0.03003,    0.031031,    0.032032,    0.033033,    0.034034,    0.035035,    0.036036,    0.037037,    0.038038,    0.039039,     0.04004,    0.041041,    0.042042,    0.043043,    0.044044,    0.045045,    0.046046,    0.047047,\n",
       "          0.048048,    0.049049,     0.05005,    0.051051,    0.052052,    0.053053,    0.054054,    0.055055,    0.056056,    0.057057,    0.058058,    0.059059,     0.06006,    0.061061,    0.062062,    0.063063,    0.064064,    0.065065,    0.066066,    0.067067,    0.068068,    0.069069,     0.07007,    0.071071,\n",
       "          0.072072,    0.073073,    0.074074,    0.075075,    0.076076,    0.077077,    0.078078,    0.079079,     0.08008,    0.081081,    0.082082,    0.083083,    0.084084,    0.085085,    0.086086,    0.087087,    0.088088,    0.089089,     0.09009,    0.091091,    0.092092,    0.093093,    0.094094,    0.095095,\n",
       "          0.096096,    0.097097,    0.098098,    0.099099,      0.1001,      0.1011,      0.1021,      0.1031,      0.1041,     0.10511,     0.10611,     0.10711,     0.10811,     0.10911,     0.11011,     0.11111,     0.11211,     0.11311,     0.11411,     0.11512,     0.11612,     0.11712,     0.11812,     0.11912,\n",
       "           0.12012,     0.12112,     0.12212,     0.12312,     0.12412,     0.12513,     0.12613,     0.12713,     0.12813,     0.12913,     0.13013,     0.13113,     0.13213,     0.13313,     0.13413,     0.13514,     0.13614,     0.13714,     0.13814,     0.13914,     0.14014,     0.14114,     0.14214,     0.14314,\n",
       "           0.14414,     0.14515,     0.14615,     0.14715,     0.14815,     0.14915,     0.15015,     0.15115,     0.15215,     0.15315,     0.15415,     0.15516,     0.15616,     0.15716,     0.15816,     0.15916,     0.16016,     0.16116,     0.16216,     0.16316,     0.16416,     0.16517,     0.16617,     0.16717,\n",
       "           0.16817,     0.16917,     0.17017,     0.17117,     0.17217,     0.17317,     0.17417,     0.17518,     0.17618,     0.17718,     0.17818,     0.17918,     0.18018,     0.18118,     0.18218,     0.18318,     0.18418,     0.18519,     0.18619,     0.18719,     0.18819,     0.18919,     0.19019,     0.19119,\n",
       "           0.19219,     0.19319,     0.19419,      0.1952,      0.1962,      0.1972,      0.1982,      0.1992,      0.2002,      0.2012,      0.2022,      0.2032,      0.2042,     0.20521,     0.20621,     0.20721,     0.20821,     0.20921,     0.21021,     0.21121,     0.21221,     0.21321,     0.21421,     0.21522,\n",
       "           0.21622,     0.21722,     0.21822,     0.21922,     0.22022,     0.22122,     0.22222,     0.22322,     0.22422,     0.22523,     0.22623,     0.22723,     0.22823,     0.22923,     0.23023,     0.23123,     0.23223,     0.23323,     0.23423,     0.23524,     0.23624,     0.23724,     0.23824,     0.23924,\n",
       "           0.24024,     0.24124,     0.24224,     0.24324,     0.24424,     0.24525,     0.24625,     0.24725,     0.24825,     0.24925,     0.25025,     0.25125,     0.25225,     0.25325,     0.25425,     0.25526,     0.25626,     0.25726,     0.25826,     0.25926,     0.26026,     0.26126,     0.26226,     0.26326,\n",
       "           0.26426,     0.26527,     0.26627,     0.26727,     0.26827,     0.26927,     0.27027,     0.27127,     0.27227,     0.27327,     0.27427,     0.27528,     0.27628,     0.27728,     0.27828,     0.27928,     0.28028,     0.28128,     0.28228,     0.28328,     0.28428,     0.28529,     0.28629,     0.28729,\n",
       "           0.28829,     0.28929,     0.29029,     0.29129,     0.29229,     0.29329,     0.29429,      0.2953,      0.2963,      0.2973,      0.2983,      0.2993,      0.3003,      0.3013,      0.3023,      0.3033,      0.3043,     0.30531,     0.30631,     0.30731,     0.30831,     0.30931,     0.31031,     0.31131,\n",
       "           0.31231,     0.31331,     0.31431,     0.31532,     0.31632,     0.31732,     0.31832,     0.31932,     0.32032,     0.32132,     0.32232,     0.32332,     0.32432,     0.32533,     0.32633,     0.32733,     0.32833,     0.32933,     0.33033,     0.33133,     0.33233,     0.33333,     0.33433,     0.33534,\n",
       "           0.33634,     0.33734,     0.33834,     0.33934,     0.34034,     0.34134,     0.34234,     0.34334,     0.34434,     0.34535,     0.34635,     0.34735,     0.34835,     0.34935,     0.35035,     0.35135,     0.35235,     0.35335,     0.35435,     0.35536,     0.35636,     0.35736,     0.35836,     0.35936,\n",
       "           0.36036,     0.36136,     0.36236,     0.36336,     0.36436,     0.36537,     0.36637,     0.36737,     0.36837,     0.36937,     0.37037,     0.37137,     0.37237,     0.37337,     0.37437,     0.37538,     0.37638,     0.37738,     0.37838,     0.37938,     0.38038,     0.38138,     0.38238,     0.38338,\n",
       "           0.38438,     0.38539,     0.38639,     0.38739,     0.38839,     0.38939,     0.39039,     0.39139,     0.39239,     0.39339,     0.39439,      0.3954,      0.3964,      0.3974,      0.3984,      0.3994,      0.4004,      0.4014,      0.4024,      0.4034,      0.4044,     0.40541,     0.40641,     0.40741,\n",
       "           0.40841,     0.40941,     0.41041,     0.41141,     0.41241,     0.41341,     0.41441,     0.41542,     0.41642,     0.41742,     0.41842,     0.41942,     0.42042,     0.42142,     0.42242,     0.42342,     0.42442,     0.42543,     0.42643,     0.42743,     0.42843,     0.42943,     0.43043,     0.43143,\n",
       "           0.43243,     0.43343,     0.43443,     0.43544,     0.43644,     0.43744,     0.43844,     0.43944,     0.44044,     0.44144,     0.44244,     0.44344,     0.44444,     0.44545,     0.44645,     0.44745,     0.44845,     0.44945,     0.45045,     0.45145,     0.45245,     0.45345,     0.45445,     0.45546,\n",
       "           0.45646,     0.45746,     0.45846,     0.45946,     0.46046,     0.46146,     0.46246,     0.46346,     0.46446,     0.46547,     0.46647,     0.46747,     0.46847,     0.46947,     0.47047,     0.47147,     0.47247,     0.47347,     0.47447,     0.47548,     0.47648,     0.47748,     0.47848,     0.47948,\n",
       "           0.48048,     0.48148,     0.48248,     0.48348,     0.48448,     0.48549,     0.48649,     0.48749,     0.48849,     0.48949,     0.49049,     0.49149,     0.49249,     0.49349,     0.49449,      0.4955,      0.4965,      0.4975,      0.4985,      0.4995,      0.5005,      0.5015,      0.5025,      0.5035,\n",
       "            0.5045,     0.50551,     0.50651,     0.50751,     0.50851,     0.50951,     0.51051,     0.51151,     0.51251,     0.51351,     0.51451,     0.51552,     0.51652,     0.51752,     0.51852,     0.51952,     0.52052,     0.52152,     0.52252,     0.52352,     0.52452,     0.52553,     0.52653,     0.52753,\n",
       "           0.52853,     0.52953,     0.53053,     0.53153,     0.53253,     0.53353,     0.53453,     0.53554,     0.53654,     0.53754,     0.53854,     0.53954,     0.54054,     0.54154,     0.54254,     0.54354,     0.54454,     0.54555,     0.54655,     0.54755,     0.54855,     0.54955,     0.55055,     0.55155,\n",
       "           0.55255,     0.55355,     0.55455,     0.55556,     0.55656,     0.55756,     0.55856,     0.55956,     0.56056,     0.56156,     0.56256,     0.56356,     0.56456,     0.56557,     0.56657,     0.56757,     0.56857,     0.56957,     0.57057,     0.57157,     0.57257,     0.57357,     0.57457,     0.57558,\n",
       "           0.57658,     0.57758,     0.57858,     0.57958,     0.58058,     0.58158,     0.58258,     0.58358,     0.58458,     0.58559,     0.58659,     0.58759,     0.58859,     0.58959,     0.59059,     0.59159,     0.59259,     0.59359,     0.59459,      0.5956,      0.5966,      0.5976,      0.5986,      0.5996,\n",
       "            0.6006,      0.6016,      0.6026,      0.6036,      0.6046,     0.60561,     0.60661,     0.60761,     0.60861,     0.60961,     0.61061,     0.61161,     0.61261,     0.61361,     0.61461,     0.61562,     0.61662,     0.61762,     0.61862,     0.61962,     0.62062,     0.62162,     0.62262,     0.62362,\n",
       "           0.62462,     0.62563,     0.62663,     0.62763,     0.62863,     0.62963,     0.63063,     0.63163,     0.63263,     0.63363,     0.63463,     0.63564,     0.63664,     0.63764,     0.63864,     0.63964,     0.64064,     0.64164,     0.64264,     0.64364,     0.64464,     0.64565,     0.64665,     0.64765,\n",
       "           0.64865,     0.64965,     0.65065,     0.65165,     0.65265,     0.65365,     0.65465,     0.65566,     0.65666,     0.65766,     0.65866,     0.65966,     0.66066,     0.66166,     0.66266,     0.66366,     0.66466,     0.66567,     0.66667,     0.66767,     0.66867,     0.66967,     0.67067,     0.67167,\n",
       "           0.67267,     0.67367,     0.67467,     0.67568,     0.67668,     0.67768,     0.67868,     0.67968,     0.68068,     0.68168,     0.68268,     0.68368,     0.68468,     0.68569,     0.68669,     0.68769,     0.68869,     0.68969,     0.69069,     0.69169,     0.69269,     0.69369,     0.69469,      0.6957,\n",
       "            0.6967,      0.6977,      0.6987,      0.6997,      0.7007,      0.7017,      0.7027,      0.7037,      0.7047,     0.70571,     0.70671,     0.70771,     0.70871,     0.70971,     0.71071,     0.71171,     0.71271,     0.71371,     0.71471,     0.71572,     0.71672,     0.71772,     0.71872,     0.71972,\n",
       "           0.72072,     0.72172,     0.72272,     0.72372,     0.72472,     0.72573,     0.72673,     0.72773,     0.72873,     0.72973,     0.73073,     0.73173,     0.73273,     0.73373,     0.73473,     0.73574,     0.73674,     0.73774,     0.73874,     0.73974,     0.74074,     0.74174,     0.74274,     0.74374,\n",
       "           0.74474,     0.74575,     0.74675,     0.74775,     0.74875,     0.74975,     0.75075,     0.75175,     0.75275,     0.75375,     0.75475,     0.75576,     0.75676,     0.75776,     0.75876,     0.75976,     0.76076,     0.76176,     0.76276,     0.76376,     0.76476,     0.76577,     0.76677,     0.76777,\n",
       "           0.76877,     0.76977,     0.77077,     0.77177,     0.77277,     0.77377,     0.77477,     0.77578,     0.77678,     0.77778,     0.77878,     0.77978,     0.78078,     0.78178,     0.78278,     0.78378,     0.78478,     0.78579,     0.78679,     0.78779,     0.78879,     0.78979,     0.79079,     0.79179,\n",
       "           0.79279,     0.79379,     0.79479,      0.7958,      0.7968,      0.7978,      0.7988,      0.7998,      0.8008,      0.8018,      0.8028,      0.8038,      0.8048,     0.80581,     0.80681,     0.80781,     0.80881,     0.80981,     0.81081,     0.81181,     0.81281,     0.81381,     0.81481,     0.81582,\n",
       "           0.81682,     0.81782,     0.81882,     0.81982,     0.82082,     0.82182,     0.82282,     0.82382,     0.82482,     0.82583,     0.82683,     0.82783,     0.82883,     0.82983,     0.83083,     0.83183,     0.83283,     0.83383,     0.83483,     0.83584,     0.83684,     0.83784,     0.83884,     0.83984,\n",
       "           0.84084,     0.84184,     0.84284,     0.84384,     0.84484,     0.84585,     0.84685,     0.84785,     0.84885,     0.84985,     0.85085,     0.85185,     0.85285,     0.85385,     0.85485,     0.85586,     0.85686,     0.85786,     0.85886,     0.85986,     0.86086,     0.86186,     0.86286,     0.86386,\n",
       "           0.86486,     0.86587,     0.86687,     0.86787,     0.86887,     0.86987,     0.87087,     0.87187,     0.87287,     0.87387,     0.87487,     0.87588,     0.87688,     0.87788,     0.87888,     0.87988,     0.88088,     0.88188,     0.88288,     0.88388,     0.88488,     0.88589,     0.88689,     0.88789,\n",
       "           0.88889,     0.88989,     0.89089,     0.89189,     0.89289,     0.89389,     0.89489,      0.8959,      0.8969,      0.8979,      0.8989,      0.8999,      0.9009,      0.9019,      0.9029,      0.9039,      0.9049,     0.90591,     0.90691,     0.90791,     0.90891,     0.90991,     0.91091,     0.91191,\n",
       "           0.91291,     0.91391,     0.91491,     0.91592,     0.91692,     0.91792,     0.91892,     0.91992,     0.92092,     0.92192,     0.92292,     0.92392,     0.92492,     0.92593,     0.92693,     0.92793,     0.92893,     0.92993,     0.93093,     0.93193,     0.93293,     0.93393,     0.93493,     0.93594,\n",
       "           0.93694,     0.93794,     0.93894,     0.93994,     0.94094,     0.94194,     0.94294,     0.94394,     0.94494,     0.94595,     0.94695,     0.94795,     0.94895,     0.94995,     0.95095,     0.95195,     0.95295,     0.95395,     0.95495,     0.95596,     0.95696,     0.95796,     0.95896,     0.95996,\n",
       "           0.96096,     0.96196,     0.96296,     0.96396,     0.96496,     0.96597,     0.96697,     0.96797,     0.96897,     0.96997,     0.97097,     0.97197,     0.97297,     0.97397,     0.97497,     0.97598,     0.97698,     0.97798,     0.97898,     0.97998,     0.98098,     0.98198,     0.98298,     0.98398,\n",
       "           0.98498,     0.98599,     0.98699,     0.98799,     0.98899,     0.98999,     0.99099,     0.99199,     0.99299,     0.99399,     0.99499,       0.996,       0.997,       0.998,       0.999,           1]), array([[    0.99588,     0.99588,     0.99381,     0.99381,     0.99381,     0.99175,     0.98969,     0.98969,     0.98969,     0.98969,     0.98969,     0.98969,     0.98969,     0.98969,     0.98969,     0.98969,     0.98969,     0.98969,     0.98969,     0.98969,     0.98969,     0.98969,     0.98969,\n",
       "            0.98969,     0.98969,     0.98969,     0.98969,     0.98969,     0.98969,     0.98969,     0.98969,     0.98969,     0.98969,     0.98969,     0.98969,     0.98969,     0.98969,     0.98969,     0.98969,     0.98969,     0.98969,     0.98969,     0.98969,     0.98969,     0.98969,     0.98969,\n",
       "            0.98969,     0.98969,     0.98969,     0.98969,     0.98969,     0.98969,     0.98969,     0.98969,     0.98969,     0.98969,     0.98969,     0.98969,     0.98969,     0.98969,     0.98969,     0.98969,     0.98969,     0.98969,     0.98969,     0.98969,     0.98969,     0.98969,     0.98969,\n",
       "            0.98969,     0.98969,     0.98969,     0.98969,     0.98969,     0.98969,     0.98969,     0.98969,     0.98969,     0.98969,     0.98969,     0.98969,     0.98969,     0.98969,     0.98969,     0.98969,     0.98969,     0.98969,     0.98969,     0.98969,     0.98969,     0.98969,     0.98822,\n",
       "            0.98763,     0.98763,     0.98763,     0.98763,     0.98763,     0.98763,     0.98763,     0.98763,     0.98763,     0.98763,     0.98763,     0.98763,     0.98763,     0.98763,     0.98763,     0.98763,     0.98763,     0.98763,     0.98763,     0.98763,     0.98763,     0.98763,     0.98763,\n",
       "            0.98763,     0.98763,     0.98763,     0.98763,     0.98763,     0.98763,     0.98763,     0.98763,     0.98763,     0.98763,     0.98763,     0.98763,     0.98763,     0.98763,     0.98729,     0.98575,     0.98557,     0.98557,     0.98557,     0.98557,     0.98557,     0.98557,     0.98557,\n",
       "            0.98557,     0.98557,     0.98557,     0.98557,     0.98557,     0.98557,     0.98557,     0.98557,     0.98557,     0.98557,     0.98557,     0.98557,     0.98557,     0.98557,     0.98557,     0.98557,     0.98557,     0.98557,     0.98557,     0.98557,     0.98557,     0.98557,     0.98557,\n",
       "            0.98557,     0.98519,      0.9847,     0.98422,     0.98374,     0.98351,     0.98351,     0.98351,     0.98351,     0.98351,       0.983,     0.98144,     0.98131,     0.98111,     0.98092,     0.98072,     0.98052,     0.98033,     0.98013,     0.97993,     0.97974,     0.97954,     0.97938,\n",
       "            0.97938,     0.97905,     0.97816,     0.97726,     0.97613,     0.97526,     0.97526,     0.97526,     0.97526,     0.97526,     0.97526,     0.97526,     0.97526,     0.97526,     0.97526,     0.97526,     0.97526,     0.97526,     0.97526,     0.97526,     0.97473,      0.9736,      0.9732,\n",
       "             0.9732,      0.9732,      0.9732,      0.9732,      0.9732,      0.9727,     0.97208,     0.97145,     0.97109,       0.971,     0.97091,     0.97082,     0.97073,     0.97065,     0.97056,     0.97047,     0.97038,     0.97029,      0.9702,     0.97011,     0.97002,     0.96993,     0.96984,\n",
       "            0.96976,     0.96967,     0.96958,     0.96949,      0.9694,     0.96931,     0.96922,     0.96913,     0.96877,     0.96783,     0.96701,     0.96701,     0.96701,     0.96701,     0.96701,     0.96701,     0.96701,     0.96701,     0.96701,     0.96701,     0.96701,     0.96701,     0.96625,\n",
       "            0.96495,     0.96495,     0.96495,     0.96495,     0.96495,     0.96495,     0.96495,     0.96495,     0.96495,     0.96495,     0.96495,     0.96495,     0.96495,     0.96495,     0.96495,     0.96495,     0.96495,     0.96495,     0.96495,     0.96495,     0.96495,     0.96495,     0.96477,\n",
       "            0.96336,     0.96289,     0.96289,     0.96289,     0.96289,     0.96289,     0.96289,     0.96289,     0.96289,     0.96289,     0.96289,     0.96289,     0.96289,     0.96289,     0.96289,     0.96289,     0.96289,     0.96289,     0.96289,     0.96289,      0.9628,     0.96257,     0.96234,\n",
       "            0.96211,     0.96188,     0.96165,     0.96142,      0.9612,     0.96097,     0.96082,     0.96082,     0.96082,     0.96082,     0.96082,     0.96082,     0.96082,     0.96082,     0.96082,     0.96082,     0.96082,     0.96082,     0.96082,     0.96082,     0.96082,     0.96082,     0.96082,\n",
       "            0.96082,     0.96082,     0.96082,     0.96082,     0.96082,     0.96082,     0.96082,     0.96082,     0.96023,     0.95963,     0.95902,     0.95876,     0.95876,     0.95876,     0.95876,     0.95876,     0.95876,     0.95876,     0.95876,     0.95876,     0.95876,     0.95876,     0.95876,\n",
       "            0.95876,     0.95876,     0.95876,     0.95876,     0.95876,     0.95876,     0.95866,     0.95855,     0.95845,     0.95834,     0.95824,     0.95814,     0.95803,     0.95793,     0.95782,     0.95772,     0.95761,     0.95751,     0.95741,      0.9573,      0.9572,     0.95709,     0.95699,\n",
       "            0.95688,     0.95678,      0.9567,      0.9567,      0.9567,      0.9567,      0.9567,      0.9567,      0.9567,     0.95648,     0.95616,     0.95583,     0.95551,     0.95518,     0.95486,     0.95461,     0.95452,     0.95443,     0.95433,     0.95424,     0.95415,     0.95406,     0.95397,\n",
       "            0.95387,     0.95378,     0.95369,      0.9536,     0.95351,     0.95341,     0.95332,     0.95323,     0.95314,     0.95305,     0.95296,     0.95286,     0.95277,     0.95268,     0.95259,     0.95258,     0.95258,     0.95258,     0.95258,     0.95258,     0.95258,     0.95258,     0.95258,\n",
       "            0.95258,     0.95258,     0.95258,     0.95222,      0.9517,     0.95117,     0.95064,     0.94993,     0.94916,     0.94843,     0.94813,     0.94782,     0.94752,     0.94722,     0.94692,     0.94662,     0.94639,     0.94639,     0.94639,     0.94639,     0.94639,     0.94639,     0.94639,\n",
       "            0.94639,     0.94639,     0.94639,     0.94639,     0.94639,     0.94639,     0.94639,     0.94639,     0.94639,     0.94639,     0.94639,     0.94639,     0.94639,     0.94639,     0.94639,     0.94639,     0.94639,     0.94639,     0.94639,     0.94639,     0.94639,     0.94639,     0.94639,\n",
       "            0.94639,     0.94639,     0.94639,     0.94639,     0.94597,     0.94527,     0.94456,     0.94433,     0.94433,     0.94433,     0.94433,     0.94433,     0.94433,     0.94433,     0.94433,     0.94433,     0.94433,     0.94433,     0.94433,     0.94433,     0.94433,     0.94433,     0.94433,\n",
       "            0.94433,     0.94433,     0.94433,     0.94433,     0.94394,     0.94225,     0.94213,     0.94202,     0.94191,      0.9418,     0.94169,     0.94158,     0.94147,     0.94136,     0.94124,     0.94113,     0.94102,     0.94091,      0.9408,     0.94069,     0.94058,     0.94047,     0.94035,\n",
       "            0.94024,     0.94021,     0.94021,     0.94021,     0.94021,     0.94021,     0.94021,     0.94021,     0.94001,     0.93977,     0.93954,      0.9393,     0.93907,     0.93883,      0.9386,     0.93836,     0.93814,     0.93814,     0.93814,     0.93814,     0.93803,     0.93733,     0.93662,\n",
       "            0.93608,     0.93608,     0.93608,     0.93608,       0.936,     0.93577,     0.93554,      0.9353,     0.93507,     0.93483,      0.9346,     0.93436,     0.93413,     0.93196,     0.93196,     0.93196,     0.93196,     0.93196,     0.93196,     0.93196,     0.93196,     0.93196,     0.93196,\n",
       "            0.93196,     0.93196,     0.93196,     0.93196,     0.93196,     0.93196,     0.93196,     0.93196,     0.93196,     0.93196,     0.93196,     0.93192,     0.93184,     0.93177,     0.93169,     0.93162,     0.93155,     0.93147,      0.9314,     0.93132,     0.93125,     0.93117,      0.9311,\n",
       "            0.93103,     0.93095,     0.93088,      0.9308,     0.93073,     0.93066,     0.93058,     0.93051,     0.93043,     0.93036,     0.93028,     0.93021,     0.93014,     0.93006,     0.92999,     0.92991,     0.92908,     0.92803,     0.92777,     0.92768,      0.9276,     0.92752,     0.92744,\n",
       "            0.92735,     0.92727,     0.92719,      0.9271,     0.92702,     0.92694,     0.92686,     0.92677,     0.92669,     0.92661,     0.92652,     0.92644,     0.92636,     0.92628,     0.92619,     0.92611,     0.92603,     0.92594,     0.92586,     0.92578,     0.92544,     0.92509,     0.92474,\n",
       "            0.92438,     0.92403,     0.92352,     0.92163,     0.92141,      0.9212,     0.92099,     0.92078,     0.92057,     0.92036,     0.92015,     0.91993,     0.91972,     0.91883,     0.91753,     0.91753,     0.91753,     0.91753,     0.91753,     0.91753,     0.91753,     0.91753,     0.91753,\n",
       "            0.91753,     0.91753,     0.91753,     0.91753,     0.91753,     0.91753,     0.91753,     0.91753,     0.91753,     0.91753,     0.91753,     0.91753,     0.91753,     0.91753,     0.91753,     0.91753,      0.9175,     0.91745,      0.9174,     0.91735,      0.9173,     0.91725,     0.91719,\n",
       "            0.91714,     0.91709,     0.91704,     0.91699,     0.91694,     0.91689,     0.91684,     0.91679,     0.91674,     0.91669,     0.91663,     0.91658,     0.91653,     0.91648,     0.91643,     0.91638,     0.91633,     0.91628,     0.91623,     0.91618,     0.91613,     0.91607,     0.91602,\n",
       "            0.91597,     0.91592,     0.91587,     0.91582,     0.91577,     0.91572,     0.91567,     0.91562,     0.91556,     0.91551,     0.91546,     0.91546,     0.91546,     0.91546,     0.91546,     0.91546,     0.91546,     0.91546,     0.91546,     0.91546,     0.91507,     0.91454,     0.91401,\n",
       "            0.91348,     0.91295,     0.91243,      0.9119,     0.91137,     0.91107,     0.91079,     0.91051,     0.91023,     0.90995,     0.90967,     0.90938,     0.90915,     0.90893,     0.90872,     0.90851,      0.9083,     0.90809,     0.90788,     0.90767,     0.90745,     0.90724,     0.90697,\n",
       "            0.90669,     0.90641,     0.90613,     0.90584,     0.90556,     0.90528,     0.90501,     0.90474,     0.90448,     0.90422,     0.90395,     0.90369,     0.90342,     0.90316,     0.90309,     0.90309,     0.90309,     0.90309,     0.90309,     0.90309,     0.90309,     0.90309,     0.90309,\n",
       "            0.90309,     0.90239,     0.90169,     0.90096,      0.8999,     0.89897,     0.89897,     0.89897,     0.89897,       0.896,     0.89485,     0.89485,     0.89485,     0.89485,     0.89485,     0.89449,     0.89406,     0.89364,     0.89322,      0.8928,     0.89278,     0.89278,     0.89278,\n",
       "            0.89278,     0.89278,     0.89278,     0.89278,     0.89278,     0.89278,     0.89278,     0.89278,     0.89278,     0.89237,     0.89185,     0.89132,     0.89079,     0.89053,      0.8903,     0.89008,     0.88986,     0.88964,     0.88942,     0.88919,     0.88897,     0.88875,     0.88846,\n",
       "            0.88814,     0.88781,     0.88749,     0.88716,     0.88684,      0.8866,      0.8866,      0.8866,      0.8866,      0.8866,      0.8866,      0.8866,      0.8866,      0.8866,      0.8866,      0.8866,      0.8866,      0.8866,      0.8866,      0.8866,      0.8866,      0.8866,     0.88624,\n",
       "            0.88571,     0.88518,     0.88465,      0.8823,      0.8817,     0.88109,     0.88049,     0.87988,     0.87928,     0.87868,     0.87738,     0.87527,     0.87387,     0.87316,     0.87246,     0.87216,     0.87188,     0.87141,     0.87094,     0.87047,     0.86988,     0.86882,     0.86748,\n",
       "            0.86567,     0.86462,     0.86356,      0.8625,     0.86158,     0.86088,     0.86017,     0.85882,     0.85558,     0.85541,     0.85523,     0.85506,     0.85488,      0.8547,     0.85453,     0.85435,     0.85418,       0.854,     0.85382,     0.85365,     0.85341,     0.85317,     0.85292,\n",
       "            0.85267,     0.85242,     0.85217,     0.85192,     0.85167,     0.85155,     0.85155,     0.84929,     0.84713,      0.8466,     0.84607,     0.84554,     0.84323,     0.84285,     0.84247,     0.84208,      0.8417,     0.84131,     0.83748,     0.83477,     0.83392,     0.83307,     0.83204,\n",
       "            0.83098,     0.83048,     0.83001,     0.82954,     0.82907,     0.82853,     0.82792,     0.82732,     0.82444,     0.82232,     0.82021,     0.81764,     0.81341,     0.81184,     0.81114,     0.81043,     0.80777,     0.80636,     0.80227,     0.79965,     0.79881,     0.79796,     0.79657,\n",
       "            0.79377,     0.79155,     0.78733,     0.78104,     0.77603,     0.77526,     0.77284,     0.77073,     0.76472,     0.76366,     0.76082,     0.75815,     0.75603,     0.75222,     0.75116,     0.74557,     0.74052,     0.74021,     0.73304,     0.72166,     0.71748,      0.7132,     0.70918,\n",
       "            0.70777,      0.6964,     0.69145,     0.68176,     0.67547,     0.66506,     0.65464,     0.64423,     0.63588,     0.63335,     0.62124,     0.61083,     0.59836,     0.58882,     0.57341,     0.56706,     0.55464,      0.5298,     0.51939,     0.50691,     0.47382,     0.44691,     0.43237,\n",
       "            0.40134,     0.38475,     0.34959,      0.3165,     0.26897,     0.23382,      0.1966,     0.15938,     0.13866,     0.10969,    0.097219,    0.070312,    0.059899,    0.051548,    0.037012,    0.024538,    0.014125,   0.0078367,   0.0048977,           0,           0,           0,           0,\n",
       "                  0,           0,           0,           0,           0,           0,           0,           0,           0,           0,           0]]), 'Confidence', 'Recall']]\n",
       "fitness: np.float64(0.962402849178993)\n",
       "keys: ['metrics/precision(B)', 'metrics/recall(B)', 'metrics/mAP50(B)', 'metrics/mAP50-95(B)']\n",
       "maps: array([    0.96085])\n",
       "names: {0: 'TEM_image'}\n",
       "plot: True\n",
       "results_dict: {'metrics/precision(B)': np.float64(0.936161902572605), 'metrics/recall(B)': np.float64(0.9373277057125854), 'metrics/mAP50(B)': np.float64(0.9764106716169755), 'metrics/mAP50-95(B)': np.float64(0.9608464244636616), 'fitness': np.float64(0.962402849178993)}\n",
       "save_dir: PosixPath('runs/detect/my_yolo_experiment10')\n",
       "speed: {'preprocess': 0.09272047221505393, 'inference': 2.173277724068612, 'loss': 0.00013666835406588184, 'postprocess': 0.6255279796379102}\n",
       "task: 'detect'"
      ]
     },
     "execution_count": 3,
     "metadata": {},
     "output_type": "execute_result"
    }
   ],
   "source": [
    "from ultralytics import YOLO\n",
    "\n",
    "# 載入一個預訓練模型（例如 yolov8n）\n",
    "model = YOLO('yolov8s.yaml')  # 或用 yolov8n.pt 作為起點進行 fine-tune\n",
    "\n",
    "# 開始訓練\n",
    "model.train(\n",
    "    data='config.yaml',\n",
    "    epochs=100,\n",
    "    imgsz=640,\n",
    "    batch=16,\n",
    "    device=0,  # 選 GPU 編號，-1 表 CPU\n",
    "    name='my_yolo_experiment',\n",
    "    resume=False  # 若中斷，可用 True 繼續訓練\n",
    ")"
   ]
  },
  {
   "cell_type": "code",
   "execution_count": null,
   "id": "69884cfb-7013-42a3-b7b3-bb4178c85681",
   "metadata": {},
   "outputs": [],
   "source": []
  }
 ],
 "metadata": {
  "kernelspec": {
   "display_name": "Python 3 (ipykernel)",
   "language": "python",
   "name": "python3"
  },
  "language_info": {
   "codemirror_mode": {
    "name": "ipython",
    "version": 3
   },
   "file_extension": ".py",
   "mimetype": "text/x-python",
   "name": "python",
   "nbconvert_exporter": "python",
   "pygments_lexer": "ipython3",
   "version": "3.13.2"
  }
 },
 "nbformat": 4,
 "nbformat_minor": 5
}
