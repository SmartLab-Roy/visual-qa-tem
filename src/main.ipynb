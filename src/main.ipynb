{
 "cells": [
  {
   "cell_type": "markdown",
   "id": "02bc4ccd-302d-40ad-a43f-86054e9906bb",
   "metadata": {},
   "source": [
    "# import \n",
    "## related module\n",
    "> such as numpy, pandas"
   ]
  },
  {
   "cell_type": "code",
   "execution_count": null,
   "id": "48a86266-02f0-47d3-8cc4-a1c7d90dc86d",
   "metadata": {},
   "outputs": [],
   "source": [
    "# === System and File Management ===\n",
    "import os\n",
    "import logging\n",
    "import gc\n",
    "import psutil\n",
    "\n",
    "# === Data Handling and Visualization ===\n",
    "import numpy as np\n",
    "import pandas as pd\n",
    "import matplotlib.pyplot as plt\n",
    "\n",
    "# === Image Processing ===\n",
    "import cv2\n",
    "from PIL import Image as PILImage  # PIL is often used for RGB image handling\n",
    "\n",
    "# === Optical Character Recognition (OCR) ===\n",
    "import pytesseract                 # Tesseract-based OCR\n",
    "from pix2text import Pix2Text     # Transformer-based OCR model (Pix2Text)\n"
   ]
  },
  {
   "cell_type": "markdown",
   "id": "ad534140-1285-4d41-9827-827fdd3ad634",
   "metadata": {},
   "source": [
    "## self defined modules\n",
    "> for config, yolo packages\n",
    "> \n",
    "> for further use, maybe include OCR packages\n"
   ]
  },
  {
   "cell_type": "code",
   "execution_count": null,
   "id": "dcaebfa2-3b09-42e2-8268-dee4f584f0a9",
   "metadata": {},
   "outputs": [],
   "source": [
    "# self defined modules\n",
    "from project_function import config, convert_images, vision_crop    # for basic settings, PDF pages output, yolo computing\n"
   ]
  },
  {
   "cell_type": "markdown",
   "id": "ab930a8b-1388-4c4f-a67f-e6a3802a6c60",
   "metadata": {},
   "source": [
    "# define logging function for recording system working state"
   ]
  },
  {
   "cell_type": "code",
   "execution_count": null,
   "id": "09ef7f99-1dee-4734-86b9-b633e7dc9800",
   "metadata": {},
   "outputs": [],
   "source": [
    "# === Logging Setup ===\n",
    "def setup_logging():\n",
    "    \"\"\"\n",
    "    Set up logging to record runtime messages into 'record.log'.\n",
    "    Format includes timestamp, log level, and message.\n",
    "    \"\"\"\n",
    "    handler = logging.FileHandler(\"record.log\", mode=\"a\", encoding=\"utf-8\")\n",
    "    formatter = logging.Formatter(\"%(asctime)s - %(levelname)s - %(message)s\")\n",
    "    handler.setFormatter(formatter)\n",
    "\n",
    "    logger = logging.getLogger()\n",
    "    logger.setLevel(logging.INFO)\n",
    "    logger.addHandler(handler)\n"
   ]
  },
  {
   "cell_type": "markdown",
   "id": "14d8c7c6-9502-4b6a-8705-d4514942a695",
   "metadata": {},
   "source": [
    "# system configuration"
   ]
  },
  {
   "cell_type": "code",
   "execution_count": null,
   "id": "97f792ba-a204-4e88-891a-aa9f6a3c0848",
   "metadata": {
    "scrolled": true
   },
   "outputs": [],
   "source": [
    "# === Initialize Logging ===\n",
    "setup_logging()\n",
    "\n",
    "logging.info(\"---------- Setting PDF and CSV paths ----------\")\n",
    "\n",
    "# === Load path configuration from config.py ===\n",
    "pdf_path = config.PDF_PATH                      # Path to input PDFs\n",
    "pdf_image_folder = config.PDF_IMAGE_PATH        # Folder where PDF pages are converted to images\n",
    "tem_image_folder = config.TEM_IMAGE_PATH        # Folder to save cropped TEM images\n",
    "description_image_path = config.DESCRIPTION_PATH# Folder to save description/figure caption crops\n",
    "csv_path = config.CSV_PATH                      # Output CSV for metadata logging\n",
    "\n",
    "# === (Optional) Configure OCR tools ===\n",
    "# pytesseract.pytesseract.tesseract_cmd = config.TESSERACT\n",
    "# p2t = Pix2Text(model_backend=\"onnx\", device=\"cuda\")  # Initialize Pix2Text OCR using GPU\n",
    "\n",
    "logging.info(\"Finished setting paths.\")"
   ]
  },
  {
   "cell_type": "markdown",
   "id": "310a95f5-b297-43c6-be01-bdd59e27d9c9",
   "metadata": {},
   "source": [
    "# main function"
   ]
  },
  {
   "cell_type": "code",
   "execution_count": null,
   "id": "22da2723-4191-4298-b914-533cb45a0511",
   "metadata": {
    "scrolled": true
   },
   "outputs": [],
   "source": [
    "buffer = []  # temp storage for CSV rows\n",
    "buffer_threshold = 100\n",
    "\n",
    "# === Read PDF file list ===\n",
    "dir = os.listdir(pdf_path)\n",
    "\n",
    "# Create CSV if not exist\n",
    "if not os.path.isfile(csv_path):\n",
    "    df = pd.DataFrame(columns=['parent_image', 'sub_image', 'TEM_type'])\n",
    "    df.to_csv(csv_path, index=False)\n",
    "\n",
    "for i, file in enumerate(dir):\n",
    "    if i <= 30000:\n",
    "        print (f'skip {i}th files')\n",
    "        continue\n",
    "    logging.info(f\"Processing {i}th file: {file}\")\n",
    "\n",
    "    try:\n",
    "        images = convert_images.convert_pdf_to_image(pdf_path, file, zoom_factor=5)\n",
    "    except Exception as e:\n",
    "        logging.error(f\"Error converting PDF {file}: {e}\")\n",
    "        continue\n",
    "\n",
    "    if images is None:\n",
    "        logging.warning(f\"No images extracted from {file}\")\n",
    "        continue\n",
    "\n",
    "    cut_num = 0\n",
    "    for image in images:\n",
    "        image = np.frombuffer(image.samples, dtype=np.uint8).reshape(image.height, image.width, image.n)\n",
    "        crop_images = vision_crop.crop_images(image)\n",
    "\n",
    "        if not crop_images:\n",
    "            continue\n",
    "\n",
    "        for crop_image in crop_images:\n",
    "            cut_image, description_image = vision_crop.image_description(crop_image)\n",
    "            TEM_images = vision_crop.tem_images_crop(cut_image) if cut_image is not None else None\n",
    "\n",
    "            type_of_TEM = 0\n",
    "            if TEM_images is not None:\n",
    "                for tem_image in TEM_images:\n",
    "                    tem_type = vision_crop.TEM_classifier(tem_image)\n",
    "                    if tem_type not in ['None', 'SEM']:\n",
    "                        type_of_TEM += 1\n",
    "            if type_of_TEM == 0:\n",
    "                continue\n",
    "\n",
    "            if TEM_images is not None and description_image is not None:\n",
    "                filename = os.path.splitext(file)[0]\n",
    "                cut_image_filename = f\"PDF{filename}_Image{cut_num + 1}.png\"\n",
    "\n",
    "                try:\n",
    "                    if cut_image.shape[-1] == 3:\n",
    "                        cut_image = cv2.cvtColor(cut_image, cv2.COLOR_BGR2RGB)\n",
    "                    if description_image.shape[-1] == 3:\n",
    "                        description_image = cv2.cvtColor(description_image, cv2.COLOR_BGR2RGB)\n",
    "                except:\n",
    "                    continue\n",
    "\n",
    "                cut_image_path = os.path.join(pdf_image_folder, cut_image_filename)\n",
    "                description_image_path_full = os.path.join(description_image_path, cut_image_filename)\n",
    "\n",
    "                cv2.imwrite(cut_image_path, cut_image)\n",
    "                cv2.imwrite(description_image_path_full, description_image)\n",
    "\n",
    "                logging.info(f\"Saved {cut_image_filename}\")\n",
    "\n",
    "                tem_num = 0\n",
    "                for tem_image in TEM_images:\n",
    "                    tem_type = vision_crop.TEM_classifier(tem_image)\n",
    "                    if tem_type not in ['None', 'SEM']:\n",
    "                        tem_image_filename = f\"PDF{filename}_Image{cut_num + 1}_{tem_num + 1}.png\"\n",
    "                        tem_image_path_full = os.path.join(tem_image_folder, tem_image_filename)\n",
    "\n",
    "                        cv2.imwrite(tem_image_path_full, tem_image)\n",
    "\n",
    "                        # Append to buffer\n",
    "                        buffer.append({\n",
    "                            'parent_image': cut_image_filename,\n",
    "                            'sub_image': tem_image_filename,\n",
    "                            'TEM_type': tem_type\n",
    "                        })\n",
    "                        tem_num += 1\n",
    "\n",
    "                cut_num += 1\n",
    "\n",
    "    # === Write CSV in chunks ===\n",
    "    if len(buffer) >= buffer_threshold:\n",
    "        df_temp = pd.DataFrame(buffer)\n",
    "        df_temp.to_csv(csv_path, mode='a', header=False, index=False)\n",
    "        buffer.clear()\n",
    "        del df_temp\n",
    "        gc.collect()\n",
    "\n",
    "    # === Free memory per PDF ===\n",
    "    for var in ['images', 'image', 'crop_images', 'cut_image', 'description_image', 'TEM_images', 'tem_image']:\n",
    "        if var in locals():\n",
    "            del locals()[var]\n",
    "        \n",
    "    gc.collect()\n",
    "\n",
    "    if i % 500 == 0:\n",
    "        mem = psutil.Process().memory_info().rss / 1024**2\n",
    "        logging.info(f\"[Info] Memory used at file {i}: {mem:.2f} MB\")\n",
    "\n",
    "    if i == 40000:\n",
    "        break\n",
    "\n",
    "# === Write remaining buffer (after loop) ===\n",
    "if buffer:\n",
    "    df_temp = pd.DataFrame(buffer)\n",
    "    df_temp.to_csv(csv_path, mode='a', header=False, index=False)\n",
    "    buffer.clear()\n",
    "    del df_temp\n",
    "    gc.collect()\n",
    "\n"
   ]
  }
 ],
 "metadata": {
  "kernelspec": {
   "display_name": "Python (TEM_project)",
   "language": "python",
   "name": "tem_project"
  },
  "language_info": {
   "codemirror_mode": {
    "name": "ipython",
    "version": 3
   },
   "file_extension": ".py",
   "mimetype": "text/x-python",
   "name": "python",
   "nbconvert_exporter": "python",
   "pygments_lexer": "ipython3",
   "version": "3.8.20"
  }
 },
 "nbformat": 4,
 "nbformat_minor": 5
}
